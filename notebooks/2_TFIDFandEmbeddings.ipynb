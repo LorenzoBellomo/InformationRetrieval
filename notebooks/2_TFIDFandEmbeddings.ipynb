{
  "nbformat": 4,
  "nbformat_minor": 0,
  "metadata": {
    "colab": {
      "provenance": [],
      "toc_visible": true,
      "include_colab_link": true
    },
    "kernelspec": {
      "name": "python3",
      "display_name": "Python 3"
    },
    "language_info": {
      "name": "python"
    },
    "widgets": {
      "application/vnd.jupyter.widget-state+json": {
        "5d4e1f4d8cf145b78207ac18fca6571c": {
          "model_module": "@jupyter-widgets/controls",
          "model_name": "HBoxModel",
          "model_module_version": "1.5.0",
          "state": {
            "_dom_classes": [],
            "_model_module": "@jupyter-widgets/controls",
            "_model_module_version": "1.5.0",
            "_model_name": "HBoxModel",
            "_view_count": null,
            "_view_module": "@jupyter-widgets/controls",
            "_view_module_version": "1.5.0",
            "_view_name": "HBoxView",
            "box_style": "",
            "children": [
              "IPY_MODEL_890454acebac42e2876aef3ec19636e0",
              "IPY_MODEL_ade3792f254449e98b94e4fbad2381cd",
              "IPY_MODEL_7a80c67ff91940998c1132e0e07e2935"
            ],
            "layout": "IPY_MODEL_eceb97b767214341bdb35517dfe9d8f4"
          }
        },
        "890454acebac42e2876aef3ec19636e0": {
          "model_module": "@jupyter-widgets/controls",
          "model_name": "HTMLModel",
          "model_module_version": "1.5.0",
          "state": {
            "_dom_classes": [],
            "_model_module": "@jupyter-widgets/controls",
            "_model_module_version": "1.5.0",
            "_model_name": "HTMLModel",
            "_view_count": null,
            "_view_module": "@jupyter-widgets/controls",
            "_view_module_version": "1.5.0",
            "_view_name": "HTMLView",
            "description": "",
            "description_tooltip": null,
            "layout": "IPY_MODEL_de8778b02259491a9841c366b6c6b8af",
            "placeholder": "​",
            "style": "IPY_MODEL_a592ac1b7145463bb535fb0f2f446606",
            "value": "Computing transition probabilities: 100%"
          }
        },
        "ade3792f254449e98b94e4fbad2381cd": {
          "model_module": "@jupyter-widgets/controls",
          "model_name": "FloatProgressModel",
          "model_module_version": "1.5.0",
          "state": {
            "_dom_classes": [],
            "_model_module": "@jupyter-widgets/controls",
            "_model_module_version": "1.5.0",
            "_model_name": "FloatProgressModel",
            "_view_count": null,
            "_view_module": "@jupyter-widgets/controls",
            "_view_module_version": "1.5.0",
            "_view_name": "ProgressView",
            "bar_style": "success",
            "description": "",
            "description_tooltip": null,
            "layout": "IPY_MODEL_75d6fd27028b44fea502ded0a3584825",
            "max": 100,
            "min": 0,
            "orientation": "horizontal",
            "style": "IPY_MODEL_127fea545196431a98e47e6876c59b66",
            "value": 100
          }
        },
        "7a80c67ff91940998c1132e0e07e2935": {
          "model_module": "@jupyter-widgets/controls",
          "model_name": "HTMLModel",
          "model_module_version": "1.5.0",
          "state": {
            "_dom_classes": [],
            "_model_module": "@jupyter-widgets/controls",
            "_model_module_version": "1.5.0",
            "_model_name": "HTMLModel",
            "_view_count": null,
            "_view_module": "@jupyter-widgets/controls",
            "_view_module_version": "1.5.0",
            "_view_name": "HTMLView",
            "description": "",
            "description_tooltip": null,
            "layout": "IPY_MODEL_173edeb0912448cca55e7f2aefd98c74",
            "placeholder": "​",
            "style": "IPY_MODEL_d44e06b6b4004fe99fa51db455b4709a",
            "value": " 100/100 [00:00&lt;00:00, 129.94it/s]"
          }
        },
        "eceb97b767214341bdb35517dfe9d8f4": {
          "model_module": "@jupyter-widgets/base",
          "model_name": "LayoutModel",
          "model_module_version": "1.2.0",
          "state": {
            "_model_module": "@jupyter-widgets/base",
            "_model_module_version": "1.2.0",
            "_model_name": "LayoutModel",
            "_view_count": null,
            "_view_module": "@jupyter-widgets/base",
            "_view_module_version": "1.2.0",
            "_view_name": "LayoutView",
            "align_content": null,
            "align_items": null,
            "align_self": null,
            "border": null,
            "bottom": null,
            "display": null,
            "flex": null,
            "flex_flow": null,
            "grid_area": null,
            "grid_auto_columns": null,
            "grid_auto_flow": null,
            "grid_auto_rows": null,
            "grid_column": null,
            "grid_gap": null,
            "grid_row": null,
            "grid_template_areas": null,
            "grid_template_columns": null,
            "grid_template_rows": null,
            "height": null,
            "justify_content": null,
            "justify_items": null,
            "left": null,
            "margin": null,
            "max_height": null,
            "max_width": null,
            "min_height": null,
            "min_width": null,
            "object_fit": null,
            "object_position": null,
            "order": null,
            "overflow": null,
            "overflow_x": null,
            "overflow_y": null,
            "padding": null,
            "right": null,
            "top": null,
            "visibility": null,
            "width": null
          }
        },
        "de8778b02259491a9841c366b6c6b8af": {
          "model_module": "@jupyter-widgets/base",
          "model_name": "LayoutModel",
          "model_module_version": "1.2.0",
          "state": {
            "_model_module": "@jupyter-widgets/base",
            "_model_module_version": "1.2.0",
            "_model_name": "LayoutModel",
            "_view_count": null,
            "_view_module": "@jupyter-widgets/base",
            "_view_module_version": "1.2.0",
            "_view_name": "LayoutView",
            "align_content": null,
            "align_items": null,
            "align_self": null,
            "border": null,
            "bottom": null,
            "display": null,
            "flex": null,
            "flex_flow": null,
            "grid_area": null,
            "grid_auto_columns": null,
            "grid_auto_flow": null,
            "grid_auto_rows": null,
            "grid_column": null,
            "grid_gap": null,
            "grid_row": null,
            "grid_template_areas": null,
            "grid_template_columns": null,
            "grid_template_rows": null,
            "height": null,
            "justify_content": null,
            "justify_items": null,
            "left": null,
            "margin": null,
            "max_height": null,
            "max_width": null,
            "min_height": null,
            "min_width": null,
            "object_fit": null,
            "object_position": null,
            "order": null,
            "overflow": null,
            "overflow_x": null,
            "overflow_y": null,
            "padding": null,
            "right": null,
            "top": null,
            "visibility": null,
            "width": null
          }
        },
        "a592ac1b7145463bb535fb0f2f446606": {
          "model_module": "@jupyter-widgets/controls",
          "model_name": "DescriptionStyleModel",
          "model_module_version": "1.5.0",
          "state": {
            "_model_module": "@jupyter-widgets/controls",
            "_model_module_version": "1.5.0",
            "_model_name": "DescriptionStyleModel",
            "_view_count": null,
            "_view_module": "@jupyter-widgets/base",
            "_view_module_version": "1.2.0",
            "_view_name": "StyleView",
            "description_width": ""
          }
        },
        "75d6fd27028b44fea502ded0a3584825": {
          "model_module": "@jupyter-widgets/base",
          "model_name": "LayoutModel",
          "model_module_version": "1.2.0",
          "state": {
            "_model_module": "@jupyter-widgets/base",
            "_model_module_version": "1.2.0",
            "_model_name": "LayoutModel",
            "_view_count": null,
            "_view_module": "@jupyter-widgets/base",
            "_view_module_version": "1.2.0",
            "_view_name": "LayoutView",
            "align_content": null,
            "align_items": null,
            "align_self": null,
            "border": null,
            "bottom": null,
            "display": null,
            "flex": null,
            "flex_flow": null,
            "grid_area": null,
            "grid_auto_columns": null,
            "grid_auto_flow": null,
            "grid_auto_rows": null,
            "grid_column": null,
            "grid_gap": null,
            "grid_row": null,
            "grid_template_areas": null,
            "grid_template_columns": null,
            "grid_template_rows": null,
            "height": null,
            "justify_content": null,
            "justify_items": null,
            "left": null,
            "margin": null,
            "max_height": null,
            "max_width": null,
            "min_height": null,
            "min_width": null,
            "object_fit": null,
            "object_position": null,
            "order": null,
            "overflow": null,
            "overflow_x": null,
            "overflow_y": null,
            "padding": null,
            "right": null,
            "top": null,
            "visibility": null,
            "width": null
          }
        },
        "127fea545196431a98e47e6876c59b66": {
          "model_module": "@jupyter-widgets/controls",
          "model_name": "ProgressStyleModel",
          "model_module_version": "1.5.0",
          "state": {
            "_model_module": "@jupyter-widgets/controls",
            "_model_module_version": "1.5.0",
            "_model_name": "ProgressStyleModel",
            "_view_count": null,
            "_view_module": "@jupyter-widgets/base",
            "_view_module_version": "1.2.0",
            "_view_name": "StyleView",
            "bar_color": null,
            "description_width": ""
          }
        },
        "173edeb0912448cca55e7f2aefd98c74": {
          "model_module": "@jupyter-widgets/base",
          "model_name": "LayoutModel",
          "model_module_version": "1.2.0",
          "state": {
            "_model_module": "@jupyter-widgets/base",
            "_model_module_version": "1.2.0",
            "_model_name": "LayoutModel",
            "_view_count": null,
            "_view_module": "@jupyter-widgets/base",
            "_view_module_version": "1.2.0",
            "_view_name": "LayoutView",
            "align_content": null,
            "align_items": null,
            "align_self": null,
            "border": null,
            "bottom": null,
            "display": null,
            "flex": null,
            "flex_flow": null,
            "grid_area": null,
            "grid_auto_columns": null,
            "grid_auto_flow": null,
            "grid_auto_rows": null,
            "grid_column": null,
            "grid_gap": null,
            "grid_row": null,
            "grid_template_areas": null,
            "grid_template_columns": null,
            "grid_template_rows": null,
            "height": null,
            "justify_content": null,
            "justify_items": null,
            "left": null,
            "margin": null,
            "max_height": null,
            "max_width": null,
            "min_height": null,
            "min_width": null,
            "object_fit": null,
            "object_position": null,
            "order": null,
            "overflow": null,
            "overflow_x": null,
            "overflow_y": null,
            "padding": null,
            "right": null,
            "top": null,
            "visibility": null,
            "width": null
          }
        },
        "d44e06b6b4004fe99fa51db455b4709a": {
          "model_module": "@jupyter-widgets/controls",
          "model_name": "DescriptionStyleModel",
          "model_module_version": "1.5.0",
          "state": {
            "_model_module": "@jupyter-widgets/controls",
            "_model_module_version": "1.5.0",
            "_model_name": "DescriptionStyleModel",
            "_view_count": null,
            "_view_module": "@jupyter-widgets/base",
            "_view_module_version": "1.2.0",
            "_view_name": "StyleView",
            "description_width": ""
          }
        }
      }
    }
  },
  "cells": [
    {
      "cell_type": "markdown",
      "metadata": {
        "id": "view-in-github",
        "colab_type": "text"
      },
      "source": [
        "<a href=\"https://colab.research.google.com/github/LorenzoBellomo/InformationRetrieval/blob/main/notebooks/2_TFIDFandEmbeddings.ipynb\" target=\"_parent\"><img src=\"https://colab.research.google.com/assets/colab-badge.svg\" alt=\"Open In Colab\"/></a>"
      ]
    },
    {
      "cell_type": "markdown",
      "source": [
        "# Text processing with vectors\n",
        "In this lecture we focus on techinques that allow to model the text as vectors of floating point numbers. This allows us to easily process and compute similarities between words, sentences, and documents."
      ],
      "metadata": {
        "id": "cmm4PBxppLmM"
      }
    },
    {
      "cell_type": "code",
      "source": [
        "!pip install scikit-learn\n",
        "!pip install nltk"
      ],
      "metadata": {
        "colab": {
          "base_uri": "https://localhost:8080/"
        },
        "id": "kfJQqUBQroYR",
        "outputId": "e9d38875-1d14-4cbb-8c69-7e7a2e1b4f89"
      },
      "execution_count": 1,
      "outputs": [
        {
          "output_type": "stream",
          "name": "stdout",
          "text": [
            "Requirement already satisfied: scikit-learn in /usr/local/lib/python3.11/dist-packages (1.6.1)\n",
            "Requirement already satisfied: numpy>=1.19.5 in /usr/local/lib/python3.11/dist-packages (from scikit-learn) (1.26.4)\n",
            "Requirement already satisfied: scipy>=1.6.0 in /usr/local/lib/python3.11/dist-packages (from scikit-learn) (1.13.1)\n",
            "Requirement already satisfied: joblib>=1.2.0 in /usr/local/lib/python3.11/dist-packages (from scikit-learn) (1.4.2)\n",
            "Requirement already satisfied: threadpoolctl>=3.1.0 in /usr/local/lib/python3.11/dist-packages (from scikit-learn) (3.5.0)\n",
            "Requirement already satisfied: nltk in /usr/local/lib/python3.11/dist-packages (3.9.1)\n",
            "Requirement already satisfied: click in /usr/local/lib/python3.11/dist-packages (from nltk) (8.1.8)\n",
            "Requirement already satisfied: joblib in /usr/local/lib/python3.11/dist-packages (from nltk) (1.4.2)\n",
            "Requirement already satisfied: regex>=2021.8.3 in /usr/local/lib/python3.11/dist-packages (from nltk) (2024.11.6)\n",
            "Requirement already satisfied: tqdm in /usr/local/lib/python3.11/dist-packages (from nltk) (4.67.1)\n"
          ]
        }
      ]
    },
    {
      "cell_type": "code",
      "source": [
        "from nltk.tokenize import word_tokenize\n",
        "import nltk\n",
        "import numpy as np\n",
        "import json\n",
        "\n",
        "nltk.download('stopwords')\n",
        "nltk.download('punkt_tab')"
      ],
      "metadata": {
        "colab": {
          "base_uri": "https://localhost:8080/"
        },
        "id": "64D0vyV7se0x",
        "outputId": "eba3a80f-dabf-487b-e939-bf39ecd64f45"
      },
      "execution_count": 2,
      "outputs": [
        {
          "output_type": "stream",
          "name": "stderr",
          "text": [
            "[nltk_data] Downloading package stopwords to /root/nltk_data...\n",
            "[nltk_data]   Package stopwords is already up-to-date!\n",
            "[nltk_data] Downloading package punkt_tab to /root/nltk_data...\n",
            "[nltk_data]   Package punkt_tab is already up-to-date!\n"
          ]
        },
        {
          "output_type": "execute_result",
          "data": {
            "text/plain": [
              "True"
            ]
          },
          "metadata": {},
          "execution_count": 2
        }
      ]
    },
    {
      "cell_type": "code",
      "source": [
        "!wget https://raw.githubusercontent.com/LorenzoBellomo/InformationRetrieval/refs/heads/main/data/5articles.json"
      ],
      "metadata": {
        "colab": {
          "base_uri": "https://localhost:8080/"
        },
        "id": "Ylr9BKyosL9e",
        "outputId": "ac2aa314-46cf-43e2-8fa4-59007e881649"
      },
      "execution_count": 5,
      "outputs": [
        {
          "output_type": "stream",
          "name": "stdout",
          "text": [
            "--2025-02-24 16:56:19--  https://raw.githubusercontent.com/LorenzoBellomo/InformationRetrieval/refs/heads/main/data/5articles.json\n",
            "Resolving raw.githubusercontent.com (raw.githubusercontent.com)... 185.199.109.133, 185.199.108.133, 185.199.110.133, ...\n",
            "Connecting to raw.githubusercontent.com (raw.githubusercontent.com)|185.199.109.133|:443... connected.\n",
            "HTTP request sent, awaiting response... 200 OK\n",
            "Length: 12566 (12K) [text/plain]\n",
            "Saving to: ‘5articles.json.2’\n",
            "\n",
            "5articles.json.2    100%[===================>]  12.27K  --.-KB/s    in 0.003s  \n",
            "\n",
            "2025-02-24 16:56:19 (4.32 MB/s) - ‘5articles.json.2’ saved [12566/12566]\n",
            "\n"
          ]
        }
      ]
    },
    {
      "cell_type": "code",
      "source": [
        "with open(\"5articles.json\", \"r\") as f:\n",
        "    articles = json.load(f)\n",
        "\n",
        "articles"
      ],
      "metadata": {
        "colab": {
          "base_uri": "https://localhost:8080/"
        },
        "id": "-2F-dco-xOt0",
        "outputId": "8ae46e93-06b2-4e0a-f4ae-f9b0e99c11f4"
      },
      "execution_count": 3,
      "outputs": [
        {
          "output_type": "execute_result",
          "data": {
            "text/plain": [
              "[{'title': 'American Airlines orders 60 Overture supersonic jets',\n",
              "  'maintext': \"The revival of supersonic passenger travel, thought to be long dead with the demise of Concorde nearly two decades ago, could be about to take wing as American Airlines has put in an order for 60 aircraft capable of flying at 1.7 times the speed of sound. \\nBoom is a start-up based in Denver, Colorado, whose development of Overture, an ultra-fast successor to Concorde that seats 65 to 88 passengers, is so advanced that it showed off designs at last month's Farnborough air show.\",\n",
              "  'date': '2022-08-18',\n",
              "  'source': 'The New York Times'},\n",
              " {'title': \"Conte: 'Chelsea are not in the race to sign Sanchez'\",\n",
              "  'maintext': 'Antonio Conte. Pic: PA\\nHead coach Antonio Conte does not think Chelsea are in the race to sign Arsenal forward Alexis Sanchez.\\nSanchez is out of contract this summer and seemed certain to join Manchester City this month.\\nBut the Premier League leaders on Monday evening decided to end their interest because of the costs involved, with Manchester United in pole position, while there were suggestions the Premier League champions were also in the running.\\nConte last Friday spoke of his admiration for Sanchez and described any potential cut-priced deal for the Chile striker as a great opportunity.\\nThe Italian was evasive when quizzed on Chelsea\\'s interest in the player, taking his usual stance in deferring matters of recruitment to the club.\\nAsked if Chelsea were actively seeking to sign Sanchez, Conte said: \"I don\\'t know. I don\\'t think so. I don\\'t know, but I don\\'t think so.\"\\nConte, speaking ahead of tonight\\'s FA Cup third-round replay at home to Norwich, was reluctant to discuss the transfer market.\\n\"About the transfer market, I prefer to talk to the club, also to give opinions,\" he added.\\nPlanned\\n\"I repeat: I don\\'t want to give my opinion about the transfer market.\"\\nMeanwhile, Daniel Farke says Norwich will have something \"special\" planned for Chelsea tonight.\\nThe Canaries head to Stamford Bridge on the back holding the Premier League champions to a goalless draw at Carrow Road.\\nFarke\\'s men followed that up with a battling 1-0 win at Sky Bet Championship promotion hopefuls Bristol City, who earned great plaudits for their League Cup efforts against Manchester City.\\nThe German believes Norwich will have a free shot at pulling off a shock result in tonight trip to west London and see the winners at home to Newcastle in round four.\\n\"I\\'m hoping for another brilliant performance against one of the giants, and we\\'ll have a special plan for tomorrow,\" Farke said. \"Hopefully with a really good performance and, if Chelsea aren\\'t at their very best, then we\\'ll always have a chance.\\n\"It will be important to keep as much possession as possible, as we don\\'t want to be running after the ball for 90 minutes - so we have to be brave in our possession and our pressing.\"\\nFarke, though, accepts Norwich cannot afford to underestimate the challenge ahead.\\n\"They haven\\'t scored for three games so they will be wanting to show they can score, especially in a home match,\" the Canaries boss added.',\n",
              "  'date': '2018-01-23',\n",
              "  'source': 'The Herald-ir'},\n",
              " {'title': 'Gunman opens fire on car just metres from scene of Hamid Sanambar murder',\n",
              "  'maintext': 'Hamid Sanambar\\nGardai are hunting for a gunman who opened fire on a car in north Dublin - just metres from where Hamid Sanambar was gunned down last week.\\nEmergency services were alerted to reports of gunfire in Kilmore Road in the Artane area of the capital shortly before 9pm on Wednesday.\\nGardai believe a number of rounds were fired at the car before the gunman and the vehicle fled the scene.\\nFled\\nDetectives investigating the shooting are probing if the gunman interacted with the car driver before he opened fire.\\nIt is understood the gunman fled the area on foot.\\nThe incident happened just a few hundred metres from Kilbarron Avenue where Sanambar (41) was shot dead on Wednesday of last week.\\nGardai said investigations into that shooting are still ongoing.\\n\"Gardai are investigating reports of an alleged shooting incident on the Kilmore Road, Artane, Dublin 5,\" a spokeswoman said.\\n\"The incident occurred on June 5, 2019, at approximately 8.50pm.\\n\"No injuries were reported and investigations are ongoing.\"\\nThe area has been plagued by a number of gun attacks in recent weeks, including two murders.\\nA third person from the suburb, Sean Little (22), was shot dead in Balbriggan last month.\\nEarlier this week, Justice Minister Charlie Flanagan visited Coolock in north Dublin amid escalating gangland violence.\\nMr Flanagan repeatedly described the youngsters involved in the violence as \"losers\".\\nHe encouraged young people in the area to \"forget about the bling\".\\nDRUGS\\n\"My message to young people in this area is that there is no future in organised crime or drugs or the associated bling that that brings,\" he told the media as he arrived at Coolock Garda Station.\\n\"These are losers and I\\'m calling on the community to work closely with gardai to ensure that the challenge can be surmounted.\"\\nThe minister said there were about 100 people are involved in serious crime in the Coolock area.',\n",
              "  'date': '2019-06-07',\n",
              "  'source': 'The Herald-ir'},\n",
              " {'title': \"'One-punch killer's sentence will make others think twice'\",\n",
              "  'maintext': 'Luke O\\'Reilly with his mother Janet O\\'Brien Luke O\\'Reilly Jack Hall Ellis The Metro One Bar in Tallaght, where Hall Ellis had earlier accused Luke O\\'Reilly of talking to his girlfriend\\nThe mother of a young Dublin man who lost his life following a one-punch attack hopes the sentence her son\\'s killer was handed down will act as a deterrent for others.\\nJack Hall Ellis (21) was yesterday jailed for five years after pleading guilty to the manslaughter of Luke O\\'Reilly in Tallaght almost two years ago.\\nHall Ellis, who was on bail at the time over an alleged violent disorder incident, struck the 20-year-old with a single punch, which resulted in Mr O\\'Reilly hitting his head on the ground and suffering fatal injuries.\\nJudge Melanie Greally remarked that single-punch assaults leading to traumatic brain injuries are recurring on the courts\\' case load.\\nLast night, Mr O\\'Reilly\\'s mother, Janet O\\'Brien, told the Herald she was satisfied the judge recognised that such serious assaults were being carried out regularly.\\n\"If he didn\\'t get that punch he would never have hit the ground and died,\" Ms O\\'Brien said.\\nDeterrent\\n\"I was pleased the judge recognised the fact that there are so many of these one-punch attacks. I don\\'t know how many I have heard of since Luke, or parents who have got in touch that have been there before me.\"\\nMr O\\'Reilly\\'s mother described the five-year term given to Hall Ellis as \"a realistic sentence\" and added that, as a result, he would not simply walk away from the killing.\\n\"Hopefully it will make people sit up and listen, and they\\'ll think twice. It will act as a deterrent for kids going around trying to act the hard man, because as I said it doesn\\'t make much difference to us now,\" she added.\\nOn Halloween night in 2017, Mr O\\'Reilly was socialising in the Metro One Bar in Tallaght when Hall Ellis approached him and accused Luke of talking to his girlfriend.\\nEarly the following morning, Mr O\\'Reilly was walking along the Old Blessington Road when he was punched once from behind by Hall Ellis, who had drunk up to 20 shots on the night of the attack.\\nThe victim fell to the ground and hit his head on the concrete pavement. He suffered traumatic brain injuries and tragically passed away 13 days later at Beaumont Hospital.\\nIn a moving victim impact statement, Mr O\\'Reilly\\'s mother said that her family would never be the same following her son\\'s death.\\n\"No family occasion will ever be 100pc joyous again. Every birthday, seasonal holiday or any occasion is just a reminder that Luke\\'s not here to celebrate any of these with us. He should be here,\" Ms O\\'Brien said.\\nShe described how the birth of Luke, just after midnight on August 2, 1997, filled her life with \"unconditional love and unimaginable sense of pride\" that she would get to rear and guide his life so that he too could one day raise his own family.\\nThis, however, was taken away from Ms O\\'Brien by what she described as a \"cowardly\" attack by Hall Ellis.\\n\"I don\\'t believe Jack intended the outcome of his actions for Luke to lose his life, but ultimately this was the result of his actions.\\n\"I also believe that if Jack had abided by his bail conditions my son would be alive here with us today,\" she told the court, in reference to the fact that Hall Ellis had breached a curfew and a bond to keep the peace on the night of the fatal assault.\\nMs O\\'Brien also described as \"gut wrenching\" the fact that the accused presented himself to gardai only after he realised that Mr O\\'Reilly was not expected to survive.\\nShe recalled being informed by medical staff at Beaumont Hospital on the morning of November 13, 2017, that Mr O\\'Reilly was not going to recover from the assault, and making the decision to donate her son\\'s organs.\\n\"I climbed into bed beside him, hugging on to his warm body, never wanting to let go and listening to his beating heart that was now only beating to save someone else\\'s life,\" Ms O\\'Brien said.\\nJudge Greally said that Hall Ellis attributed his actions to anger and drunkenness, having previously heard that he consumed between seven and 10 double Captain Morgans that night.\\nThe court heard the accused had nine previous convictions, eight of which were for road traffic offences and one related to possession of drugs.\\nJudge Greally said she was handed a picture of Luke which she said was a \"poignant image\" of him in his youth, and that he was a \"special young man who was deeply loved by his family\".\\nSentencing Hall Ellis, the judge said the aggravating factors included the unprovoked nature of the assault, that he breached bail conditions on the night of the assault, and that even though he observed Luke motionless on the ground, he still decided to leave the scene.\\nShe gave him credit for his early guilty plea, his absence of previous violent conduct and his genuine remorse, before jailing him for seven years with the final two suspended.',\n",
              "  'date': '2019-06-29',\n",
              "  'source': 'The Herald-ir'},\n",
              " {'title': 'Leclerc dedicates win to Hubert',\n",
              "  'maintext': 'Charles Leclerc\\nCharles Leclerc registered the maiden win of his Formula One career after romping to victory at the Belgian Grand Prix.\\nLess than 24 hours after Leclerc\\'s French motor racing contemporary, Anthoine Hubert, was killed at the Spa-Francorchamps venue, the young Monegasque driver delivered a dominant display to take the chequered flag in his friend\\'s honour.\\nLewis Hamilton finished second after fighting his way past Sebastian Vettel with 12 laps remaining.\\nHamilton\\'s Mercedes team-mate Valtteri Bottas also managed to see off Vettel after the Ferrari driver was forced to make an additional stop for tyres.\\nHamilton extended his lead over Bottas in the championship to 65 points.\\n\"This one is for Anthoine,\" said an emotional Leclerc on the radio.\\n\"It feels good but it is difficult to enjoy a weekend like this.\\n\"On one hand I have realised a dream, but on the other hand it has been a difficult weekend.\\n\"I have lost a friend, so I would like to dedicate my win to him.\\n\"We have grown up together. It is a shame what happened yesterday, so I cannot enjoy my first victory.\"\\nLeclerc posted a childhood picture with his arm around Hubert upon news of his death following a horrifying 257kmh crash in Saturday\\'s Formula Two race.\\nHe accompanied the picture with the words: \"I can\\'t believe it.\"\\nThe Ferrari driver, who is 22 next month, the same age as Hubert, was visibly moved by the tragedy.\\nPrior to the race, he hugged Hubert\\'s mother, Nathalie.\\nA moment of silence was observed before the race in the French driver\\'s memory. Nathalie held her son\\'s pink and white crash helmet. Hubert\\'s brother, Victhor, stood alongside her as the Formula One and grieving Formula Two drivers formed an arc, bowing their heads in honour of their fallen colleague.\\nAll 20 of the drivers\\' cars yesterday were adorned with \"Racing for Anthoine\" stickers.',\n",
              "  'date': '2019-09-01',\n",
              "  'source': 'The Herald-ir'}]"
            ]
          },
          "metadata": {},
          "execution_count": 3
        }
      ]
    },
    {
      "cell_type": "code",
      "source": [
        "from sklearn.feature_extraction.text import CountVectorizer # Just counts the occurrences of terms\n",
        "from sklearn.feature_extraction.text import TfidfVectorizer\n",
        "from sklearn.metrics.pairwise import cosine_similarity"
      ],
      "metadata": {
        "id": "lZ36C5GnyNcj"
      },
      "execution_count": 4,
      "outputs": []
    },
    {
      "cell_type": "code",
      "source": [
        "tfidf_vectorizer = TfidfVectorizer(input='content')\n",
        "count_vectorizer = CountVectorizer(input='content')\n",
        "titles = [a[\"title\"] for a in articles]\n",
        "tfidf_vectors = tfidf_vectorizer.fit_transform(titles)"
      ],
      "metadata": {
        "id": "ysEgLx4ZskA5"
      },
      "execution_count": 5,
      "outputs": []
    },
    {
      "cell_type": "code",
      "source": [
        "import pandas as pd\n",
        "tfidf_df = pd.DataFrame(tfidf_vectors.toarray(), index=titles, columns=tfidf_vectorizer.get_feature_names_out())\n",
        "tfidf_df.loc['__Document Frequency__'] = (tfidf_df > 0).sum()\n",
        "tfidf_df[['airlines', 'chelsea', 'car', 'murder', 'think', 'one','the', 'to']].sort_index().round(decimals=2)"
      ],
      "metadata": {
        "colab": {
          "base_uri": "https://localhost:8080/",
          "height": 237
        },
        "id": "gSaS7w2gymY5",
        "outputId": "77305a2b-4279-48a0-e56a-a22f62618c5a"
      },
      "execution_count": 6,
      "outputs": [
        {
          "output_type": "execute_result",
          "data": {
            "text/plain": [
              "                                                    airlines  chelsea   car  \\\n",
              "'One-punch killer's sentence will make others t...      0.00     0.00  0.00   \n",
              "American Airlines orders 60 Overture supersonic...      0.38     0.00  0.00   \n",
              "Conte: 'Chelsea are not in the race to sign San...      0.00     0.32  0.00   \n",
              "Gunman opens fire on car just metres from scene...      0.00     0.00  0.28   \n",
              "Leclerc dedicates win to Hubert                         0.00     0.00  0.00   \n",
              "__Document Frequency__                                  1.00     1.00  1.00   \n",
              "\n",
              "                                                    murder  think   one   the  \\\n",
              "'One-punch killer's sentence will make others t...    0.00   0.33  0.33  0.00   \n",
              "American Airlines orders 60 Overture supersonic...    0.00   0.00  0.00  0.00   \n",
              "Conte: 'Chelsea are not in the race to sign San...    0.00   0.00  0.00  0.32   \n",
              "Gunman opens fire on car just metres from scene...    0.28   0.00  0.00  0.00   \n",
              "Leclerc dedicates win to Hubert                       0.00   0.00  0.00  0.00   \n",
              "__Document Frequency__                                1.00   1.00  1.00  1.00   \n",
              "\n",
              "                                                      to  \n",
              "'One-punch killer's sentence will make others t...  0.00  \n",
              "American Airlines orders 60 Overture supersonic...  0.00  \n",
              "Conte: 'Chelsea are not in the race to sign San...  0.26  \n",
              "Gunman opens fire on car just metres from scene...  0.00  \n",
              "Leclerc dedicates win to Hubert                     0.37  \n",
              "__Document Frequency__                              2.00  "
            ],
            "text/html": [
              "\n",
              "  <div id=\"df-7257660b-c0fe-4751-b5fc-556a60d920ab\" class=\"colab-df-container\">\n",
              "    <div>\n",
              "<style scoped>\n",
              "    .dataframe tbody tr th:only-of-type {\n",
              "        vertical-align: middle;\n",
              "    }\n",
              "\n",
              "    .dataframe tbody tr th {\n",
              "        vertical-align: top;\n",
              "    }\n",
              "\n",
              "    .dataframe thead th {\n",
              "        text-align: right;\n",
              "    }\n",
              "</style>\n",
              "<table border=\"1\" class=\"dataframe\">\n",
              "  <thead>\n",
              "    <tr style=\"text-align: right;\">\n",
              "      <th></th>\n",
              "      <th>airlines</th>\n",
              "      <th>chelsea</th>\n",
              "      <th>car</th>\n",
              "      <th>murder</th>\n",
              "      <th>think</th>\n",
              "      <th>one</th>\n",
              "      <th>the</th>\n",
              "      <th>to</th>\n",
              "    </tr>\n",
              "  </thead>\n",
              "  <tbody>\n",
              "    <tr>\n",
              "      <th>'One-punch killer's sentence will make others think twice'</th>\n",
              "      <td>0.00</td>\n",
              "      <td>0.00</td>\n",
              "      <td>0.00</td>\n",
              "      <td>0.00</td>\n",
              "      <td>0.33</td>\n",
              "      <td>0.33</td>\n",
              "      <td>0.00</td>\n",
              "      <td>0.00</td>\n",
              "    </tr>\n",
              "    <tr>\n",
              "      <th>American Airlines orders 60 Overture supersonic jets</th>\n",
              "      <td>0.38</td>\n",
              "      <td>0.00</td>\n",
              "      <td>0.00</td>\n",
              "      <td>0.00</td>\n",
              "      <td>0.00</td>\n",
              "      <td>0.00</td>\n",
              "      <td>0.00</td>\n",
              "      <td>0.00</td>\n",
              "    </tr>\n",
              "    <tr>\n",
              "      <th>Conte: 'Chelsea are not in the race to sign Sanchez'</th>\n",
              "      <td>0.00</td>\n",
              "      <td>0.32</td>\n",
              "      <td>0.00</td>\n",
              "      <td>0.00</td>\n",
              "      <td>0.00</td>\n",
              "      <td>0.00</td>\n",
              "      <td>0.32</td>\n",
              "      <td>0.26</td>\n",
              "    </tr>\n",
              "    <tr>\n",
              "      <th>Gunman opens fire on car just metres from scene of Hamid Sanambar murder</th>\n",
              "      <td>0.00</td>\n",
              "      <td>0.00</td>\n",
              "      <td>0.28</td>\n",
              "      <td>0.28</td>\n",
              "      <td>0.00</td>\n",
              "      <td>0.00</td>\n",
              "      <td>0.00</td>\n",
              "      <td>0.00</td>\n",
              "    </tr>\n",
              "    <tr>\n",
              "      <th>Leclerc dedicates win to Hubert</th>\n",
              "      <td>0.00</td>\n",
              "      <td>0.00</td>\n",
              "      <td>0.00</td>\n",
              "      <td>0.00</td>\n",
              "      <td>0.00</td>\n",
              "      <td>0.00</td>\n",
              "      <td>0.00</td>\n",
              "      <td>0.37</td>\n",
              "    </tr>\n",
              "    <tr>\n",
              "      <th>__Document Frequency__</th>\n",
              "      <td>1.00</td>\n",
              "      <td>1.00</td>\n",
              "      <td>1.00</td>\n",
              "      <td>1.00</td>\n",
              "      <td>1.00</td>\n",
              "      <td>1.00</td>\n",
              "      <td>1.00</td>\n",
              "      <td>2.00</td>\n",
              "    </tr>\n",
              "  </tbody>\n",
              "</table>\n",
              "</div>\n",
              "    <div class=\"colab-df-buttons\">\n",
              "\n",
              "  <div class=\"colab-df-container\">\n",
              "    <button class=\"colab-df-convert\" onclick=\"convertToInteractive('df-7257660b-c0fe-4751-b5fc-556a60d920ab')\"\n",
              "            title=\"Convert this dataframe to an interactive table.\"\n",
              "            style=\"display:none;\">\n",
              "\n",
              "  <svg xmlns=\"http://www.w3.org/2000/svg\" height=\"24px\" viewBox=\"0 -960 960 960\">\n",
              "    <path d=\"M120-120v-720h720v720H120Zm60-500h600v-160H180v160Zm220 220h160v-160H400v160Zm0 220h160v-160H400v160ZM180-400h160v-160H180v160Zm440 0h160v-160H620v160ZM180-180h160v-160H180v160Zm440 0h160v-160H620v160Z\"/>\n",
              "  </svg>\n",
              "    </button>\n",
              "\n",
              "  <style>\n",
              "    .colab-df-container {\n",
              "      display:flex;\n",
              "      gap: 12px;\n",
              "    }\n",
              "\n",
              "    .colab-df-convert {\n",
              "      background-color: #E8F0FE;\n",
              "      border: none;\n",
              "      border-radius: 50%;\n",
              "      cursor: pointer;\n",
              "      display: none;\n",
              "      fill: #1967D2;\n",
              "      height: 32px;\n",
              "      padding: 0 0 0 0;\n",
              "      width: 32px;\n",
              "    }\n",
              "\n",
              "    .colab-df-convert:hover {\n",
              "      background-color: #E2EBFA;\n",
              "      box-shadow: 0px 1px 2px rgba(60, 64, 67, 0.3), 0px 1px 3px 1px rgba(60, 64, 67, 0.15);\n",
              "      fill: #174EA6;\n",
              "    }\n",
              "\n",
              "    .colab-df-buttons div {\n",
              "      margin-bottom: 4px;\n",
              "    }\n",
              "\n",
              "    [theme=dark] .colab-df-convert {\n",
              "      background-color: #3B4455;\n",
              "      fill: #D2E3FC;\n",
              "    }\n",
              "\n",
              "    [theme=dark] .colab-df-convert:hover {\n",
              "      background-color: #434B5C;\n",
              "      box-shadow: 0px 1px 3px 1px rgba(0, 0, 0, 0.15);\n",
              "      filter: drop-shadow(0px 1px 2px rgba(0, 0, 0, 0.3));\n",
              "      fill: #FFFFFF;\n",
              "    }\n",
              "  </style>\n",
              "\n",
              "    <script>\n",
              "      const buttonEl =\n",
              "        document.querySelector('#df-7257660b-c0fe-4751-b5fc-556a60d920ab button.colab-df-convert');\n",
              "      buttonEl.style.display =\n",
              "        google.colab.kernel.accessAllowed ? 'block' : 'none';\n",
              "\n",
              "      async function convertToInteractive(key) {\n",
              "        const element = document.querySelector('#df-7257660b-c0fe-4751-b5fc-556a60d920ab');\n",
              "        const dataTable =\n",
              "          await google.colab.kernel.invokeFunction('convertToInteractive',\n",
              "                                                    [key], {});\n",
              "        if (!dataTable) return;\n",
              "\n",
              "        const docLinkHtml = 'Like what you see? Visit the ' +\n",
              "          '<a target=\"_blank\" href=https://colab.research.google.com/notebooks/data_table.ipynb>data table notebook</a>'\n",
              "          + ' to learn more about interactive tables.';\n",
              "        element.innerHTML = '';\n",
              "        dataTable['output_type'] = 'display_data';\n",
              "        await google.colab.output.renderOutput(dataTable, element);\n",
              "        const docLink = document.createElement('div');\n",
              "        docLink.innerHTML = docLinkHtml;\n",
              "        element.appendChild(docLink);\n",
              "      }\n",
              "    </script>\n",
              "  </div>\n",
              "\n",
              "\n",
              "<div id=\"df-f1e8cd8d-6c54-4bfa-8018-5d6ca3ad7084\">\n",
              "  <button class=\"colab-df-quickchart\" onclick=\"quickchart('df-f1e8cd8d-6c54-4bfa-8018-5d6ca3ad7084')\"\n",
              "            title=\"Suggest charts\"\n",
              "            style=\"display:none;\">\n",
              "\n",
              "<svg xmlns=\"http://www.w3.org/2000/svg\" height=\"24px\"viewBox=\"0 0 24 24\"\n",
              "     width=\"24px\">\n",
              "    <g>\n",
              "        <path d=\"M19 3H5c-1.1 0-2 .9-2 2v14c0 1.1.9 2 2 2h14c1.1 0 2-.9 2-2V5c0-1.1-.9-2-2-2zM9 17H7v-7h2v7zm4 0h-2V7h2v10zm4 0h-2v-4h2v4z\"/>\n",
              "    </g>\n",
              "</svg>\n",
              "  </button>\n",
              "\n",
              "<style>\n",
              "  .colab-df-quickchart {\n",
              "      --bg-color: #E8F0FE;\n",
              "      --fill-color: #1967D2;\n",
              "      --hover-bg-color: #E2EBFA;\n",
              "      --hover-fill-color: #174EA6;\n",
              "      --disabled-fill-color: #AAA;\n",
              "      --disabled-bg-color: #DDD;\n",
              "  }\n",
              "\n",
              "  [theme=dark] .colab-df-quickchart {\n",
              "      --bg-color: #3B4455;\n",
              "      --fill-color: #D2E3FC;\n",
              "      --hover-bg-color: #434B5C;\n",
              "      --hover-fill-color: #FFFFFF;\n",
              "      --disabled-bg-color: #3B4455;\n",
              "      --disabled-fill-color: #666;\n",
              "  }\n",
              "\n",
              "  .colab-df-quickchart {\n",
              "    background-color: var(--bg-color);\n",
              "    border: none;\n",
              "    border-radius: 50%;\n",
              "    cursor: pointer;\n",
              "    display: none;\n",
              "    fill: var(--fill-color);\n",
              "    height: 32px;\n",
              "    padding: 0;\n",
              "    width: 32px;\n",
              "  }\n",
              "\n",
              "  .colab-df-quickchart:hover {\n",
              "    background-color: var(--hover-bg-color);\n",
              "    box-shadow: 0 1px 2px rgba(60, 64, 67, 0.3), 0 1px 3px 1px rgba(60, 64, 67, 0.15);\n",
              "    fill: var(--button-hover-fill-color);\n",
              "  }\n",
              "\n",
              "  .colab-df-quickchart-complete:disabled,\n",
              "  .colab-df-quickchart-complete:disabled:hover {\n",
              "    background-color: var(--disabled-bg-color);\n",
              "    fill: var(--disabled-fill-color);\n",
              "    box-shadow: none;\n",
              "  }\n",
              "\n",
              "  .colab-df-spinner {\n",
              "    border: 2px solid var(--fill-color);\n",
              "    border-color: transparent;\n",
              "    border-bottom-color: var(--fill-color);\n",
              "    animation:\n",
              "      spin 1s steps(1) infinite;\n",
              "  }\n",
              "\n",
              "  @keyframes spin {\n",
              "    0% {\n",
              "      border-color: transparent;\n",
              "      border-bottom-color: var(--fill-color);\n",
              "      border-left-color: var(--fill-color);\n",
              "    }\n",
              "    20% {\n",
              "      border-color: transparent;\n",
              "      border-left-color: var(--fill-color);\n",
              "      border-top-color: var(--fill-color);\n",
              "    }\n",
              "    30% {\n",
              "      border-color: transparent;\n",
              "      border-left-color: var(--fill-color);\n",
              "      border-top-color: var(--fill-color);\n",
              "      border-right-color: var(--fill-color);\n",
              "    }\n",
              "    40% {\n",
              "      border-color: transparent;\n",
              "      border-right-color: var(--fill-color);\n",
              "      border-top-color: var(--fill-color);\n",
              "    }\n",
              "    60% {\n",
              "      border-color: transparent;\n",
              "      border-right-color: var(--fill-color);\n",
              "    }\n",
              "    80% {\n",
              "      border-color: transparent;\n",
              "      border-right-color: var(--fill-color);\n",
              "      border-bottom-color: var(--fill-color);\n",
              "    }\n",
              "    90% {\n",
              "      border-color: transparent;\n",
              "      border-bottom-color: var(--fill-color);\n",
              "    }\n",
              "  }\n",
              "</style>\n",
              "\n",
              "  <script>\n",
              "    async function quickchart(key) {\n",
              "      const quickchartButtonEl =\n",
              "        document.querySelector('#' + key + ' button');\n",
              "      quickchartButtonEl.disabled = true;  // To prevent multiple clicks.\n",
              "      quickchartButtonEl.classList.add('colab-df-spinner');\n",
              "      try {\n",
              "        const charts = await google.colab.kernel.invokeFunction(\n",
              "            'suggestCharts', [key], {});\n",
              "      } catch (error) {\n",
              "        console.error('Error during call to suggestCharts:', error);\n",
              "      }\n",
              "      quickchartButtonEl.classList.remove('colab-df-spinner');\n",
              "      quickchartButtonEl.classList.add('colab-df-quickchart-complete');\n",
              "    }\n",
              "    (() => {\n",
              "      let quickchartButtonEl =\n",
              "        document.querySelector('#df-f1e8cd8d-6c54-4bfa-8018-5d6ca3ad7084 button');\n",
              "      quickchartButtonEl.style.display =\n",
              "        google.colab.kernel.accessAllowed ? 'block' : 'none';\n",
              "    })();\n",
              "  </script>\n",
              "</div>\n",
              "\n",
              "    </div>\n",
              "  </div>\n"
            ],
            "application/vnd.google.colaboratory.intrinsic+json": {
              "type": "dataframe",
              "summary": "{\n  \"name\": \"tfidf_df[['airlines', 'chelsea', 'car', 'murder', 'think', 'one','the', 'to']]\",\n  \"rows\": 6,\n  \"fields\": [\n    {\n      \"column\": \"airlines\",\n      \"properties\": {\n        \"dtype\": \"number\",\n        \"std\": 0.4066939881532551,\n        \"min\": 0.0,\n        \"max\": 1.0,\n        \"num_unique_values\": 3,\n        \"samples\": [\n          0.0,\n          0.38,\n          1.0\n        ],\n        \"semantic_type\": \"\",\n        \"description\": \"\"\n      }\n    },\n    {\n      \"column\": \"chelsea\",\n      \"properties\": {\n        \"dtype\": \"number\",\n        \"std\": 0.4029888335921977,\n        \"min\": 0.0,\n        \"max\": 1.0,\n        \"num_unique_values\": 3,\n        \"samples\": [\n          0.0,\n          0.32,\n          1.0\n        ],\n        \"semantic_type\": \"\",\n        \"description\": \"\"\n      }\n    },\n    {\n      \"column\": \"car\",\n      \"properties\": {\n        \"dtype\": \"number\",\n        \"std\": 0.4013311184877976,\n        \"min\": 0.0,\n        \"max\": 1.0,\n        \"num_unique_values\": 3,\n        \"samples\": [\n          0.0,\n          0.28,\n          1.0\n        ],\n        \"semantic_type\": \"\",\n        \"description\": \"\"\n      }\n    },\n    {\n      \"column\": \"murder\",\n      \"properties\": {\n        \"dtype\": \"number\",\n        \"std\": 0.4013311184877976,\n        \"min\": 0.0,\n        \"max\": 1.0,\n        \"num_unique_values\": 3,\n        \"samples\": [\n          0.0,\n          0.28,\n          1.0\n        ],\n        \"semantic_type\": \"\",\n        \"description\": \"\"\n      }\n    },\n    {\n      \"column\": \"think\",\n      \"properties\": {\n        \"dtype\": \"number\",\n        \"std\": 0.40350547290794786,\n        \"min\": 0.0,\n        \"max\": 1.0,\n        \"num_unique_values\": 3,\n        \"samples\": [\n          0.33,\n          0.0,\n          1.0\n        ],\n        \"semantic_type\": \"\",\n        \"description\": \"\"\n      }\n    },\n    {\n      \"column\": \"one\",\n      \"properties\": {\n        \"dtype\": \"number\",\n        \"std\": 0.40350547290794786,\n        \"min\": 0.0,\n        \"max\": 1.0,\n        \"num_unique_values\": 3,\n        \"samples\": [\n          0.33,\n          0.0,\n          1.0\n        ],\n        \"semantic_type\": \"\",\n        \"description\": \"\"\n      }\n    },\n    {\n      \"column\": \"the\",\n      \"properties\": {\n        \"dtype\": \"number\",\n        \"std\": 0.4029888335921977,\n        \"min\": 0.0,\n        \"max\": 1.0,\n        \"num_unique_values\": 3,\n        \"samples\": [\n          0.0,\n          0.32,\n          1.0\n        ],\n        \"semantic_type\": \"\",\n        \"description\": \"\"\n      }\n    },\n    {\n      \"column\": \"to\",\n      \"properties\": {\n        \"dtype\": \"number\",\n        \"std\": 0.7812404666085,\n        \"min\": 0.0,\n        \"max\": 2.0,\n        \"num_unique_values\": 4,\n        \"samples\": [\n          0.26,\n          2.0,\n          0.0\n        ],\n        \"semantic_type\": \"\",\n        \"description\": \"\"\n      }\n    }\n  ]\n}"
            }
          },
          "metadata": {},
          "execution_count": 6
        }
      ]
    },
    {
      "cell_type": "code",
      "source": [
        "def get_top_n_words(documents, tfidf_vectorizer, count_vectorizer, top_n = 10):\n",
        "  tfidf_vectors, count_vectors = tfidf_vectorizer.fit_transform(documents), count_vectorizer.fit_transform(documents)\n",
        "  feature_names_tfidf, feature_names_count = tfidf_vectorizer.get_feature_names_out(), count_vectorizer.get_feature_names_out()\n",
        "  top_indices_tfidf, top_indices_count = np.argsort(tfidf_vectors.data)[:-(top_n):-1], np.argsort(count_vectors.data)[:-(top_n):-1]\n",
        "  print(\"TFIDF       -        COUNT\")\n",
        "  for tfidx, cidx in zip(top_indices_tfidf, top_indices_count):\n",
        "    print(\"{} ({}) - {} ({})\".format(feature_names_tfidf[tfidf_vectors.indices[tfidx]], tfidf_vectors.data[tfidx], feature_names_count[count_vectors.indices[cidx]], count_vectors.data[cidx]))"
      ],
      "metadata": {
        "id": "GA2opo6vz6Ma"
      },
      "execution_count": 7,
      "outputs": []
    },
    {
      "cell_type": "code",
      "source": [
        "maintexts = [a[\"maintext\"] for a in articles]\n",
        "get_top_n_words(maintexts, tfidf_vectorizer, count_vectorizer)"
      ],
      "metadata": {
        "colab": {
          "base_uri": "https://localhost:8080/"
        },
        "id": "9IujsMKB8bAN",
        "outputId": "78531b60-d290-4fbe-a2a3-e3820277b950"
      },
      "execution_count": 8,
      "outputs": [
        {
          "output_type": "stream",
          "name": "stdout",
          "text": [
            "TFIDF       -        COUNT\n",
            "the (0.5013872645606862) - the (49)\n",
            "the (0.41332887693486225) - the (26)\n",
            "the (0.412342924920705) - to (25)\n",
            "the (0.37787148056358155) - that (22)\n",
            "to (0.34351952778507416) - the (22)\n",
            "of (0.28551663727015064) - of (21)\n",
            "area (0.2428194172589411) - his (20)\n",
            "concorde (0.23967548943773337) - to (20)\n",
            "his (0.23654432389849608) - the (19)\n"
          ]
        }
      ]
    },
    {
      "cell_type": "code",
      "source": [
        "tfidf_vectorizer = TfidfVectorizer(input='content', stop_words=\"english\")\n",
        "count_vectorizer = CountVectorizer(input='content', stop_words=\"english\")\n",
        "get_top_n_words(maintexts, tfidf_vectorizer, count_vectorizer)"
      ],
      "metadata": {
        "colab": {
          "base_uri": "https://localhost:8080/"
        },
        "id": "s8sh2b1P9fox",
        "outputId": "8d5e7bb8-cc5e-49a3-e45f-b50cbbea1ed5"
      },
      "execution_count": 9,
      "outputs": [
        {
          "output_type": "stream",
          "name": "stdout",
          "text": [
            "TFIDF       -        COUNT\n",
            "area (0.34430193043881974) - reilly (12)\n",
            "reilly (0.32845517992013706) - ellis (11)\n",
            "hubert (0.3027643279414842) - hall (11)\n",
            "leclerc (0.3027643279414842) - luke (11)\n",
            "luke (0.3010839149267923) - said (9)\n",
            "ellis (0.3010839149267923) - mr (8)\n",
            "hall (0.3010839149267923) - brien (7)\n",
            "concorde (0.30058998587414587) - area (6)\n",
            "chelsea (0.2526808530319859) - don (6)\n"
          ]
        }
      ]
    },
    {
      "cell_type": "code",
      "source": [
        "!pip install gensim\n",
        "!wget https://raw.githubusercontent.com/LorenzoBellomo/InformationRetrieval/refs/heads/main/data/alice.txt\n",
        "import gensim"
      ],
      "metadata": {
        "id": "BLh8cSgd5ZTG",
        "outputId": "f4dcc4db-ec9c-4850-8e3d-4cda979608ba",
        "colab": {
          "base_uri": "https://localhost:8080/"
        }
      },
      "execution_count": 10,
      "outputs": [
        {
          "output_type": "stream",
          "name": "stdout",
          "text": [
            "Requirement already satisfied: gensim in /usr/local/lib/python3.11/dist-packages (4.3.3)\n",
            "Requirement already satisfied: numpy<2.0,>=1.18.5 in /usr/local/lib/python3.11/dist-packages (from gensim) (1.26.4)\n",
            "Requirement already satisfied: scipy<1.14.0,>=1.7.0 in /usr/local/lib/python3.11/dist-packages (from gensim) (1.13.1)\n",
            "Requirement already satisfied: smart-open>=1.8.1 in /usr/local/lib/python3.11/dist-packages (from gensim) (7.1.0)\n",
            "Requirement already satisfied: wrapt in /usr/local/lib/python3.11/dist-packages (from smart-open>=1.8.1->gensim) (1.17.2)\n",
            "--2025-02-24 17:05:33--  https://raw.githubusercontent.com/LorenzoBellomo/InformationRetrieval/refs/heads/main/data/alice.txt\n",
            "Resolving raw.githubusercontent.com (raw.githubusercontent.com)... 185.199.108.133, 185.199.109.133, 185.199.110.133, ...\n",
            "Connecting to raw.githubusercontent.com (raw.githubusercontent.com)|185.199.108.133|:443... connected.\n",
            "HTTP request sent, awaiting response... 200 OK\n",
            "Length: 151255 (148K) [text/plain]\n",
            "Saving to: ‘alice.txt.4’\n",
            "\n",
            "alice.txt.4         100%[===================>] 147.71K  --.-KB/s    in 0.1s    \n",
            "\n",
            "2025-02-24 17:05:35 (1.23 MB/s) - ‘alice.txt.4’ saved [151255/151255]\n",
            "\n"
          ]
        }
      ]
    },
    {
      "cell_type": "code",
      "source": [
        "with open(\"alice.txt\", 'r') as alice_file:\n",
        "  alice = alice_file.read().lower()\n",
        "sentences = [a for a in alice.split('\\n') if a]\n",
        "print(sentences[:10])\n",
        "tfidf_vectorizer = TfidfVectorizer(input='content')\n",
        "count_vectorizer = CountVectorizer(input='content')\n",
        "get_top_n_words(sentences, tfidf_vectorizer, count_vectorizer)"
      ],
      "metadata": {
        "id": "DRr_D0EV5dhy",
        "outputId": "a118aa1a-5460-42e5-b06d-daad8c93f940",
        "colab": {
          "base_uri": "https://localhost:8080/"
        }
      },
      "execution_count": 11,
      "outputs": [
        {
          "output_type": "stream",
          "name": "stdout",
          "text": [
            "[\"\\ufeff\\ufeff*** start of the project gutenberg ebook alice's adventures in\", 'wonderland ***', '[illustration]', 'alice’s adventures in wonderland', 'by lewis carroll', 'the millennium fulcrum edition 3.0', 'contents', ' chapter i.     down the rabbit-hole', ' chapter ii.    the pool of tears', ' chapter iii.   a caucus-race and a long tale']\n",
            "TFIDF       -        COUNT\n",
            "wonderland (1.0) - you (5)\n",
            "person (1.0) - you (5)\n",
            "the (1.0) - you (5)\n",
            "know (1.0) - not (5)\n",
            "moved (1.0) - not (5)\n",
            "loud (1.0) - you (5)\n",
            "alice (1.0) - the (5)\n",
            "telescope (1.0) - mouse (5)\n",
            "otherwise (1.0) - the (4)\n"
          ]
        }
      ]
    },
    {
      "cell_type": "code",
      "source": [
        "query = \"car\"\n",
        "tfidf_vectors = tfidf_vectorizer.fit_transform(maintexts)\n",
        "query_vector = tfidf_vectorizer.transform([query])\n",
        "# get top_5 results by cosine similarity\n",
        "cosine_similarities = cosine_similarity(query_vector, tfidf_vectors).flatten()\n",
        "top_indices = np.argsort(cosine_similarities)[::-1][:3]\n",
        "print(\"Top 3 matching documents with \\\"{}\\\":\".format(query))\n",
        "for index in top_indices:\n",
        "    print(f\"\\nScore: {cosine_similarities[index]:.4f} - {maintexts[index][:200]}...\")"
      ],
      "metadata": {
        "colab": {
          "base_uri": "https://localhost:8080/"
        },
        "id": "aWxGl56FGWHE",
        "outputId": "ac781cb8-29ae-45bd-ea14-a75e1ca2bc14"
      },
      "execution_count": 12,
      "outputs": [
        {
          "output_type": "stream",
          "name": "stdout",
          "text": [
            "Top 3 matching documents with \"car\":\n",
            "\n",
            "Score: 0.1214 - Hamid Sanambar\n",
            "Gardai are hunting for a gunman who opened fire on a car in north Dublin - just metres from where Hamid Sanambar was gunned down last week.\n",
            "Emergency services were alerted to reports of...\n",
            "\n",
            "Score: 0.0000 - Charles Leclerc\n",
            "Charles Leclerc registered the maiden win of his Formula One career after romping to victory at the Belgian Grand Prix.\n",
            "Less than 24 hours after Leclerc's French motor racing contempor...\n",
            "\n",
            "Score: 0.0000 - Luke O'Reilly with his mother Janet O'Brien Luke O'Reilly Jack Hall Ellis The Metro One Bar in Tallaght, where Hall Ellis had earlier accused Luke O'Reilly of talking to his girlfriend\n",
            "The mother of a...\n"
          ]
        }
      ]
    },
    {
      "cell_type": "code",
      "source": [
        "print(\"Car\" in maintexts[1])\n",
        "print(\"car\" in maintexts[1])"
      ],
      "metadata": {
        "colab": {
          "base_uri": "https://localhost:8080/"
        },
        "id": "sfzN69tXJ2Zb",
        "outputId": "b2251289-26d2-45f5-808e-a638cdd6c480"
      },
      "execution_count": 13,
      "outputs": [
        {
          "output_type": "stream",
          "name": "stdout",
          "text": [
            "True\n",
            "False\n"
          ]
        }
      ]
    },
    {
      "cell_type": "code",
      "source": [
        "!pip install rank_bm25\n",
        "from rank_bm25 import BM25Okapi"
      ],
      "metadata": {
        "colab": {
          "base_uri": "https://localhost:8080/"
        },
        "id": "0oN55Kh3NzZe",
        "outputId": "d17e020c-c6df-4a39-ed14-3bf12fbc3049"
      },
      "execution_count": 14,
      "outputs": [
        {
          "output_type": "stream",
          "name": "stdout",
          "text": [
            "Requirement already satisfied: rank_bm25 in /usr/local/lib/python3.11/dist-packages (0.2.2)\n",
            "Requirement already satisfied: numpy in /usr/local/lib/python3.11/dist-packages (from rank_bm25) (1.26.4)\n"
          ]
        }
      ]
    },
    {
      "cell_type": "code",
      "source": [
        "tokenized_corpus = [doc.split(\" \") for doc in maintexts]\n",
        "bm25 = BM25Okapi(tokenized_corpus)"
      ],
      "metadata": {
        "id": "xJy6kZpBN4e_"
      },
      "execution_count": 15,
      "outputs": []
    },
    {
      "cell_type": "code",
      "source": [
        "print(\"BM25 score of \\\"car\\\"\\n\")\n",
        "scores = bm25.get_scores(\"car\")\n",
        "for title, score in zip(titles, scores):\n",
        "  print(title, \" - \", score)"
      ],
      "metadata": {
        "colab": {
          "base_uri": "https://localhost:8080/"
        },
        "id": "TvYIJQx0OI3I",
        "outputId": "66862150-2a32-4895-f0fd-97324ee040cd"
      },
      "execution_count": 16,
      "outputs": [
        {
          "output_type": "stream",
          "name": "stdout",
          "text": [
            "BM25 score of \"car\"\n",
            "\n",
            "American Airlines orders 60 Overture supersonic jets  -  0.3616455097312771\n",
            "Conte: 'Chelsea are not in the race to sign Sanchez'  -  0.50168811270542\n",
            "Gunman opens fire on car just metres from scene of Hamid Sanambar murder  -  0.4852267619383623\n",
            "'One-punch killer's sentence will make others think twice'  -  0.4880411225200318\n",
            "Leclerc dedicates win to Hubert  -  0.5073575476960249\n"
          ]
        }
      ]
    },
    {
      "cell_type": "markdown",
      "source": [
        "Applying Machine Learning in order to obtain embedding vectors"
      ],
      "metadata": {
        "id": "v17rBjTNXvn2"
      }
    },
    {
      "cell_type": "code",
      "source": [
        "alice_tokens = []\n",
        "for i in nltk.sent_tokenize(alice):\n",
        "  sentence = []\n",
        "  for j in word_tokenize(i):\n",
        "    sentence.append(j.lower())\n",
        "  alice_tokens.append(sentence)\n",
        "alice_tokens[0]"
      ],
      "metadata": {
        "colab": {
          "base_uri": "https://localhost:8080/"
        },
        "id": "VFTi-WQEYOkz",
        "outputId": "fcca41a0-d419-4310-bfa9-790e48c7669d"
      },
      "execution_count": 17,
      "outputs": [
        {
          "output_type": "execute_result",
          "data": {
            "text/plain": [
              "['\\ufeff\\ufeff',\n",
              " '*',\n",
              " '*',\n",
              " '*',\n",
              " 'start',\n",
              " 'of',\n",
              " 'the',\n",
              " 'project',\n",
              " 'gutenberg',\n",
              " 'ebook',\n",
              " 'alice',\n",
              " \"'s\",\n",
              " 'adventures',\n",
              " 'in',\n",
              " 'wonderland',\n",
              " '*',\n",
              " '*',\n",
              " '*',\n",
              " '[',\n",
              " 'illustration',\n",
              " ']',\n",
              " 'alice',\n",
              " '’',\n",
              " 's',\n",
              " 'adventures',\n",
              " 'in',\n",
              " 'wonderland',\n",
              " 'by',\n",
              " 'lewis',\n",
              " 'carroll',\n",
              " 'the',\n",
              " 'millennium',\n",
              " 'fulcrum',\n",
              " 'edition',\n",
              " '3.0',\n",
              " 'contents',\n",
              " 'chapter',\n",
              " 'i.',\n",
              " 'down',\n",
              " 'the',\n",
              " 'rabbit-hole',\n",
              " 'chapter',\n",
              " 'ii',\n",
              " '.']"
            ]
          },
          "metadata": {},
          "execution_count": 17
        }
      ]
    },
    {
      "cell_type": "code",
      "source": [
        "# CBOW model\n",
        "cbow_model = gensim.models.Word2Vec(alice_tokens, min_count=1,\n",
        "                                vector_size=100, window=5)\n",
        "# Skip Grap model\n",
        "skipgram_model = gensim.models.Word2Vec(alice_tokens, min_count=1, vector_size=100,\n",
        "                                window=5, sg=1)"
      ],
      "metadata": {
        "id": "UNY42NpxYj_V"
      },
      "execution_count": 18,
      "outputs": []
    },
    {
      "cell_type": "code",
      "source": [
        "print(\"Cosine similarity between 'alice' \" + \"and 'wonderland' - CBOW : \",\n",
        "      cbow_model.wv.similarity('alice', 'wonderland'))\n",
        "print(\"Cosine similarity between 'alice' \" + \"and 'wonderland' - SkipGram : \",\n",
        "      skipgram_model.wv.similarity('alice', 'wonderland'))"
      ],
      "metadata": {
        "colab": {
          "base_uri": "https://localhost:8080/"
        },
        "id": "HHo0_iHXZFVb",
        "outputId": "03ede842-0e63-424a-b472-7888d27b5558"
      },
      "execution_count": 19,
      "outputs": [
        {
          "output_type": "stream",
          "name": "stdout",
          "text": [
            "Cosine similarity between 'alice' and 'wonderland' - CBOW :  0.9877026\n",
            "Cosine similarity between 'alice' and 'wonderland' - SkipGram :  0.691606\n"
          ]
        }
      ]
    },
    {
      "cell_type": "code",
      "source": [
        "print(\"Cosine similarity between 'alice' \" + \"and 'machines' - CBOW : \",\n",
        "      cbow_model.wv.similarity('alice', 'machines'))\n",
        "print(\"Cosine similarity between 'alice' \" + \"and 'machines' - SkipGram : \",\n",
        "      skipgram_model.wv.similarity('alice', 'machines'))"
      ],
      "metadata": {
        "colab": {
          "base_uri": "https://localhost:8080/"
        },
        "id": "IISqEzP7a2XJ",
        "outputId": "9f753d78-ec2f-42dc-bed6-36c9b5834619"
      },
      "execution_count": 20,
      "outputs": [
        {
          "output_type": "stream",
          "name": "stdout",
          "text": [
            "Cosine similarity between 'alice' and 'machines' - CBOW :  0.8677022\n",
            "Cosine similarity between 'alice' and 'machines' - SkipGram :  0.86635345\n"
          ]
        }
      ]
    },
    {
      "cell_type": "code",
      "source": [
        "#get the most similar vector to \"alice\"\n",
        "cbow_model.wv.most_similar('alice', topn=5)"
      ],
      "metadata": {
        "colab": {
          "base_uri": "https://localhost:8080/"
        },
        "id": "aEp8gSlIDgsu",
        "outputId": "fa909743-82c2-4f75-dfaa-3eaff315ba80"
      },
      "execution_count": 21,
      "outputs": [
        {
          "output_type": "execute_result",
          "data": {
            "text/plain": [
              "[(':', 0.9997751116752625),\n",
              " ('that', 0.9997420310974121),\n",
              " ('so', 0.999741792678833),\n",
              " ('and', 0.9997307658195496),\n",
              " ('this', 0.9997274279594421)]"
            ]
          },
          "metadata": {},
          "execution_count": 21
        }
      ]
    },
    {
      "cell_type": "markdown",
      "source": [
        "Now let's see how to handle phrases on word2vec. This is not the suggested solution, as \"full-phrase\" models like doc2vec have been shown to outperform word2vec.\n",
        "We can handle handle phrases as list of word2vec vectors, and perform some mathematical operations on them (i.e., sum, average, subtract)."
      ],
      "metadata": {
        "id": "z85wr3l4QQ-0"
      }
    },
    {
      "cell_type": "code",
      "source": [
        "query_phrase = \"alice in wonderland\"\n",
        "#sum the vectors of the individual words\n",
        "query_vector_sum = np.zeros(100)\n",
        "for word in query_phrase.split():\n",
        "  query_vector_sum += cbow_model.wv[word]"
      ],
      "metadata": {
        "id": "YCwF0PO1QVjB"
      },
      "execution_count": 22,
      "outputs": []
    },
    {
      "cell_type": "code",
      "source": [
        "print(\"Cosine similarity with 'machines' - CBOW (SUM) : \",\n",
        "      cosine_similarity([query_vector_sum], [cbow_model.wv['machines']])[0][0])\n",
        "print(\"Cosine similarity with 'the' - CBOW (SUM) : \",\n",
        "      cosine_similarity([query_vector_sum], [cbow_model.wv['the']])[0][0])"
      ],
      "metadata": {
        "colab": {
          "base_uri": "https://localhost:8080/"
        },
        "id": "mFlBusPSfIUV",
        "outputId": "77482c3a-fd44-4ac8-ea14-e14b84feca99"
      },
      "execution_count": 23,
      "outputs": [
        {
          "output_type": "stream",
          "name": "stdout",
          "text": [
            "Cosine similarity with 'machines' - CBOW (SUM) :  0.8668031009529055\n",
            "Cosine similarity with 'the' - CBOW (SUM) :  0.9996603074386445\n"
          ]
        }
      ]
    },
    {
      "cell_type": "markdown",
      "source": [
        "And we can also apply this concept to entity embeddings, using Wikipedia as a backend"
      ],
      "metadata": {
        "id": "WSEKtMwXhDiG"
      }
    },
    {
      "cell_type": "code",
      "source": [
        "!pip install wikipedia2vec\n",
        "!wget https://raw.githubusercontent.com/LorenzoBellomo/InformationRetrieval/refs/heads/main/data/enwiki_20180420_100d_part.txt"
      ],
      "metadata": {
        "colab": {
          "base_uri": "https://localhost:8080/"
        },
        "id": "WPeBNWkrhJy2",
        "outputId": "04622766-3808-4fc8-d506-2f5319278c60"
      },
      "execution_count": 24,
      "outputs": [
        {
          "output_type": "stream",
          "name": "stdout",
          "text": [
            "Collecting wikipedia2vec\n",
            "  Downloading wikipedia2vec-2.0.0-cp311-cp311-manylinux_2_17_x86_64.manylinux2014_x86_64.whl.metadata (8.0 kB)\n",
            "Requirement already satisfied: click in /usr/local/lib/python3.11/dist-packages (from wikipedia2vec) (8.1.8)\n",
            "Requirement already satisfied: jieba in /usr/local/lib/python3.11/dist-packages (from wikipedia2vec) (0.42.1)\n",
            "Requirement already satisfied: joblib in /usr/local/lib/python3.11/dist-packages (from wikipedia2vec) (1.4.2)\n",
            "Collecting lmdb (from wikipedia2vec)\n",
            "  Downloading lmdb-1.6.2-cp311-cp311-manylinux_2_17_x86_64.manylinux2014_x86_64.whl.metadata (1.1 kB)\n",
            "Requirement already satisfied: marisa-trie in /usr/local/lib/python3.11/dist-packages (from wikipedia2vec) (1.2.1)\n",
            "Collecting mwparserfromhell (from wikipedia2vec)\n",
            "  Downloading mwparserfromhell-0.6.6-cp311-cp311-manylinux_2_17_x86_64.manylinux2014_x86_64.whl.metadata (9.3 kB)\n",
            "Requirement already satisfied: numpy in /usr/local/lib/python3.11/dist-packages (from wikipedia2vec) (1.26.4)\n",
            "Requirement already satisfied: scipy in /usr/local/lib/python3.11/dist-packages (from wikipedia2vec) (1.13.1)\n",
            "Requirement already satisfied: tqdm in /usr/local/lib/python3.11/dist-packages (from wikipedia2vec) (4.67.1)\n",
            "Requirement already satisfied: setuptools in /usr/local/lib/python3.11/dist-packages (from marisa-trie->wikipedia2vec) (75.1.0)\n",
            "Downloading wikipedia2vec-2.0.0-cp311-cp311-manylinux_2_17_x86_64.manylinux2014_x86_64.whl (5.1 MB)\n",
            "\u001b[2K   \u001b[90m━━━━━━━━━━━━━━━━━━━━━━━━━━━━━━━━━━━━━━━━\u001b[0m \u001b[32m5.1/5.1 MB\u001b[0m \u001b[31m3.9 MB/s\u001b[0m eta \u001b[36m0:00:00\u001b[0m\n",
            "\u001b[?25hDownloading lmdb-1.6.2-cp311-cp311-manylinux_2_17_x86_64.manylinux2014_x86_64.whl (297 kB)\n",
            "\u001b[2K   \u001b[90m━━━━━━━━━━━━━━━━━━━━━━━━━━━━━━━━━━━━━━━━\u001b[0m \u001b[32m297.8/297.8 kB\u001b[0m \u001b[31m17.8 MB/s\u001b[0m eta \u001b[36m0:00:00\u001b[0m\n",
            "\u001b[?25hDownloading mwparserfromhell-0.6.6-cp311-cp311-manylinux_2_17_x86_64.manylinux2014_x86_64.whl (196 kB)\n",
            "\u001b[2K   \u001b[90m━━━━━━━━━━━━━━━━━━━━━━━━━━━━━━━━━━━━━━━━\u001b[0m \u001b[32m196.3/196.3 kB\u001b[0m \u001b[31m13.6 MB/s\u001b[0m eta \u001b[36m0:00:00\u001b[0m\n",
            "\u001b[?25hInstalling collected packages: lmdb, mwparserfromhell, wikipedia2vec\n",
            "Successfully installed lmdb-1.6.2 mwparserfromhell-0.6.6 wikipedia2vec-2.0.0\n",
            "--2025-02-24 17:06:19--  https://raw.githubusercontent.com/LorenzoBellomo/InformationRetrieval/refs/heads/main/data/enwiki_20180420_100d_part.txt\n",
            "Resolving raw.githubusercontent.com (raw.githubusercontent.com)... 185.199.111.133, 185.199.108.133, 185.199.110.133, ...\n",
            "Connecting to raw.githubusercontent.com (raw.githubusercontent.com)|185.199.111.133|:443... connected.\n",
            "HTTP request sent, awaiting response... 200 OK\n",
            "Length: 6844 (6.7K) [text/plain]\n",
            "Saving to: ‘enwiki_20180420_100d_part.txt’\n",
            "\n",
            "enwiki_20180420_100 100%[===================>]   6.68K  --.-KB/s    in 0s      \n",
            "\n",
            "2025-02-24 17:06:19 (57.4 MB/s) - ‘enwiki_20180420_100d_part.txt’ saved [6844/6844]\n",
            "\n"
          ]
        }
      ]
    },
    {
      "cell_type": "code",
      "source": [
        "from wikipedia2vec import Wikipedia2Vec\n",
        "wiki2vec = Wikipedia2Vec.load_text(\"enwiki_20180420_100d_part.txt\")"
      ],
      "metadata": {
        "id": "QlTf29tJiDg_"
      },
      "execution_count": 25,
      "outputs": []
    },
    {
      "cell_type": "code",
      "source": [
        " wiki2vec.most_similar(wiki2vec.get_word('the'), 5)"
      ],
      "metadata": {
        "colab": {
          "base_uri": "https://localhost:8080/"
        },
        "id": "NFQ_SMhmqpdz",
        "outputId": "cd413f3f-a311-4ac4-a82c-2e7bfdc3e373"
      },
      "execution_count": 26,
      "outputs": [
        {
          "output_type": "execute_result",
          "data": {
            "text/plain": [
              "[ItemWithScore(item=<Word the>, score=1.0000000000000002),\n",
              " ItemWithScore(item=<Word of>, score=0.8721518672047108),\n",
              " ItemWithScore(item=<Word in>, score=0.8169867648118897),\n",
              " ItemWithScore(item=<Word a>, score=0.779299496137427),\n",
              " ItemWithScore(item=<Word biology>, score=0.3447563348657311)]"
            ]
          },
          "metadata": {},
          "execution_count": 26
        }
      ]
    },
    {
      "cell_type": "code",
      "source": [
        " wiki2vec.most_similar(wiki2vec.get_word('biology'), 5)"
      ],
      "metadata": {
        "colab": {
          "base_uri": "https://localhost:8080/"
        },
        "id": "P1zigxzpqwdr",
        "outputId": "962a115e-0410-4bb3-8b3e-e75c5d2b03af"
      },
      "execution_count": 27,
      "outputs": [
        {
          "output_type": "execute_result",
          "data": {
            "text/plain": [
              "[ItemWithScore(item=<Word biology>, score=0.9999999999999998),\n",
              " ItemWithScore(item=<Word biotechnology>, score=0.7477050583513458),\n",
              " ItemWithScore(item=<Entity Biology>, score=0.739285025982951),\n",
              " ItemWithScore(item=<Entity Biotechnology>, score=0.6665049773155601),\n",
              " ItemWithScore(item=<Word of>, score=0.3983874277237702)]"
            ]
          },
          "metadata": {},
          "execution_count": 27
        }
      ]
    },
    {
      "cell_type": "markdown",
      "source": [
        "And also Embeddings for Graphs"
      ],
      "metadata": {
        "id": "LfaDGd48rcRk"
      }
    },
    {
      "cell_type": "code",
      "source": [
        "!pip install networkx node2vec\n",
        "import networkx as nx\n",
        "from node2vec import Node2Vec"
      ],
      "metadata": {
        "colab": {
          "base_uri": "https://localhost:8080/"
        },
        "id": "embzdivWrfM6",
        "outputId": "99e007e5-f3da-4531-a54a-6db10fe9b44d"
      },
      "execution_count": 28,
      "outputs": [
        {
          "output_type": "stream",
          "name": "stdout",
          "text": [
            "Requirement already satisfied: networkx in /usr/local/lib/python3.11/dist-packages (3.4.2)\n",
            "Collecting node2vec\n",
            "  Downloading node2vec-0.5.0-py3-none-any.whl.metadata (849 bytes)\n",
            "Requirement already satisfied: gensim<5.0.0,>=4.3.0 in /usr/local/lib/python3.11/dist-packages (from node2vec) (4.3.3)\n",
            "Requirement already satisfied: joblib<2.0.0,>=1.4.0 in /usr/local/lib/python3.11/dist-packages (from node2vec) (1.4.2)\n",
            "Requirement already satisfied: numpy<2.0.0,>=1.24.0 in /usr/local/lib/python3.11/dist-packages (from node2vec) (1.26.4)\n",
            "Requirement already satisfied: tqdm<5.0.0,>=4.66.1 in /usr/local/lib/python3.11/dist-packages (from node2vec) (4.67.1)\n",
            "Requirement already satisfied: scipy<1.14.0,>=1.7.0 in /usr/local/lib/python3.11/dist-packages (from gensim<5.0.0,>=4.3.0->node2vec) (1.13.1)\n",
            "Requirement already satisfied: smart-open>=1.8.1 in /usr/local/lib/python3.11/dist-packages (from gensim<5.0.0,>=4.3.0->node2vec) (7.1.0)\n",
            "Requirement already satisfied: wrapt in /usr/local/lib/python3.11/dist-packages (from smart-open>=1.8.1->gensim<5.0.0,>=4.3.0->node2vec) (1.17.2)\n",
            "Downloading node2vec-0.5.0-py3-none-any.whl (7.2 kB)\n",
            "Installing collected packages: node2vec\n",
            "Successfully installed node2vec-0.5.0\n"
          ]
        }
      ]
    },
    {
      "cell_type": "markdown",
      "source": [
        "Random walks with a length of 30 and a total number of walks equal to 200."
      ],
      "metadata": {
        "id": "5oRj6w6yscSU"
      }
    },
    {
      "cell_type": "code",
      "source": [
        "G = nx.fast_gnp_random_graph(n=100, p=0.5)\n",
        "node2vec = Node2Vec(G, dimensions=64, walk_length=30, num_walks=200, workers=4)"
      ],
      "metadata": {
        "colab": {
          "base_uri": "https://localhost:8080/",
          "height": 49,
          "referenced_widgets": [
            "5d4e1f4d8cf145b78207ac18fca6571c",
            "890454acebac42e2876aef3ec19636e0",
            "ade3792f254449e98b94e4fbad2381cd",
            "7a80c67ff91940998c1132e0e07e2935",
            "eceb97b767214341bdb35517dfe9d8f4",
            "de8778b02259491a9841c366b6c6b8af",
            "a592ac1b7145463bb535fb0f2f446606",
            "75d6fd27028b44fea502ded0a3584825",
            "127fea545196431a98e47e6876c59b66",
            "173edeb0912448cca55e7f2aefd98c74",
            "d44e06b6b4004fe99fa51db455b4709a"
          ]
        },
        "id": "m4b2QjAirozr",
        "outputId": "95f28ec5-51f6-4885-f006-59c9318aef8b"
      },
      "execution_count": 29,
      "outputs": [
        {
          "output_type": "display_data",
          "data": {
            "text/plain": [
              "Computing transition probabilities:   0%|          | 0/100 [00:00<?, ?it/s]"
            ],
            "application/vnd.jupyter.widget-view+json": {
              "version_major": 2,
              "version_minor": 0,
              "model_id": "5d4e1f4d8cf145b78207ac18fca6571c"
            }
          },
          "metadata": {}
        }
      ]
    },
    {
      "cell_type": "code",
      "source": [
        "model = node2vec.fit(window=10, min_count=1, batch_words=4)"
      ],
      "metadata": {
        "id": "WyL5b0vTsW5h"
      },
      "execution_count": 30,
      "outputs": []
    },
    {
      "cell_type": "code",
      "source": [
        "model.wv.save_word2vec_format(\"embeddings_node2vec.txt\")"
      ],
      "metadata": {
        "id": "lUFG0AzZsndl"
      },
      "execution_count": 31,
      "outputs": []
    },
    {
      "cell_type": "code",
      "source": [
        "embeddings = {str(node): model.wv[str(node)] for node in G.nodes()}"
      ],
      "metadata": {
        "id": "HBOFX7gSsopE"
      },
      "execution_count": 32,
      "outputs": []
    },
    {
      "cell_type": "code",
      "source": [
        "embeddings[\"0\"]"
      ],
      "metadata": {
        "colab": {
          "base_uri": "https://localhost:8080/"
        },
        "id": "16SXDiI9ssDU",
        "outputId": "12b77ba8-1f67-4330-e483-60ba880a6195"
      },
      "execution_count": 33,
      "outputs": [
        {
          "output_type": "execute_result",
          "data": {
            "text/plain": [
              "array([ 0.02114162, -0.01181947,  0.2531696 ,  0.11677124,  0.1214668 ,\n",
              "       -0.13313246,  0.07342637, -0.01340989, -0.1097443 , -0.01400342,\n",
              "        0.1875674 , -0.2735659 , -0.11868636,  0.12196268,  0.08813833,\n",
              "       -0.02144602,  0.03767652,  0.10469939,  0.1128641 ,  0.28707615,\n",
              "        0.1911489 ,  0.1577747 ,  0.08131135, -0.03926132, -0.02961335,\n",
              "        0.1032261 , -0.01775808,  0.10911202, -0.03192254, -0.01620896,\n",
              "       -0.06426856,  0.00578381,  0.02563978, -0.01992829, -0.0269547 ,\n",
              "       -0.1699783 ,  0.12017433,  0.1584796 ,  0.0192078 ,  0.13830477,\n",
              "        0.1028373 ,  0.15709727, -0.03732548, -0.03472867,  0.11252451,\n",
              "       -0.10906149, -0.06489538, -0.14028272,  0.02249607,  0.12640887,\n",
              "       -0.06963255, -0.15898845,  0.08090515,  0.07493564,  0.13102487,\n",
              "        0.18418434, -0.3010741 , -0.16893214, -0.20037538, -0.0446628 ,\n",
              "        0.0966665 ,  0.00804324,  0.04701839,  0.07428567], dtype=float32)"
            ]
          },
          "metadata": {},
          "execution_count": 33
        }
      ]
    }
  ]
}