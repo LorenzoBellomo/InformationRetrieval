{
  "cells": [
    {
      "cell_type": "markdown",
      "metadata": {
        "id": "view-in-github",
        "colab_type": "text"
      },
      "source": [
        "<a href=\"https://colab.research.google.com/github/LorenzoBellomo/InformationRetrieval/blob/main/notebooks/3_NER_EL_PoS.ipynb\" target=\"_parent\"><img src=\"https://colab.research.google.com/assets/colab-badge.svg\" alt=\"Open In Colab\"/></a>"
      ]
    },
    {
      "cell_type": "markdown",
      "id": "54c583c9",
      "metadata": {
        "id": "54c583c9"
      },
      "source": [
        "# Advanced NLP, phrases and semantics\n",
        "In this lecture, we focus on Named Entity Recognition, Entity Linking, and Part of Speech Tagging.\n"
      ]
    },
    {
      "cell_type": "code",
      "execution_count": null,
      "id": "sjvqvsnUL4cU",
      "metadata": {
        "colab": {
          "base_uri": "https://localhost:8080/"
        },
        "id": "sjvqvsnUL4cU",
        "outputId": "4a8f4d56-58bb-4b4f-9255-e2c1ae7a0982"
      },
      "outputs": [
        {
          "output_type": "stream",
          "name": "stdout",
          "text": [
            "Requirement already satisfied: spacy in /usr/local/lib/python3.11/dist-packages (3.7.5)\n",
            "Requirement already satisfied: spacy-legacy<3.1.0,>=3.0.11 in /usr/local/lib/python3.11/dist-packages (from spacy) (3.0.12)\n",
            "Requirement already satisfied: spacy-loggers<2.0.0,>=1.0.0 in /usr/local/lib/python3.11/dist-packages (from spacy) (1.0.5)\n",
            "Requirement already satisfied: murmurhash<1.1.0,>=0.28.0 in /usr/local/lib/python3.11/dist-packages (from spacy) (1.0.12)\n",
            "Requirement already satisfied: cymem<2.1.0,>=2.0.2 in /usr/local/lib/python3.11/dist-packages (from spacy) (2.0.11)\n",
            "Requirement already satisfied: preshed<3.1.0,>=3.0.2 in /usr/local/lib/python3.11/dist-packages (from spacy) (3.0.9)\n",
            "Requirement already satisfied: thinc<8.3.0,>=8.2.2 in /usr/local/lib/python3.11/dist-packages (from spacy) (8.2.5)\n",
            "Requirement already satisfied: wasabi<1.2.0,>=0.9.1 in /usr/local/lib/python3.11/dist-packages (from spacy) (1.1.3)\n",
            "Requirement already satisfied: srsly<3.0.0,>=2.4.3 in /usr/local/lib/python3.11/dist-packages (from spacy) (2.5.1)\n",
            "Requirement already satisfied: catalogue<2.1.0,>=2.0.6 in /usr/local/lib/python3.11/dist-packages (from spacy) (2.0.10)\n",
            "Requirement already satisfied: weasel<0.5.0,>=0.1.0 in /usr/local/lib/python3.11/dist-packages (from spacy) (0.4.1)\n",
            "Requirement already satisfied: typer<1.0.0,>=0.3.0 in /usr/local/lib/python3.11/dist-packages (from spacy) (0.15.1)\n",
            "Requirement already satisfied: tqdm<5.0.0,>=4.38.0 in /usr/local/lib/python3.11/dist-packages (from spacy) (4.67.1)\n",
            "Requirement already satisfied: requests<3.0.0,>=2.13.0 in /usr/local/lib/python3.11/dist-packages (from spacy) (2.32.3)\n",
            "Requirement already satisfied: pydantic!=1.8,!=1.8.1,<3.0.0,>=1.7.4 in /usr/local/lib/python3.11/dist-packages (from spacy) (2.10.5)\n",
            "Requirement already satisfied: jinja2 in /usr/local/lib/python3.11/dist-packages (from spacy) (3.1.5)\n",
            "Requirement already satisfied: setuptools in /usr/local/lib/python3.11/dist-packages (from spacy) (75.1.0)\n",
            "Requirement already satisfied: packaging>=20.0 in /usr/local/lib/python3.11/dist-packages (from spacy) (24.2)\n",
            "Requirement already satisfied: langcodes<4.0.0,>=3.2.0 in /usr/local/lib/python3.11/dist-packages (from spacy) (3.5.0)\n",
            "Requirement already satisfied: numpy>=1.19.0 in /usr/local/lib/python3.11/dist-packages (from spacy) (1.26.4)\n",
            "Requirement already satisfied: language-data>=1.2 in /usr/local/lib/python3.11/dist-packages (from langcodes<4.0.0,>=3.2.0->spacy) (1.3.0)\n",
            "Requirement already satisfied: annotated-types>=0.6.0 in /usr/local/lib/python3.11/dist-packages (from pydantic!=1.8,!=1.8.1,<3.0.0,>=1.7.4->spacy) (0.7.0)\n",
            "Requirement already satisfied: pydantic-core==2.27.2 in /usr/local/lib/python3.11/dist-packages (from pydantic!=1.8,!=1.8.1,<3.0.0,>=1.7.4->spacy) (2.27.2)\n",
            "Requirement already satisfied: typing-extensions>=4.12.2 in /usr/local/lib/python3.11/dist-packages (from pydantic!=1.8,!=1.8.1,<3.0.0,>=1.7.4->spacy) (4.12.2)\n",
            "Requirement already satisfied: charset-normalizer<4,>=2 in /usr/local/lib/python3.11/dist-packages (from requests<3.0.0,>=2.13.0->spacy) (3.4.1)\n",
            "Requirement already satisfied: idna<4,>=2.5 in /usr/local/lib/python3.11/dist-packages (from requests<3.0.0,>=2.13.0->spacy) (3.10)\n",
            "Requirement already satisfied: urllib3<3,>=1.21.1 in /usr/local/lib/python3.11/dist-packages (from requests<3.0.0,>=2.13.0->spacy) (2.3.0)\n",
            "Requirement already satisfied: certifi>=2017.4.17 in /usr/local/lib/python3.11/dist-packages (from requests<3.0.0,>=2.13.0->spacy) (2024.12.14)\n",
            "Requirement already satisfied: blis<0.8.0,>=0.7.8 in /usr/local/lib/python3.11/dist-packages (from thinc<8.3.0,>=8.2.2->spacy) (0.7.11)\n",
            "Requirement already satisfied: confection<1.0.0,>=0.0.1 in /usr/local/lib/python3.11/dist-packages (from thinc<8.3.0,>=8.2.2->spacy) (0.1.5)\n",
            "Requirement already satisfied: click>=8.0.0 in /usr/local/lib/python3.11/dist-packages (from typer<1.0.0,>=0.3.0->spacy) (8.1.8)\n",
            "Requirement already satisfied: shellingham>=1.3.0 in /usr/local/lib/python3.11/dist-packages (from typer<1.0.0,>=0.3.0->spacy) (1.5.4)\n",
            "Requirement already satisfied: rich>=10.11.0 in /usr/local/lib/python3.11/dist-packages (from typer<1.0.0,>=0.3.0->spacy) (13.9.4)\n",
            "Requirement already satisfied: cloudpathlib<1.0.0,>=0.7.0 in /usr/local/lib/python3.11/dist-packages (from weasel<0.5.0,>=0.1.0->spacy) (0.20.0)\n",
            "Requirement already satisfied: smart-open<8.0.0,>=5.2.1 in /usr/local/lib/python3.11/dist-packages (from weasel<0.5.0,>=0.1.0->spacy) (7.1.0)\n",
            "Requirement already satisfied: MarkupSafe>=2.0 in /usr/local/lib/python3.11/dist-packages (from jinja2->spacy) (3.0.2)\n",
            "Requirement already satisfied: marisa-trie>=1.1.0 in /usr/local/lib/python3.11/dist-packages (from language-data>=1.2->langcodes<4.0.0,>=3.2.0->spacy) (1.2.1)\n",
            "Requirement already satisfied: markdown-it-py>=2.2.0 in /usr/local/lib/python3.11/dist-packages (from rich>=10.11.0->typer<1.0.0,>=0.3.0->spacy) (3.0.0)\n",
            "Requirement already satisfied: pygments<3.0.0,>=2.13.0 in /usr/local/lib/python3.11/dist-packages (from rich>=10.11.0->typer<1.0.0,>=0.3.0->spacy) (2.18.0)\n",
            "Requirement already satisfied: wrapt in /usr/local/lib/python3.11/dist-packages (from smart-open<8.0.0,>=5.2.1->weasel<0.5.0,>=0.1.0->spacy) (1.17.2)\n",
            "Requirement already satisfied: mdurl~=0.1 in /usr/local/lib/python3.11/dist-packages (from markdown-it-py>=2.2.0->rich>=10.11.0->typer<1.0.0,>=0.3.0->spacy) (0.1.2)\n",
            "Collecting en-core-web-sm==3.7.1\n",
            "  Downloading https://github.com/explosion/spacy-models/releases/download/en_core_web_sm-3.7.1/en_core_web_sm-3.7.1-py3-none-any.whl (12.8 MB)\n",
            "\u001b[2K     \u001b[90m━━━━━━━━━━━━━━━━━━━━━━━━━━━━━━━━━━━━━━━━\u001b[0m \u001b[32m12.8/12.8 MB\u001b[0m \u001b[31m41.8 MB/s\u001b[0m eta \u001b[36m0:00:00\u001b[0m\n",
            "\u001b[?25hRequirement already satisfied: spacy<3.8.0,>=3.7.2 in /usr/local/lib/python3.11/dist-packages (from en-core-web-sm==3.7.1) (3.7.5)\n",
            "Requirement already satisfied: spacy-legacy<3.1.0,>=3.0.11 in /usr/local/lib/python3.11/dist-packages (from spacy<3.8.0,>=3.7.2->en-core-web-sm==3.7.1) (3.0.12)\n",
            "Requirement already satisfied: spacy-loggers<2.0.0,>=1.0.0 in /usr/local/lib/python3.11/dist-packages (from spacy<3.8.0,>=3.7.2->en-core-web-sm==3.7.1) (1.0.5)\n",
            "Requirement already satisfied: murmurhash<1.1.0,>=0.28.0 in /usr/local/lib/python3.11/dist-packages (from spacy<3.8.0,>=3.7.2->en-core-web-sm==3.7.1) (1.0.12)\n",
            "Requirement already satisfied: cymem<2.1.0,>=2.0.2 in /usr/local/lib/python3.11/dist-packages (from spacy<3.8.0,>=3.7.2->en-core-web-sm==3.7.1) (2.0.11)\n",
            "Requirement already satisfied: preshed<3.1.0,>=3.0.2 in /usr/local/lib/python3.11/dist-packages (from spacy<3.8.0,>=3.7.2->en-core-web-sm==3.7.1) (3.0.9)\n",
            "Requirement already satisfied: thinc<8.3.0,>=8.2.2 in /usr/local/lib/python3.11/dist-packages (from spacy<3.8.0,>=3.7.2->en-core-web-sm==3.7.1) (8.2.5)\n",
            "Requirement already satisfied: wasabi<1.2.0,>=0.9.1 in /usr/local/lib/python3.11/dist-packages (from spacy<3.8.0,>=3.7.2->en-core-web-sm==3.7.1) (1.1.3)\n",
            "Requirement already satisfied: srsly<3.0.0,>=2.4.3 in /usr/local/lib/python3.11/dist-packages (from spacy<3.8.0,>=3.7.2->en-core-web-sm==3.7.1) (2.5.1)\n",
            "Requirement already satisfied: catalogue<2.1.0,>=2.0.6 in /usr/local/lib/python3.11/dist-packages (from spacy<3.8.0,>=3.7.2->en-core-web-sm==3.7.1) (2.0.10)\n",
            "Requirement already satisfied: weasel<0.5.0,>=0.1.0 in /usr/local/lib/python3.11/dist-packages (from spacy<3.8.0,>=3.7.2->en-core-web-sm==3.7.1) (0.4.1)\n",
            "Requirement already satisfied: typer<1.0.0,>=0.3.0 in /usr/local/lib/python3.11/dist-packages (from spacy<3.8.0,>=3.7.2->en-core-web-sm==3.7.1) (0.15.1)\n",
            "Requirement already satisfied: tqdm<5.0.0,>=4.38.0 in /usr/local/lib/python3.11/dist-packages (from spacy<3.8.0,>=3.7.2->en-core-web-sm==3.7.1) (4.67.1)\n",
            "Requirement already satisfied: requests<3.0.0,>=2.13.0 in /usr/local/lib/python3.11/dist-packages (from spacy<3.8.0,>=3.7.2->en-core-web-sm==3.7.1) (2.32.3)\n",
            "Requirement already satisfied: pydantic!=1.8,!=1.8.1,<3.0.0,>=1.7.4 in /usr/local/lib/python3.11/dist-packages (from spacy<3.8.0,>=3.7.2->en-core-web-sm==3.7.1) (2.10.5)\n",
            "Requirement already satisfied: jinja2 in /usr/local/lib/python3.11/dist-packages (from spacy<3.8.0,>=3.7.2->en-core-web-sm==3.7.1) (3.1.5)\n",
            "Requirement already satisfied: setuptools in /usr/local/lib/python3.11/dist-packages (from spacy<3.8.0,>=3.7.2->en-core-web-sm==3.7.1) (75.1.0)\n",
            "Requirement already satisfied: packaging>=20.0 in /usr/local/lib/python3.11/dist-packages (from spacy<3.8.0,>=3.7.2->en-core-web-sm==3.7.1) (24.2)\n",
            "Requirement already satisfied: langcodes<4.0.0,>=3.2.0 in /usr/local/lib/python3.11/dist-packages (from spacy<3.8.0,>=3.7.2->en-core-web-sm==3.7.1) (3.5.0)\n",
            "Requirement already satisfied: numpy>=1.19.0 in /usr/local/lib/python3.11/dist-packages (from spacy<3.8.0,>=3.7.2->en-core-web-sm==3.7.1) (1.26.4)\n",
            "Requirement already satisfied: language-data>=1.2 in /usr/local/lib/python3.11/dist-packages (from langcodes<4.0.0,>=3.2.0->spacy<3.8.0,>=3.7.2->en-core-web-sm==3.7.1) (1.3.0)\n",
            "Requirement already satisfied: annotated-types>=0.6.0 in /usr/local/lib/python3.11/dist-packages (from pydantic!=1.8,!=1.8.1,<3.0.0,>=1.7.4->spacy<3.8.0,>=3.7.2->en-core-web-sm==3.7.1) (0.7.0)\n",
            "Requirement already satisfied: pydantic-core==2.27.2 in /usr/local/lib/python3.11/dist-packages (from pydantic!=1.8,!=1.8.1,<3.0.0,>=1.7.4->spacy<3.8.0,>=3.7.2->en-core-web-sm==3.7.1) (2.27.2)\n",
            "Requirement already satisfied: typing-extensions>=4.12.2 in /usr/local/lib/python3.11/dist-packages (from pydantic!=1.8,!=1.8.1,<3.0.0,>=1.7.4->spacy<3.8.0,>=3.7.2->en-core-web-sm==3.7.1) (4.12.2)\n",
            "Requirement already satisfied: charset-normalizer<4,>=2 in /usr/local/lib/python3.11/dist-packages (from requests<3.0.0,>=2.13.0->spacy<3.8.0,>=3.7.2->en-core-web-sm==3.7.1) (3.4.1)\n",
            "Requirement already satisfied: idna<4,>=2.5 in /usr/local/lib/python3.11/dist-packages (from requests<3.0.0,>=2.13.0->spacy<3.8.0,>=3.7.2->en-core-web-sm==3.7.1) (3.10)\n",
            "Requirement already satisfied: urllib3<3,>=1.21.1 in /usr/local/lib/python3.11/dist-packages (from requests<3.0.0,>=2.13.0->spacy<3.8.0,>=3.7.2->en-core-web-sm==3.7.1) (2.3.0)\n",
            "Requirement already satisfied: certifi>=2017.4.17 in /usr/local/lib/python3.11/dist-packages (from requests<3.0.0,>=2.13.0->spacy<3.8.0,>=3.7.2->en-core-web-sm==3.7.1) (2024.12.14)\n",
            "Requirement already satisfied: blis<0.8.0,>=0.7.8 in /usr/local/lib/python3.11/dist-packages (from thinc<8.3.0,>=8.2.2->spacy<3.8.0,>=3.7.2->en-core-web-sm==3.7.1) (0.7.11)\n",
            "Requirement already satisfied: confection<1.0.0,>=0.0.1 in /usr/local/lib/python3.11/dist-packages (from thinc<8.3.0,>=8.2.2->spacy<3.8.0,>=3.7.2->en-core-web-sm==3.7.1) (0.1.5)\n",
            "Requirement already satisfied: click>=8.0.0 in /usr/local/lib/python3.11/dist-packages (from typer<1.0.0,>=0.3.0->spacy<3.8.0,>=3.7.2->en-core-web-sm==3.7.1) (8.1.8)\n",
            "Requirement already satisfied: shellingham>=1.3.0 in /usr/local/lib/python3.11/dist-packages (from typer<1.0.0,>=0.3.0->spacy<3.8.0,>=3.7.2->en-core-web-sm==3.7.1) (1.5.4)\n",
            "Requirement already satisfied: rich>=10.11.0 in /usr/local/lib/python3.11/dist-packages (from typer<1.0.0,>=0.3.0->spacy<3.8.0,>=3.7.2->en-core-web-sm==3.7.1) (13.9.4)\n",
            "Requirement already satisfied: cloudpathlib<1.0.0,>=0.7.0 in /usr/local/lib/python3.11/dist-packages (from weasel<0.5.0,>=0.1.0->spacy<3.8.0,>=3.7.2->en-core-web-sm==3.7.1) (0.20.0)\n",
            "Requirement already satisfied: smart-open<8.0.0,>=5.2.1 in /usr/local/lib/python3.11/dist-packages (from weasel<0.5.0,>=0.1.0->spacy<3.8.0,>=3.7.2->en-core-web-sm==3.7.1) (7.1.0)\n",
            "Requirement already satisfied: MarkupSafe>=2.0 in /usr/local/lib/python3.11/dist-packages (from jinja2->spacy<3.8.0,>=3.7.2->en-core-web-sm==3.7.1) (3.0.2)\n",
            "Requirement already satisfied: marisa-trie>=1.1.0 in /usr/local/lib/python3.11/dist-packages (from language-data>=1.2->langcodes<4.0.0,>=3.2.0->spacy<3.8.0,>=3.7.2->en-core-web-sm==3.7.1) (1.2.1)\n",
            "Requirement already satisfied: markdown-it-py>=2.2.0 in /usr/local/lib/python3.11/dist-packages (from rich>=10.11.0->typer<1.0.0,>=0.3.0->spacy<3.8.0,>=3.7.2->en-core-web-sm==3.7.1) (3.0.0)\n",
            "Requirement already satisfied: pygments<3.0.0,>=2.13.0 in /usr/local/lib/python3.11/dist-packages (from rich>=10.11.0->typer<1.0.0,>=0.3.0->spacy<3.8.0,>=3.7.2->en-core-web-sm==3.7.1) (2.18.0)\n",
            "Requirement already satisfied: wrapt in /usr/local/lib/python3.11/dist-packages (from smart-open<8.0.0,>=5.2.1->weasel<0.5.0,>=0.1.0->spacy<3.8.0,>=3.7.2->en-core-web-sm==3.7.1) (1.17.2)\n",
            "Requirement already satisfied: mdurl~=0.1 in /usr/local/lib/python3.11/dist-packages (from markdown-it-py>=2.2.0->rich>=10.11.0->typer<1.0.0,>=0.3.0->spacy<3.8.0,>=3.7.2->en-core-web-sm==3.7.1) (0.1.2)\n",
            "\u001b[38;5;2m✔ Download and installation successful\u001b[0m\n",
            "You can now load the package via spacy.load('en_core_web_sm')\n",
            "\u001b[38;5;3m⚠ Restart to reload dependencies\u001b[0m\n",
            "If you are in a Jupyter or Colab notebook, you may need to restart Python in\n",
            "order to load all the package's dependencies. You can do this by selecting the\n",
            "'Restart kernel' or 'Restart runtime' option.\n"
          ]
        }
      ],
      "source": [
        "!pip install spacy\n",
        "!python -m spacy download en_core_web_sm"
      ]
    },
    {
      "cell_type": "code",
      "execution_count": null,
      "id": "293521f6",
      "metadata": {
        "id": "293521f6"
      },
      "outputs": [],
      "source": [
        "import requests\n",
        "import json\n",
        "import spacy\n",
        "from spacy import displacy"
      ]
    },
    {
      "cell_type": "markdown",
      "id": "Hv0en5xBLusl",
      "metadata": {
        "id": "Hv0en5xBLusl"
      },
      "source": [
        "## Part of Speech (PoS) Tagging\n"
      ]
    },
    {
      "cell_type": "markdown",
      "source": [
        "Let's now use spaCy to see the PoS tagging process, and how we can find dependencies between words in a sentence programmatically."
      ],
      "metadata": {
        "id": "kh11xSOMgRI2"
      },
      "id": "kh11xSOMgRI2"
    },
    {
      "cell_type": "code",
      "execution_count": null,
      "id": "TAuBtOFQULcM",
      "metadata": {
        "colab": {
          "base_uri": "https://localhost:8080/"
        },
        "id": "TAuBtOFQULcM",
        "outputId": "25d5c41a-91bd-4214-90df-c0fa230aed3e"
      },
      "outputs": [
        {
          "output_type": "stream",
          "name": "stdout",
          "text": [
            "He                PRP\tpronoun, personal                                  \t\t\t PRON\n",
            "was               VBD\tverb, past tense                                   \t\t\t  AUX\n",
            "being             VBG\tverb, gerund or present participle                 \t\t\t  AUX\n",
            "opposed           VBN\tverb, past participle                              \t\t\t VERB\n",
            "by                 IN\tconjunction, subordinating or preposition          \t\t\t  ADP\n",
            "her               PRP\tpronoun, personal                                  \t\t\t PRON\n",
            "without            IN\tconjunction, subordinating or preposition          \t\t\t  ADP\n",
            "any                DT\tdeterminer                                         \t\t\t  DET\n",
            "reason             NN\tnoun, singular or mass                             \t\t\t NOUN\n",
            ".                   .\tpunctuation mark, sentence closer                  \t\t\tPUNCT\n",
            "\t                 _SP\twhitespace                                         \t\t\tSPACE\n",
            "A                  DT\tdeterminer                                         \t\t\t  DET\n",
            "plan               NN\tnoun, singular or mass                             \t\t\t NOUN\n",
            "is                VBZ\tverb, 3rd person singular present                  \t\t\t  AUX\n",
            "being             VBG\tverb, gerund or present participle                 \t\t\t  AUX\n",
            "prepared          VBN\tverb, past participle                              \t\t\t VERB\n",
            "by                 IN\tconjunction, subordinating or preposition          \t\t\t  ADP\n",
            "charles           NNS\tnoun, plural                                       \t\t\t NOUN\n",
            "for                IN\tconjunction, subordinating or preposition          \t\t\t  ADP\n",
            "next               JJ\tadjective (English), other noun-modifier (Chinese) \t\t\t  ADJ\n",
            "project            NN\tnoun, singular or mass                             \t\t\t NOUN\n"
          ]
        }
      ],
      "source": [
        "en_model = spacy.load(\"en_core_web_sm\")\n",
        "sentence = \"He was being opposed by her without any reason.\\\n",
        "\t    A plan is being prepared by charles for next project\"\n",
        "processed_sent = en_model(sentence)\n",
        "for token in processed_sent:\n",
        "    print(f'{token.text:{10}} {token.tag_:>{10}}\\t{spacy.explain(token.tag_):<{50}} \t\t\t{token.pos_:>{5}}')"
      ]
    },
    {
      "cell_type": "code",
      "execution_count": null,
      "id": "xInKKKtGVO2K",
      "metadata": {
        "colab": {
          "base_uri": "https://localhost:8080/",
          "height": 440
        },
        "id": "xInKKKtGVO2K",
        "outputId": "11091ff2-2035-4dd3-d295-91a96b6ef565"
      },
      "outputs": [
        {
          "output_type": "display_data",
          "data": {
            "text/plain": [
              "<IPython.core.display.HTML object>"
            ],
            "text/html": [
              "<span class=\"tex2jax_ignore\"><svg xmlns=\"http://www.w3.org/2000/svg\" xmlns:xlink=\"http://www.w3.org/1999/xlink\" xml:lang=\"en\" id=\"0e86c408839441ffae5a5be135c88f0d-0\" class=\"displacy\" width=\"3550\" height=\"399.5\" direction=\"ltr\" style=\"max-width: none; height: 399.5px; color: #000000; background: #ffffff; font-family: Arial; direction: ltr\">\n",
              "<text class=\"displacy-token\" fill=\"currentColor\" text-anchor=\"middle\" y=\"309.5\">\n",
              "    <tspan class=\"displacy-word\" fill=\"currentColor\" x=\"50\">He</tspan>\n",
              "    <tspan class=\"displacy-tag\" dy=\"2em\" fill=\"currentColor\" x=\"50\">PRON</tspan>\n",
              "</text>\n",
              "\n",
              "<text class=\"displacy-token\" fill=\"currentColor\" text-anchor=\"middle\" y=\"309.5\">\n",
              "    <tspan class=\"displacy-word\" fill=\"currentColor\" x=\"225\">was</tspan>\n",
              "    <tspan class=\"displacy-tag\" dy=\"2em\" fill=\"currentColor\" x=\"225\">AUX</tspan>\n",
              "</text>\n",
              "\n",
              "<text class=\"displacy-token\" fill=\"currentColor\" text-anchor=\"middle\" y=\"309.5\">\n",
              "    <tspan class=\"displacy-word\" fill=\"currentColor\" x=\"400\">being</tspan>\n",
              "    <tspan class=\"displacy-tag\" dy=\"2em\" fill=\"currentColor\" x=\"400\">AUX</tspan>\n",
              "</text>\n",
              "\n",
              "<text class=\"displacy-token\" fill=\"currentColor\" text-anchor=\"middle\" y=\"309.5\">\n",
              "    <tspan class=\"displacy-word\" fill=\"currentColor\" x=\"575\">opposed</tspan>\n",
              "    <tspan class=\"displacy-tag\" dy=\"2em\" fill=\"currentColor\" x=\"575\">VERB</tspan>\n",
              "</text>\n",
              "\n",
              "<text class=\"displacy-token\" fill=\"currentColor\" text-anchor=\"middle\" y=\"309.5\">\n",
              "    <tspan class=\"displacy-word\" fill=\"currentColor\" x=\"750\">by</tspan>\n",
              "    <tspan class=\"displacy-tag\" dy=\"2em\" fill=\"currentColor\" x=\"750\">ADP</tspan>\n",
              "</text>\n",
              "\n",
              "<text class=\"displacy-token\" fill=\"currentColor\" text-anchor=\"middle\" y=\"309.5\">\n",
              "    <tspan class=\"displacy-word\" fill=\"currentColor\" x=\"925\">her</tspan>\n",
              "    <tspan class=\"displacy-tag\" dy=\"2em\" fill=\"currentColor\" x=\"925\">PRON</tspan>\n",
              "</text>\n",
              "\n",
              "<text class=\"displacy-token\" fill=\"currentColor\" text-anchor=\"middle\" y=\"309.5\">\n",
              "    <tspan class=\"displacy-word\" fill=\"currentColor\" x=\"1100\">without</tspan>\n",
              "    <tspan class=\"displacy-tag\" dy=\"2em\" fill=\"currentColor\" x=\"1100\">ADP</tspan>\n",
              "</text>\n",
              "\n",
              "<text class=\"displacy-token\" fill=\"currentColor\" text-anchor=\"middle\" y=\"309.5\">\n",
              "    <tspan class=\"displacy-word\" fill=\"currentColor\" x=\"1275\">any</tspan>\n",
              "    <tspan class=\"displacy-tag\" dy=\"2em\" fill=\"currentColor\" x=\"1275\">DET</tspan>\n",
              "</text>\n",
              "\n",
              "<text class=\"displacy-token\" fill=\"currentColor\" text-anchor=\"middle\" y=\"309.5\">\n",
              "    <tspan class=\"displacy-word\" fill=\"currentColor\" x=\"1450\">reason.</tspan>\n",
              "    <tspan class=\"displacy-tag\" dy=\"2em\" fill=\"currentColor\" x=\"1450\">PUNCT</tspan>\n",
              "</text>\n",
              "\n",
              "<text class=\"displacy-token\" fill=\"currentColor\" text-anchor=\"middle\" y=\"309.5\">\n",
              "    <tspan class=\"displacy-word\" fill=\"currentColor\" x=\"1625\">\t    </tspan>\n",
              "    <tspan class=\"displacy-tag\" dy=\"2em\" fill=\"currentColor\" x=\"1625\">SPACE</tspan>\n",
              "</text>\n",
              "\n",
              "<text class=\"displacy-token\" fill=\"currentColor\" text-anchor=\"middle\" y=\"309.5\">\n",
              "    <tspan class=\"displacy-word\" fill=\"currentColor\" x=\"1800\">A</tspan>\n",
              "    <tspan class=\"displacy-tag\" dy=\"2em\" fill=\"currentColor\" x=\"1800\">DET</tspan>\n",
              "</text>\n",
              "\n",
              "<text class=\"displacy-token\" fill=\"currentColor\" text-anchor=\"middle\" y=\"309.5\">\n",
              "    <tspan class=\"displacy-word\" fill=\"currentColor\" x=\"1975\">plan</tspan>\n",
              "    <tspan class=\"displacy-tag\" dy=\"2em\" fill=\"currentColor\" x=\"1975\">NOUN</tspan>\n",
              "</text>\n",
              "\n",
              "<text class=\"displacy-token\" fill=\"currentColor\" text-anchor=\"middle\" y=\"309.5\">\n",
              "    <tspan class=\"displacy-word\" fill=\"currentColor\" x=\"2150\">is</tspan>\n",
              "    <tspan class=\"displacy-tag\" dy=\"2em\" fill=\"currentColor\" x=\"2150\">AUX</tspan>\n",
              "</text>\n",
              "\n",
              "<text class=\"displacy-token\" fill=\"currentColor\" text-anchor=\"middle\" y=\"309.5\">\n",
              "    <tspan class=\"displacy-word\" fill=\"currentColor\" x=\"2325\">being</tspan>\n",
              "    <tspan class=\"displacy-tag\" dy=\"2em\" fill=\"currentColor\" x=\"2325\">AUX</tspan>\n",
              "</text>\n",
              "\n",
              "<text class=\"displacy-token\" fill=\"currentColor\" text-anchor=\"middle\" y=\"309.5\">\n",
              "    <tspan class=\"displacy-word\" fill=\"currentColor\" x=\"2500\">prepared</tspan>\n",
              "    <tspan class=\"displacy-tag\" dy=\"2em\" fill=\"currentColor\" x=\"2500\">VERB</tspan>\n",
              "</text>\n",
              "\n",
              "<text class=\"displacy-token\" fill=\"currentColor\" text-anchor=\"middle\" y=\"309.5\">\n",
              "    <tspan class=\"displacy-word\" fill=\"currentColor\" x=\"2675\">by</tspan>\n",
              "    <tspan class=\"displacy-tag\" dy=\"2em\" fill=\"currentColor\" x=\"2675\">ADP</tspan>\n",
              "</text>\n",
              "\n",
              "<text class=\"displacy-token\" fill=\"currentColor\" text-anchor=\"middle\" y=\"309.5\">\n",
              "    <tspan class=\"displacy-word\" fill=\"currentColor\" x=\"2850\">charles</tspan>\n",
              "    <tspan class=\"displacy-tag\" dy=\"2em\" fill=\"currentColor\" x=\"2850\">NOUN</tspan>\n",
              "</text>\n",
              "\n",
              "<text class=\"displacy-token\" fill=\"currentColor\" text-anchor=\"middle\" y=\"309.5\">\n",
              "    <tspan class=\"displacy-word\" fill=\"currentColor\" x=\"3025\">for</tspan>\n",
              "    <tspan class=\"displacy-tag\" dy=\"2em\" fill=\"currentColor\" x=\"3025\">ADP</tspan>\n",
              "</text>\n",
              "\n",
              "<text class=\"displacy-token\" fill=\"currentColor\" text-anchor=\"middle\" y=\"309.5\">\n",
              "    <tspan class=\"displacy-word\" fill=\"currentColor\" x=\"3200\">next</tspan>\n",
              "    <tspan class=\"displacy-tag\" dy=\"2em\" fill=\"currentColor\" x=\"3200\">ADJ</tspan>\n",
              "</text>\n",
              "\n",
              "<text class=\"displacy-token\" fill=\"currentColor\" text-anchor=\"middle\" y=\"309.5\">\n",
              "    <tspan class=\"displacy-word\" fill=\"currentColor\" x=\"3375\">project</tspan>\n",
              "    <tspan class=\"displacy-tag\" dy=\"2em\" fill=\"currentColor\" x=\"3375\">NOUN</tspan>\n",
              "</text>\n",
              "\n",
              "<g class=\"displacy-arrow\">\n",
              "    <path class=\"displacy-arc\" id=\"arrow-0e86c408839441ffae5a5be135c88f0d-0-0\" stroke-width=\"2px\" d=\"M70,264.5 C70,2.0 575.0,2.0 575.0,264.5\" fill=\"none\" stroke=\"currentColor\"/>\n",
              "    <text dy=\"1.25em\" style=\"font-size: 0.8em; letter-spacing: 1px\">\n",
              "        <textPath xlink:href=\"#arrow-0e86c408839441ffae5a5be135c88f0d-0-0\" class=\"displacy-label\" startOffset=\"50%\" side=\"left\" fill=\"currentColor\" text-anchor=\"middle\">nsubjpass</textPath>\n",
              "    </text>\n",
              "    <path class=\"displacy-arrowhead\" d=\"M70,266.5 L62,254.5 78,254.5\" fill=\"currentColor\"/>\n",
              "</g>\n",
              "\n",
              "<g class=\"displacy-arrow\">\n",
              "    <path class=\"displacy-arc\" id=\"arrow-0e86c408839441ffae5a5be135c88f0d-0-1\" stroke-width=\"2px\" d=\"M245,264.5 C245,89.5 570.0,89.5 570.0,264.5\" fill=\"none\" stroke=\"currentColor\"/>\n",
              "    <text dy=\"1.25em\" style=\"font-size: 0.8em; letter-spacing: 1px\">\n",
              "        <textPath xlink:href=\"#arrow-0e86c408839441ffae5a5be135c88f0d-0-1\" class=\"displacy-label\" startOffset=\"50%\" side=\"left\" fill=\"currentColor\" text-anchor=\"middle\">aux</textPath>\n",
              "    </text>\n",
              "    <path class=\"displacy-arrowhead\" d=\"M245,266.5 L237,254.5 253,254.5\" fill=\"currentColor\"/>\n",
              "</g>\n",
              "\n",
              "<g class=\"displacy-arrow\">\n",
              "    <path class=\"displacy-arc\" id=\"arrow-0e86c408839441ffae5a5be135c88f0d-0-2\" stroke-width=\"2px\" d=\"M420,264.5 C420,177.0 565.0,177.0 565.0,264.5\" fill=\"none\" stroke=\"currentColor\"/>\n",
              "    <text dy=\"1.25em\" style=\"font-size: 0.8em; letter-spacing: 1px\">\n",
              "        <textPath xlink:href=\"#arrow-0e86c408839441ffae5a5be135c88f0d-0-2\" class=\"displacy-label\" startOffset=\"50%\" side=\"left\" fill=\"currentColor\" text-anchor=\"middle\">auxpass</textPath>\n",
              "    </text>\n",
              "    <path class=\"displacy-arrowhead\" d=\"M420,266.5 L412,254.5 428,254.5\" fill=\"currentColor\"/>\n",
              "</g>\n",
              "\n",
              "<g class=\"displacy-arrow\">\n",
              "    <path class=\"displacy-arc\" id=\"arrow-0e86c408839441ffae5a5be135c88f0d-0-3\" stroke-width=\"2px\" d=\"M595,264.5 C595,177.0 740.0,177.0 740.0,264.5\" fill=\"none\" stroke=\"currentColor\"/>\n",
              "    <text dy=\"1.25em\" style=\"font-size: 0.8em; letter-spacing: 1px\">\n",
              "        <textPath xlink:href=\"#arrow-0e86c408839441ffae5a5be135c88f0d-0-3\" class=\"displacy-label\" startOffset=\"50%\" side=\"left\" fill=\"currentColor\" text-anchor=\"middle\">agent</textPath>\n",
              "    </text>\n",
              "    <path class=\"displacy-arrowhead\" d=\"M740.0,266.5 L748.0,254.5 732.0,254.5\" fill=\"currentColor\"/>\n",
              "</g>\n",
              "\n",
              "<g class=\"displacy-arrow\">\n",
              "    <path class=\"displacy-arc\" id=\"arrow-0e86c408839441ffae5a5be135c88f0d-0-4\" stroke-width=\"2px\" d=\"M770,264.5 C770,177.0 915.0,177.0 915.0,264.5\" fill=\"none\" stroke=\"currentColor\"/>\n",
              "    <text dy=\"1.25em\" style=\"font-size: 0.8em; letter-spacing: 1px\">\n",
              "        <textPath xlink:href=\"#arrow-0e86c408839441ffae5a5be135c88f0d-0-4\" class=\"displacy-label\" startOffset=\"50%\" side=\"left\" fill=\"currentColor\" text-anchor=\"middle\">pobj</textPath>\n",
              "    </text>\n",
              "    <path class=\"displacy-arrowhead\" d=\"M915.0,266.5 L923.0,254.5 907.0,254.5\" fill=\"currentColor\"/>\n",
              "</g>\n",
              "\n",
              "<g class=\"displacy-arrow\">\n",
              "    <path class=\"displacy-arc\" id=\"arrow-0e86c408839441ffae5a5be135c88f0d-0-5\" stroke-width=\"2px\" d=\"M595,264.5 C595,89.5 1095.0,89.5 1095.0,264.5\" fill=\"none\" stroke=\"currentColor\"/>\n",
              "    <text dy=\"1.25em\" style=\"font-size: 0.8em; letter-spacing: 1px\">\n",
              "        <textPath xlink:href=\"#arrow-0e86c408839441ffae5a5be135c88f0d-0-5\" class=\"displacy-label\" startOffset=\"50%\" side=\"left\" fill=\"currentColor\" text-anchor=\"middle\">prep</textPath>\n",
              "    </text>\n",
              "    <path class=\"displacy-arrowhead\" d=\"M1095.0,266.5 L1103.0,254.5 1087.0,254.5\" fill=\"currentColor\"/>\n",
              "</g>\n",
              "\n",
              "<g class=\"displacy-arrow\">\n",
              "    <path class=\"displacy-arc\" id=\"arrow-0e86c408839441ffae5a5be135c88f0d-0-6\" stroke-width=\"2px\" d=\"M1295,264.5 C1295,177.0 1440.0,177.0 1440.0,264.5\" fill=\"none\" stroke=\"currentColor\"/>\n",
              "    <text dy=\"1.25em\" style=\"font-size: 0.8em; letter-spacing: 1px\">\n",
              "        <textPath xlink:href=\"#arrow-0e86c408839441ffae5a5be135c88f0d-0-6\" class=\"displacy-label\" startOffset=\"50%\" side=\"left\" fill=\"currentColor\" text-anchor=\"middle\">det</textPath>\n",
              "    </text>\n",
              "    <path class=\"displacy-arrowhead\" d=\"M1295,266.5 L1287,254.5 1303,254.5\" fill=\"currentColor\"/>\n",
              "</g>\n",
              "\n",
              "<g class=\"displacy-arrow\">\n",
              "    <path class=\"displacy-arc\" id=\"arrow-0e86c408839441ffae5a5be135c88f0d-0-7\" stroke-width=\"2px\" d=\"M595,264.5 C595,2.0 1450.0,2.0 1450.0,264.5\" fill=\"none\" stroke=\"currentColor\"/>\n",
              "    <text dy=\"1.25em\" style=\"font-size: 0.8em; letter-spacing: 1px\">\n",
              "        <textPath xlink:href=\"#arrow-0e86c408839441ffae5a5be135c88f0d-0-7\" class=\"displacy-label\" startOffset=\"50%\" side=\"left\" fill=\"currentColor\" text-anchor=\"middle\">punct</textPath>\n",
              "    </text>\n",
              "    <path class=\"displacy-arrowhead\" d=\"M1450.0,266.5 L1458.0,254.5 1442.0,254.5\" fill=\"currentColor\"/>\n",
              "</g>\n",
              "\n",
              "<g class=\"displacy-arrow\">\n",
              "    <path class=\"displacy-arc\" id=\"arrow-0e86c408839441ffae5a5be135c88f0d-0-8\" stroke-width=\"2px\" d=\"M1470,264.5 C1470,177.0 1615.0,177.0 1615.0,264.5\" fill=\"none\" stroke=\"currentColor\"/>\n",
              "    <text dy=\"1.25em\" style=\"font-size: 0.8em; letter-spacing: 1px\">\n",
              "        <textPath xlink:href=\"#arrow-0e86c408839441ffae5a5be135c88f0d-0-8\" class=\"displacy-label\" startOffset=\"50%\" side=\"left\" fill=\"currentColor\" text-anchor=\"middle\">dep</textPath>\n",
              "    </text>\n",
              "    <path class=\"displacy-arrowhead\" d=\"M1615.0,266.5 L1623.0,254.5 1607.0,254.5\" fill=\"currentColor\"/>\n",
              "</g>\n",
              "\n",
              "<g class=\"displacy-arrow\">\n",
              "    <path class=\"displacy-arc\" id=\"arrow-0e86c408839441ffae5a5be135c88f0d-0-9\" stroke-width=\"2px\" d=\"M1820,264.5 C1820,177.0 1965.0,177.0 1965.0,264.5\" fill=\"none\" stroke=\"currentColor\"/>\n",
              "    <text dy=\"1.25em\" style=\"font-size: 0.8em; letter-spacing: 1px\">\n",
              "        <textPath xlink:href=\"#arrow-0e86c408839441ffae5a5be135c88f0d-0-9\" class=\"displacy-label\" startOffset=\"50%\" side=\"left\" fill=\"currentColor\" text-anchor=\"middle\">det</textPath>\n",
              "    </text>\n",
              "    <path class=\"displacy-arrowhead\" d=\"M1820,266.5 L1812,254.5 1828,254.5\" fill=\"currentColor\"/>\n",
              "</g>\n",
              "\n",
              "<g class=\"displacy-arrow\">\n",
              "    <path class=\"displacy-arc\" id=\"arrow-0e86c408839441ffae5a5be135c88f0d-0-10\" stroke-width=\"2px\" d=\"M1995,264.5 C1995,2.0 2500.0,2.0 2500.0,264.5\" fill=\"none\" stroke=\"currentColor\"/>\n",
              "    <text dy=\"1.25em\" style=\"font-size: 0.8em; letter-spacing: 1px\">\n",
              "        <textPath xlink:href=\"#arrow-0e86c408839441ffae5a5be135c88f0d-0-10\" class=\"displacy-label\" startOffset=\"50%\" side=\"left\" fill=\"currentColor\" text-anchor=\"middle\">nsubjpass</textPath>\n",
              "    </text>\n",
              "    <path class=\"displacy-arrowhead\" d=\"M1995,266.5 L1987,254.5 2003,254.5\" fill=\"currentColor\"/>\n",
              "</g>\n",
              "\n",
              "<g class=\"displacy-arrow\">\n",
              "    <path class=\"displacy-arc\" id=\"arrow-0e86c408839441ffae5a5be135c88f0d-0-11\" stroke-width=\"2px\" d=\"M2170,264.5 C2170,89.5 2495.0,89.5 2495.0,264.5\" fill=\"none\" stroke=\"currentColor\"/>\n",
              "    <text dy=\"1.25em\" style=\"font-size: 0.8em; letter-spacing: 1px\">\n",
              "        <textPath xlink:href=\"#arrow-0e86c408839441ffae5a5be135c88f0d-0-11\" class=\"displacy-label\" startOffset=\"50%\" side=\"left\" fill=\"currentColor\" text-anchor=\"middle\">aux</textPath>\n",
              "    </text>\n",
              "    <path class=\"displacy-arrowhead\" d=\"M2170,266.5 L2162,254.5 2178,254.5\" fill=\"currentColor\"/>\n",
              "</g>\n",
              "\n",
              "<g class=\"displacy-arrow\">\n",
              "    <path class=\"displacy-arc\" id=\"arrow-0e86c408839441ffae5a5be135c88f0d-0-12\" stroke-width=\"2px\" d=\"M2345,264.5 C2345,177.0 2490.0,177.0 2490.0,264.5\" fill=\"none\" stroke=\"currentColor\"/>\n",
              "    <text dy=\"1.25em\" style=\"font-size: 0.8em; letter-spacing: 1px\">\n",
              "        <textPath xlink:href=\"#arrow-0e86c408839441ffae5a5be135c88f0d-0-12\" class=\"displacy-label\" startOffset=\"50%\" side=\"left\" fill=\"currentColor\" text-anchor=\"middle\">auxpass</textPath>\n",
              "    </text>\n",
              "    <path class=\"displacy-arrowhead\" d=\"M2345,266.5 L2337,254.5 2353,254.5\" fill=\"currentColor\"/>\n",
              "</g>\n",
              "\n",
              "<g class=\"displacy-arrow\">\n",
              "    <path class=\"displacy-arc\" id=\"arrow-0e86c408839441ffae5a5be135c88f0d-0-13\" stroke-width=\"2px\" d=\"M2520,264.5 C2520,177.0 2665.0,177.0 2665.0,264.5\" fill=\"none\" stroke=\"currentColor\"/>\n",
              "    <text dy=\"1.25em\" style=\"font-size: 0.8em; letter-spacing: 1px\">\n",
              "        <textPath xlink:href=\"#arrow-0e86c408839441ffae5a5be135c88f0d-0-13\" class=\"displacy-label\" startOffset=\"50%\" side=\"left\" fill=\"currentColor\" text-anchor=\"middle\">agent</textPath>\n",
              "    </text>\n",
              "    <path class=\"displacy-arrowhead\" d=\"M2665.0,266.5 L2673.0,254.5 2657.0,254.5\" fill=\"currentColor\"/>\n",
              "</g>\n",
              "\n",
              "<g class=\"displacy-arrow\">\n",
              "    <path class=\"displacy-arc\" id=\"arrow-0e86c408839441ffae5a5be135c88f0d-0-14\" stroke-width=\"2px\" d=\"M2695,264.5 C2695,177.0 2840.0,177.0 2840.0,264.5\" fill=\"none\" stroke=\"currentColor\"/>\n",
              "    <text dy=\"1.25em\" style=\"font-size: 0.8em; letter-spacing: 1px\">\n",
              "        <textPath xlink:href=\"#arrow-0e86c408839441ffae5a5be135c88f0d-0-14\" class=\"displacy-label\" startOffset=\"50%\" side=\"left\" fill=\"currentColor\" text-anchor=\"middle\">pobj</textPath>\n",
              "    </text>\n",
              "    <path class=\"displacy-arrowhead\" d=\"M2840.0,266.5 L2848.0,254.5 2832.0,254.5\" fill=\"currentColor\"/>\n",
              "</g>\n",
              "\n",
              "<g class=\"displacy-arrow\">\n",
              "    <path class=\"displacy-arc\" id=\"arrow-0e86c408839441ffae5a5be135c88f0d-0-15\" stroke-width=\"2px\" d=\"M2520,264.5 C2520,89.5 3020.0,89.5 3020.0,264.5\" fill=\"none\" stroke=\"currentColor\"/>\n",
              "    <text dy=\"1.25em\" style=\"font-size: 0.8em; letter-spacing: 1px\">\n",
              "        <textPath xlink:href=\"#arrow-0e86c408839441ffae5a5be135c88f0d-0-15\" class=\"displacy-label\" startOffset=\"50%\" side=\"left\" fill=\"currentColor\" text-anchor=\"middle\">prep</textPath>\n",
              "    </text>\n",
              "    <path class=\"displacy-arrowhead\" d=\"M3020.0,266.5 L3028.0,254.5 3012.0,254.5\" fill=\"currentColor\"/>\n",
              "</g>\n",
              "\n",
              "<g class=\"displacy-arrow\">\n",
              "    <path class=\"displacy-arc\" id=\"arrow-0e86c408839441ffae5a5be135c88f0d-0-16\" stroke-width=\"2px\" d=\"M3220,264.5 C3220,177.0 3365.0,177.0 3365.0,264.5\" fill=\"none\" stroke=\"currentColor\"/>\n",
              "    <text dy=\"1.25em\" style=\"font-size: 0.8em; letter-spacing: 1px\">\n",
              "        <textPath xlink:href=\"#arrow-0e86c408839441ffae5a5be135c88f0d-0-16\" class=\"displacy-label\" startOffset=\"50%\" side=\"left\" fill=\"currentColor\" text-anchor=\"middle\">amod</textPath>\n",
              "    </text>\n",
              "    <path class=\"displacy-arrowhead\" d=\"M3220,266.5 L3212,254.5 3228,254.5\" fill=\"currentColor\"/>\n",
              "</g>\n",
              "\n",
              "<g class=\"displacy-arrow\">\n",
              "    <path class=\"displacy-arc\" id=\"arrow-0e86c408839441ffae5a5be135c88f0d-0-17\" stroke-width=\"2px\" d=\"M3045,264.5 C3045,89.5 3370.0,89.5 3370.0,264.5\" fill=\"none\" stroke=\"currentColor\"/>\n",
              "    <text dy=\"1.25em\" style=\"font-size: 0.8em; letter-spacing: 1px\">\n",
              "        <textPath xlink:href=\"#arrow-0e86c408839441ffae5a5be135c88f0d-0-17\" class=\"displacy-label\" startOffset=\"50%\" side=\"left\" fill=\"currentColor\" text-anchor=\"middle\">pobj</textPath>\n",
              "    </text>\n",
              "    <path class=\"displacy-arrowhead\" d=\"M3370.0,266.5 L3378.0,254.5 3362.0,254.5\" fill=\"currentColor\"/>\n",
              "</g>\n",
              "</svg></span>"
            ]
          },
          "metadata": {}
        }
      ],
      "source": [
        "displacy.render(processed_sent, style=\"dep\", jupyter=True)"
      ]
    },
    {
      "cell_type": "markdown",
      "id": "d9xCUKqTLjAx",
      "metadata": {
        "id": "d9xCUKqTLjAx"
      },
      "source": [
        "## Named Entity Recognition"
      ]
    },
    {
      "cell_type": "markdown",
      "id": "9TwuLR1FZV_r",
      "metadata": {
        "id": "9TwuLR1FZV_r"
      },
      "source": [
        "Now we will load the spacy english model, and test its default NER pipeline on a sample text"
      ]
    },
    {
      "cell_type": "code",
      "execution_count": null,
      "id": "Yh3MOv_ZMdW0",
      "metadata": {
        "colab": {
          "base_uri": "https://localhost:8080/",
          "height": 52
        },
        "id": "Yh3MOv_ZMdW0",
        "outputId": "9d3d54e6-9710-4992-bbe9-39bc3fe575b3"
      },
      "outputs": [
        {
          "output_type": "display_data",
          "data": {
            "text/plain": [
              "<IPython.core.display.HTML object>"
            ],
            "text/html": [
              "<span class=\"tex2jax_ignore\"><div class=\"entities\" style=\"line-height: 2.5; direction: ltr\">\n",
              "<mark class=\"entity\" style=\"background: #7aecec; padding: 0.45em 0.6em; margin: 0 0.25em; line-height: 1; border-radius: 0.35em;\">\n",
              "    Apple\n",
              "    <span style=\"font-size: 0.8em; font-weight: bold; line-height: 1; border-radius: 0.35em; vertical-align: middle; margin-left: 0.5rem\">ORG</span>\n",
              "</mark>\n",
              " is looking at buying \n",
              "<mark class=\"entity\" style=\"background: #feca74; padding: 0.45em 0.6em; margin: 0 0.25em; line-height: 1; border-radius: 0.35em;\">\n",
              "    U.K.\n",
              "    <span style=\"font-size: 0.8em; font-weight: bold; line-height: 1; border-radius: 0.35em; vertical-align: middle; margin-left: 0.5rem\">GPE</span>\n",
              "</mark>\n",
              " startup for \n",
              "<mark class=\"entity\" style=\"background: #e4e7d2; padding: 0.45em 0.6em; margin: 0 0.25em; line-height: 1; border-radius: 0.35em;\">\n",
              "    $1 billion\n",
              "    <span style=\"font-size: 0.8em; font-weight: bold; line-height: 1; border-radius: 0.35em; vertical-align: middle; margin-left: 0.5rem\">MONEY</span>\n",
              "</mark>\n",
              "</div></span>"
            ]
          },
          "metadata": {}
        }
      ],
      "source": [
        "en_model = spacy.load(\"en_core_web_sm\") # Loading the English model\n",
        "\n",
        "text = \"Apple is looking at buying U.K. startup for $1 billion\"\n",
        "doc = en_model(text)\n",
        "displacy.render(doc, style=\"ent\", jupyter=True)\n",
        "#for entity in doc.ents:\n",
        "#    print(entity.text, entity.label_)"
      ]
    },
    {
      "cell_type": "code",
      "execution_count": null,
      "id": "RtPBcYUnZpvS",
      "metadata": {
        "colab": {
          "base_uri": "https://localhost:8080/"
        },
        "id": "RtPBcYUnZpvS",
        "outputId": "c956afd2-6d65-4bf6-9369-8d26d4e31afd"
      },
      "outputs": [
        {
          "output_type": "stream",
          "name": "stdout",
          "text": [
            "Apple ORG\n",
            "U.K. GPE\n",
            "$1 billion MONEY\n"
          ]
        }
      ],
      "source": [
        "for entity in doc.ents:\n",
        "    print(entity.text, entity.label_)"
      ]
    },
    {
      "cell_type": "markdown",
      "id": "GmnaaJ2AZdUK",
      "metadata": {
        "id": "GmnaaJ2AZdUK"
      },
      "source": [
        "As we're able to see, verbs and less stopwords are ignored, while named entities are properly categorized"
      ]
    },
    {
      "cell_type": "markdown",
      "id": "MTCr8NBjZtUA",
      "metadata": {
        "id": "MTCr8NBjZtUA"
      },
      "source": [
        "Let's test it on another, longer, phrase"
      ]
    },
    {
      "cell_type": "code",
      "execution_count": null,
      "id": "r_RCCtppPah0",
      "metadata": {
        "colab": {
          "base_uri": "https://localhost:8080/"
        },
        "id": "r_RCCtppPah0",
        "outputId": "271cc8a5-8d4e-4582-b758-ea7536423525"
      },
      "outputs": [
        {
          "output_type": "stream",
          "name": "stdout",
          "text": [
            "--2025-01-28 10:03:07--  https://raw.githubusercontent.com/LorenzoBellomo/InformationRetrieval/main/data/Leonardo.txt\n",
            "Resolving raw.githubusercontent.com (raw.githubusercontent.com)... 185.199.108.133, 185.199.109.133, 185.199.110.133, ...\n",
            "Connecting to raw.githubusercontent.com (raw.githubusercontent.com)|185.199.108.133|:443... connected.\n",
            "HTTP request sent, awaiting response... 200 OK\n",
            "Length: 604 [text/plain]\n",
            "Saving to: ‘Leonardo.txt.1’\n",
            "\n",
            "\rLeonardo.txt.1        0%[                    ]       0  --.-KB/s               \rLeonardo.txt.1      100%[===================>]     604  --.-KB/s    in 0s      \n",
            "\n",
            "2025-01-28 10:03:07 (26.5 MB/s) - ‘Leonardo.txt.1’ saved [604/604]\n",
            "\n"
          ]
        }
      ],
      "source": [
        "!wget https://raw.githubusercontent.com/LorenzoBellomo/InformationRetrieval/main/data/Leonardo.txt"
      ]
    },
    {
      "cell_type": "code",
      "execution_count": null,
      "id": "bMR8i8t_Pdjj",
      "metadata": {
        "colab": {
          "base_uri": "https://localhost:8080/",
          "height": 157
        },
        "id": "bMR8i8t_Pdjj",
        "outputId": "499ce33e-90e5-443c-c3b6-c7ebe739ee19"
      },
      "outputs": [
        {
          "output_type": "display_data",
          "data": {
            "text/plain": [
              "<IPython.core.display.HTML object>"
            ],
            "text/html": [
              "<span class=\"tex2jax_ignore\"><div class=\"entities\" style=\"line-height: 2.5; direction: ltr\">\n",
              "<mark class=\"entity\" style=\"background: #aa9cfc; padding: 0.45em 0.6em; margin: 0 0.25em; line-height: 1; border-radius: 0.35em;\">\n",
              "    Leonardo da Vinci\n",
              "    <span style=\"font-size: 0.8em; font-weight: bold; line-height: 1; border-radius: 0.35em; vertical-align: middle; margin-left: 0.5rem\">PERSON</span>\n",
              "</mark>\n",
              " was an \n",
              "<mark class=\"entity\" style=\"background: #c887fb; padding: 0.45em 0.6em; margin: 0 0.25em; line-height: 1; border-radius: 0.35em;\">\n",
              "    Italian\n",
              "    <span style=\"font-size: 0.8em; font-weight: bold; line-height: 1; border-radius: 0.35em; vertical-align: middle; margin-left: 0.5rem\">NORP</span>\n",
              "</mark>\n",
              " \n",
              "<mark class=\"entity\" style=\"background: #7aecec; padding: 0.45em 0.6em; margin: 0 0.25em; line-height: 1; border-radius: 0.35em;\">\n",
              "    Renaissance\n",
              "    <span style=\"font-size: 0.8em; font-weight: bold; line-height: 1; border-radius: 0.35em; vertical-align: middle; margin-left: 0.5rem\">ORG</span>\n",
              "</mark>\n",
              " polymath whose areas of interest included invention, painting, sculpting, architecture, science, music, mathematics, engineering, literature, anatomy, geology, astronomy, botany, writing, history, and cartography. <br>He has been variously called the father of palaeontology, ichnology, and architecture, and is widely considered one of the greatest painters of all time. \n",
              "<mark class=\"entity\" style=\"background: #aa9cfc; padding: 0.45em 0.6em; margin: 0 0.25em; line-height: 1; border-radius: 0.35em;\">\n",
              "    Leonardo\n",
              "    <span style=\"font-size: 0.8em; font-weight: bold; line-height: 1; border-radius: 0.35em; vertical-align: middle; margin-left: 0.5rem\">PERSON</span>\n",
              "</mark>\n",
              " is revered for his technological ingenuity. He conceptualised flying machines, a type of armoured fighting vehicle, concentrated solar power, an adding machine, and the double hull.</div></span>"
            ]
          },
          "metadata": {}
        }
      ],
      "source": [
        "with open(\"Leonardo.txt\", 'r') as txt_file:\n",
        "  leonardo = txt_file.read()\n",
        "doc = en_model(leonardo)\n",
        "displacy.render(doc, style=\"ent\", jupyter=True)"
      ]
    },
    {
      "cell_type": "markdown",
      "id": "3TrcgoLXZ2aT",
      "metadata": {
        "id": "3TrcgoLXZ2aT"
      },
      "source": [
        "Something goes wrong here, why is Renaissance labeled as ORG? Let's see the meaning of the various categories"
      ]
    },
    {
      "cell_type": "code",
      "execution_count": null,
      "id": "1zMaBRDgQeZ0",
      "metadata": {
        "colab": {
          "base_uri": "https://localhost:8080/"
        },
        "id": "1zMaBRDgQeZ0",
        "outputId": "388c1690-3f51-48b9-9d76-8e54fb83619f"
      },
      "outputs": [
        {
          "output_type": "stream",
          "name": "stdout",
          "text": [
            "Leonardo da Vinci PERSON  -  People, including fictional\n",
            "Italian NORP  -  Nationalities or religious or political groups\n",
            "Renaissance ORG  -  Companies, agencies, institutions, etc.\n",
            "Leonardo PERSON  -  People, including fictional\n"
          ]
        }
      ],
      "source": [
        "for entity in doc.ents:\n",
        "  print(entity.text, entity.label_, \" - \", spacy.explain(entity.label_))"
      ]
    },
    {
      "cell_type": "markdown",
      "id": "WY9kGUnFaAed",
      "metadata": {
        "id": "WY9kGUnFaAed"
      },
      "source": [
        "This shows how crucial it is, in some situations, to train your application to your specific need."
      ]
    },
    {
      "cell_type": "markdown",
      "id": "t1yTDhP-Vt5k",
      "metadata": {
        "id": "t1yTDhP-Vt5k"
      },
      "source": [
        "### Finetuning NER"
      ]
    },
    {
      "cell_type": "markdown",
      "id": "9fRDs3NvaH3F",
      "metadata": {
        "id": "9fRDs3NvaH3F"
      },
      "source": [
        "Now we download the Anatomical Entity Mention (AnEM) corpus from Github. It is a NER dataset on the biomedical field, stored using the CONLL format.  "
      ]
    },
    {
      "cell_type": "code",
      "execution_count": null,
      "id": "bduYpgjQVvls",
      "metadata": {
        "colab": {
          "base_uri": "https://localhost:8080/"
        },
        "id": "bduYpgjQVvls",
        "outputId": "8e0f1c05-de61-4696-80ca-3e5ffd60650a"
      },
      "outputs": [
        {
          "output_type": "stream",
          "name": "stdout",
          "text": [
            "--2025-01-28 09:51:59--  https://raw.githubusercontent.com/juand-r/entity-recognition-datasets/master/data/AnEM/CONLL-format/data/AnEM.train\n",
            "Resolving raw.githubusercontent.com (raw.githubusercontent.com)... 185.199.111.133, 185.199.109.133, 185.199.108.133, ...\n",
            "Connecting to raw.githubusercontent.com (raw.githubusercontent.com)|185.199.111.133|:443... connected.\n",
            "HTTP request sent, awaiting response... 200 OK\n",
            "Length: 1220623 (1.2M) [text/plain]\n",
            "Saving to: ‘AnEM.train’\n",
            "\n",
            "AnEM.train          100%[===================>]   1.16M  --.-KB/s    in 0.06s   \n",
            "\n",
            "2025-01-28 09:52:00 (18.5 MB/s) - ‘AnEM.train’ saved [1220623/1220623]\n",
            "\n",
            "--2025-01-28 09:52:00--  https://raw.githubusercontent.com/juand-r/entity-recognition-datasets/master/data/AnEM/CONLL-format/data/AnEM.test\n",
            "Resolving raw.githubusercontent.com (raw.githubusercontent.com)... 185.199.108.133, 185.199.109.133, 185.199.110.133, ...\n",
            "Connecting to raw.githubusercontent.com (raw.githubusercontent.com)|185.199.108.133|:443... connected.\n",
            "HTTP request sent, awaiting response... 200 OK\n",
            "Length: 772970 (755K) [text/plain]\n",
            "Saving to: ‘AnEM.test’\n",
            "\n",
            "AnEM.test           100%[===================>] 754.85K  --.-KB/s    in 0.05s   \n",
            "\n",
            "2025-01-28 09:52:00 (13.5 MB/s) - ‘AnEM.test’ saved [772970/772970]\n",
            "\n"
          ]
        }
      ],
      "source": [
        "!wget https://raw.githubusercontent.com/juand-r/entity-recognition-datasets/master/data/AnEM/CONLL-format/data/AnEM.train\n",
        "!wget https://raw.githubusercontent.com/juand-r/entity-recognition-datasets/master/data/AnEM/CONLL-format/data/AnEM.test"
      ]
    },
    {
      "cell_type": "markdown",
      "id": "_VoqYMxVajEC",
      "metadata": {
        "id": "_VoqYMxVajEC"
      },
      "source": [
        "spaCy does not accept files in the CONLL format, so we use its convert function. We need to rename files to avoid name collisions"
      ]
    },
    {
      "cell_type": "code",
      "execution_count": null,
      "id": "fpQIDbgsVxwt",
      "metadata": {
        "colab": {
          "base_uri": "https://localhost:8080/"
        },
        "id": "fpQIDbgsVxwt",
        "outputId": "a646f85e-d3e2-4162-f59c-63615fdc80d4"
      },
      "outputs": [
        {
          "output_type": "stream",
          "name": "stdout",
          "text": [
            "\u001b[38;5;4mℹ Grouping every 1 sentences into a document.\u001b[0m\n",
            "\u001b[38;5;3m⚠ To generate better training data, you may want to group sentences\n",
            "into documents with `-n 10`.\u001b[0m\n",
            "\u001b[38;5;2m✔ Generated output file (2815 documents): AnEMTrain.spacy\u001b[0m\n",
            "\u001b[38;5;4mℹ Grouping every 1 sentences into a document.\u001b[0m\n",
            "\u001b[38;5;3m⚠ To generate better training data, you may want to group sentences\n",
            "into documents with `-n 10`.\u001b[0m\n",
            "\u001b[38;5;2m✔ Generated output file (1882 documents): AnEMTest.spacy\u001b[0m\n"
          ]
        }
      ],
      "source": [
        "!mv AnEM.train AnEMTrain\n",
        "!mv AnEM.test AnEMTest\n",
        "!spacy convert AnEMTrain -c conll .\n",
        "!spacy convert AnEMTest -c conll ."
      ]
    },
    {
      "cell_type": "markdown",
      "id": "kW9VHXOe-nNf",
      "metadata": {
        "id": "kW9VHXOe-nNf"
      },
      "source": [
        "**NOW IT IS TIME TO GENERATE THE base_config.cfg file**\n",
        "INSTRUCTIONS ARE HERE: https://spacy.io/usage/training#quickstart"
      ]
    },
    {
      "cell_type": "code",
      "execution_count": null,
      "id": "iVSd0MWh-vLI",
      "metadata": {
        "colab": {
          "base_uri": "https://localhost:8080/"
        },
        "id": "iVSd0MWh-vLI",
        "outputId": "7e23720e-92e9-4276-d69a-861b5b8ed7cd"
      },
      "outputs": [
        {
          "output_type": "stream",
          "name": "stdout",
          "text": [
            "--2025-01-28 10:03:39--  https://raw.githubusercontent.com/LorenzoBellomo/InformationRetrieval/main/base_config.cfg\n",
            "Resolving raw.githubusercontent.com (raw.githubusercontent.com)... 185.199.108.133, 185.199.109.133, 185.199.110.133, ...\n",
            "Connecting to raw.githubusercontent.com (raw.githubusercontent.com)|185.199.108.133|:443... connected.\n",
            "HTTP request sent, awaiting response... 200 OK\n",
            "Length: 1713 (1.7K) [text/plain]\n",
            "Saving to: ‘base_config.cfg’\n",
            "\n",
            "\rbase_config.cfg       0%[                    ]       0  --.-KB/s               \rbase_config.cfg     100%[===================>]   1.67K  --.-KB/s    in 0s      \n",
            "\n",
            "2025-01-28 10:03:39 (22.4 MB/s) - ‘base_config.cfg’ saved [1713/1713]\n",
            "\n",
            "\u001b[38;5;2m✔ Auto-filled config with all values\u001b[0m\n",
            "\u001b[38;5;2m✔ Saved config\u001b[0m\n",
            "config.cfg\n",
            "You can now add your data and train your pipeline:\n",
            "python -m spacy train config.cfg --paths.train ./train.spacy --paths.dev ./dev.spacy\n"
          ]
        }
      ],
      "source": [
        "!wget https://raw.githubusercontent.com/LorenzoBellomo/InformationRetrieval/main/base_config.cfg\n",
        "!python -m spacy init fill-config base_config.cfg config.cfg"
      ]
    },
    {
      "cell_type": "markdown",
      "id": "wGk7vLwHbHBx",
      "metadata": {
        "id": "wGk7vLwHbHBx"
      },
      "source": [
        "For reasons of lecture pacing, I limit the epochs to 6."
      ]
    },
    {
      "cell_type": "code",
      "execution_count": null,
      "id": "kOykeX6y_RFl",
      "metadata": {
        "colab": {
          "base_uri": "https://localhost:8080/"
        },
        "id": "kOykeX6y_RFl",
        "outputId": "abe6701f-9f88-4d71-a105-0239a3e6662e"
      },
      "outputs": [
        {
          "output_type": "stream",
          "name": "stdout",
          "text": [
            "mkdir: cannot create directory ‘output’: File exists\n",
            "\u001b[38;5;4mℹ Saving to output directory: output\u001b[0m\n",
            "\u001b[38;5;4mℹ Using CPU\u001b[0m\n",
            "\u001b[1m\n",
            "=========================== Initializing pipeline ===========================\u001b[0m\n",
            "\u001b[38;5;2m✔ Initialized pipeline\u001b[0m\n",
            "\u001b[1m\n",
            "============================= Training pipeline =============================\u001b[0m\n",
            "\u001b[38;5;4mℹ Pipeline: ['tok2vec', 'ner']\u001b[0m\n",
            "\u001b[38;5;4mℹ Initial learn rate: 0.001\u001b[0m\n",
            "E    #       LOSS TOK2VEC  LOSS NER  ENTS_F  ENTS_P  ENTS_R  SCORE \n",
            "---  ------  ------------  --------  ------  ------  ------  ------\n",
            "  0       0          0.00     27.87    0.00    0.00    0.00    0.00\n",
            "  0     200        308.78   1644.50    8.64   13.06    6.45    0.09\n",
            "  0     400         85.48    866.24   15.94   33.76   10.43    0.16\n",
            "  1     600        139.98   1002.82   25.36   33.55   20.38    0.25\n",
            "  1     800        236.84   1008.65   37.06   50.41   29.30    0.37\n",
            "\u001b[38;5;2m✔ Saved pipeline to output directory\u001b[0m\n",
            "output/model-last\n"
          ]
        }
      ],
      "source": [
        "!mkdir output\n",
        "#!python -m spacy train config.cfg --output ./output --paths.train ./AnEMTrain.spacy --paths.dev ./AnEMTest.spacy\n",
        "!python -m spacy train config.cfg --output ./output --paths.train ./AnEMTrain.spacy --paths.dev ./AnEMTest.spacy --training.max_epochs 2"
      ]
    },
    {
      "cell_type": "code",
      "execution_count": null,
      "id": "X1iHXIldGZt1",
      "metadata": {
        "colab": {
          "base_uri": "https://localhost:8080/",
          "height": 107
        },
        "id": "X1iHXIldGZt1",
        "outputId": "c9630916-e165-45c4-8029-2256ab0f4c15"
      },
      "outputs": [
        {
          "output_type": "stream",
          "name": "stderr",
          "text": [
            "/usr/local/lib/python3.11/dist-packages/spacy/displacy/__init__.py:213: UserWarning: [W006] No entities to visualize found in Doc object. If this is surprising to you, make sure the Doc was processed using a model that supports named entity recognition, and check the `doc.ents` property manually if necessary.\n",
            "  warnings.warn(Warnings.W006)\n"
          ]
        },
        {
          "output_type": "display_data",
          "data": {
            "text/plain": [
              "<IPython.core.display.HTML object>"
            ],
            "text/html": [
              "<span class=\"tex2jax_ignore\"><div class=\"entities\" style=\"line-height: 2.5; direction: ltr\">Apple is looking at buying U.K. startup for $1 billion</div></span>"
            ]
          },
          "metadata": {}
        }
      ],
      "source": [
        "trained_model = spacy.load(\"output/model-best\")\n",
        "text = \"Apple is looking at buying U.K. startup for $1 billion\"\n",
        "doc = trained_model(text)\n",
        "displacy.render(doc, style=\"ent\", jupyter=True)"
      ]
    },
    {
      "cell_type": "markdown",
      "id": "9ajplH2ObRKC",
      "metadata": {
        "id": "9ajplH2ObRKC"
      },
      "source": [
        "As we expect, a general purpose phrase yields no Named Entities"
      ]
    },
    {
      "cell_type": "code",
      "execution_count": null,
      "id": "Lv3qSX8vKW4B",
      "metadata": {
        "colab": {
          "base_uri": "https://localhost:8080/",
          "height": 87
        },
        "id": "Lv3qSX8vKW4B",
        "outputId": "a087fb21-4d30-46a8-e389-4f3ce17d2990"
      },
      "outputs": [
        {
          "output_type": "display_data",
          "data": {
            "text/plain": [
              "<IPython.core.display.HTML object>"
            ],
            "text/html": [
              "<span class=\"tex2jax_ignore\"><div class=\"entities\" style=\"line-height: 2.5; direction: ltr\">In the posterior (dorsal) cavity, the \n",
              "<mark class=\"entity\" style=\"background: #ddd; padding: 0.45em 0.6em; margin: 0 0.25em; line-height: 1; border-radius: 0.35em;\">\n",
              "    cranial\n",
              "    <span style=\"font-size: 0.8em; font-weight: bold; line-height: 1; border-radius: 0.35em; vertical-align: middle; margin-left: 0.5rem\">Organism_subdivision</span>\n",
              "</mark>\n",
              " cavity houses the \n",
              "<mark class=\"entity\" style=\"background: #ddd; padding: 0.45em 0.6em; margin: 0 0.25em; line-height: 1; border-radius: 0.35em;\">\n",
              "    brain\n",
              "    <span style=\"font-size: 0.8em; font-weight: bold; line-height: 1; border-radius: 0.35em; vertical-align: middle; margin-left: 0.5rem\">Organ</span>\n",
              "</mark>\n",
              ", and the \n",
              "<mark class=\"entity\" style=\"background: #ddd; padding: 0.45em 0.6em; margin: 0 0.25em; line-height: 1; border-radius: 0.35em;\">\n",
              "    spinal\n",
              "    <span style=\"font-size: 0.8em; font-weight: bold; line-height: 1; border-radius: 0.35em; vertical-align: middle; margin-left: 0.5rem\">Multi-tissue_structure</span>\n",
              "</mark>\n",
              " cavity (or vertebral cavity) encloses the \n",
              "<mark class=\"entity\" style=\"background: #ddd; padding: 0.45em 0.6em; margin: 0 0.25em; line-height: 1; border-radius: 0.35em;\">\n",
              "    spinal cord.\n",
              "    <span style=\"font-size: 0.8em; font-weight: bold; line-height: 1; border-radius: 0.35em; vertical-align: middle; margin-left: 0.5rem\">Multi-tissue_structure</span>\n",
              "</mark>\n",
              "</div></span>"
            ]
          },
          "metadata": {}
        }
      ],
      "source": [
        "text = \"In the posterior (dorsal) cavity, the cranial cavity houses the brain, and the spinal cavity (or vertebral cavity) encloses the spinal cord.\"\n",
        "doc = trained_model(text)\n",
        "displacy.render(doc, style=\"ent\", jupyter=True)"
      ]
    },
    {
      "cell_type": "markdown",
      "id": "nVRs-tDGbVsq",
      "metadata": {
        "id": "nVRs-tDGbVsq"
      },
      "source": [
        "And as expected, the new biological categories appear!"
      ]
    },
    {
      "cell_type": "markdown",
      "id": "p8TdXL4BLe2_",
      "metadata": {
        "id": "p8TdXL4BLe2_"
      },
      "source": [
        "## Entity Linking"
      ]
    },
    {
      "cell_type": "code",
      "execution_count": null,
      "id": "1b041d75",
      "metadata": {
        "id": "1b041d75"
      },
      "outputs": [],
      "source": [
        "KEY = \"6ab7daea-c174-4254-a9d2-d85f6117bf20-843339462\" # this is the key we will be using for REST calls"
      ]
    },
    {
      "cell_type": "code",
      "execution_count": null,
      "id": "f87ec817",
      "metadata": {
        "id": "f87ec817"
      },
      "outputs": [],
      "source": [
        "TAGME_ENDPOINT = \"https://tagme.d4science.org/tagme/tag\"\n",
        "LANG = \"en\" # Also works in italian and german"
      ]
    },
    {
      "cell_type": "markdown",
      "id": "d8cc017c",
      "metadata": {
        "id": "d8cc017c"
      },
      "source": [
        "Now create the function that will \"wrap\" the REST call. It needs a textual input"
      ]
    },
    {
      "cell_type": "code",
      "execution_count": null,
      "id": "225be2b4",
      "metadata": {
        "id": "225be2b4"
      },
      "outputs": [],
      "source": [
        "def query_tagme(text):\n",
        "    payload = {\"text\": text, \"gcube-token\": KEY, \"lang\": LANG}\n",
        "    # Now we issue a post HTTP request\n",
        "    r = requests.post(TAGME_ENDPOINT, payload)\n",
        "    if r.status_code != 200:\n",
        "        # this means something went wrong with the query\n",
        "        raise Exception(\"Error on text: {}\\n{}\".format(text, r.text))\n",
        "    return r.json()"
      ]
    },
    {
      "cell_type": "markdown",
      "id": "0d255a5b",
      "metadata": {
        "id": "0d255a5b"
      },
      "source": [
        "And now we display the result for a simple textual query. The interesting part, for us, is under the key _annotations_.\n",
        "This will be a list of annotations containing the following fields:\n",
        "- **spot (string)**: how the anchor appears in the text.\n",
        "- **start (int)**: the index of the starting character of the anchor.\n",
        "- **end (int)**: the index of the ending character of the anchor.\n",
        "- **link_probability (float ∈[𝟎,𝟏])**: number of times that the spot is an anchor in Wikipedia / number of occurrences of the spot in Wikipedia.\n",
        "- **rho (float ∈[𝟎,𝟏])**: semantic coherency of the entity with respect to the query.\n",
        "- **id (int)**: the Wikipedia identifier of the page _(https://en.wikipedia.org/?curid=<>)_.\n",
        "- **title (string)**: title of the Wikipedia page."
      ]
    },
    {
      "cell_type": "code",
      "execution_count": null,
      "id": "c867c7b0",
      "metadata": {
        "colab": {
          "base_uri": "https://localhost:8080/"
        },
        "id": "c867c7b0",
        "outputId": "d2988db8-46c1-4fe2-f391-d438a2021582"
      },
      "outputs": [
        {
          "output_type": "execute_result",
          "data": {
            "text/plain": [
              "{'test': '5',\n",
              " 'annotations': [{'spot': 'Italy',\n",
              "   'start': 0,\n",
              "   'link_probability': 0.4437723457813263,\n",
              "   'rho': 0.4525856375694275,\n",
              "   'end': 5,\n",
              "   'id': 362466,\n",
              "   'title': 'Italy national football team'},\n",
              "  {'spot': 'will',\n",
              "   'start': 6,\n",
              "   'link_probability': 0.0036389119923114777,\n",
              "   'rho': 0.06729841977357864,\n",
              "   'end': 10,\n",
              "   'id': 32828260,\n",
              "   'title': 'Will (2011 film)'},\n",
              "  {'spot': '2022 world cup',\n",
              "   'start': 35,\n",
              "   'link_probability': 0.3492063581943512,\n",
              "   'rho': 0.3398236632347107,\n",
              "   'end': 49,\n",
              "   'id': 17742072,\n",
              "   'title': '2022 FIFA World Cup'}],\n",
              " 'time': 38,\n",
              " 'api': 'tag',\n",
              " 'lang': 'en',\n",
              " 'timestamp': '2025-01-28T10:08:47'}"
            ]
          },
          "metadata": {},
          "execution_count": 20
        }
      ],
      "source": [
        "short_text = \"Italy will not be competing in the 2022 world cup\"\n",
        "resp = query_tagme(short_text)\n",
        "resp"
      ]
    },
    {
      "cell_type": "markdown",
      "id": "008c21bd",
      "metadata": {
        "id": "008c21bd"
      },
      "source": [
        "### Handle longer texts / filtering noisy annotations"
      ]
    },
    {
      "cell_type": "markdown",
      "id": "3298ffde",
      "metadata": {
        "id": "3298ffde"
      },
      "source": [
        "TagME has been designed for handling short texts, but we also have a way to obtain competitive results on longer ones.\n",
        "This requires modifying the window of spots that are checked by TagME when doing disambiguation.\n",
        "\n",
        "Now open a new text file with a slightly longer text and annotate it with TagME"
      ]
    },
    {
      "cell_type": "code",
      "execution_count": null,
      "id": "d39f92ab",
      "metadata": {
        "colab": {
          "base_uri": "https://localhost:8080/",
          "height": 104
        },
        "id": "d39f92ab",
        "outputId": "560eb99b-6ebf-43ee-d2c1-bb35d6f09d3a"
      },
      "outputs": [
        {
          "output_type": "execute_result",
          "data": {
            "text/plain": [
              "'Leonardo da Vinci was an Italian Renaissance polymath whose areas of interest included invention, painting, sculpting, architecture, science, music, mathematics, engineering, literature, anatomy, geology, astronomy, botany, writing, history, and cartography. \\nHe has been variously called the father of palaeontology, ichnology, and architecture, and is widely considered one of the greatest painters of all time. Leonardo is revered for his technological ingenuity. He conceptualised flying machines, a type of armoured fighting vehicle, concentrated solar power, an adding machine, and the double hull.'"
            ],
            "application/vnd.google.colaboratory.intrinsic+json": {
              "type": "string"
            }
          },
          "metadata": {},
          "execution_count": 21
        }
      ],
      "source": [
        "with open(\"Leonardo.txt\", 'r') as long_file:\n",
        "    # the text is not a json object, it is just a plaintext, so just read it regularly with read()\n",
        "    text = long_file.read()\n",
        "text"
      ]
    },
    {
      "cell_type": "markdown",
      "id": "f71d3357",
      "metadata": {
        "id": "f71d3357"
      },
      "source": [
        "Now we will change the tagging function we made before, by adding an optional boolean parameter. If true, this means that the text is long, otherwise it is short and we can avoid changing the window."
      ]
    },
    {
      "cell_type": "code",
      "execution_count": null,
      "id": "de1b9f39",
      "metadata": {
        "id": "de1b9f39"
      },
      "outputs": [],
      "source": [
        "def query_tagme(text, long_text=False):\n",
        "    payload = {\"text\": text, \"gcube-token\": KEY, \"lang\": LANG}\n",
        "    if long_text:\n",
        "        # long_text is by defaul false, but if specified by the user, we set the window size at 5\n",
        "        payload[\"long_text\"] = 5\n",
        "    r = requests.post(TAGME_ENDPOINT, payload)\n",
        "    if r.status_code != 200:\n",
        "        raise Exception(\"Error on text: {}\\n{}\".format(text, r.text))\n",
        "    return r.json()"
      ]
    },
    {
      "cell_type": "markdown",
      "id": "00e7dc7f",
      "metadata": {
        "id": "00e7dc7f"
      },
      "source": [
        "But how do we deal with noisy annotations? TagME gives us a \"content relevance\" score in the form of the **Rho-score**.\n",
        "We can filter the lowest ranked annotations on relevancy to remove noise. A common threshold for this task is 0.3."
      ]
    },
    {
      "cell_type": "code",
      "execution_count": null,
      "id": "41e8f3ab",
      "metadata": {
        "id": "41e8f3ab"
      },
      "outputs": [],
      "source": [
        "# Try changing the min_rho parameter and see how it impacts the returned entities\n",
        "def get_tagme_entities(tagme_response, min_rho=0.3):\n",
        "    ann = tagme_response[\"annotations\"]\n",
        "    ann = [a for a in ann if a[\"rho\"] > min_rho] # filter all the annotations with a rho score lower than the threshold\n",
        "    return [a[\"title\"] for a in ann if \"title\" in a] # return just the page titles"
      ]
    },
    {
      "cell_type": "markdown",
      "id": "d1799d1a",
      "metadata": {
        "id": "d1799d1a"
      },
      "source": [
        "Now see which entities _disappear_ when filtering"
      ]
    },
    {
      "cell_type": "code",
      "execution_count": null,
      "id": "02b543b1",
      "metadata": {
        "colab": {
          "base_uri": "https://localhost:8080/"
        },
        "id": "02b543b1",
        "outputId": "534e1cbf-d76d-405d-87e4-07bd06277f48"
      },
      "outputs": [
        {
          "output_type": "stream",
          "name": "stdout",
          "text": [
            "BEFORE FILTERING\n"
          ]
        },
        {
          "output_type": "execute_result",
          "data": {
            "text/plain": [
              "['Leonardo da Vinci',\n",
              " 'Leonardo da Vinci',\n",
              " 'Italian Renaissance',\n",
              " 'Polymath',\n",
              " 'Attention',\n",
              " 'Invention',\n",
              " 'Painting',\n",
              " 'Sculpture',\n",
              " 'Architecture',\n",
              " 'Science',\n",
              " 'Music and mathematics',\n",
              " 'Engineering',\n",
              " 'Literature',\n",
              " 'Anatomy',\n",
              " 'Geology',\n",
              " 'Astronomy',\n",
              " 'Botany',\n",
              " 'Writing',\n",
              " 'History',\n",
              " 'Cartography',\n",
              " 'Clergy',\n",
              " 'Paleontology',\n",
              " 'Ichnology',\n",
              " 'Architecture',\n",
              " 'Neoplatonism',\n",
              " 'Greatest!',\n",
              " 'Painting',\n",
              " 'Time (magazine)',\n",
              " 'Leonardo da Vinci',\n",
              " 'Canonization',\n",
              " 'Technology',\n",
              " 'Ingenuity',\n",
              " 'Concept',\n",
              " 'Flying Machines s.r.o.',\n",
              " 'Granite',\n",
              " 'Stellar classification',\n",
              " 'Armoured fighting vehicle',\n",
              " 'Concentrated solar power',\n",
              " 'Adding machine',\n",
              " 'Double hull']"
            ]
          },
          "metadata": {},
          "execution_count": 25
        }
      ],
      "source": [
        "print(\"BEFORE FILTERING\")\n",
        "resp = query_tagme(text, long_text=True)\n",
        "before_filtering = [a[\"title\"] for a in resp['annotations'] if \"title\" in a]\n",
        "before_filtering"
      ]
    },
    {
      "cell_type": "code",
      "execution_count": null,
      "id": "ca6fe3a2",
      "metadata": {
        "colab": {
          "base_uri": "https://localhost:8080/"
        },
        "id": "ca6fe3a2",
        "outputId": "86c3cf80-2ea2-42b4-a59f-5e6f1a4222ca"
      },
      "outputs": [
        {
          "output_type": "stream",
          "name": "stdout",
          "text": [
            "AFTER FILTERING\n"
          ]
        },
        {
          "output_type": "execute_result",
          "data": {
            "text/plain": [
              "['Leonardo da Vinci',\n",
              " 'Leonardo da Vinci',\n",
              " 'Italian Renaissance',\n",
              " 'Polymath',\n",
              " 'Music and mathematics',\n",
              " 'Geology',\n",
              " 'Astronomy',\n",
              " 'Botany',\n",
              " 'Cartography',\n",
              " 'Paleontology',\n",
              " 'Ichnology',\n",
              " 'Armoured fighting vehicle',\n",
              " 'Concentrated solar power',\n",
              " 'Adding machine']"
            ]
          },
          "metadata": {},
          "execution_count": 33
        }
      ],
      "source": [
        "print(\"AFTER FILTERING\")\n",
        "after_filtering = get_tagme_entities(resp)\n",
        "after_filtering"
      ]
    },
    {
      "cell_type": "code",
      "execution_count": null,
      "id": "91f04019",
      "metadata": {
        "colab": {
          "base_uri": "https://localhost:8080/"
        },
        "id": "91f04019",
        "outputId": "18b98e1f-f1d1-42ff-83c0-a1b1aaa3864e"
      },
      "outputs": [
        {
          "output_type": "stream",
          "name": "stdout",
          "text": [
            "The annotations that were filtered out are:\n"
          ]
        },
        {
          "output_type": "execute_result",
          "data": {
            "text/plain": [
              "['Attention',\n",
              " 'Invention',\n",
              " 'Painting',\n",
              " 'Sculpture',\n",
              " 'Architecture',\n",
              " 'Science',\n",
              " 'Engineering',\n",
              " 'Literature',\n",
              " 'Anatomy',\n",
              " 'Writing',\n",
              " 'History',\n",
              " 'Clergy',\n",
              " 'Architecture',\n",
              " 'Neoplatonism',\n",
              " 'Greatest!',\n",
              " 'Painting',\n",
              " 'Time (magazine)',\n",
              " 'Canonization',\n",
              " 'Technology',\n",
              " 'Ingenuity',\n",
              " 'Concept',\n",
              " 'Flying Machines s.r.o.',\n",
              " 'Granite',\n",
              " 'Stellar classification',\n",
              " 'Double hull']"
            ]
          },
          "metadata": {},
          "execution_count": 27
        }
      ],
      "source": [
        "print(\"The annotations that were filtered out are:\")\n",
        "[a for a in before_filtering if a not in after_filtering]"
      ]
    },
    {
      "cell_type": "markdown",
      "id": "69ff61e1",
      "metadata": {
        "id": "69ff61e1"
      },
      "source": [
        "### TRY OTHER ANNOTATORS: SWAT"
      ]
    },
    {
      "cell_type": "markdown",
      "id": "948ba75a",
      "metadata": {
        "id": "948ba75a"
      },
      "source": [
        "TagME is not the only available annotator. There are several more, each one with its own strenghts and weaknesses.\n",
        "Most of the available annotators are available at [this](https://sobigdata.d4science.org/web/tagme/service-overview) page on the SoBigData Infrastructure\n",
        "\n",
        "**SWAT** is specifically a salient entity linker, which works best on long, well-constructed texts.\n",
        "The fields returned are:\n",
        "- **salience_class (int)**: 1 if the entity is deemed salient, 0 otherwise\n",
        "- **salience_score (float ∈[𝟎,𝟏])**: the saliency of the enitity in the text (similar to the rho-score in tagme)\n",
        "- **spans (list)**: list of times where this entity appears, they are described as:\n",
        "    - *start (int)*: the index of the starting character of the anchor\n",
        "    - *end (int)*: the index of the ending character of the anchor\n",
        "- **wiki_id (int)**: the Wikipedia identifier of the page\n",
        "- **wiki_title (string)**: title of the Wikipedia page"
      ]
    },
    {
      "cell_type": "code",
      "execution_count": null,
      "id": "08382a6e",
      "metadata": {
        "colab": {
          "base_uri": "https://localhost:8080/"
        },
        "id": "08382a6e",
        "outputId": "121d21e8-1740-42d6-9339-7cbfea1279af"
      },
      "outputs": [
        {
          "output_type": "execute_result",
          "data": {
            "text/plain": [
              "[{'salience_class': 1.0,\n",
              "  'salience_score': 0.9471508264541626,\n",
              "  'spans': [{'end': 17, 'start': 0}, {'end': 422, 'start': 414}],\n",
              "  'wiki_id': 18079,\n",
              "  'wiki_title': 'Leonardo_da_Vinci'},\n",
              " {'salience_class': 1.0,\n",
              "  'salience_score': 0.5190669894218445,\n",
              "  'spans': [{'end': 32, 'start': 25}],\n",
              "  'wiki_id': 14532,\n",
              "  'wiki_title': 'Italy'},\n",
              " {'salience_class': 1.0,\n",
              "  'salience_score': 0.5682003498077393,\n",
              "  'spans': [{'end': 44, 'start': 33}],\n",
              "  'wiki_id': 25532,\n",
              "  'wiki_title': 'Renaissance'},\n",
              " {'salience_class': 0.0,\n",
              "  'salience_score': 0.4803982079029083,\n",
              "  'spans': [{'end': 65, 'start': 60}],\n",
              "  'wiki_id': 9630,\n",
              "  'wiki_title': 'Ecology'},\n",
              " {'salience_class': 0.0,\n",
              "  'salience_score': 0.35197311639785767,\n",
              "  'spans': [{'end': 77, 'start': 69}],\n",
              "  'wiki_id': 146738,\n",
              "  'wiki_title': 'Interest'},\n",
              " {'salience_class': 0.0,\n",
              "  'salience_score': 0.42167073488235474,\n",
              "  'spans': [{'end': 96, 'start': 87}],\n",
              "  'wiki_id': 44312,\n",
              "  'wiki_title': 'Invention'},\n",
              " {'salience_class': 1.0,\n",
              "  'salience_score': 0.6101479530334473,\n",
              "  'spans': [{'end': 106, 'start': 98}, {'end': 400, 'start': 392}],\n",
              "  'wiki_id': 18622193,\n",
              "  'wiki_title': 'Painting'}]"
            ]
          },
          "metadata": {},
          "execution_count": 28
        }
      ],
      "source": [
        "# this is the new URL of the annotator on the SoBigData Infrastructure\n",
        "SWAT_ENDPOINT = \"https://swat.d4science.org/salience\"\n",
        "\n",
        "# SWAT also requires a title of the content\n",
        "def query_swat(title, content):\n",
        "    document = json.dumps({\"title\": title, \"content\": content})\n",
        "    r = requests.post(SWAT_ENDPOINT, data = document, params={'gcube-token': KEY})\n",
        "    if r.status_code != 200:\n",
        "        raise Exception(\"Error on article titled: {}\\n{}\".format(title, r.text))\n",
        "    return r.json()[\"annotations\"]\n",
        "\n",
        "query_swat(\"Leonardo da Vinci\", text)[:7]"
      ]
    },
    {
      "cell_type": "markdown",
      "id": "564a5a82",
      "metadata": {
        "id": "564a5a82"
      },
      "source": [
        "### RELATEDNESS\n",
        "Ok but now that I have entities, how do I deal with them? I need to know which are similar and which are not.\n",
        "If we don't see any way of \"dealing with the entities\", how do we unlock its full potential? How is this method more powerful than dealing with generic words as tokens?\n",
        "\n",
        "There are several ways in which we can obtain the relatedness of couples of entities.\n",
        "The main one that is shown in this notebook is by querying TagME itself. TagME has an internal relatedness computation framework, so I can ask TagME itself how close two entities are to one another. This metric is computed directly on the Wikipedia Knowledge Graph."
      ]
    },
    {
      "cell_type": "code",
      "execution_count": null,
      "id": "82829fed",
      "metadata": {
        "id": "82829fed"
      },
      "outputs": [],
      "source": [
        "# The URL where the relatedness is given\n",
        "ENDPOINT_RELATEDNESS = \"https://tagme.d4science.org/tagme/rel\"\n",
        "\n",
        "# In case I need efficiency I can do batch queries of 100 couples per HTTP call\n",
        "def query_relatedness(e1, e2):\n",
        "    # Entities require underscores in-place of the spaces. The space is between entity one and entity two\n",
        "    tt = e1.replace(\" \", \"_\") + \" \" + e2.replace(\" \", \"_\")\n",
        "    payload = {\"tt\": tt, \"gcube-token\": KEY, \"lang\": LANG}\n",
        "    r = requests.post(ENDPOINT_RELATEDNESS, payload)\n",
        "    if r.status_code != 200:\n",
        "        raise Exception(\"Error on relatedness computation: {}\\n{}\".format(tt, r.text))\n",
        "    return r.json()"
      ]
    },
    {
      "cell_type": "markdown",
      "id": "34c65cb4",
      "metadata": {
        "id": "34c65cb4"
      },
      "source": [
        "Now let's test the relatedness of three entities.\n",
        "Two are closely related to one-another (biology and biotechnology).\n",
        "The last one is completely out of context."
      ]
    },
    {
      "cell_type": "code",
      "execution_count": null,
      "id": "8e252769",
      "metadata": {
        "colab": {
          "base_uri": "https://localhost:8080/"
        },
        "id": "8e252769",
        "outputId": "bc1671b6-3939-42da-a306-57807a611932"
      },
      "outputs": [
        {
          "output_type": "stream",
          "name": "stdout",
          "text": [
            "[{'couple': 'Biology Biotechnology', 'rel': 0.6070536971092224}]\n",
            "[{'couple': 'Barack_Obama Biotechnology', 'rel': 0.23863035440444946}]\n",
            "[{'couple': 'Barack_Obama Biology', 'rel': 0.16491788625717163}]\n"
          ]
        }
      ],
      "source": [
        "first = query_relatedness(\"Biology\", \"Biotechnology\")\n",
        "second = query_relatedness(\"Barack Obama\", \"Biotechnology\")\n",
        "thirds = query_relatedness(\"Barack Obama\", \"Biology\")\n",
        "print(first['result'])\n",
        "print(second['result'])\n",
        "print(thirds['result'])"
      ]
    },
    {
      "cell_type": "markdown",
      "source": [
        "Let us now go back to that sentence we used for the PoS tagging, and see what TagME would find"
      ],
      "metadata": {
        "id": "STJCGg1xb3iw"
      },
      "id": "STJCGg1xb3iw"
    },
    {
      "cell_type": "code",
      "source": [
        "sentence"
      ],
      "metadata": {
        "id": "HkXv_Jjzgmh3",
        "outputId": "8584af43-744b-439b-a9bc-cd7cdbd71606",
        "colab": {
          "base_uri": "https://localhost:8080/",
          "height": 35
        }
      },
      "id": "HkXv_Jjzgmh3",
      "execution_count": null,
      "outputs": [
        {
          "output_type": "execute_result",
          "data": {
            "text/plain": [
              "'He was being opposed by her without any reason.\\t    A plan is being prepared by charles for next project'"
            ],
            "application/vnd.google.colaboratory.intrinsic+json": {
              "type": "string"
            }
          },
          "metadata": {},
          "execution_count": 40
        }
      ]
    },
    {
      "cell_type": "code",
      "source": [
        "resp = query_tagme(sentence)\n",
        "[(a[\"spot\"], a[\"rho\"]) for a in resp[\"annotations\"]]"
      ],
      "metadata": {
        "id": "b9kRj_z6bTx9",
        "outputId": "009b9a10-4b61-4b53-dc6c-a4b3287de867",
        "colab": {
          "base_uri": "https://localhost:8080/"
        }
      },
      "id": "b9kRj_z6bTx9",
      "execution_count": null,
      "outputs": [
        {
          "output_type": "execute_result",
          "data": {
            "text/plain": [
              "[('reason', 0.09262093156576157),\n",
              " ('plan', 0.07667145878076553),\n",
              " ('charles', 0.0429387167096138),\n",
              " ('for next', 0.07545013725757599),\n",
              " ('next', 0.001524612889625132),\n",
              " ('project', 0.04952556639909744)]"
            ]
          },
          "metadata": {},
          "execution_count": 39
        }
      ]
    },
    {
      "cell_type": "markdown",
      "source": [
        "As expected, the results are not exceptional, this is because the phrase has no entities. Let's see a visual representation of the PoS tagging, which works much better in this context."
      ],
      "metadata": {
        "id": "9KfLp2Ygb8OZ"
      },
      "id": "9KfLp2Ygb8OZ"
    }
  ],
  "metadata": {
    "colab": {
      "collapsed_sections": [
        "p8TdXL4BLe2_",
        "008c21bd"
      ],
      "provenance": [],
      "include_colab_link": true
    },
    "kernelspec": {
      "display_name": "Python 3.8.13 ('IR')",
      "language": "python",
      "name": "python3"
    },
    "language_info": {
      "codemirror_mode": {
        "name": "ipython",
        "version": 3
      },
      "file_extension": ".py",
      "mimetype": "text/x-python",
      "name": "python",
      "nbconvert_exporter": "python",
      "pygments_lexer": "ipython3",
      "version": "3.8.13 (default, Mar 28 2022, 06:59:08) [MSC v.1916 64 bit (AMD64)]"
    },
    "vscode": {
      "interpreter": {
        "hash": "c226b66ad212a3c8eabd6b6be3829f40d39277fa7bdc3bf63a77768ea80548ac"
      }
    }
  },
  "nbformat": 4,
  "nbformat_minor": 5
}