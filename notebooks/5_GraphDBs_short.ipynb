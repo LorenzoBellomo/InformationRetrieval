{
  "cells": [
    {
      "cell_type": "markdown",
      "metadata": {
        "colab_type": "text",
        "id": "view-in-github"
      },
      "source": [
        "<a href=\"https://colab.research.google.com/github/LorenzoBellomo/InformationRetrieval/blob/main/notebooks/5_GraphDBs_short.ipynb\" target=\"_parent\"><img src=\"https://colab.research.google.com/assets/colab-badge.svg\" alt=\"Open In Colab\"/></a>"
      ]
    },
    {
      "cell_type": "markdown",
      "metadata": {
        "id": "c9koTTbq31n5"
      },
      "source": [
        "# GraphDBs and Neo4j"
      ]
    },
    {
      "cell_type": "markdown",
      "metadata": {
        "id": "hOI1mQCf4JnO"
      },
      "source": [
        "In this lecture, we focus on GraphDBs, using Neo4j and its language (Cypher) to make some simple queries."
      ]
    },
    {
      "cell_type": "code",
      "execution_count": null,
      "metadata": {
        "colab": {
          "base_uri": "https://localhost:8080/"
        },
        "id": "VX2XAeXiYzRk",
        "outputId": "a68a631d-17a7-4b67-b886-b760b0e132f0"
      },
      "outputs": [
        {
          "name": "stdout",
          "output_type": "stream",
          "text": [
            "Collecting neo4j\n",
            "  Downloading neo4j-5.28.1-py3-none-any.whl.metadata (5.9 kB)\n",
            "Requirement already satisfied: pytz in /usr/local/lib/python3.11/dist-packages (from neo4j) (2025.1)\n",
            "Downloading neo4j-5.28.1-py3-none-any.whl (312 kB)\n",
            "\u001b[2K   \u001b[90m━━━━━━━━━━━━━━━━━━━━━━━━━━━━━━━━━━━━━━━━\u001b[0m \u001b[32m312.3/312.3 kB\u001b[0m \u001b[31m4.7 MB/s\u001b[0m eta \u001b[36m0:00:00\u001b[0m\n",
            "\u001b[?25hInstalling collected packages: neo4j\n",
            "Successfully installed neo4j-5.28.1\n"
          ]
        }
      ],
      "source": [
        "!pip install neo4j"
      ]
    },
    {
      "cell_type": "code",
      "execution_count": null,
      "metadata": {
        "colab": {
          "base_uri": "https://localhost:8080/"
        },
        "id": "0KZFB2bmn8G6",
        "outputId": "fcbe2c77-a7b1-48dc-f4b4-eb467141d9cc"
      },
      "outputs": [
        {
          "name": "stdout",
          "output_type": "stream",
          "text": [
            "Collecting yfiles_jupyter_graphs\n",
            "  Downloading yfiles_jupyter_graphs-1.10.1-py3-none-any.whl.metadata (19 kB)\n",
            "Collecting ipywidgets>=8.0.0 (from yfiles_jupyter_graphs)\n",
            "  Downloading ipywidgets-8.1.5-py3-none-any.whl.metadata (2.3 kB)\n",
            "Collecting comm>=0.1.3 (from ipywidgets>=8.0.0->yfiles_jupyter_graphs)\n",
            "  Downloading comm-0.2.2-py3-none-any.whl.metadata (3.7 kB)\n",
            "Requirement already satisfied: ipython>=6.1.0 in /usr/local/lib/python3.11/dist-packages (from ipywidgets>=8.0.0->yfiles_jupyter_graphs) (7.34.0)\n",
            "Requirement already satisfied: traitlets>=4.3.1 in /usr/local/lib/python3.11/dist-packages (from ipywidgets>=8.0.0->yfiles_jupyter_graphs) (5.7.1)\n",
            "Collecting widgetsnbextension~=4.0.12 (from ipywidgets>=8.0.0->yfiles_jupyter_graphs)\n",
            "  Downloading widgetsnbextension-4.0.13-py3-none-any.whl.metadata (1.6 kB)\n",
            "Requirement already satisfied: jupyterlab-widgets~=3.0.12 in /usr/local/lib/python3.11/dist-packages (from ipywidgets>=8.0.0->yfiles_jupyter_graphs) (3.0.13)\n",
            "Requirement already satisfied: setuptools>=18.5 in /usr/local/lib/python3.11/dist-packages (from ipython>=6.1.0->ipywidgets>=8.0.0->yfiles_jupyter_graphs) (75.1.0)\n",
            "Collecting jedi>=0.16 (from ipython>=6.1.0->ipywidgets>=8.0.0->yfiles_jupyter_graphs)\n",
            "  Downloading jedi-0.19.2-py2.py3-none-any.whl.metadata (22 kB)\n",
            "Requirement already satisfied: decorator in /usr/local/lib/python3.11/dist-packages (from ipython>=6.1.0->ipywidgets>=8.0.0->yfiles_jupyter_graphs) (4.4.2)\n",
            "Requirement already satisfied: pickleshare in /usr/local/lib/python3.11/dist-packages (from ipython>=6.1.0->ipywidgets>=8.0.0->yfiles_jupyter_graphs) (0.7.5)\n",
            "Requirement already satisfied: prompt-toolkit!=3.0.0,!=3.0.1,<3.1.0,>=2.0.0 in /usr/local/lib/python3.11/dist-packages (from ipython>=6.1.0->ipywidgets>=8.0.0->yfiles_jupyter_graphs) (3.0.50)\n",
            "Requirement already satisfied: pygments in /usr/local/lib/python3.11/dist-packages (from ipython>=6.1.0->ipywidgets>=8.0.0->yfiles_jupyter_graphs) (2.18.0)\n",
            "Requirement already satisfied: backcall in /usr/local/lib/python3.11/dist-packages (from ipython>=6.1.0->ipywidgets>=8.0.0->yfiles_jupyter_graphs) (0.2.0)\n",
            "Requirement already satisfied: matplotlib-inline in /usr/local/lib/python3.11/dist-packages (from ipython>=6.1.0->ipywidgets>=8.0.0->yfiles_jupyter_graphs) (0.1.7)\n",
            "Requirement already satisfied: pexpect>4.3 in /usr/local/lib/python3.11/dist-packages (from ipython>=6.1.0->ipywidgets>=8.0.0->yfiles_jupyter_graphs) (4.9.0)\n",
            "Requirement already satisfied: parso<0.9.0,>=0.8.4 in /usr/local/lib/python3.11/dist-packages (from jedi>=0.16->ipython>=6.1.0->ipywidgets>=8.0.0->yfiles_jupyter_graphs) (0.8.4)\n",
            "Requirement already satisfied: ptyprocess>=0.5 in /usr/local/lib/python3.11/dist-packages (from pexpect>4.3->ipython>=6.1.0->ipywidgets>=8.0.0->yfiles_jupyter_graphs) (0.7.0)\n",
            "Requirement already satisfied: wcwidth in /usr/local/lib/python3.11/dist-packages (from prompt-toolkit!=3.0.0,!=3.0.1,<3.1.0,>=2.0.0->ipython>=6.1.0->ipywidgets>=8.0.0->yfiles_jupyter_graphs) (0.2.13)\n",
            "Downloading yfiles_jupyter_graphs-1.10.1-py3-none-any.whl (15.6 MB)\n",
            "\u001b[2K   \u001b[90m━━━━━━━━━━━━━━━━━━━━━━━━━━━━━━━━━━━━━━━━\u001b[0m \u001b[32m15.6/15.6 MB\u001b[0m \u001b[31m86.2 MB/s\u001b[0m eta \u001b[36m0:00:00\u001b[0m\n",
            "\u001b[?25hDownloading ipywidgets-8.1.5-py3-none-any.whl (139 kB)\n",
            "\u001b[2K   \u001b[90m━━━━━━━━━━━━━━━━━━━━━━━━━━━━━━━━━━━━━━━━\u001b[0m \u001b[32m139.8/139.8 kB\u001b[0m \u001b[31m11.1 MB/s\u001b[0m eta \u001b[36m0:00:00\u001b[0m\n",
            "\u001b[?25hDownloading comm-0.2.2-py3-none-any.whl (7.2 kB)\n",
            "Downloading widgetsnbextension-4.0.13-py3-none-any.whl (2.3 MB)\n",
            "\u001b[2K   \u001b[90m━━━━━━━━━━━━━━━━━━━━━━━━━━━━━━━━━━━━━━━━\u001b[0m \u001b[32m2.3/2.3 MB\u001b[0m \u001b[31m71.9 MB/s\u001b[0m eta \u001b[36m0:00:00\u001b[0m\n",
            "\u001b[?25hDownloading jedi-0.19.2-py2.py3-none-any.whl (1.6 MB)\n",
            "\u001b[2K   \u001b[90m━━━━━━━━━━━━━━━━━━━━━━━━━━━━━━━━━━━━━━━━\u001b[0m \u001b[32m1.6/1.6 MB\u001b[0m \u001b[31m59.7 MB/s\u001b[0m eta \u001b[36m0:00:00\u001b[0m\n",
            "\u001b[?25hInstalling collected packages: widgetsnbextension, jedi, comm, ipywidgets, yfiles_jupyter_graphs\n",
            "  Attempting uninstall: widgetsnbextension\n",
            "    Found existing installation: widgetsnbextension 3.6.10\n",
            "    Uninstalling widgetsnbextension-3.6.10:\n",
            "      Successfully uninstalled widgetsnbextension-3.6.10\n",
            "  Attempting uninstall: ipywidgets\n",
            "    Found existing installation: ipywidgets 7.7.1\n",
            "    Uninstalling ipywidgets-7.7.1:\n",
            "      Successfully uninstalled ipywidgets-7.7.1\n",
            "Successfully installed comm-0.2.2 ipywidgets-8.1.5 jedi-0.19.2 widgetsnbextension-4.0.13 yfiles_jupyter_graphs-1.10.1\n"
          ]
        }
      ],
      "source": [
        "!pip install yfiles_jupyter_graphs"
      ]
    },
    {
      "cell_type": "code",
      "execution_count": null,
      "metadata": {
        "id": "swGnovUYZAvw"
      },
      "outputs": [],
      "source": [
        "from neo4j import GraphDatabase"
      ]
    },
    {
      "cell_type": "markdown",
      "metadata": {
        "id": "iHDFhilmZdHy"
      },
      "source": [
        "Go to the neo4j sandbox and click on the box \"blank project\" ([https://sandbox.neo4j.com/](https://sandbox.neo4j.com/)). After the sandbox has been created, click on the rightmost black arrow, click on \"connections details\", and copy the BOLT URL and password in the command just below"
      ]
    },
    {
      "cell_type": "code",
      "execution_count": null,
      "metadata": {
        "colab": {
          "base_uri": "https://localhost:8080/"
        },
        "id": "haYXpov8ZOwT",
        "outputId": "7f27270a-a2ab-480c-9150-feb78fa3a049"
      },
      "outputs": [
        {
          "data": {
            "text/plain": [
              "EagerResult(records=[], summary=<neo4j._work.summary.ResultSummary object at 0x7d1d025867d0>, keys=[])"
            ]
          },
          "execution_count": 5,
          "metadata": {},
          "output_type": "execute_result"
        }
      ],
      "source": [
        "driver = GraphDatabase.driver(\"<INSERT BOLT URL>\", auth=(\"neo4j\", \"<INSERT PASSWORD>\"))\n",
        "session = driver.session(database=\"neo4j\")\n",
        "driver.execute_query(\"MATCH (n) DETACH DELETE n  \") # purging eventual graphs already loaded"
      ]
    },
    {
      "cell_type": "markdown",
      "metadata": {
        "id": "URc4VOWZ3u0h"
      },
      "source": [
        "Now we are ready to populate the graph"
      ]
    },
    {
      "cell_type": "code",
      "execution_count": null,
      "metadata": {
        "colab": {
          "base_uri": "https://localhost:8080/"
        },
        "id": "09ucD4jpaFTL",
        "outputId": "949a0108-4e51-41f2-843b-c1d6240e093f"
      },
      "outputs": [
        {
          "data": {
            "text/plain": [
              "EagerResult(records=[], summary=<neo4j._work.summary.ResultSummary object at 0x7d1d0259b090>, keys=[])"
            ]
          },
          "execution_count": 6,
          "metadata": {},
          "output_type": "execute_result"
        }
      ],
      "source": [
        "driver.execute_query(\n",
        "    \"CREATE (john:Person {name: \\\"John\\\"})   \\\n",
        "    CREATE (joe:Person {name: \\\"Joe\\\"})      \\\n",
        "    CREATE (steve:Person {name: \\\"Steve\\\"})  \\\n",
        "    CREATE (sara:Person {name: \\\"Sara\\\"})    \\\n",
        "    CREATE (maria:Person {name: \\\"Maria\\\"})  \\\n",
        "    CREATE (john)-[:FRIEND]->(joe)-[:FRIEND]->(steve)    \\\n",
        "    CREATE (john)-[:FRIEND]->(sara)-[:FRIEND]->(maria)   \\\n",
        "\")"
      ]
    },
    {
      "cell_type": "code",
      "execution_count": null,
      "metadata": {
        "id": "GZ5v_dFLachq"
      },
      "outputs": [],
      "source": [
        "records, summary, keys = driver.execute_query(\"MATCH (n) return n\") # n is reserved to access nodes"
      ]
    },
    {
      "cell_type": "markdown",
      "metadata": {
        "id": "4TbrlLiK4ZN-"
      },
      "source": [
        "Let's print the results, results are a list of \"node entries\". To access them we need to use the \"name\" of the variable that we used in the query (n)"
      ]
    },
    {
      "cell_type": "code",
      "execution_count": null,
      "metadata": {
        "colab": {
          "base_uri": "https://localhost:8080/"
        },
        "id": "gTF_ChCTdG3i",
        "outputId": "7a8a8f9b-2d88-42be-c933-ac87f74ce504"
      },
      "outputs": [
        {
          "name": "stdout",
          "output_type": "stream",
          "text": [
            "Person node with name Maria\n",
            "Person node with name John\n",
            "Person node with name Joe\n",
            "Person node with name Steve\n",
            "Person node with name Sara\n"
          ]
        }
      ],
      "source": [
        "for record in records:\n",
        "    # iterating over all nodes\n",
        "    elem = record[\"n\"]\n",
        "    print(\"{} node with name {}\".format(list(elem.labels)[0], elem[\"name\"])) # neo4j supports multiple labels (types) per node and edge"
      ]
    },
    {
      "cell_type": "code",
      "execution_count": null,
      "metadata": {
        "colab": {
          "base_uri": "https://localhost:8080/"
        },
        "id": "adKX_ju0uV--",
        "outputId": "1e27b720-6a0b-4182-c3b1-e35dde42a6a5"
      },
      "outputs": [
        {
          "name": "stdout",
          "output_type": "stream",
          "text": [
            "KEYS:  ['n']\n",
            "SUMMARY (counters):  {}\n",
            "SUMMARY (args):  None\n"
          ]
        }
      ],
      "source": [
        "print(\"KEYS: \", keys)\n",
        "# Here is the documentationo of all that you can find on the Summary object (https://neo4j.com/docs/python-manual/5/result-summary/)"
      ]
    },
    {
      "cell_type": "markdown",
      "metadata": {
        "id": "cOtaU2bc4hNv"
      },
      "source": [
        "Let's use this widget library to see the graph visually (for ease of understanding)"
      ]
    },
    {
      "cell_type": "code",
      "execution_count": null,
      "metadata": {
        "colab": {
          "base_uri": "https://localhost:8080/",
          "height": 517,
          "referenced_widgets": [
            "de93c836f1e24d87b49d646d23834e89",
            "c8aeb7e3aa464174b7ab272587516ae8"
          ]
        },
        "id": "NmQw2EA0n5RI",
        "outputId": "c572e76d-034c-46f3-f147-c2f9091cbeb1"
      },
      "outputs": [
        {
          "data": {
            "application/vnd.jupyter.widget-view+json": {
              "model_id": "de93c836f1e24d87b49d646d23834e89",
              "version_major": 2,
              "version_minor": 0
            },
            "text/plain": [
              "GraphWidget(layout=Layout(height='500px', width='100%'))"
            ]
          },
          "metadata": {
            "application/vnd.jupyter.widget-view+json": {
              "colab": {
                "custom_widget_manager": {
                  "url": "https://ssl.gstatic.com/colaboratory-static/widgets/colab-cdn-widget-manager/2b70e893a8ba7c0f/manager.min.js"
                }
              }
            }
          },
          "output_type": "display_data"
        }
      ],
      "source": [
        "from yfiles_jupyter_graphs import GraphWidget\n",
        "from google.colab import output\n",
        "output.enable_custom_widget_manager()\n",
        "def draw_graph():\n",
        "    g = session.run(\"MATCH (n) -[e]-> (m) return n, m, e\").graph()\n",
        "    gw = GraphWidget(graph=g)\n",
        "    return gw\n",
        "\n",
        "draw_graph()"
      ]
    },
    {
      "cell_type": "markdown",
      "metadata": {
        "id": "DmHtTFES4sQ_"
      },
      "source": [
        "Now we try to add a new edge from nodes \"Sara\" and \"Joe\""
      ]
    },
    {
      "cell_type": "code",
      "execution_count": null,
      "metadata": {
        "colab": {
          "base_uri": "https://localhost:8080/",
          "height": 517,
          "referenced_widgets": [
            "2884f284173248feaecbe940793fa22c",
            "e43f5c507c0b4ed0b0245d2ed61ad7be"
          ]
        },
        "id": "YuVnKfFVl6fW",
        "outputId": "3ef7cd5d-f31a-4f2f-bea7-340474158ca6"
      },
      "outputs": [
        {
          "data": {
            "application/vnd.jupyter.widget-view+json": {
              "model_id": "2884f284173248feaecbe940793fa22c",
              "version_major": 2,
              "version_minor": 0
            },
            "text/plain": [
              "GraphWidget(layout=Layout(height='500px', width='100%'))"
            ]
          },
          "metadata": {
            "application/vnd.jupyter.widget-view+json": {
              "colab": {
                "custom_widget_manager": {
                  "url": "https://ssl.gstatic.com/colaboratory-static/widgets/colab-cdn-widget-manager/2b70e893a8ba7c0f/manager.min.js"
                }
              }
            }
          },
          "output_type": "display_data"
        }
      ],
      "source": [
        "results = driver.execute_query(\"CREATE (j:Person {name: \\\"Sara\\\"})-[rel:FRIEND]->(m:Person {name: \\\"Joe\\\"})  \")\n",
        "draw_graph()"
      ]
    },
    {
      "cell_type": "markdown",
      "metadata": {
        "id": "Zpaz0Scm4xXJ"
      },
      "source": [
        "Oops, we meessed up, we did not \"bind\" the two names to the nodes already present. First, let's delete the two new nodes we created."
      ]
    },
    {
      "cell_type": "code",
      "execution_count": null,
      "metadata": {
        "colab": {
          "base_uri": "https://localhost:8080/",
          "height": 589,
          "referenced_widgets": [
            "20186f39e0ef4860af26ed7ab5683bb0",
            "7de58ba5224b44da9bf96aafb0d09531"
          ]
        },
        "id": "iXfRo3twt3QL",
        "outputId": "47d8f216-0862-4e49-e4bf-1bb9140505e5"
      },
      "outputs": [
        {
          "name": "stdout",
          "output_type": "stream",
          "text": [
            "<Record n=<Node element_id='4:1584a58c-6298-4af9-ac3f-2dab48b8bfb1:5' labels=frozenset({'Person'}) properties={'name': 'Sara'}> m=<Node element_id='4:1584a58c-6298-4af9-ac3f-2dab48b8bfb1:6' labels=frozenset({'Person'}) properties={'name': 'Joe'}>>\n",
            "4:1584a58c-6298-4af9-ac3f-2dab48b8bfb1:5\n",
            "4:1584a58c-6298-4af9-ac3f-2dab48b8bfb1:6\n"
          ]
        },
        {
          "data": {
            "application/vnd.jupyter.widget-view+json": {
              "model_id": "20186f39e0ef4860af26ed7ab5683bb0",
              "version_major": 2,
              "version_minor": 0
            },
            "text/plain": [
              "GraphWidget(layout=Layout(height='500px', width='100%'))"
            ]
          },
          "metadata": {
            "application/vnd.jupyter.widget-view+json": {
              "colab": {
                "custom_widget_manager": {
                  "url": "https://ssl.gstatic.com/colaboratory-static/widgets/colab-cdn-widget-manager/2b70e893a8ba7c0f/manager.min.js"
                }
              }
            }
          },
          "output_type": "display_data"
        }
      ],
      "source": [
        "results = (driver.execute_query(\"MATCH (n {name: \\\"Sara\\\"}) -[]-> (m {name: \\\"Joe\\\"}) RETURN n, m\"))\n",
        "res = results[0][0]\n",
        "print(res)\n",
        "print(res[\"n\"].element_id)\n",
        "print(res[\"m\"].element_id)\n",
        "driver.execute_query(\"MATCH (n) where elementId(n)=$id DETACH DELETE n  \", id=res[\"n\"].element_id)\n",
        "driver.execute_query(\"MATCH (n) where elementId(n)=$id DETACH DELETE n  \", id=res[\"m\"].element_id)\n",
        "draw_graph()"
      ]
    },
    {
      "cell_type": "markdown",
      "metadata": {
        "id": "maIV48cd5qmh"
      },
      "source": [
        "To actually add the edge we wanted to add, we need to use the \"MERGE\" statement"
      ]
    },
    {
      "cell_type": "code",
      "execution_count": null,
      "metadata": {
        "colab": {
          "base_uri": "https://localhost:8080/",
          "height": 517,
          "referenced_widgets": [
            "9538ed2e73984de3880914f3c5c2d271",
            "ff9b03f098924007912d400199c77c9d"
          ]
        },
        "id": "KTvPlteHyxIf",
        "outputId": "4c79125b-ea0c-43ff-ec21-8ffe44268392"
      },
      "outputs": [
        {
          "data": {
            "application/vnd.jupyter.widget-view+json": {
              "model_id": "9538ed2e73984de3880914f3c5c2d271",
              "version_major": 2,
              "version_minor": 0
            },
            "text/plain": [
              "GraphWidget(layout=Layout(height='500px', width='100%'))"
            ]
          },
          "metadata": {
            "application/vnd.jupyter.widget-view+json": {
              "colab": {
                "custom_widget_manager": {
                  "url": "https://ssl.gstatic.com/colaboratory-static/widgets/colab-cdn-widget-manager/2b70e893a8ba7c0f/manager.min.js"
                }
              }
            }
          },
          "output_type": "display_data"
        }
      ],
      "source": [
        "driver.execute_query(\"MATCH (j:Person {name: \\\"Sara\\\"})  MATCH (m:Person {name: \\\"Joe\\\"})  MERGE (j)-[r:FRIEND]->(m)\")\n",
        "draw_graph()"
      ]
    },
    {
      "cell_type": "markdown",
      "metadata": {
        "id": "69hAWePp5yND"
      },
      "source": [
        "Let's now add two countries, and let's connect our nodes to those countries"
      ]
    },
    {
      "cell_type": "code",
      "execution_count": null,
      "metadata": {
        "colab": {
          "base_uri": "https://localhost:8080/",
          "height": 517,
          "referenced_widgets": [
            "1fccf1d23b314147b7c36f1785a7325f",
            "4cb32b76c18d4150a744d9a6a39e9454"
          ]
        },
        "id": "ld5tYmTlzFNi",
        "outputId": "8a594633-630a-4b35-eb3a-890e53b2b2c3"
      },
      "outputs": [
        {
          "data": {
            "application/vnd.jupyter.widget-view+json": {
              "model_id": "1fccf1d23b314147b7c36f1785a7325f",
              "version_major": 2,
              "version_minor": 0
            },
            "text/plain": [
              "GraphWidget(layout=Layout(height='500px', width='100%'))"
            ]
          },
          "metadata": {
            "application/vnd.jupyter.widget-view+json": {
              "colab": {
                "custom_widget_manager": {
                  "url": "https://ssl.gstatic.com/colaboratory-static/widgets/colab-cdn-widget-manager/2b70e893a8ba7c0f/manager.min.js"
                }
              }
            }
          },
          "output_type": "display_data"
        }
      ],
      "source": [
        "driver.execute_query(\"CREATE (:Country {name: \\\"Australia\\\"})  CREATE (:Country {name: \\\"Germany\\\"}) \")\n",
        "driver.execute_query(\"MATCH (j:Person {name: \\\"Sara\\\"})  MATCH (l:Country {name: \\\"Germany\\\"})  MERGE (j)-[r:LIVES_IN]->(l) \")\n",
        "driver.execute_query(\"MATCH (j:Person {name: \\\"Maria\\\"})  MATCH (l:Country {name: \\\"Germany\\\"})  MERGE (j)-[r:LIVES_IN]->(l) \")\n",
        "driver.execute_query(\"MATCH (j:Person {name: \\\"John\\\"})  MATCH (l:Country {name: \\\"Germany\\\"})  MERGE (j)-[r:LIVES_IN]->(l) \")\n",
        "driver.execute_query(\"MATCH (j:Person {name: \\\"Joe\\\"})  MATCH (l:Country {name: \\\"Australia\\\"})  MERGE (j)-[r:LIVES_IN]->(l) \")\n",
        "driver.execute_query(\"MATCH (j:Person {name: \\\"Steve\\\"})  MATCH (l:Country {name: \\\"Australia\\\"})  MERGE (j)-[r:LIVES_IN]->(l) \")\n",
        "draw_graph()"
      ]
    },
    {
      "cell_type": "markdown",
      "metadata": {
        "id": "viPeGwMx54HU"
      },
      "source": [
        "Testing regex in the query"
      ]
    },
    {
      "cell_type": "code",
      "execution_count": null,
      "metadata": {
        "colab": {
          "base_uri": "https://localhost:8080/"
        },
        "id": "wcu1V-x8zsV4",
        "outputId": "e5761beb-47a4-496a-a4e3-d7f1f96b1182"
      },
      "outputs": [
        {
          "name": "stdout",
          "output_type": "stream",
          "text": [
            "John\n",
            "Joe\n"
          ]
        }
      ],
      "source": [
        "results = driver.execute_query(\"MATCH (p:Person) WHERE p.name =~ 'Jo.*' RETURN p.name  \")\n",
        "for res in results[0]:\n",
        "    print(res[\"p.name\"])"
      ]
    },
    {
      "cell_type": "markdown",
      "metadata": {
        "id": "whvpflWx57FD"
      },
      "source": [
        "Testing the \"exists\" keyword"
      ]
    },
    {
      "cell_type": "code",
      "execution_count": null,
      "metadata": {
        "id": "nQTbZS8Rz7Xw"
      },
      "outputs": [],
      "source": [
        "results = driver.execute_query(\"MATCH (p:Person)-[r:FRIEND]->(m:Person)  WHERE exists((m)-[:FRIEND]->(p))  RETURN m, p \")\n",
        "for res in results[0]:\n",
        "    print(res[\"m\"][\"name\"], \" -> \", res[\"p\"][\"name\"])"
      ]
    },
    {
      "cell_type": "markdown",
      "metadata": {
        "id": "GnV3aDBgVIGc"
      },
      "source": [
        "aggregate and count"
      ]
    },
    {
      "cell_type": "code",
      "execution_count": null,
      "metadata": {
        "colab": {
          "base_uri": "https://localhost:8080/"
        },
        "id": "i9OyRtyv1TsZ",
        "outputId": "c2e765fa-d05f-4acd-c40c-eed32f8c8eaf"
      },
      "outputs": [
        {
          "name": "stdout",
          "output_type": "stream",
          "text": [
            "John has 2 friends ['Joe', 'Sara']\n",
            "Joe has 1 friends ['Steve']\n",
            "Sara has 2 friends ['Joe', 'Maria']\n"
          ]
        }
      ],
      "source": [
        "# we use the keyword \"as\" to name the adjacency list (retrieved with collect) and its size (retrieved with count)\n",
        "results = driver.execute_query(\"MATCH (p1:Person)-[:FRIEND]->(p2:Person) RETURN p1.name, collect(p2.name) as listOfFriends, count(*) as numberOfFriends\")\n",
        "for res in results[0]:\n",
        "  print(\"{} has {} friends {}\".format(res[\"p1.name\"], res[\"numberOfFriends\"], res[\"listOfFriends\"]))"
      ]
    },
    {
      "cell_type": "markdown",
      "metadata": {
        "id": "nrQeWB8Q5_JH"
      },
      "source": [
        "Let's now check how directed edges work. This next query uses unidirect edges (-[related_to]-).\n",
        "\n",
        "Try changing it to directed ones (-[related_to]->)."
      ]
    },
    {
      "cell_type": "code",
      "execution_count": null,
      "metadata": {
        "colab": {
          "base_uri": "https://localhost:8080/"
        },
        "id": "j_U0Jaiu4t79",
        "outputId": "44777c59-95e5-485c-c44f-da4a05ed6af0"
      },
      "outputs": [
        {
          "name": "stdout",
          "output_type": "stream",
          "text": [
            "Maria -[FRIEND]-> Sara (Person)\n",
            "Maria -[LIVES_IN]-> Germany (Country)\n"
          ]
        }
      ],
      "source": [
        "results = driver.execute_query(\"MATCH (p:Person {name: \\\"Maria\\\"})-[y]-(x)  return x.name, type(y), Labels(x)[0]\")\n",
        "for res in results[0]:\n",
        "  print(\"Maria -[{}]-> {} ({})\".format(res[\"type(y)\"], res[\"x.name\"], res[\"Labels(x)[0]\"]))"
      ]
    },
    {
      "cell_type": "markdown",
      "metadata": {
        "id": "r4QdwZF06Kxn"
      },
      "source": [
        "indirect paths of max length 2 from Maria"
      ]
    },
    {
      "cell_type": "code",
      "execution_count": null,
      "metadata": {
        "colab": {
          "base_uri": "https://localhost:8080/",
          "height": 517,
          "referenced_widgets": [
            "243e6be421914a50ab2c1c7787ceda7f",
            "8fb52a20c26a4f2fbe9aeee5240d4468"
          ]
        },
        "id": "axgOkqxXWlyY",
        "outputId": "7d7dfa54-f42e-42cb-fbf6-1725d6a1bcc4"
      },
      "outputs": [
        {
          "data": {
            "application/vnd.jupyter.widget-view+json": {
              "model_id": "243e6be421914a50ab2c1c7787ceda7f",
              "version_major": 2,
              "version_minor": 0
            },
            "text/plain": [
              "GraphWidget(layout=Layout(height='500px', width='100%'))"
            ]
          },
          "metadata": {
            "application/vnd.jupyter.widget-view+json": {
              "colab": {
                "custom_widget_manager": {
                  "url": "https://ssl.gstatic.com/colaboratory-static/widgets/colab-cdn-widget-manager/2b70e893a8ba7c0f/manager.min.js"
                }
              }
            }
          },
          "output_type": "display_data"
        }
      ],
      "source": [
        "draw_graph()"
      ]
    },
    {
      "cell_type": "code",
      "execution_count": null,
      "metadata": {
        "colab": {
          "base_uri": "https://localhost:8080/"
        },
        "id": "M2hKCqMT-WXl",
        "outputId": "e07bdbb6-ee26-4463-a6d6-77ffaffb5700"
      },
      "outputs": [
        {
          "name": "stdout",
          "output_type": "stream",
          "text": [
            "Sara\n",
            "Germany\n",
            "Joe\n",
            "John\n"
          ]
        }
      ],
      "source": [
        "results = driver.execute_query(\"MATCH (p:Person {name: \\\"Maria\\\"})-[*1..2]-(x)  return DISTINCT x \")\n",
        "for res in results[0]:\n",
        "  print(res[\"x\"][\"name\"])"
      ]
    },
    {
      "cell_type": "markdown",
      "metadata": {
        "id": "60p5yW5-65yE"
      },
      "source": [
        "direct paths of max length 2 from Maria"
      ]
    },
    {
      "cell_type": "code",
      "execution_count": null,
      "metadata": {
        "colab": {
          "base_uri": "https://localhost:8080/"
        },
        "id": "hq1lEouD-jjf",
        "outputId": "20367f8f-7043-4136-badb-0421820f136c"
      },
      "outputs": [
        {
          "name": "stdout",
          "output_type": "stream",
          "text": [
            "Germany\n"
          ]
        }
      ],
      "source": [
        "results = driver.execute_query(\"MATCH (p:Person {name: \\\"Maria\\\"})-[*1..2]->(x)  return DISTINCT x \")\n",
        "for res in results[0]:\n",
        "  print(res[\"x\"][\"name\"])"
      ]
    },
    {
      "cell_type": "markdown",
      "metadata": {
        "id": "qSbY6CM26_do"
      },
      "source": [
        "Check the database schema, to see which kind of edges connect which kinds of nodes"
      ]
    },
    {
      "cell_type": "code",
      "execution_count": null,
      "metadata": {
        "colab": {
          "base_uri": "https://localhost:8080/",
          "height": 517,
          "referenced_widgets": [
            "75dab6cac6894a079f8bac13b2c687ad",
            "fe38dbf5c22146489d643d2e1abe7a2f"
          ]
        },
        "id": "Rmh2bfwk-nzP",
        "outputId": "558e3320-7e67-433f-dc66-ca0c6198d680"
      },
      "outputs": [
        {
          "data": {
            "application/vnd.jupyter.widget-view+json": {
              "model_id": "75dab6cac6894a079f8bac13b2c687ad",
              "version_major": 2,
              "version_minor": 0
            },
            "text/plain": [
              "GraphWidget(layout=Layout(height='500px', width='100%'))"
            ]
          },
          "metadata": {
            "application/vnd.jupyter.widget-view+json": {
              "colab": {
                "custom_widget_manager": {
                  "url": "https://ssl.gstatic.com/colaboratory-static/widgets/colab-cdn-widget-manager/2b70e893a8ba7c0f/manager.min.js"
                }
              }
            }
          },
          "output_type": "display_data"
        }
      ],
      "source": [
        "g = session.run(\"CALL db.schema.visualization()\").graph()\n",
        "GraphWidget(graph=g)"
      ]
    },
    {
      "cell_type": "markdown",
      "metadata": {
        "id": "_0GiKPXe7Em9"
      },
      "source": [
        "To run large scale data science algorithms, we need to create an in-memory projection of our graph"
      ]
    },
    {
      "cell_type": "code",
      "execution_count": null,
      "metadata": {
        "colab": {
          "base_uri": "https://localhost:8080/"
        },
        "id": "SWCsB9-fATYP",
        "outputId": "eaa02b42-1843-4e6c-fa29-090780cbfa03"
      },
      "outputs": [
        {
          "name": "stdout",
          "output_type": "stream",
          "text": [
            "[<Record graph='in_memory_graph' nodeProjection={'Country': {'label': 'Country', 'properties': {}}, 'Person': {'label': 'Person', 'properties': {}}} nodes=7 rels=10>]\n"
          ]
        }
      ],
      "source": [
        "# \"in_memory_graph\" is the name we assign to the RAM projection of our graph\n",
        "results = driver.execute_query(\"CALL gds.graph.project(\\'in_memory_graph\\', \\\n",
        "    [\\'Person\\', \\'Country\\'], [\\'FRIEND\\', \\'LIVES_IN\\'])  \\\n",
        "    YIELD graphName AS graph, nodeProjection, nodeCount AS nodes, relationshipCount AS rels  \")\n",
        "print(results[0])"
      ]
    },
    {
      "cell_type": "markdown",
      "metadata": {
        "id": "h7BK5tPQ7-k_"
      },
      "source": [
        "let's compute the page rank of all nodes. Higher pagerank nodes are \"more important\" ones."
      ]
    },
    {
      "cell_type": "code",
      "execution_count": null,
      "metadata": {
        "colab": {
          "base_uri": "https://localhost:8080/"
        },
        "id": "oV-7aGNHBV4u",
        "outputId": "166a8829-9a67-4d61-f8ec-e008c26dc772"
      },
      "outputs": [
        {
          "name": "stdout",
          "output_type": "stream",
          "text": [
            "Australia  -  Country  -  0.47\n",
            "Germany  -  Country  -  0.42\n",
            "Steve  -  Person  -  0.25\n",
            "Joe  -  Person  -  0.25\n",
            "Maria  -  Person  -  0.2\n",
            "Sara  -  Person  -  0.19\n",
            "John  -  Person  -  0.15\n"
          ]
        }
      ],
      "source": [
        "results = driver.execute_query(\"\"\"CALL gds.pageRank.stream(\\'in_memory_graph\\')\n",
        "    YIELD nodeId, score WITH gds.util.asNode(nodeId) AS n,score AS pageRank\n",
        "    RETURN n.name AS name, Labels(n)[0] AS type, pageRank ORDER BY pageRank DESC \"\"\")\n",
        "for res in results[0]:\n",
        "  # sorted by decreasing page rank\n",
        "  print(res[\"name\"], \" - \", res[\"type\"], \" - \", round(res[\"pageRank\"]*100)/100)"
      ]
    },
    {
      "cell_type": "markdown",
      "metadata": {
        "id": "DsJsSgQi8SxB"
      },
      "source": [
        "Let's also compute the shortest path between John and Maria"
      ]
    },
    {
      "cell_type": "code",
      "execution_count": null,
      "metadata": {
        "colab": {
          "base_uri": "https://localhost:8080/"
        },
        "id": "-LlLg04VCDL9",
        "outputId": "4355cb32-2ffb-43c4-c37a-11fe137c1cc6"
      },
      "outputs": [
        {
          "name": "stdout",
          "output_type": "stream",
          "text": [
            "PATH is ['John', 'Sara', 'Maria'] (its incremental cost is [0.0, 1.0, 2.0], for a total cost of 2.0)\n"
          ]
        }
      ],
      "source": [
        "results = driver.execute_query(\"\"\"MATCH (source:Person {name: \\'John\\'}) MATCH (target:Person {name: \\'Maria\\'})\n",
        "    CALL gds.shortestPath.dijkstra.stream(\\'in_memory_graph\\', {    sourceNode: source,\n",
        "    targetNode: target}) YIELD index, sourceNode, targetNode, totalCost, nodeIds, costs, path\n",
        "    RETURN    index, totalCost, [nodeId IN nodeIds | gds.util.asNode(nodeId).name] AS nodeNames,\n",
        "    costs ORDER BY index\"\"\")\n",
        "\n",
        "for res in results[0]:\n",
        "    print(\"PATH is {} (its incremental cost is {}, for a total cost of {})\".format(res[\"nodeNames\"], res[\"costs\"], res[\"totalCost\"]))"
      ]
    }
  ],
  "metadata": {
    "colab": {
      "authorship_tag": "ABX9TyPOWrjjFTgSryQksoBCW2Pp",
      "include_colab_link": true,
      "provenance": []
    },
    "kernelspec": {
      "display_name": "Python 3",
      "name": "python3"
    },
    "language_info": {
      "name": "python"
    },
    "widgets": {
      "application/vnd.jupyter.widget-state+json": {
        "1fccf1d23b314147b7c36f1785a7325f": {
          "model_module": "yfiles-jupyter-graphs",
          "model_module_version": "^1.10.1",
          "model_name": "GraphModel",
          "state": {
            "_context_pane_mapping": [
              {
                "id": "Neighborhood",
                "title": "Neighborhood"
              },
              {
                "id": "Data",
                "title": "Data"
              },
              {
                "id": "Search",
                "title": "Search"
              },
              {
                "id": "About",
                "title": "About"
              }
            ],
            "_data_importer": "neo4j",
            "_directed": true,
            "_dom_classes": [],
            "_edges": [
              {
                "color": "#F44336",
                "directed": true,
                "end": 1,
                "id": 1152921504606847000,
                "label": "FRIEND",
                "properties": {
                  "label": "FRIEND"
                },
                "start": 0,
                "styles": {},
                "thickness_factor": 1
              },
              {
                "color": "#F44336",
                "directed": true,
                "end": 3,
                "id": 1155173304420532200,
                "label": "FRIEND",
                "properties": {
                  "label": "FRIEND"
                },
                "start": 0,
                "styles": {},
                "thickness_factor": 1
              },
              {
                "color": "#607D8B",
                "directed": true,
                "end": 6,
                "id": 1152922604118474800,
                "label": "LIVES_IN",
                "properties": {
                  "label": "LIVES_IN"
                },
                "start": 0,
                "styles": {},
                "thickness_factor": 1
              },
              {
                "color": "#F44336",
                "directed": true,
                "end": 2,
                "id": 1152921504606847000,
                "label": "FRIEND",
                "properties": {
                  "label": "FRIEND"
                },
                "start": 1,
                "styles": {},
                "thickness_factor": 1
              },
              {
                "color": "#607D8B",
                "directed": true,
                "end": 5,
                "id": 1152922604118474800,
                "label": "LIVES_IN",
                "properties": {
                  "label": "LIVES_IN"
                },
                "start": 1,
                "styles": {},
                "thickness_factor": 1
              },
              {
                "color": "#607D8B",
                "directed": true,
                "end": 5,
                "id": 1152922604118474800,
                "label": "LIVES_IN",
                "properties": {
                  "label": "LIVES_IN"
                },
                "start": 2,
                "styles": {},
                "thickness_factor": 1
              },
              {
                "color": "#F44336",
                "directed": true,
                "end": 1,
                "id": 1157425104234217500,
                "label": "FRIEND",
                "properties": {
                  "label": "FRIEND"
                },
                "start": 3,
                "styles": {},
                "thickness_factor": 1
              },
              {
                "color": "#F44336",
                "directed": true,
                "end": 4,
                "id": 1152921504606847000,
                "label": "FRIEND",
                "properties": {
                  "label": "FRIEND"
                },
                "start": 3,
                "styles": {},
                "thickness_factor": 1
              },
              {
                "color": "#607D8B",
                "directed": true,
                "end": 6,
                "id": 1152922604118474800,
                "label": "LIVES_IN",
                "properties": {
                  "label": "LIVES_IN"
                },
                "start": 3,
                "styles": {},
                "thickness_factor": 1
              },
              {
                "color": "#607D8B",
                "directed": true,
                "end": 6,
                "id": 1152922604118474800,
                "label": "LIVES_IN",
                "properties": {
                  "label": "LIVES_IN"
                },
                "start": 4,
                "styles": {},
                "thickness_factor": 1
              }
            ],
            "_graph_layout": {},
            "_highlight": [],
            "_license": {},
            "_model_module": "yfiles-jupyter-graphs",
            "_model_module_version": "^1.10.1",
            "_model_name": "GraphModel",
            "_neighborhood": {},
            "_nodes": [
              {
                "color": "#2196F3",
                "id": 0,
                "label": "John",
                "position": [
                  0,
                  0
                ],
                "properties": {
                  "label": "Person",
                  "name": "John"
                },
                "scale_factor": 1,
                "size": [
                  55,
                  55
                ],
                "styles": {},
                "type": "#2196F3"
              },
              {
                "color": "#2196F3",
                "id": 1,
                "label": "Joe",
                "position": [
                  0,
                  0
                ],
                "properties": {
                  "label": "Person",
                  "name": "Joe"
                },
                "scale_factor": 1,
                "size": [
                  55,
                  55
                ],
                "styles": {},
                "type": "#2196F3"
              },
              {
                "color": "#2196F3",
                "id": 3,
                "label": "Sara",
                "position": [
                  0,
                  0
                ],
                "properties": {
                  "label": "Person",
                  "name": "Sara"
                },
                "scale_factor": 1,
                "size": [
                  55,
                  55
                ],
                "styles": {},
                "type": "#2196F3"
              },
              {
                "color": "#4CAF50",
                "id": 6,
                "label": "Germany",
                "position": [
                  0,
                  0
                ],
                "properties": {
                  "label": "Country",
                  "name": "Germany"
                },
                "scale_factor": 1,
                "size": [
                  55,
                  55
                ],
                "styles": {},
                "type": "#4CAF50"
              },
              {
                "color": "#2196F3",
                "id": 2,
                "label": "Steve",
                "position": [
                  0,
                  0
                ],
                "properties": {
                  "label": "Person",
                  "name": "Steve"
                },
                "scale_factor": 1,
                "size": [
                  55,
                  55
                ],
                "styles": {},
                "type": "#2196F3"
              },
              {
                "color": "#4CAF50",
                "id": 5,
                "label": "Australia",
                "position": [
                  0,
                  0
                ],
                "properties": {
                  "label": "Country",
                  "name": "Australia"
                },
                "scale_factor": 1,
                "size": [
                  55,
                  55
                ],
                "styles": {},
                "type": "#4CAF50"
              },
              {
                "color": "#2196F3",
                "id": 4,
                "label": "Maria",
                "position": [
                  0,
                  0
                ],
                "properties": {
                  "label": "Person",
                  "name": "Maria"
                },
                "scale_factor": 1,
                "size": [
                  55,
                  55
                ],
                "styles": {},
                "type": "#2196F3"
              }
            ],
            "_overview": {
              "enabled": null,
              "overview_set": false
            },
            "_selected_graph": [
              [],
              []
            ],
            "_sidebar": {
              "enabled": false,
              "start_with": null
            },
            "_view_count": null,
            "_view_module": "yfiles-jupyter-graphs",
            "_view_module_version": "^1.10.1",
            "_view_name": "GraphView",
            "layout": "IPY_MODEL_4cb32b76c18d4150a744d9a6a39e9454",
            "tabbable": null,
            "tooltip": null
          }
        },
        "20186f39e0ef4860af26ed7ab5683bb0": {
          "model_module": "yfiles-jupyter-graphs",
          "model_module_version": "^1.10.1",
          "model_name": "GraphModel",
          "state": {
            "_context_pane_mapping": [
              {
                "id": "Neighborhood",
                "title": "Neighborhood"
              },
              {
                "id": "Data",
                "title": "Data"
              },
              {
                "id": "Search",
                "title": "Search"
              },
              {
                "id": "About",
                "title": "About"
              }
            ],
            "_data_importer": "neo4j",
            "_directed": true,
            "_dom_classes": [],
            "_edges": [
              {
                "color": "#4CAF50",
                "directed": true,
                "end": 1,
                "id": 1152921504606847000,
                "label": "FRIEND",
                "properties": {
                  "label": "FRIEND"
                },
                "start": 0,
                "styles": {},
                "thickness_factor": 1
              },
              {
                "color": "#4CAF50",
                "directed": true,
                "end": 3,
                "id": 1155173304420532200,
                "label": "FRIEND",
                "properties": {
                  "label": "FRIEND"
                },
                "start": 0,
                "styles": {},
                "thickness_factor": 1
              },
              {
                "color": "#4CAF50",
                "directed": true,
                "end": 2,
                "id": 1152921504606847000,
                "label": "FRIEND",
                "properties": {
                  "label": "FRIEND"
                },
                "start": 1,
                "styles": {},
                "thickness_factor": 1
              },
              {
                "color": "#4CAF50",
                "directed": true,
                "end": 4,
                "id": 1152921504606847000,
                "label": "FRIEND",
                "properties": {
                  "label": "FRIEND"
                },
                "start": 3,
                "styles": {},
                "thickness_factor": 1
              }
            ],
            "_graph_layout": {},
            "_highlight": [],
            "_license": {},
            "_model_module": "yfiles-jupyter-graphs",
            "_model_module_version": "^1.10.1",
            "_model_name": "GraphModel",
            "_neighborhood": {},
            "_nodes": [
              {
                "color": "#2196F3",
                "id": 0,
                "label": "John",
                "position": [
                  0,
                  0
                ],
                "properties": {
                  "label": "Person",
                  "name": "John"
                },
                "scale_factor": 1,
                "size": [
                  55,
                  55
                ],
                "styles": {},
                "type": "#2196F3"
              },
              {
                "color": "#2196F3",
                "id": 1,
                "label": "Joe",
                "position": [
                  0,
                  0
                ],
                "properties": {
                  "label": "Person",
                  "name": "Joe"
                },
                "scale_factor": 1,
                "size": [
                  55,
                  55
                ],
                "styles": {},
                "type": "#2196F3"
              },
              {
                "color": "#2196F3",
                "id": 3,
                "label": "Sara",
                "position": [
                  0,
                  0
                ],
                "properties": {
                  "label": "Person",
                  "name": "Sara"
                },
                "scale_factor": 1,
                "size": [
                  55,
                  55
                ],
                "styles": {},
                "type": "#2196F3"
              },
              {
                "color": "#2196F3",
                "id": 2,
                "label": "Steve",
                "position": [
                  0,
                  0
                ],
                "properties": {
                  "label": "Person",
                  "name": "Steve"
                },
                "scale_factor": 1,
                "size": [
                  55,
                  55
                ],
                "styles": {},
                "type": "#2196F3"
              },
              {
                "color": "#2196F3",
                "id": 4,
                "label": "Maria",
                "position": [
                  0,
                  0
                ],
                "properties": {
                  "label": "Person",
                  "name": "Maria"
                },
                "scale_factor": 1,
                "size": [
                  55,
                  55
                ],
                "styles": {},
                "type": "#2196F3"
              }
            ],
            "_overview": {
              "enabled": null,
              "overview_set": false
            },
            "_selected_graph": [
              [],
              []
            ],
            "_sidebar": {
              "enabled": false,
              "start_with": null
            },
            "_view_count": null,
            "_view_module": "yfiles-jupyter-graphs",
            "_view_module_version": "^1.10.1",
            "_view_name": "GraphView",
            "layout": "IPY_MODEL_7de58ba5224b44da9bf96aafb0d09531",
            "tabbable": null,
            "tooltip": null
          }
        },
        "243e6be421914a50ab2c1c7787ceda7f": {
          "model_module": "yfiles-jupyter-graphs",
          "model_module_version": "^1.10.1",
          "model_name": "GraphModel",
          "state": {
            "_context_pane_mapping": [
              {
                "id": "Neighborhood",
                "title": "Neighborhood"
              },
              {
                "id": "Data",
                "title": "Data"
              },
              {
                "id": "Search",
                "title": "Search"
              },
              {
                "id": "About",
                "title": "About"
              }
            ],
            "_data_importer": "neo4j",
            "_directed": true,
            "_dom_classes": [],
            "_edges": [
              {
                "color": "#F44336",
                "directed": true,
                "end": 1,
                "id": 1152921504606847000,
                "label": "FRIEND",
                "properties": {
                  "label": "FRIEND"
                },
                "start": 0,
                "styles": {},
                "thickness_factor": 1
              },
              {
                "color": "#F44336",
                "directed": true,
                "end": 3,
                "id": 1155173304420532200,
                "label": "FRIEND",
                "properties": {
                  "label": "FRIEND"
                },
                "start": 0,
                "styles": {},
                "thickness_factor": 1
              },
              {
                "color": "#607D8B",
                "directed": true,
                "end": 6,
                "id": 1152922604118474800,
                "label": "LIVES_IN",
                "properties": {
                  "label": "LIVES_IN"
                },
                "start": 0,
                "styles": {},
                "thickness_factor": 1
              },
              {
                "color": "#F44336",
                "directed": true,
                "end": 2,
                "id": 1152921504606847000,
                "label": "FRIEND",
                "properties": {
                  "label": "FRIEND"
                },
                "start": 1,
                "styles": {},
                "thickness_factor": 1
              },
              {
                "color": "#607D8B",
                "directed": true,
                "end": 5,
                "id": 1152922604118474800,
                "label": "LIVES_IN",
                "properties": {
                  "label": "LIVES_IN"
                },
                "start": 1,
                "styles": {},
                "thickness_factor": 1
              },
              {
                "color": "#607D8B",
                "directed": true,
                "end": 5,
                "id": 1152922604118474800,
                "label": "LIVES_IN",
                "properties": {
                  "label": "LIVES_IN"
                },
                "start": 2,
                "styles": {},
                "thickness_factor": 1
              },
              {
                "color": "#F44336",
                "directed": true,
                "end": 1,
                "id": 1157425104234217500,
                "label": "FRIEND",
                "properties": {
                  "label": "FRIEND"
                },
                "start": 3,
                "styles": {},
                "thickness_factor": 1
              },
              {
                "color": "#F44336",
                "directed": true,
                "end": 4,
                "id": 1152921504606847000,
                "label": "FRIEND",
                "properties": {
                  "label": "FRIEND"
                },
                "start": 3,
                "styles": {},
                "thickness_factor": 1
              },
              {
                "color": "#607D8B",
                "directed": true,
                "end": 6,
                "id": 1152922604118474800,
                "label": "LIVES_IN",
                "properties": {
                  "label": "LIVES_IN"
                },
                "start": 3,
                "styles": {},
                "thickness_factor": 1
              },
              {
                "color": "#607D8B",
                "directed": true,
                "end": 6,
                "id": 1152922604118474800,
                "label": "LIVES_IN",
                "properties": {
                  "label": "LIVES_IN"
                },
                "start": 4,
                "styles": {},
                "thickness_factor": 1
              }
            ],
            "_graph_layout": {},
            "_highlight": [],
            "_license": {},
            "_model_module": "yfiles-jupyter-graphs",
            "_model_module_version": "^1.10.1",
            "_model_name": "GraphModel",
            "_neighborhood": {},
            "_nodes": [
              {
                "color": "#2196F3",
                "id": 0,
                "label": "John",
                "position": [
                  0,
                  0
                ],
                "properties": {
                  "label": "Person",
                  "name": "John"
                },
                "scale_factor": 1,
                "size": [
                  55,
                  55
                ],
                "styles": {},
                "type": "#2196F3"
              },
              {
                "color": "#2196F3",
                "id": 1,
                "label": "Joe",
                "position": [
                  0,
                  0
                ],
                "properties": {
                  "label": "Person",
                  "name": "Joe"
                },
                "scale_factor": 1,
                "size": [
                  55,
                  55
                ],
                "styles": {},
                "type": "#2196F3"
              },
              {
                "color": "#2196F3",
                "id": 3,
                "label": "Sara",
                "position": [
                  0,
                  0
                ],
                "properties": {
                  "label": "Person",
                  "name": "Sara"
                },
                "scale_factor": 1,
                "size": [
                  55,
                  55
                ],
                "styles": {},
                "type": "#2196F3"
              },
              {
                "color": "#4CAF50",
                "id": 6,
                "label": "Germany",
                "position": [
                  0,
                  0
                ],
                "properties": {
                  "label": "Country",
                  "name": "Germany"
                },
                "scale_factor": 1,
                "size": [
                  55,
                  55
                ],
                "styles": {},
                "type": "#4CAF50"
              },
              {
                "color": "#2196F3",
                "id": 2,
                "label": "Steve",
                "position": [
                  0,
                  0
                ],
                "properties": {
                  "label": "Person",
                  "name": "Steve"
                },
                "scale_factor": 1,
                "size": [
                  55,
                  55
                ],
                "styles": {},
                "type": "#2196F3"
              },
              {
                "color": "#4CAF50",
                "id": 5,
                "label": "Australia",
                "position": [
                  0,
                  0
                ],
                "properties": {
                  "label": "Country",
                  "name": "Australia"
                },
                "scale_factor": 1,
                "size": [
                  55,
                  55
                ],
                "styles": {},
                "type": "#4CAF50"
              },
              {
                "color": "#2196F3",
                "id": 4,
                "label": "Maria",
                "position": [
                  0,
                  0
                ],
                "properties": {
                  "label": "Person",
                  "name": "Maria"
                },
                "scale_factor": 1,
                "size": [
                  55,
                  55
                ],
                "styles": {},
                "type": "#2196F3"
              }
            ],
            "_overview": {
              "enabled": null,
              "overview_set": false
            },
            "_selected_graph": [
              [],
              []
            ],
            "_sidebar": {
              "enabled": false,
              "start_with": null
            },
            "_view_count": null,
            "_view_module": "yfiles-jupyter-graphs",
            "_view_module_version": "^1.10.1",
            "_view_name": "GraphView",
            "layout": "IPY_MODEL_8fb52a20c26a4f2fbe9aeee5240d4468",
            "tabbable": null,
            "tooltip": null
          }
        },
        "2884f284173248feaecbe940793fa22c": {
          "model_module": "yfiles-jupyter-graphs",
          "model_module_version": "^1.10.1",
          "model_name": "GraphModel",
          "state": {
            "_context_pane_mapping": [
              {
                "id": "Neighborhood",
                "title": "Neighborhood"
              },
              {
                "id": "Data",
                "title": "Data"
              },
              {
                "id": "Search",
                "title": "Search"
              },
              {
                "id": "About",
                "title": "About"
              }
            ],
            "_data_importer": "neo4j",
            "_directed": true,
            "_dom_classes": [],
            "_edges": [
              {
                "color": "#4CAF50",
                "directed": true,
                "end": 1,
                "id": 1152921504606847000,
                "label": "FRIEND",
                "properties": {
                  "label": "FRIEND"
                },
                "start": 0,
                "styles": {},
                "thickness_factor": 1
              },
              {
                "color": "#4CAF50",
                "directed": true,
                "end": 3,
                "id": 1155173304420532200,
                "label": "FRIEND",
                "properties": {
                  "label": "FRIEND"
                },
                "start": 0,
                "styles": {},
                "thickness_factor": 1
              },
              {
                "color": "#4CAF50",
                "directed": true,
                "end": 2,
                "id": 1152921504606847000,
                "label": "FRIEND",
                "properties": {
                  "label": "FRIEND"
                },
                "start": 1,
                "styles": {},
                "thickness_factor": 1
              },
              {
                "color": "#4CAF50",
                "directed": true,
                "end": 4,
                "id": 1152921504606847000,
                "label": "FRIEND",
                "properties": {
                  "label": "FRIEND"
                },
                "start": 3,
                "styles": {},
                "thickness_factor": 1
              },
              {
                "color": "#4CAF50",
                "directed": true,
                "end": 6,
                "id": 1152921504606847000,
                "label": "FRIEND",
                "properties": {
                  "label": "FRIEND"
                },
                "start": 5,
                "styles": {},
                "thickness_factor": 1
              }
            ],
            "_graph_layout": {},
            "_highlight": [],
            "_license": {},
            "_model_module": "yfiles-jupyter-graphs",
            "_model_module_version": "^1.10.1",
            "_model_name": "GraphModel",
            "_neighborhood": {},
            "_nodes": [
              {
                "color": "#2196F3",
                "id": 0,
                "label": "John",
                "position": [
                  0,
                  0
                ],
                "properties": {
                  "label": "Person",
                  "name": "John"
                },
                "scale_factor": 1,
                "size": [
                  55,
                  55
                ],
                "styles": {},
                "type": "#2196F3"
              },
              {
                "color": "#2196F3",
                "id": 1,
                "label": "Joe",
                "position": [
                  0,
                  0
                ],
                "properties": {
                  "label": "Person",
                  "name": "Joe"
                },
                "scale_factor": 1,
                "size": [
                  55,
                  55
                ],
                "styles": {},
                "type": "#2196F3"
              },
              {
                "color": "#2196F3",
                "id": 3,
                "label": "Sara",
                "position": [
                  0,
                  0
                ],
                "properties": {
                  "label": "Person",
                  "name": "Sara"
                },
                "scale_factor": 1,
                "size": [
                  55,
                  55
                ],
                "styles": {},
                "type": "#2196F3"
              },
              {
                "color": "#2196F3",
                "id": 2,
                "label": "Steve",
                "position": [
                  0,
                  0
                ],
                "properties": {
                  "label": "Person",
                  "name": "Steve"
                },
                "scale_factor": 1,
                "size": [
                  55,
                  55
                ],
                "styles": {},
                "type": "#2196F3"
              },
              {
                "color": "#2196F3",
                "id": 4,
                "label": "Maria",
                "position": [
                  0,
                  0
                ],
                "properties": {
                  "label": "Person",
                  "name": "Maria"
                },
                "scale_factor": 1,
                "size": [
                  55,
                  55
                ],
                "styles": {},
                "type": "#2196F3"
              },
              {
                "color": "#2196F3",
                "id": 5,
                "label": "Sara",
                "position": [
                  0,
                  0
                ],
                "properties": {
                  "label": "Person",
                  "name": "Sara"
                },
                "scale_factor": 1,
                "size": [
                  55,
                  55
                ],
                "styles": {},
                "type": "#2196F3"
              },
              {
                "color": "#2196F3",
                "id": 6,
                "label": "Joe",
                "position": [
                  0,
                  0
                ],
                "properties": {
                  "label": "Person",
                  "name": "Joe"
                },
                "scale_factor": 1,
                "size": [
                  55,
                  55
                ],
                "styles": {},
                "type": "#2196F3"
              }
            ],
            "_overview": {
              "enabled": null,
              "overview_set": false
            },
            "_selected_graph": [
              [],
              []
            ],
            "_sidebar": {
              "enabled": false,
              "start_with": null
            },
            "_view_count": null,
            "_view_module": "yfiles-jupyter-graphs",
            "_view_module_version": "^1.10.1",
            "_view_name": "GraphView",
            "layout": "IPY_MODEL_e43f5c507c0b4ed0b0245d2ed61ad7be",
            "tabbable": null,
            "tooltip": null
          }
        },
        "4cb32b76c18d4150a744d9a6a39e9454": {
          "model_module": "@jupyter-widgets/base",
          "model_module_version": "2.0.0",
          "model_name": "LayoutModel",
          "state": {
            "_model_module": "@jupyter-widgets/base",
            "_model_module_version": "2.0.0",
            "_model_name": "LayoutModel",
            "_view_count": null,
            "_view_module": "@jupyter-widgets/base",
            "_view_module_version": "2.0.0",
            "_view_name": "LayoutView",
            "align_content": null,
            "align_items": null,
            "align_self": null,
            "border_bottom": null,
            "border_left": null,
            "border_right": null,
            "border_top": null,
            "bottom": null,
            "display": null,
            "flex": null,
            "flex_flow": null,
            "grid_area": null,
            "grid_auto_columns": null,
            "grid_auto_flow": null,
            "grid_auto_rows": null,
            "grid_column": null,
            "grid_gap": null,
            "grid_row": null,
            "grid_template_areas": null,
            "grid_template_columns": null,
            "grid_template_rows": null,
            "height": "500px",
            "justify_content": null,
            "justify_items": null,
            "left": null,
            "margin": null,
            "max_height": null,
            "max_width": null,
            "min_height": null,
            "min_width": null,
            "object_fit": null,
            "object_position": null,
            "order": null,
            "overflow": null,
            "padding": null,
            "right": null,
            "top": null,
            "visibility": null,
            "width": "100%"
          }
        },
        "75dab6cac6894a079f8bac13b2c687ad": {
          "model_module": "yfiles-jupyter-graphs",
          "model_module_version": "^1.10.1",
          "model_name": "GraphModel",
          "state": {
            "_context_pane_mapping": [
              {
                "id": "Neighborhood",
                "title": "Neighborhood"
              },
              {
                "id": "Data",
                "title": "Data"
              },
              {
                "id": "Search",
                "title": "Search"
              },
              {
                "id": "About",
                "title": "About"
              }
            ],
            "_data_importer": "neo4j",
            "_directed": true,
            "_dom_classes": [],
            "_edges": [
              {
                "color": "#F44336",
                "directed": true,
                "end": -100,
                "id": -100,
                "label": "FRIEND",
                "properties": {
                  "label": "FRIEND",
                  "name": "FRIEND"
                },
                "start": -100,
                "styles": {},
                "thickness_factor": 1
              },
              {
                "color": "#607D8B",
                "directed": true,
                "end": -101,
                "id": -101,
                "label": "LIVES_IN",
                "properties": {
                  "label": "LIVES_IN",
                  "name": "LIVES_IN"
                },
                "start": -100,
                "styles": {},
                "thickness_factor": 1
              }
            ],
            "_graph_layout": {},
            "_highlight": [],
            "_license": {},
            "_model_module": "yfiles-jupyter-graphs",
            "_model_module_version": "^1.10.1",
            "_model_name": "GraphModel",
            "_neighborhood": {},
            "_nodes": [
              {
                "color": "#2196F3",
                "id": -101,
                "label": "Country",
                "position": [
                  0,
                  0
                ],
                "properties": {
                  "constraints": [],
                  "indexes": [],
                  "label": "Country",
                  "name": "Country"
                },
                "scale_factor": 1,
                "size": [
                  55,
                  55
                ],
                "styles": {},
                "type": "#2196F3"
              },
              {
                "color": "#4CAF50",
                "id": -100,
                "label": "Person",
                "position": [
                  0,
                  0
                ],
                "properties": {
                  "constraints": [],
                  "indexes": [],
                  "label": "Person",
                  "name": "Person"
                },
                "scale_factor": 1,
                "size": [
                  55,
                  55
                ],
                "styles": {},
                "type": "#4CAF50"
              }
            ],
            "_overview": {
              "enabled": null,
              "overview_set": false
            },
            "_selected_graph": [
              [],
              []
            ],
            "_sidebar": {
              "enabled": false,
              "start_with": null
            },
            "_view_count": null,
            "_view_module": "yfiles-jupyter-graphs",
            "_view_module_version": "^1.10.1",
            "_view_name": "GraphView",
            "layout": "IPY_MODEL_fe38dbf5c22146489d643d2e1abe7a2f",
            "tabbable": null,
            "tooltip": null
          }
        },
        "7de58ba5224b44da9bf96aafb0d09531": {
          "model_module": "@jupyter-widgets/base",
          "model_module_version": "2.0.0",
          "model_name": "LayoutModel",
          "state": {
            "_model_module": "@jupyter-widgets/base",
            "_model_module_version": "2.0.0",
            "_model_name": "LayoutModel",
            "_view_count": null,
            "_view_module": "@jupyter-widgets/base",
            "_view_module_version": "2.0.0",
            "_view_name": "LayoutView",
            "align_content": null,
            "align_items": null,
            "align_self": null,
            "border_bottom": null,
            "border_left": null,
            "border_right": null,
            "border_top": null,
            "bottom": null,
            "display": null,
            "flex": null,
            "flex_flow": null,
            "grid_area": null,
            "grid_auto_columns": null,
            "grid_auto_flow": null,
            "grid_auto_rows": null,
            "grid_column": null,
            "grid_gap": null,
            "grid_row": null,
            "grid_template_areas": null,
            "grid_template_columns": null,
            "grid_template_rows": null,
            "height": "500px",
            "justify_content": null,
            "justify_items": null,
            "left": null,
            "margin": null,
            "max_height": null,
            "max_width": null,
            "min_height": null,
            "min_width": null,
            "object_fit": null,
            "object_position": null,
            "order": null,
            "overflow": null,
            "padding": null,
            "right": null,
            "top": null,
            "visibility": null,
            "width": "100%"
          }
        },
        "8fb52a20c26a4f2fbe9aeee5240d4468": {
          "model_module": "@jupyter-widgets/base",
          "model_module_version": "2.0.0",
          "model_name": "LayoutModel",
          "state": {
            "_model_module": "@jupyter-widgets/base",
            "_model_module_version": "2.0.0",
            "_model_name": "LayoutModel",
            "_view_count": null,
            "_view_module": "@jupyter-widgets/base",
            "_view_module_version": "2.0.0",
            "_view_name": "LayoutView",
            "align_content": null,
            "align_items": null,
            "align_self": null,
            "border_bottom": null,
            "border_left": null,
            "border_right": null,
            "border_top": null,
            "bottom": null,
            "display": null,
            "flex": null,
            "flex_flow": null,
            "grid_area": null,
            "grid_auto_columns": null,
            "grid_auto_flow": null,
            "grid_auto_rows": null,
            "grid_column": null,
            "grid_gap": null,
            "grid_row": null,
            "grid_template_areas": null,
            "grid_template_columns": null,
            "grid_template_rows": null,
            "height": "500px",
            "justify_content": null,
            "justify_items": null,
            "left": null,
            "margin": null,
            "max_height": null,
            "max_width": null,
            "min_height": null,
            "min_width": null,
            "object_fit": null,
            "object_position": null,
            "order": null,
            "overflow": null,
            "padding": null,
            "right": null,
            "top": null,
            "visibility": null,
            "width": "100%"
          }
        },
        "9538ed2e73984de3880914f3c5c2d271": {
          "model_module": "yfiles-jupyter-graphs",
          "model_module_version": "^1.10.1",
          "model_name": "GraphModel",
          "state": {
            "_context_pane_mapping": [
              {
                "id": "Neighborhood",
                "title": "Neighborhood"
              },
              {
                "id": "Data",
                "title": "Data"
              },
              {
                "id": "Search",
                "title": "Search"
              },
              {
                "id": "About",
                "title": "About"
              }
            ],
            "_data_importer": "neo4j",
            "_directed": true,
            "_dom_classes": [],
            "_edges": [
              {
                "color": "#4CAF50",
                "directed": true,
                "end": 1,
                "id": 1152921504606847000,
                "label": "FRIEND",
                "properties": {
                  "label": "FRIEND"
                },
                "start": 0,
                "styles": {},
                "thickness_factor": 1
              },
              {
                "color": "#4CAF50",
                "directed": true,
                "end": 3,
                "id": 1155173304420532200,
                "label": "FRIEND",
                "properties": {
                  "label": "FRIEND"
                },
                "start": 0,
                "styles": {},
                "thickness_factor": 1
              },
              {
                "color": "#4CAF50",
                "directed": true,
                "end": 2,
                "id": 1152921504606847000,
                "label": "FRIEND",
                "properties": {
                  "label": "FRIEND"
                },
                "start": 1,
                "styles": {},
                "thickness_factor": 1
              },
              {
                "color": "#4CAF50",
                "directed": true,
                "end": 1,
                "id": 1157425104234217500,
                "label": "FRIEND",
                "properties": {
                  "label": "FRIEND"
                },
                "start": 3,
                "styles": {},
                "thickness_factor": 1
              },
              {
                "color": "#4CAF50",
                "directed": true,
                "end": 4,
                "id": 1152921504606847000,
                "label": "FRIEND",
                "properties": {
                  "label": "FRIEND"
                },
                "start": 3,
                "styles": {},
                "thickness_factor": 1
              }
            ],
            "_graph_layout": {},
            "_highlight": [],
            "_license": {},
            "_model_module": "yfiles-jupyter-graphs",
            "_model_module_version": "^1.10.1",
            "_model_name": "GraphModel",
            "_neighborhood": {},
            "_nodes": [
              {
                "color": "#2196F3",
                "id": 0,
                "label": "John",
                "position": [
                  0,
                  0
                ],
                "properties": {
                  "label": "Person",
                  "name": "John"
                },
                "scale_factor": 1,
                "size": [
                  55,
                  55
                ],
                "styles": {},
                "type": "#2196F3"
              },
              {
                "color": "#2196F3",
                "id": 1,
                "label": "Joe",
                "position": [
                  0,
                  0
                ],
                "properties": {
                  "label": "Person",
                  "name": "Joe"
                },
                "scale_factor": 1,
                "size": [
                  55,
                  55
                ],
                "styles": {},
                "type": "#2196F3"
              },
              {
                "color": "#2196F3",
                "id": 3,
                "label": "Sara",
                "position": [
                  0,
                  0
                ],
                "properties": {
                  "label": "Person",
                  "name": "Sara"
                },
                "scale_factor": 1,
                "size": [
                  55,
                  55
                ],
                "styles": {},
                "type": "#2196F3"
              },
              {
                "color": "#2196F3",
                "id": 2,
                "label": "Steve",
                "position": [
                  0,
                  0
                ],
                "properties": {
                  "label": "Person",
                  "name": "Steve"
                },
                "scale_factor": 1,
                "size": [
                  55,
                  55
                ],
                "styles": {},
                "type": "#2196F3"
              },
              {
                "color": "#2196F3",
                "id": 4,
                "label": "Maria",
                "position": [
                  0,
                  0
                ],
                "properties": {
                  "label": "Person",
                  "name": "Maria"
                },
                "scale_factor": 1,
                "size": [
                  55,
                  55
                ],
                "styles": {},
                "type": "#2196F3"
              }
            ],
            "_overview": {
              "enabled": null,
              "overview_set": false
            },
            "_selected_graph": [
              [],
              []
            ],
            "_sidebar": {
              "enabled": false,
              "start_with": null
            },
            "_view_count": null,
            "_view_module": "yfiles-jupyter-graphs",
            "_view_module_version": "^1.10.1",
            "_view_name": "GraphView",
            "layout": "IPY_MODEL_ff9b03f098924007912d400199c77c9d",
            "tabbable": null,
            "tooltip": null
          }
        },
        "c8aeb7e3aa464174b7ab272587516ae8": {
          "model_module": "@jupyter-widgets/base",
          "model_module_version": "2.0.0",
          "model_name": "LayoutModel",
          "state": {
            "_model_module": "@jupyter-widgets/base",
            "_model_module_version": "2.0.0",
            "_model_name": "LayoutModel",
            "_view_count": null,
            "_view_module": "@jupyter-widgets/base",
            "_view_module_version": "2.0.0",
            "_view_name": "LayoutView",
            "align_content": null,
            "align_items": null,
            "align_self": null,
            "border_bottom": null,
            "border_left": null,
            "border_right": null,
            "border_top": null,
            "bottom": null,
            "display": null,
            "flex": null,
            "flex_flow": null,
            "grid_area": null,
            "grid_auto_columns": null,
            "grid_auto_flow": null,
            "grid_auto_rows": null,
            "grid_column": null,
            "grid_gap": null,
            "grid_row": null,
            "grid_template_areas": null,
            "grid_template_columns": null,
            "grid_template_rows": null,
            "height": "500px",
            "justify_content": null,
            "justify_items": null,
            "left": null,
            "margin": null,
            "max_height": null,
            "max_width": null,
            "min_height": null,
            "min_width": null,
            "object_fit": null,
            "object_position": null,
            "order": null,
            "overflow": null,
            "padding": null,
            "right": null,
            "top": null,
            "visibility": null,
            "width": "100%"
          }
        },
        "de93c836f1e24d87b49d646d23834e89": {
          "model_module": "yfiles-jupyter-graphs",
          "model_module_version": "^1.10.1",
          "model_name": "GraphModel",
          "state": {
            "_context_pane_mapping": [
              {
                "id": "Neighborhood",
                "title": "Neighborhood"
              },
              {
                "id": "Data",
                "title": "Data"
              },
              {
                "id": "Search",
                "title": "Search"
              },
              {
                "id": "About",
                "title": "About"
              }
            ],
            "_data_importer": "neo4j",
            "_directed": true,
            "_dom_classes": [],
            "_edges": [
              {
                "color": "#4CAF50",
                "directed": true,
                "end": 1,
                "id": 1152921504606847000,
                "label": "FRIEND",
                "properties": {
                  "label": "FRIEND"
                },
                "start": 0,
                "styles": {},
                "thickness_factor": 1
              },
              {
                "color": "#4CAF50",
                "directed": true,
                "end": 3,
                "id": 1155173304420532200,
                "label": "FRIEND",
                "properties": {
                  "label": "FRIEND"
                },
                "start": 0,
                "styles": {},
                "thickness_factor": 1
              },
              {
                "color": "#4CAF50",
                "directed": true,
                "end": 2,
                "id": 1152921504606847000,
                "label": "FRIEND",
                "properties": {
                  "label": "FRIEND"
                },
                "start": 1,
                "styles": {},
                "thickness_factor": 1
              },
              {
                "color": "#4CAF50",
                "directed": true,
                "end": 4,
                "id": 1152921504606847000,
                "label": "FRIEND",
                "properties": {
                  "label": "FRIEND"
                },
                "start": 3,
                "styles": {},
                "thickness_factor": 1
              }
            ],
            "_graph_layout": {},
            "_highlight": [],
            "_license": {},
            "_model_module": "yfiles-jupyter-graphs",
            "_model_module_version": "^1.10.1",
            "_model_name": "GraphModel",
            "_neighborhood": {},
            "_nodes": [
              {
                "color": "#2196F3",
                "id": 0,
                "label": "John",
                "position": [
                  0,
                  0
                ],
                "properties": {
                  "label": "Person",
                  "name": "John"
                },
                "scale_factor": 1,
                "size": [
                  55,
                  55
                ],
                "styles": {},
                "type": "#2196F3"
              },
              {
                "color": "#2196F3",
                "id": 1,
                "label": "Joe",
                "position": [
                  0,
                  0
                ],
                "properties": {
                  "label": "Person",
                  "name": "Joe"
                },
                "scale_factor": 1,
                "size": [
                  55,
                  55
                ],
                "styles": {},
                "type": "#2196F3"
              },
              {
                "color": "#2196F3",
                "id": 3,
                "label": "Sara",
                "position": [
                  0,
                  0
                ],
                "properties": {
                  "label": "Person",
                  "name": "Sara"
                },
                "scale_factor": 1,
                "size": [
                  55,
                  55
                ],
                "styles": {},
                "type": "#2196F3"
              },
              {
                "color": "#2196F3",
                "id": 2,
                "label": "Steve",
                "position": [
                  0,
                  0
                ],
                "properties": {
                  "label": "Person",
                  "name": "Steve"
                },
                "scale_factor": 1,
                "size": [
                  55,
                  55
                ],
                "styles": {},
                "type": "#2196F3"
              },
              {
                "color": "#2196F3",
                "id": 4,
                "label": "Maria",
                "position": [
                  0,
                  0
                ],
                "properties": {
                  "label": "Person",
                  "name": "Maria"
                },
                "scale_factor": 1,
                "size": [
                  55,
                  55
                ],
                "styles": {},
                "type": "#2196F3"
              }
            ],
            "_overview": {
              "enabled": null,
              "overview_set": false
            },
            "_selected_graph": [
              [],
              []
            ],
            "_sidebar": {
              "enabled": false,
              "start_with": null
            },
            "_view_count": null,
            "_view_module": "yfiles-jupyter-graphs",
            "_view_module_version": "^1.10.1",
            "_view_name": "GraphView",
            "layout": "IPY_MODEL_c8aeb7e3aa464174b7ab272587516ae8",
            "tabbable": null,
            "tooltip": null
          }
        },
        "e43f5c507c0b4ed0b0245d2ed61ad7be": {
          "model_module": "@jupyter-widgets/base",
          "model_module_version": "2.0.0",
          "model_name": "LayoutModel",
          "state": {
            "_model_module": "@jupyter-widgets/base",
            "_model_module_version": "2.0.0",
            "_model_name": "LayoutModel",
            "_view_count": null,
            "_view_module": "@jupyter-widgets/base",
            "_view_module_version": "2.0.0",
            "_view_name": "LayoutView",
            "align_content": null,
            "align_items": null,
            "align_self": null,
            "border_bottom": null,
            "border_left": null,
            "border_right": null,
            "border_top": null,
            "bottom": null,
            "display": null,
            "flex": null,
            "flex_flow": null,
            "grid_area": null,
            "grid_auto_columns": null,
            "grid_auto_flow": null,
            "grid_auto_rows": null,
            "grid_column": null,
            "grid_gap": null,
            "grid_row": null,
            "grid_template_areas": null,
            "grid_template_columns": null,
            "grid_template_rows": null,
            "height": "500px",
            "justify_content": null,
            "justify_items": null,
            "left": null,
            "margin": null,
            "max_height": null,
            "max_width": null,
            "min_height": null,
            "min_width": null,
            "object_fit": null,
            "object_position": null,
            "order": null,
            "overflow": null,
            "padding": null,
            "right": null,
            "top": null,
            "visibility": null,
            "width": "100%"
          }
        },
        "fe38dbf5c22146489d643d2e1abe7a2f": {
          "model_module": "@jupyter-widgets/base",
          "model_module_version": "2.0.0",
          "model_name": "LayoutModel",
          "state": {
            "_model_module": "@jupyter-widgets/base",
            "_model_module_version": "2.0.0",
            "_model_name": "LayoutModel",
            "_view_count": null,
            "_view_module": "@jupyter-widgets/base",
            "_view_module_version": "2.0.0",
            "_view_name": "LayoutView",
            "align_content": null,
            "align_items": null,
            "align_self": null,
            "border_bottom": null,
            "border_left": null,
            "border_right": null,
            "border_top": null,
            "bottom": null,
            "display": null,
            "flex": null,
            "flex_flow": null,
            "grid_area": null,
            "grid_auto_columns": null,
            "grid_auto_flow": null,
            "grid_auto_rows": null,
            "grid_column": null,
            "grid_gap": null,
            "grid_row": null,
            "grid_template_areas": null,
            "grid_template_columns": null,
            "grid_template_rows": null,
            "height": "500px",
            "justify_content": null,
            "justify_items": null,
            "left": null,
            "margin": null,
            "max_height": null,
            "max_width": null,
            "min_height": null,
            "min_width": null,
            "object_fit": null,
            "object_position": null,
            "order": null,
            "overflow": null,
            "padding": null,
            "right": null,
            "top": null,
            "visibility": null,
            "width": "100%"
          }
        },
        "ff9b03f098924007912d400199c77c9d": {
          "model_module": "@jupyter-widgets/base",
          "model_module_version": "2.0.0",
          "model_name": "LayoutModel",
          "state": {
            "_model_module": "@jupyter-widgets/base",
            "_model_module_version": "2.0.0",
            "_model_name": "LayoutModel",
            "_view_count": null,
            "_view_module": "@jupyter-widgets/base",
            "_view_module_version": "2.0.0",
            "_view_name": "LayoutView",
            "align_content": null,
            "align_items": null,
            "align_self": null,
            "border_bottom": null,
            "border_left": null,
            "border_right": null,
            "border_top": null,
            "bottom": null,
            "display": null,
            "flex": null,
            "flex_flow": null,
            "grid_area": null,
            "grid_auto_columns": null,
            "grid_auto_flow": null,
            "grid_auto_rows": null,
            "grid_column": null,
            "grid_gap": null,
            "grid_row": null,
            "grid_template_areas": null,
            "grid_template_columns": null,
            "grid_template_rows": null,
            "height": "500px",
            "justify_content": null,
            "justify_items": null,
            "left": null,
            "margin": null,
            "max_height": null,
            "max_width": null,
            "min_height": null,
            "min_width": null,
            "object_fit": null,
            "object_position": null,
            "order": null,
            "overflow": null,
            "padding": null,
            "right": null,
            "top": null,
            "visibility": null,
            "width": "100%"
          }
        }
      }
    }
  },
  "nbformat": 4,
  "nbformat_minor": 0
}
