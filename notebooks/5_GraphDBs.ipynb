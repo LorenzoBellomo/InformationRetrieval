{
  "nbformat": 4,
  "nbformat_minor": 0,
  "metadata": {
    "colab": {
      "provenance": [],
      "authorship_tag": "ABX9TyP7QvjNPwNBYmojTaoe8P1k",
      "include_colab_link": true
    },
    "kernelspec": {
      "name": "python3",
      "display_name": "Python 3"
    },
    "language_info": {
      "name": "python"
    },
    "widgets": {
      "application/vnd.jupyter.widget-state+json": {
        "de93c836f1e24d87b49d646d23834e89": {
          "model_module": "yfiles-jupyter-graphs",
          "model_name": "GraphModel",
          "model_module_version": "^1.10.1",
          "state": {
            "_context_pane_mapping": [
              {
                "id": "Neighborhood",
                "title": "Neighborhood"
              },
              {
                "id": "Data",
                "title": "Data"
              },
              {
                "id": "Search",
                "title": "Search"
              },
              {
                "id": "About",
                "title": "About"
              }
            ],
            "_data_importer": "neo4j",
            "_directed": true,
            "_dom_classes": [],
            "_edges": [
              {
                "id": 1152921504606847000,
                "start": 0,
                "end": 1,
                "properties": {
                  "label": "FRIEND"
                },
                "color": "#4CAF50",
                "thickness_factor": 1,
                "directed": true,
                "styles": {},
                "label": "FRIEND"
              },
              {
                "id": 1155173304420532200,
                "start": 0,
                "end": 3,
                "properties": {
                  "label": "FRIEND"
                },
                "color": "#4CAF50",
                "thickness_factor": 1,
                "directed": true,
                "styles": {},
                "label": "FRIEND"
              },
              {
                "id": 1152921504606847000,
                "start": 1,
                "end": 2,
                "properties": {
                  "label": "FRIEND"
                },
                "color": "#4CAF50",
                "thickness_factor": 1,
                "directed": true,
                "styles": {},
                "label": "FRIEND"
              },
              {
                "id": 1152921504606847000,
                "start": 3,
                "end": 4,
                "properties": {
                  "label": "FRIEND"
                },
                "color": "#4CAF50",
                "thickness_factor": 1,
                "directed": true,
                "styles": {},
                "label": "FRIEND"
              }
            ],
            "_graph_layout": {},
            "_highlight": [],
            "_license": {},
            "_model_module": "yfiles-jupyter-graphs",
            "_model_module_version": "^1.10.1",
            "_model_name": "GraphModel",
            "_neighborhood": {},
            "_nodes": [
              {
                "id": 0,
                "properties": {
                  "name": "John",
                  "label": "Person"
                },
                "color": "#2196F3",
                "styles": {},
                "label": "John",
                "scale_factor": 1,
                "type": "#2196F3",
                "size": [
                  55,
                  55
                ],
                "position": [
                  0,
                  0
                ]
              },
              {
                "id": 1,
                "properties": {
                  "name": "Joe",
                  "label": "Person"
                },
                "color": "#2196F3",
                "styles": {},
                "label": "Joe",
                "scale_factor": 1,
                "type": "#2196F3",
                "size": [
                  55,
                  55
                ],
                "position": [
                  0,
                  0
                ]
              },
              {
                "id": 3,
                "properties": {
                  "name": "Sara",
                  "label": "Person"
                },
                "color": "#2196F3",
                "styles": {},
                "label": "Sara",
                "scale_factor": 1,
                "type": "#2196F3",
                "size": [
                  55,
                  55
                ],
                "position": [
                  0,
                  0
                ]
              },
              {
                "id": 2,
                "properties": {
                  "name": "Steve",
                  "label": "Person"
                },
                "color": "#2196F3",
                "styles": {},
                "label": "Steve",
                "scale_factor": 1,
                "type": "#2196F3",
                "size": [
                  55,
                  55
                ],
                "position": [
                  0,
                  0
                ]
              },
              {
                "id": 4,
                "properties": {
                  "name": "Maria",
                  "label": "Person"
                },
                "color": "#2196F3",
                "styles": {},
                "label": "Maria",
                "scale_factor": 1,
                "type": "#2196F3",
                "size": [
                  55,
                  55
                ],
                "position": [
                  0,
                  0
                ]
              }
            ],
            "_overview": {
              "enabled": null,
              "overview_set": false
            },
            "_selected_graph": [
              [],
              []
            ],
            "_sidebar": {
              "enabled": false,
              "start_with": null
            },
            "_view_count": null,
            "_view_module": "yfiles-jupyter-graphs",
            "_view_module_version": "^1.10.1",
            "_view_name": "GraphView",
            "layout": "IPY_MODEL_c8aeb7e3aa464174b7ab272587516ae8",
            "tabbable": null,
            "tooltip": null
          }
        },
        "c8aeb7e3aa464174b7ab272587516ae8": {
          "model_module": "@jupyter-widgets/base",
          "model_name": "LayoutModel",
          "model_module_version": "2.0.0",
          "state": {
            "_model_module": "@jupyter-widgets/base",
            "_model_module_version": "2.0.0",
            "_model_name": "LayoutModel",
            "_view_count": null,
            "_view_module": "@jupyter-widgets/base",
            "_view_module_version": "2.0.0",
            "_view_name": "LayoutView",
            "align_content": null,
            "align_items": null,
            "align_self": null,
            "border_bottom": null,
            "border_left": null,
            "border_right": null,
            "border_top": null,
            "bottom": null,
            "display": null,
            "flex": null,
            "flex_flow": null,
            "grid_area": null,
            "grid_auto_columns": null,
            "grid_auto_flow": null,
            "grid_auto_rows": null,
            "grid_column": null,
            "grid_gap": null,
            "grid_row": null,
            "grid_template_areas": null,
            "grid_template_columns": null,
            "grid_template_rows": null,
            "height": "500px",
            "justify_content": null,
            "justify_items": null,
            "left": null,
            "margin": null,
            "max_height": null,
            "max_width": null,
            "min_height": null,
            "min_width": null,
            "object_fit": null,
            "object_position": null,
            "order": null,
            "overflow": null,
            "padding": null,
            "right": null,
            "top": null,
            "visibility": null,
            "width": "100%"
          }
        },
        "2884f284173248feaecbe940793fa22c": {
          "model_module": "yfiles-jupyter-graphs",
          "model_name": "GraphModel",
          "model_module_version": "^1.10.1",
          "state": {
            "_context_pane_mapping": [
              {
                "id": "Neighborhood",
                "title": "Neighborhood"
              },
              {
                "id": "Data",
                "title": "Data"
              },
              {
                "id": "Search",
                "title": "Search"
              },
              {
                "id": "About",
                "title": "About"
              }
            ],
            "_data_importer": "neo4j",
            "_directed": true,
            "_dom_classes": [],
            "_edges": [
              {
                "id": 1152921504606847000,
                "start": 0,
                "end": 1,
                "properties": {
                  "label": "FRIEND"
                },
                "color": "#4CAF50",
                "thickness_factor": 1,
                "directed": true,
                "styles": {},
                "label": "FRIEND"
              },
              {
                "id": 1155173304420532200,
                "start": 0,
                "end": 3,
                "properties": {
                  "label": "FRIEND"
                },
                "color": "#4CAF50",
                "thickness_factor": 1,
                "directed": true,
                "styles": {},
                "label": "FRIEND"
              },
              {
                "id": 1152921504606847000,
                "start": 1,
                "end": 2,
                "properties": {
                  "label": "FRIEND"
                },
                "color": "#4CAF50",
                "thickness_factor": 1,
                "directed": true,
                "styles": {},
                "label": "FRIEND"
              },
              {
                "id": 1152921504606847000,
                "start": 3,
                "end": 4,
                "properties": {
                  "label": "FRIEND"
                },
                "color": "#4CAF50",
                "thickness_factor": 1,
                "directed": true,
                "styles": {},
                "label": "FRIEND"
              },
              {
                "id": 1152921504606847000,
                "start": 5,
                "end": 6,
                "properties": {
                  "label": "FRIEND"
                },
                "color": "#4CAF50",
                "thickness_factor": 1,
                "directed": true,
                "styles": {},
                "label": "FRIEND"
              }
            ],
            "_graph_layout": {},
            "_highlight": [],
            "_license": {},
            "_model_module": "yfiles-jupyter-graphs",
            "_model_module_version": "^1.10.1",
            "_model_name": "GraphModel",
            "_neighborhood": {},
            "_nodes": [
              {
                "id": 0,
                "properties": {
                  "name": "John",
                  "label": "Person"
                },
                "color": "#2196F3",
                "styles": {},
                "label": "John",
                "scale_factor": 1,
                "type": "#2196F3",
                "size": [
                  55,
                  55
                ],
                "position": [
                  0,
                  0
                ]
              },
              {
                "id": 1,
                "properties": {
                  "name": "Joe",
                  "label": "Person"
                },
                "color": "#2196F3",
                "styles": {},
                "label": "Joe",
                "scale_factor": 1,
                "type": "#2196F3",
                "size": [
                  55,
                  55
                ],
                "position": [
                  0,
                  0
                ]
              },
              {
                "id": 3,
                "properties": {
                  "name": "Sara",
                  "label": "Person"
                },
                "color": "#2196F3",
                "styles": {},
                "label": "Sara",
                "scale_factor": 1,
                "type": "#2196F3",
                "size": [
                  55,
                  55
                ],
                "position": [
                  0,
                  0
                ]
              },
              {
                "id": 2,
                "properties": {
                  "name": "Steve",
                  "label": "Person"
                },
                "color": "#2196F3",
                "styles": {},
                "label": "Steve",
                "scale_factor": 1,
                "type": "#2196F3",
                "size": [
                  55,
                  55
                ],
                "position": [
                  0,
                  0
                ]
              },
              {
                "id": 4,
                "properties": {
                  "name": "Maria",
                  "label": "Person"
                },
                "color": "#2196F3",
                "styles": {},
                "label": "Maria",
                "scale_factor": 1,
                "type": "#2196F3",
                "size": [
                  55,
                  55
                ],
                "position": [
                  0,
                  0
                ]
              },
              {
                "id": 5,
                "properties": {
                  "name": "Sara",
                  "label": "Person"
                },
                "color": "#2196F3",
                "styles": {},
                "label": "Sara",
                "scale_factor": 1,
                "type": "#2196F3",
                "size": [
                  55,
                  55
                ],
                "position": [
                  0,
                  0
                ]
              },
              {
                "id": 6,
                "properties": {
                  "name": "Joe",
                  "label": "Person"
                },
                "color": "#2196F3",
                "styles": {},
                "label": "Joe",
                "scale_factor": 1,
                "type": "#2196F3",
                "size": [
                  55,
                  55
                ],
                "position": [
                  0,
                  0
                ]
              }
            ],
            "_overview": {
              "enabled": null,
              "overview_set": false
            },
            "_selected_graph": [
              [],
              []
            ],
            "_sidebar": {
              "enabled": false,
              "start_with": null
            },
            "_view_count": null,
            "_view_module": "yfiles-jupyter-graphs",
            "_view_module_version": "^1.10.1",
            "_view_name": "GraphView",
            "layout": "IPY_MODEL_e43f5c507c0b4ed0b0245d2ed61ad7be",
            "tabbable": null,
            "tooltip": null
          }
        },
        "e43f5c507c0b4ed0b0245d2ed61ad7be": {
          "model_module": "@jupyter-widgets/base",
          "model_name": "LayoutModel",
          "model_module_version": "2.0.0",
          "state": {
            "_model_module": "@jupyter-widgets/base",
            "_model_module_version": "2.0.0",
            "_model_name": "LayoutModel",
            "_view_count": null,
            "_view_module": "@jupyter-widgets/base",
            "_view_module_version": "2.0.0",
            "_view_name": "LayoutView",
            "align_content": null,
            "align_items": null,
            "align_self": null,
            "border_bottom": null,
            "border_left": null,
            "border_right": null,
            "border_top": null,
            "bottom": null,
            "display": null,
            "flex": null,
            "flex_flow": null,
            "grid_area": null,
            "grid_auto_columns": null,
            "grid_auto_flow": null,
            "grid_auto_rows": null,
            "grid_column": null,
            "grid_gap": null,
            "grid_row": null,
            "grid_template_areas": null,
            "grid_template_columns": null,
            "grid_template_rows": null,
            "height": "500px",
            "justify_content": null,
            "justify_items": null,
            "left": null,
            "margin": null,
            "max_height": null,
            "max_width": null,
            "min_height": null,
            "min_width": null,
            "object_fit": null,
            "object_position": null,
            "order": null,
            "overflow": null,
            "padding": null,
            "right": null,
            "top": null,
            "visibility": null,
            "width": "100%"
          }
        },
        "20186f39e0ef4860af26ed7ab5683bb0": {
          "model_module": "yfiles-jupyter-graphs",
          "model_name": "GraphModel",
          "model_module_version": "^1.10.1",
          "state": {
            "_context_pane_mapping": [
              {
                "id": "Neighborhood",
                "title": "Neighborhood"
              },
              {
                "id": "Data",
                "title": "Data"
              },
              {
                "id": "Search",
                "title": "Search"
              },
              {
                "id": "About",
                "title": "About"
              }
            ],
            "_data_importer": "neo4j",
            "_directed": true,
            "_dom_classes": [],
            "_edges": [
              {
                "id": 1152921504606847000,
                "start": 0,
                "end": 1,
                "properties": {
                  "label": "FRIEND"
                },
                "color": "#4CAF50",
                "thickness_factor": 1,
                "directed": true,
                "styles": {},
                "label": "FRIEND"
              },
              {
                "id": 1155173304420532200,
                "start": 0,
                "end": 3,
                "properties": {
                  "label": "FRIEND"
                },
                "color": "#4CAF50",
                "thickness_factor": 1,
                "directed": true,
                "styles": {},
                "label": "FRIEND"
              },
              {
                "id": 1152921504606847000,
                "start": 1,
                "end": 2,
                "properties": {
                  "label": "FRIEND"
                },
                "color": "#4CAF50",
                "thickness_factor": 1,
                "directed": true,
                "styles": {},
                "label": "FRIEND"
              },
              {
                "id": 1152921504606847000,
                "start": 3,
                "end": 4,
                "properties": {
                  "label": "FRIEND"
                },
                "color": "#4CAF50",
                "thickness_factor": 1,
                "directed": true,
                "styles": {},
                "label": "FRIEND"
              }
            ],
            "_graph_layout": {},
            "_highlight": [],
            "_license": {},
            "_model_module": "yfiles-jupyter-graphs",
            "_model_module_version": "^1.10.1",
            "_model_name": "GraphModel",
            "_neighborhood": {},
            "_nodes": [
              {
                "id": 0,
                "properties": {
                  "name": "John",
                  "label": "Person"
                },
                "color": "#2196F3",
                "styles": {},
                "label": "John",
                "scale_factor": 1,
                "type": "#2196F3",
                "size": [
                  55,
                  55
                ],
                "position": [
                  0,
                  0
                ]
              },
              {
                "id": 1,
                "properties": {
                  "name": "Joe",
                  "label": "Person"
                },
                "color": "#2196F3",
                "styles": {},
                "label": "Joe",
                "scale_factor": 1,
                "type": "#2196F3",
                "size": [
                  55,
                  55
                ],
                "position": [
                  0,
                  0
                ]
              },
              {
                "id": 3,
                "properties": {
                  "name": "Sara",
                  "label": "Person"
                },
                "color": "#2196F3",
                "styles": {},
                "label": "Sara",
                "scale_factor": 1,
                "type": "#2196F3",
                "size": [
                  55,
                  55
                ],
                "position": [
                  0,
                  0
                ]
              },
              {
                "id": 2,
                "properties": {
                  "name": "Steve",
                  "label": "Person"
                },
                "color": "#2196F3",
                "styles": {},
                "label": "Steve",
                "scale_factor": 1,
                "type": "#2196F3",
                "size": [
                  55,
                  55
                ],
                "position": [
                  0,
                  0
                ]
              },
              {
                "id": 4,
                "properties": {
                  "name": "Maria",
                  "label": "Person"
                },
                "color": "#2196F3",
                "styles": {},
                "label": "Maria",
                "scale_factor": 1,
                "type": "#2196F3",
                "size": [
                  55,
                  55
                ],
                "position": [
                  0,
                  0
                ]
              }
            ],
            "_overview": {
              "enabled": null,
              "overview_set": false
            },
            "_selected_graph": [
              [],
              []
            ],
            "_sidebar": {
              "enabled": false,
              "start_with": null
            },
            "_view_count": null,
            "_view_module": "yfiles-jupyter-graphs",
            "_view_module_version": "^1.10.1",
            "_view_name": "GraphView",
            "layout": "IPY_MODEL_7de58ba5224b44da9bf96aafb0d09531",
            "tabbable": null,
            "tooltip": null
          }
        },
        "7de58ba5224b44da9bf96aafb0d09531": {
          "model_module": "@jupyter-widgets/base",
          "model_name": "LayoutModel",
          "model_module_version": "2.0.0",
          "state": {
            "_model_module": "@jupyter-widgets/base",
            "_model_module_version": "2.0.0",
            "_model_name": "LayoutModel",
            "_view_count": null,
            "_view_module": "@jupyter-widgets/base",
            "_view_module_version": "2.0.0",
            "_view_name": "LayoutView",
            "align_content": null,
            "align_items": null,
            "align_self": null,
            "border_bottom": null,
            "border_left": null,
            "border_right": null,
            "border_top": null,
            "bottom": null,
            "display": null,
            "flex": null,
            "flex_flow": null,
            "grid_area": null,
            "grid_auto_columns": null,
            "grid_auto_flow": null,
            "grid_auto_rows": null,
            "grid_column": null,
            "grid_gap": null,
            "grid_row": null,
            "grid_template_areas": null,
            "grid_template_columns": null,
            "grid_template_rows": null,
            "height": "500px",
            "justify_content": null,
            "justify_items": null,
            "left": null,
            "margin": null,
            "max_height": null,
            "max_width": null,
            "min_height": null,
            "min_width": null,
            "object_fit": null,
            "object_position": null,
            "order": null,
            "overflow": null,
            "padding": null,
            "right": null,
            "top": null,
            "visibility": null,
            "width": "100%"
          }
        },
        "9538ed2e73984de3880914f3c5c2d271": {
          "model_module": "yfiles-jupyter-graphs",
          "model_name": "GraphModel",
          "model_module_version": "^1.10.1",
          "state": {
            "_context_pane_mapping": [
              {
                "id": "Neighborhood",
                "title": "Neighborhood"
              },
              {
                "id": "Data",
                "title": "Data"
              },
              {
                "id": "Search",
                "title": "Search"
              },
              {
                "id": "About",
                "title": "About"
              }
            ],
            "_data_importer": "neo4j",
            "_directed": true,
            "_dom_classes": [],
            "_edges": [
              {
                "id": 1152921504606847000,
                "start": 0,
                "end": 1,
                "properties": {
                  "label": "FRIEND"
                },
                "color": "#4CAF50",
                "thickness_factor": 1,
                "directed": true,
                "styles": {},
                "label": "FRIEND"
              },
              {
                "id": 1155173304420532200,
                "start": 0,
                "end": 3,
                "properties": {
                  "label": "FRIEND"
                },
                "color": "#4CAF50",
                "thickness_factor": 1,
                "directed": true,
                "styles": {},
                "label": "FRIEND"
              },
              {
                "id": 1152921504606847000,
                "start": 1,
                "end": 2,
                "properties": {
                  "label": "FRIEND"
                },
                "color": "#4CAF50",
                "thickness_factor": 1,
                "directed": true,
                "styles": {},
                "label": "FRIEND"
              },
              {
                "id": 1157425104234217500,
                "start": 3,
                "end": 1,
                "properties": {
                  "label": "FRIEND"
                },
                "color": "#4CAF50",
                "thickness_factor": 1,
                "directed": true,
                "styles": {},
                "label": "FRIEND"
              },
              {
                "id": 1152921504606847000,
                "start": 3,
                "end": 4,
                "properties": {
                  "label": "FRIEND"
                },
                "color": "#4CAF50",
                "thickness_factor": 1,
                "directed": true,
                "styles": {},
                "label": "FRIEND"
              }
            ],
            "_graph_layout": {},
            "_highlight": [],
            "_license": {},
            "_model_module": "yfiles-jupyter-graphs",
            "_model_module_version": "^1.10.1",
            "_model_name": "GraphModel",
            "_neighborhood": {},
            "_nodes": [
              {
                "id": 0,
                "properties": {
                  "name": "John",
                  "label": "Person"
                },
                "color": "#2196F3",
                "styles": {},
                "label": "John",
                "scale_factor": 1,
                "type": "#2196F3",
                "size": [
                  55,
                  55
                ],
                "position": [
                  0,
                  0
                ]
              },
              {
                "id": 1,
                "properties": {
                  "name": "Joe",
                  "label": "Person"
                },
                "color": "#2196F3",
                "styles": {},
                "label": "Joe",
                "scale_factor": 1,
                "type": "#2196F3",
                "size": [
                  55,
                  55
                ],
                "position": [
                  0,
                  0
                ]
              },
              {
                "id": 3,
                "properties": {
                  "name": "Sara",
                  "label": "Person"
                },
                "color": "#2196F3",
                "styles": {},
                "label": "Sara",
                "scale_factor": 1,
                "type": "#2196F3",
                "size": [
                  55,
                  55
                ],
                "position": [
                  0,
                  0
                ]
              },
              {
                "id": 2,
                "properties": {
                  "name": "Steve",
                  "label": "Person"
                },
                "color": "#2196F3",
                "styles": {},
                "label": "Steve",
                "scale_factor": 1,
                "type": "#2196F3",
                "size": [
                  55,
                  55
                ],
                "position": [
                  0,
                  0
                ]
              },
              {
                "id": 4,
                "properties": {
                  "name": "Maria",
                  "label": "Person"
                },
                "color": "#2196F3",
                "styles": {},
                "label": "Maria",
                "scale_factor": 1,
                "type": "#2196F3",
                "size": [
                  55,
                  55
                ],
                "position": [
                  0,
                  0
                ]
              }
            ],
            "_overview": {
              "enabled": null,
              "overview_set": false
            },
            "_selected_graph": [
              [],
              []
            ],
            "_sidebar": {
              "enabled": false,
              "start_with": null
            },
            "_view_count": null,
            "_view_module": "yfiles-jupyter-graphs",
            "_view_module_version": "^1.10.1",
            "_view_name": "GraphView",
            "layout": "IPY_MODEL_ff9b03f098924007912d400199c77c9d",
            "tabbable": null,
            "tooltip": null
          }
        },
        "ff9b03f098924007912d400199c77c9d": {
          "model_module": "@jupyter-widgets/base",
          "model_name": "LayoutModel",
          "model_module_version": "2.0.0",
          "state": {
            "_model_module": "@jupyter-widgets/base",
            "_model_module_version": "2.0.0",
            "_model_name": "LayoutModel",
            "_view_count": null,
            "_view_module": "@jupyter-widgets/base",
            "_view_module_version": "2.0.0",
            "_view_name": "LayoutView",
            "align_content": null,
            "align_items": null,
            "align_self": null,
            "border_bottom": null,
            "border_left": null,
            "border_right": null,
            "border_top": null,
            "bottom": null,
            "display": null,
            "flex": null,
            "flex_flow": null,
            "grid_area": null,
            "grid_auto_columns": null,
            "grid_auto_flow": null,
            "grid_auto_rows": null,
            "grid_column": null,
            "grid_gap": null,
            "grid_row": null,
            "grid_template_areas": null,
            "grid_template_columns": null,
            "grid_template_rows": null,
            "height": "500px",
            "justify_content": null,
            "justify_items": null,
            "left": null,
            "margin": null,
            "max_height": null,
            "max_width": null,
            "min_height": null,
            "min_width": null,
            "object_fit": null,
            "object_position": null,
            "order": null,
            "overflow": null,
            "padding": null,
            "right": null,
            "top": null,
            "visibility": null,
            "width": "100%"
          }
        },
        "1fccf1d23b314147b7c36f1785a7325f": {
          "model_module": "yfiles-jupyter-graphs",
          "model_name": "GraphModel",
          "model_module_version": "^1.10.1",
          "state": {
            "_context_pane_mapping": [
              {
                "id": "Neighborhood",
                "title": "Neighborhood"
              },
              {
                "id": "Data",
                "title": "Data"
              },
              {
                "id": "Search",
                "title": "Search"
              },
              {
                "id": "About",
                "title": "About"
              }
            ],
            "_data_importer": "neo4j",
            "_directed": true,
            "_dom_classes": [],
            "_edges": [
              {
                "id": 1152921504606847000,
                "start": 0,
                "end": 1,
                "properties": {
                  "label": "FRIEND"
                },
                "color": "#F44336",
                "thickness_factor": 1,
                "directed": true,
                "styles": {},
                "label": "FRIEND"
              },
              {
                "id": 1155173304420532200,
                "start": 0,
                "end": 3,
                "properties": {
                  "label": "FRIEND"
                },
                "color": "#F44336",
                "thickness_factor": 1,
                "directed": true,
                "styles": {},
                "label": "FRIEND"
              },
              {
                "id": 1152922604118474800,
                "start": 0,
                "end": 6,
                "properties": {
                  "label": "LIVES_IN"
                },
                "color": "#607D8B",
                "thickness_factor": 1,
                "directed": true,
                "styles": {},
                "label": "LIVES_IN"
              },
              {
                "id": 1152921504606847000,
                "start": 1,
                "end": 2,
                "properties": {
                  "label": "FRIEND"
                },
                "color": "#F44336",
                "thickness_factor": 1,
                "directed": true,
                "styles": {},
                "label": "FRIEND"
              },
              {
                "id": 1152922604118474800,
                "start": 1,
                "end": 5,
                "properties": {
                  "label": "LIVES_IN"
                },
                "color": "#607D8B",
                "thickness_factor": 1,
                "directed": true,
                "styles": {},
                "label": "LIVES_IN"
              },
              {
                "id": 1152922604118474800,
                "start": 2,
                "end": 5,
                "properties": {
                  "label": "LIVES_IN"
                },
                "color": "#607D8B",
                "thickness_factor": 1,
                "directed": true,
                "styles": {},
                "label": "LIVES_IN"
              },
              {
                "id": 1157425104234217500,
                "start": 3,
                "end": 1,
                "properties": {
                  "label": "FRIEND"
                },
                "color": "#F44336",
                "thickness_factor": 1,
                "directed": true,
                "styles": {},
                "label": "FRIEND"
              },
              {
                "id": 1152921504606847000,
                "start": 3,
                "end": 4,
                "properties": {
                  "label": "FRIEND"
                },
                "color": "#F44336",
                "thickness_factor": 1,
                "directed": true,
                "styles": {},
                "label": "FRIEND"
              },
              {
                "id": 1152922604118474800,
                "start": 3,
                "end": 6,
                "properties": {
                  "label": "LIVES_IN"
                },
                "color": "#607D8B",
                "thickness_factor": 1,
                "directed": true,
                "styles": {},
                "label": "LIVES_IN"
              },
              {
                "id": 1152922604118474800,
                "start": 4,
                "end": 6,
                "properties": {
                  "label": "LIVES_IN"
                },
                "color": "#607D8B",
                "thickness_factor": 1,
                "directed": true,
                "styles": {},
                "label": "LIVES_IN"
              }
            ],
            "_graph_layout": {},
            "_highlight": [],
            "_license": {},
            "_model_module": "yfiles-jupyter-graphs",
            "_model_module_version": "^1.10.1",
            "_model_name": "GraphModel",
            "_neighborhood": {},
            "_nodes": [
              {
                "id": 0,
                "properties": {
                  "name": "John",
                  "label": "Person"
                },
                "color": "#2196F3",
                "styles": {},
                "label": "John",
                "scale_factor": 1,
                "type": "#2196F3",
                "size": [
                  55,
                  55
                ],
                "position": [
                  0,
                  0
                ]
              },
              {
                "id": 1,
                "properties": {
                  "name": "Joe",
                  "label": "Person"
                },
                "color": "#2196F3",
                "styles": {},
                "label": "Joe",
                "scale_factor": 1,
                "type": "#2196F3",
                "size": [
                  55,
                  55
                ],
                "position": [
                  0,
                  0
                ]
              },
              {
                "id": 3,
                "properties": {
                  "name": "Sara",
                  "label": "Person"
                },
                "color": "#2196F3",
                "styles": {},
                "label": "Sara",
                "scale_factor": 1,
                "type": "#2196F3",
                "size": [
                  55,
                  55
                ],
                "position": [
                  0,
                  0
                ]
              },
              {
                "id": 6,
                "properties": {
                  "name": "Germany",
                  "label": "Country"
                },
                "color": "#4CAF50",
                "styles": {},
                "label": "Germany",
                "scale_factor": 1,
                "type": "#4CAF50",
                "size": [
                  55,
                  55
                ],
                "position": [
                  0,
                  0
                ]
              },
              {
                "id": 2,
                "properties": {
                  "name": "Steve",
                  "label": "Person"
                },
                "color": "#2196F3",
                "styles": {},
                "label": "Steve",
                "scale_factor": 1,
                "type": "#2196F3",
                "size": [
                  55,
                  55
                ],
                "position": [
                  0,
                  0
                ]
              },
              {
                "id": 5,
                "properties": {
                  "name": "Australia",
                  "label": "Country"
                },
                "color": "#4CAF50",
                "styles": {},
                "label": "Australia",
                "scale_factor": 1,
                "type": "#4CAF50",
                "size": [
                  55,
                  55
                ],
                "position": [
                  0,
                  0
                ]
              },
              {
                "id": 4,
                "properties": {
                  "name": "Maria",
                  "label": "Person"
                },
                "color": "#2196F3",
                "styles": {},
                "label": "Maria",
                "scale_factor": 1,
                "type": "#2196F3",
                "size": [
                  55,
                  55
                ],
                "position": [
                  0,
                  0
                ]
              }
            ],
            "_overview": {
              "enabled": null,
              "overview_set": false
            },
            "_selected_graph": [
              [],
              []
            ],
            "_sidebar": {
              "enabled": false,
              "start_with": null
            },
            "_view_count": null,
            "_view_module": "yfiles-jupyter-graphs",
            "_view_module_version": "^1.10.1",
            "_view_name": "GraphView",
            "layout": "IPY_MODEL_4cb32b76c18d4150a744d9a6a39e9454",
            "tabbable": null,
            "tooltip": null
          }
        },
        "4cb32b76c18d4150a744d9a6a39e9454": {
          "model_module": "@jupyter-widgets/base",
          "model_name": "LayoutModel",
          "model_module_version": "2.0.0",
          "state": {
            "_model_module": "@jupyter-widgets/base",
            "_model_module_version": "2.0.0",
            "_model_name": "LayoutModel",
            "_view_count": null,
            "_view_module": "@jupyter-widgets/base",
            "_view_module_version": "2.0.0",
            "_view_name": "LayoutView",
            "align_content": null,
            "align_items": null,
            "align_self": null,
            "border_bottom": null,
            "border_left": null,
            "border_right": null,
            "border_top": null,
            "bottom": null,
            "display": null,
            "flex": null,
            "flex_flow": null,
            "grid_area": null,
            "grid_auto_columns": null,
            "grid_auto_flow": null,
            "grid_auto_rows": null,
            "grid_column": null,
            "grid_gap": null,
            "grid_row": null,
            "grid_template_areas": null,
            "grid_template_columns": null,
            "grid_template_rows": null,
            "height": "500px",
            "justify_content": null,
            "justify_items": null,
            "left": null,
            "margin": null,
            "max_height": null,
            "max_width": null,
            "min_height": null,
            "min_width": null,
            "object_fit": null,
            "object_position": null,
            "order": null,
            "overflow": null,
            "padding": null,
            "right": null,
            "top": null,
            "visibility": null,
            "width": "100%"
          }
        },
        "243e6be421914a50ab2c1c7787ceda7f": {
          "model_module": "yfiles-jupyter-graphs",
          "model_name": "GraphModel",
          "model_module_version": "^1.10.1",
          "state": {
            "_context_pane_mapping": [
              {
                "id": "Neighborhood",
                "title": "Neighborhood"
              },
              {
                "id": "Data",
                "title": "Data"
              },
              {
                "id": "Search",
                "title": "Search"
              },
              {
                "id": "About",
                "title": "About"
              }
            ],
            "_data_importer": "neo4j",
            "_directed": true,
            "_dom_classes": [],
            "_edges": [
              {
                "id": 1152921504606847000,
                "start": 0,
                "end": 1,
                "properties": {
                  "label": "FRIEND"
                },
                "color": "#F44336",
                "thickness_factor": 1,
                "directed": true,
                "styles": {},
                "label": "FRIEND"
              },
              {
                "id": 1155173304420532200,
                "start": 0,
                "end": 3,
                "properties": {
                  "label": "FRIEND"
                },
                "color": "#F44336",
                "thickness_factor": 1,
                "directed": true,
                "styles": {},
                "label": "FRIEND"
              },
              {
                "id": 1152922604118474800,
                "start": 0,
                "end": 6,
                "properties": {
                  "label": "LIVES_IN"
                },
                "color": "#607D8B",
                "thickness_factor": 1,
                "directed": true,
                "styles": {},
                "label": "LIVES_IN"
              },
              {
                "id": 1152921504606847000,
                "start": 1,
                "end": 2,
                "properties": {
                  "label": "FRIEND"
                },
                "color": "#F44336",
                "thickness_factor": 1,
                "directed": true,
                "styles": {},
                "label": "FRIEND"
              },
              {
                "id": 1152922604118474800,
                "start": 1,
                "end": 5,
                "properties": {
                  "label": "LIVES_IN"
                },
                "color": "#607D8B",
                "thickness_factor": 1,
                "directed": true,
                "styles": {},
                "label": "LIVES_IN"
              },
              {
                "id": 1152922604118474800,
                "start": 2,
                "end": 5,
                "properties": {
                  "label": "LIVES_IN"
                },
                "color": "#607D8B",
                "thickness_factor": 1,
                "directed": true,
                "styles": {},
                "label": "LIVES_IN"
              },
              {
                "id": 1157425104234217500,
                "start": 3,
                "end": 1,
                "properties": {
                  "label": "FRIEND"
                },
                "color": "#F44336",
                "thickness_factor": 1,
                "directed": true,
                "styles": {},
                "label": "FRIEND"
              },
              {
                "id": 1152921504606847000,
                "start": 3,
                "end": 4,
                "properties": {
                  "label": "FRIEND"
                },
                "color": "#F44336",
                "thickness_factor": 1,
                "directed": true,
                "styles": {},
                "label": "FRIEND"
              },
              {
                "id": 1152922604118474800,
                "start": 3,
                "end": 6,
                "properties": {
                  "label": "LIVES_IN"
                },
                "color": "#607D8B",
                "thickness_factor": 1,
                "directed": true,
                "styles": {},
                "label": "LIVES_IN"
              },
              {
                "id": 1152922604118474800,
                "start": 4,
                "end": 6,
                "properties": {
                  "label": "LIVES_IN"
                },
                "color": "#607D8B",
                "thickness_factor": 1,
                "directed": true,
                "styles": {},
                "label": "LIVES_IN"
              }
            ],
            "_graph_layout": {},
            "_highlight": [],
            "_license": {},
            "_model_module": "yfiles-jupyter-graphs",
            "_model_module_version": "^1.10.1",
            "_model_name": "GraphModel",
            "_neighborhood": {},
            "_nodes": [
              {
                "id": 0,
                "properties": {
                  "name": "John",
                  "label": "Person"
                },
                "color": "#2196F3",
                "styles": {},
                "label": "John",
                "scale_factor": 1,
                "type": "#2196F3",
                "size": [
                  55,
                  55
                ],
                "position": [
                  0,
                  0
                ]
              },
              {
                "id": 1,
                "properties": {
                  "name": "Joe",
                  "label": "Person"
                },
                "color": "#2196F3",
                "styles": {},
                "label": "Joe",
                "scale_factor": 1,
                "type": "#2196F3",
                "size": [
                  55,
                  55
                ],
                "position": [
                  0,
                  0
                ]
              },
              {
                "id": 3,
                "properties": {
                  "name": "Sara",
                  "label": "Person"
                },
                "color": "#2196F3",
                "styles": {},
                "label": "Sara",
                "scale_factor": 1,
                "type": "#2196F3",
                "size": [
                  55,
                  55
                ],
                "position": [
                  0,
                  0
                ]
              },
              {
                "id": 6,
                "properties": {
                  "name": "Germany",
                  "label": "Country"
                },
                "color": "#4CAF50",
                "styles": {},
                "label": "Germany",
                "scale_factor": 1,
                "type": "#4CAF50",
                "size": [
                  55,
                  55
                ],
                "position": [
                  0,
                  0
                ]
              },
              {
                "id": 2,
                "properties": {
                  "name": "Steve",
                  "label": "Person"
                },
                "color": "#2196F3",
                "styles": {},
                "label": "Steve",
                "scale_factor": 1,
                "type": "#2196F3",
                "size": [
                  55,
                  55
                ],
                "position": [
                  0,
                  0
                ]
              },
              {
                "id": 5,
                "properties": {
                  "name": "Australia",
                  "label": "Country"
                },
                "color": "#4CAF50",
                "styles": {},
                "label": "Australia",
                "scale_factor": 1,
                "type": "#4CAF50",
                "size": [
                  55,
                  55
                ],
                "position": [
                  0,
                  0
                ]
              },
              {
                "id": 4,
                "properties": {
                  "name": "Maria",
                  "label": "Person"
                },
                "color": "#2196F3",
                "styles": {},
                "label": "Maria",
                "scale_factor": 1,
                "type": "#2196F3",
                "size": [
                  55,
                  55
                ],
                "position": [
                  0,
                  0
                ]
              }
            ],
            "_overview": {
              "enabled": null,
              "overview_set": false
            },
            "_selected_graph": [
              [],
              []
            ],
            "_sidebar": {
              "enabled": false,
              "start_with": null
            },
            "_view_count": null,
            "_view_module": "yfiles-jupyter-graphs",
            "_view_module_version": "^1.10.1",
            "_view_name": "GraphView",
            "layout": "IPY_MODEL_8fb52a20c26a4f2fbe9aeee5240d4468",
            "tabbable": null,
            "tooltip": null
          }
        },
        "8fb52a20c26a4f2fbe9aeee5240d4468": {
          "model_module": "@jupyter-widgets/base",
          "model_name": "LayoutModel",
          "model_module_version": "2.0.0",
          "state": {
            "_model_module": "@jupyter-widgets/base",
            "_model_module_version": "2.0.0",
            "_model_name": "LayoutModel",
            "_view_count": null,
            "_view_module": "@jupyter-widgets/base",
            "_view_module_version": "2.0.0",
            "_view_name": "LayoutView",
            "align_content": null,
            "align_items": null,
            "align_self": null,
            "border_bottom": null,
            "border_left": null,
            "border_right": null,
            "border_top": null,
            "bottom": null,
            "display": null,
            "flex": null,
            "flex_flow": null,
            "grid_area": null,
            "grid_auto_columns": null,
            "grid_auto_flow": null,
            "grid_auto_rows": null,
            "grid_column": null,
            "grid_gap": null,
            "grid_row": null,
            "grid_template_areas": null,
            "grid_template_columns": null,
            "grid_template_rows": null,
            "height": "500px",
            "justify_content": null,
            "justify_items": null,
            "left": null,
            "margin": null,
            "max_height": null,
            "max_width": null,
            "min_height": null,
            "min_width": null,
            "object_fit": null,
            "object_position": null,
            "order": null,
            "overflow": null,
            "padding": null,
            "right": null,
            "top": null,
            "visibility": null,
            "width": "100%"
          }
        },
        "75dab6cac6894a079f8bac13b2c687ad": {
          "model_module": "yfiles-jupyter-graphs",
          "model_name": "GraphModel",
          "model_module_version": "^1.10.1",
          "state": {
            "_context_pane_mapping": [
              {
                "id": "Neighborhood",
                "title": "Neighborhood"
              },
              {
                "id": "Data",
                "title": "Data"
              },
              {
                "id": "Search",
                "title": "Search"
              },
              {
                "id": "About",
                "title": "About"
              }
            ],
            "_data_importer": "neo4j",
            "_directed": true,
            "_dom_classes": [],
            "_edges": [
              {
                "id": -100,
                "start": -100,
                "end": -100,
                "properties": {
                  "name": "FRIEND",
                  "label": "FRIEND"
                },
                "color": "#F44336",
                "thickness_factor": 1,
                "directed": true,
                "styles": {},
                "label": "FRIEND"
              },
              {
                "id": -101,
                "start": -100,
                "end": -101,
                "properties": {
                  "name": "LIVES_IN",
                  "label": "LIVES_IN"
                },
                "color": "#607D8B",
                "thickness_factor": 1,
                "directed": true,
                "styles": {},
                "label": "LIVES_IN"
              }
            ],
            "_graph_layout": {},
            "_highlight": [],
            "_license": {},
            "_model_module": "yfiles-jupyter-graphs",
            "_model_module_version": "^1.10.1",
            "_model_name": "GraphModel",
            "_neighborhood": {},
            "_nodes": [
              {
                "id": -101,
                "properties": {
                  "name": "Country",
                  "indexes": [],
                  "constraints": [],
                  "label": "Country"
                },
                "color": "#2196F3",
                "styles": {},
                "label": "Country",
                "scale_factor": 1,
                "type": "#2196F3",
                "size": [
                  55,
                  55
                ],
                "position": [
                  0,
                  0
                ]
              },
              {
                "id": -100,
                "properties": {
                  "name": "Person",
                  "indexes": [],
                  "constraints": [],
                  "label": "Person"
                },
                "color": "#4CAF50",
                "styles": {},
                "label": "Person",
                "scale_factor": 1,
                "type": "#4CAF50",
                "size": [
                  55,
                  55
                ],
                "position": [
                  0,
                  0
                ]
              }
            ],
            "_overview": {
              "enabled": null,
              "overview_set": false
            },
            "_selected_graph": [
              [],
              []
            ],
            "_sidebar": {
              "enabled": false,
              "start_with": null
            },
            "_view_count": null,
            "_view_module": "yfiles-jupyter-graphs",
            "_view_module_version": "^1.10.1",
            "_view_name": "GraphView",
            "layout": "IPY_MODEL_fe38dbf5c22146489d643d2e1abe7a2f",
            "tabbable": null,
            "tooltip": null
          }
        },
        "fe38dbf5c22146489d643d2e1abe7a2f": {
          "model_module": "@jupyter-widgets/base",
          "model_name": "LayoutModel",
          "model_module_version": "2.0.0",
          "state": {
            "_model_module": "@jupyter-widgets/base",
            "_model_module_version": "2.0.0",
            "_model_name": "LayoutModel",
            "_view_count": null,
            "_view_module": "@jupyter-widgets/base",
            "_view_module_version": "2.0.0",
            "_view_name": "LayoutView",
            "align_content": null,
            "align_items": null,
            "align_self": null,
            "border_bottom": null,
            "border_left": null,
            "border_right": null,
            "border_top": null,
            "bottom": null,
            "display": null,
            "flex": null,
            "flex_flow": null,
            "grid_area": null,
            "grid_auto_columns": null,
            "grid_auto_flow": null,
            "grid_auto_rows": null,
            "grid_column": null,
            "grid_gap": null,
            "grid_row": null,
            "grid_template_areas": null,
            "grid_template_columns": null,
            "grid_template_rows": null,
            "height": "500px",
            "justify_content": null,
            "justify_items": null,
            "left": null,
            "margin": null,
            "max_height": null,
            "max_width": null,
            "min_height": null,
            "min_width": null,
            "object_fit": null,
            "object_position": null,
            "order": null,
            "overflow": null,
            "padding": null,
            "right": null,
            "top": null,
            "visibility": null,
            "width": "100%"
          }
        },
        "96a76bdade8641a08a3ac1f9fa0bda4e": {
          "model_module": "yfiles-jupyter-graphs",
          "model_name": "GraphModel",
          "model_module_version": "^1.10.1",
          "state": {
            "_context_pane_mapping": [
              {
                "id": "Neighborhood",
                "title": "Neighborhood"
              },
              {
                "id": "Data",
                "title": "Data"
              },
              {
                "id": "Search",
                "title": "Search"
              },
              {
                "id": "About",
                "title": "About"
              }
            ],
            "_data_importer": "neo4j",
            "_directed": true,
            "_dom_classes": [],
            "_edges": [
              {
                "id": 1152923703630102500,
                "start": 1,
                "end": 0,
                "properties": {
                  "label": "SUPERVISOR"
                },
                "color": "#4CAF50",
                "thickness_factor": 1,
                "directed": true,
                "styles": {},
                "label": "SUPERVISOR"
              },
              {
                "id": 1152923703630102500,
                "start": 2,
                "end": 0,
                "properties": {
                  "label": "SUPERVISOR"
                },
                "color": "#4CAF50",
                "thickness_factor": 1,
                "directed": true,
                "styles": {},
                "label": "SUPERVISOR"
              }
            ],
            "_graph_layout": {},
            "_highlight": [],
            "_license": {},
            "_model_module": "yfiles-jupyter-graphs",
            "_model_module_version": "^1.10.1",
            "_model_name": "GraphModel",
            "_neighborhood": {},
            "_nodes": [
              {
                "id": 1,
                "properties": {
                  "lastName": "Ferragina",
                  "my_id": "1",
                  "name": "Paolo",
                  "label": "Person"
                },
                "color": "#2196F3",
                "styles": {},
                "label": "Paolo",
                "scale_factor": 1,
                "type": "#2196F3",
                "size": [
                  55,
                  55
                ],
                "position": [
                  0,
                  0
                ]
              },
              {
                "id": 0,
                "properties": {
                  "lastName": "Bellomo",
                  "my_id": "0",
                  "name": "Lorenzo",
                  "label": "Person"
                },
                "color": "#2196F3",
                "styles": {},
                "label": "Lorenzo",
                "scale_factor": 1,
                "type": "#2196F3",
                "size": [
                  55,
                  55
                ],
                "position": [
                  0,
                  0
                ]
              },
              {
                "id": 2,
                "properties": {
                  "lastName": "Pedreschi",
                  "my_id": "2",
                  "name": "Dino",
                  "label": "Person"
                },
                "color": "#2196F3",
                "styles": {},
                "label": "Dino",
                "scale_factor": 1,
                "type": "#2196F3",
                "size": [
                  55,
                  55
                ],
                "position": [
                  0,
                  0
                ]
              }
            ],
            "_overview": {
              "enabled": null,
              "overview_set": false
            },
            "_selected_graph": [
              [],
              []
            ],
            "_sidebar": {
              "enabled": false,
              "start_with": null
            },
            "_view_count": null,
            "_view_module": "yfiles-jupyter-graphs",
            "_view_module_version": "^1.10.1",
            "_view_name": "GraphView",
            "layout": "IPY_MODEL_64322ac8a0c64b63ae6c2bc503f24260",
            "tabbable": null,
            "tooltip": null
          }
        },
        "64322ac8a0c64b63ae6c2bc503f24260": {
          "model_module": "@jupyter-widgets/base",
          "model_name": "LayoutModel",
          "model_module_version": "2.0.0",
          "state": {
            "_model_module": "@jupyter-widgets/base",
            "_model_module_version": "2.0.0",
            "_model_name": "LayoutModel",
            "_view_count": null,
            "_view_module": "@jupyter-widgets/base",
            "_view_module_version": "2.0.0",
            "_view_name": "LayoutView",
            "align_content": null,
            "align_items": null,
            "align_self": null,
            "border_bottom": null,
            "border_left": null,
            "border_right": null,
            "border_top": null,
            "bottom": null,
            "display": null,
            "flex": null,
            "flex_flow": null,
            "grid_area": null,
            "grid_auto_columns": null,
            "grid_auto_flow": null,
            "grid_auto_rows": null,
            "grid_column": null,
            "grid_gap": null,
            "grid_row": null,
            "grid_template_areas": null,
            "grid_template_columns": null,
            "grid_template_rows": null,
            "height": "500px",
            "justify_content": null,
            "justify_items": null,
            "left": null,
            "margin": null,
            "max_height": null,
            "max_width": null,
            "min_height": null,
            "min_width": null,
            "object_fit": null,
            "object_position": null,
            "order": null,
            "overflow": null,
            "padding": null,
            "right": null,
            "top": null,
            "visibility": null,
            "width": "100%"
          }
        }
      }
    }
  },
  "cells": [
    {
      "cell_type": "markdown",
      "metadata": {
        "id": "view-in-github",
        "colab_type": "text"
      },
      "source": [
        "<a href=\"https://colab.research.google.com/github/LorenzoBellomo/InformationRetrieval/blob/main/notebooks/5_GraphDBs.ipynb\" target=\"_parent\"><img src=\"https://colab.research.google.com/assets/colab-badge.svg\" alt=\"Open In Colab\"/></a>"
      ]
    },
    {
      "cell_type": "markdown",
      "source": [
        "# GraphDBs and Neo4j"
      ],
      "metadata": {
        "id": "c9koTTbq31n5"
      }
    },
    {
      "cell_type": "markdown",
      "source": [
        "In this lecture, we focus on GraphDBs, using Neo4j and its language (Cypher) to make some simple queries."
      ],
      "metadata": {
        "id": "hOI1mQCf4JnO"
      }
    },
    {
      "cell_type": "code",
      "execution_count": 1,
      "metadata": {
        "colab": {
          "base_uri": "https://localhost:8080/"
        },
        "id": "VX2XAeXiYzRk",
        "outputId": "c7d618e1-d3d1-4375-d5ef-cd908d13aaaa"
      },
      "outputs": [
        {
          "output_type": "stream",
          "name": "stdout",
          "text": [
            "Collecting neo4j\n",
            "  Downloading neo4j-5.28.1-py3-none-any.whl.metadata (5.9 kB)\n",
            "Requirement already satisfied: pytz in /usr/local/lib/python3.11/dist-packages (from neo4j) (2025.1)\n",
            "Downloading neo4j-5.28.1-py3-none-any.whl (312 kB)\n",
            "\u001b[2K   \u001b[90m━━━━━━━━━━━━━━━━━━━━━━━━━━━━━━━━━━━━━━━━\u001b[0m \u001b[32m312.3/312.3 kB\u001b[0m \u001b[31m5.0 MB/s\u001b[0m eta \u001b[36m0:00:00\u001b[0m\n",
            "\u001b[?25hInstalling collected packages: neo4j\n",
            "Successfully installed neo4j-5.28.1\n"
          ]
        }
      ],
      "source": [
        "!pip install neo4j"
      ]
    },
    {
      "cell_type": "code",
      "source": [
        "!pip install yfiles_jupyter_graphs"
      ],
      "metadata": {
        "colab": {
          "base_uri": "https://localhost:8080/"
        },
        "id": "0KZFB2bmn8G6",
        "outputId": "8cb81309-b6f0-409e-f6e4-235c5a1e88f1"
      },
      "execution_count": 2,
      "outputs": [
        {
          "output_type": "stream",
          "name": "stdout",
          "text": [
            "Collecting yfiles_jupyter_graphs\n",
            "  Downloading yfiles_jupyter_graphs-1.10.1-py3-none-any.whl.metadata (19 kB)\n",
            "Collecting ipywidgets>=8.0.0 (from yfiles_jupyter_graphs)\n",
            "  Downloading ipywidgets-8.1.5-py3-none-any.whl.metadata (2.3 kB)\n",
            "Collecting comm>=0.1.3 (from ipywidgets>=8.0.0->yfiles_jupyter_graphs)\n",
            "  Downloading comm-0.2.2-py3-none-any.whl.metadata (3.7 kB)\n",
            "Requirement already satisfied: ipython>=6.1.0 in /usr/local/lib/python3.11/dist-packages (from ipywidgets>=8.0.0->yfiles_jupyter_graphs) (7.34.0)\n",
            "Requirement already satisfied: traitlets>=4.3.1 in /usr/local/lib/python3.11/dist-packages (from ipywidgets>=8.0.0->yfiles_jupyter_graphs) (5.7.1)\n",
            "Collecting widgetsnbextension~=4.0.12 (from ipywidgets>=8.0.0->yfiles_jupyter_graphs)\n",
            "  Downloading widgetsnbextension-4.0.13-py3-none-any.whl.metadata (1.6 kB)\n",
            "Requirement already satisfied: jupyterlab-widgets~=3.0.12 in /usr/local/lib/python3.11/dist-packages (from ipywidgets>=8.0.0->yfiles_jupyter_graphs) (3.0.13)\n",
            "Requirement already satisfied: setuptools>=18.5 in /usr/local/lib/python3.11/dist-packages (from ipython>=6.1.0->ipywidgets>=8.0.0->yfiles_jupyter_graphs) (75.1.0)\n",
            "Collecting jedi>=0.16 (from ipython>=6.1.0->ipywidgets>=8.0.0->yfiles_jupyter_graphs)\n",
            "  Downloading jedi-0.19.2-py2.py3-none-any.whl.metadata (22 kB)\n",
            "Requirement already satisfied: decorator in /usr/local/lib/python3.11/dist-packages (from ipython>=6.1.0->ipywidgets>=8.0.0->yfiles_jupyter_graphs) (4.4.2)\n",
            "Requirement already satisfied: pickleshare in /usr/local/lib/python3.11/dist-packages (from ipython>=6.1.0->ipywidgets>=8.0.0->yfiles_jupyter_graphs) (0.7.5)\n",
            "Requirement already satisfied: prompt-toolkit!=3.0.0,!=3.0.1,<3.1.0,>=2.0.0 in /usr/local/lib/python3.11/dist-packages (from ipython>=6.1.0->ipywidgets>=8.0.0->yfiles_jupyter_graphs) (3.0.50)\n",
            "Requirement already satisfied: pygments in /usr/local/lib/python3.11/dist-packages (from ipython>=6.1.0->ipywidgets>=8.0.0->yfiles_jupyter_graphs) (2.18.0)\n",
            "Requirement already satisfied: backcall in /usr/local/lib/python3.11/dist-packages (from ipython>=6.1.0->ipywidgets>=8.0.0->yfiles_jupyter_graphs) (0.2.0)\n",
            "Requirement already satisfied: matplotlib-inline in /usr/local/lib/python3.11/dist-packages (from ipython>=6.1.0->ipywidgets>=8.0.0->yfiles_jupyter_graphs) (0.1.7)\n",
            "Requirement already satisfied: pexpect>4.3 in /usr/local/lib/python3.11/dist-packages (from ipython>=6.1.0->ipywidgets>=8.0.0->yfiles_jupyter_graphs) (4.9.0)\n",
            "Requirement already satisfied: parso<0.9.0,>=0.8.4 in /usr/local/lib/python3.11/dist-packages (from jedi>=0.16->ipython>=6.1.0->ipywidgets>=8.0.0->yfiles_jupyter_graphs) (0.8.4)\n",
            "Requirement already satisfied: ptyprocess>=0.5 in /usr/local/lib/python3.11/dist-packages (from pexpect>4.3->ipython>=6.1.0->ipywidgets>=8.0.0->yfiles_jupyter_graphs) (0.7.0)\n",
            "Requirement already satisfied: wcwidth in /usr/local/lib/python3.11/dist-packages (from prompt-toolkit!=3.0.0,!=3.0.1,<3.1.0,>=2.0.0->ipython>=6.1.0->ipywidgets>=8.0.0->yfiles_jupyter_graphs) (0.2.13)\n",
            "Downloading yfiles_jupyter_graphs-1.10.1-py3-none-any.whl (15.6 MB)\n",
            "\u001b[2K   \u001b[90m━━━━━━━━━━━━━━━━━━━━━━━━━━━━━━━━━━━━━━━━\u001b[0m \u001b[32m15.6/15.6 MB\u001b[0m \u001b[31m89.7 MB/s\u001b[0m eta \u001b[36m0:00:00\u001b[0m\n",
            "\u001b[?25hDownloading ipywidgets-8.1.5-py3-none-any.whl (139 kB)\n",
            "\u001b[2K   \u001b[90m━━━━━━━━━━━━━━━━━━━━━━━━━━━━━━━━━━━━━━━━\u001b[0m \u001b[32m139.8/139.8 kB\u001b[0m \u001b[31m9.2 MB/s\u001b[0m eta \u001b[36m0:00:00\u001b[0m\n",
            "\u001b[?25hDownloading comm-0.2.2-py3-none-any.whl (7.2 kB)\n",
            "Downloading widgetsnbextension-4.0.13-py3-none-any.whl (2.3 MB)\n",
            "\u001b[2K   \u001b[90m━━━━━━━━━━━━━━━━━━━━━━━━━━━━━━━━━━━━━━━━\u001b[0m \u001b[32m2.3/2.3 MB\u001b[0m \u001b[31m75.3 MB/s\u001b[0m eta \u001b[36m0:00:00\u001b[0m\n",
            "\u001b[?25hDownloading jedi-0.19.2-py2.py3-none-any.whl (1.6 MB)\n",
            "\u001b[2K   \u001b[90m━━━━━━━━━━━━━━━━━━━━━━━━━━━━━━━━━━━━━━━━\u001b[0m \u001b[32m1.6/1.6 MB\u001b[0m \u001b[31m66.3 MB/s\u001b[0m eta \u001b[36m0:00:00\u001b[0m\n",
            "\u001b[?25hInstalling collected packages: widgetsnbextension, jedi, comm, ipywidgets, yfiles_jupyter_graphs\n",
            "  Attempting uninstall: widgetsnbextension\n",
            "    Found existing installation: widgetsnbextension 3.6.10\n",
            "    Uninstalling widgetsnbextension-3.6.10:\n",
            "      Successfully uninstalled widgetsnbextension-3.6.10\n",
            "  Attempting uninstall: ipywidgets\n",
            "    Found existing installation: ipywidgets 7.7.1\n",
            "    Uninstalling ipywidgets-7.7.1:\n",
            "      Successfully uninstalled ipywidgets-7.7.1\n",
            "Successfully installed comm-0.2.2 ipywidgets-8.1.5 jedi-0.19.2 widgetsnbextension-4.0.13 yfiles_jupyter_graphs-1.10.1\n"
          ]
        }
      ]
    },
    {
      "cell_type": "code",
      "source": [
        "from neo4j import GraphDatabase"
      ],
      "metadata": {
        "id": "swGnovUYZAvw"
      },
      "execution_count": 3,
      "outputs": []
    },
    {
      "cell_type": "markdown",
      "source": [
        "Go to the neo4j sandbox and click on the box \"blank project\" ([https://sandbox.neo4j.com/](https://sandbox.neo4j.com/)). After the sandbox has been created, click on the rightmost black arrow, click on \"connections details\", and copy the BOLT URL and password in the command just below"
      ],
      "metadata": {
        "id": "iHDFhilmZdHy"
      }
    },
    {
      "cell_type": "code",
      "source": [
        "driver = GraphDatabase.driver(<INSERT BOLT URL>, auth=(\"neo4j\", <INSERT PSW>))\n",
        "session = driver.session(database=\"neo4j\")\n",
        "driver.execute_query(\"MATCH (n) DETACH DELETE n  \") # purging eventual graphs already loaded"
      ],
      "metadata": {
        "colab": {
          "base_uri": "https://localhost:8080/"
        },
        "id": "haYXpov8ZOwT",
        "outputId": "8c2e31c9-6ce6-43ab-8608-19bc6bb7c5df"
      },
      "execution_count": 20,
      "outputs": [
        {
          "output_type": "execute_result",
          "data": {
            "text/plain": [
              "EagerResult(records=[], summary=<neo4j._work.summary.ResultSummary object at 0x7acc583d1c50>, keys=[])"
            ]
          },
          "metadata": {},
          "execution_count": 20
        }
      ]
    },
    {
      "cell_type": "markdown",
      "source": [
        "Now we are ready to populate the graph"
      ],
      "metadata": {
        "id": "URc4VOWZ3u0h"
      }
    },
    {
      "cell_type": "code",
      "source": [
        "driver.execute_query(\n",
        "    \"CREATE (john:Person {name: \\\"John\\\"})   \\\n",
        "    CREATE (joe:Person {name: \\\"Joe\\\"})      \\\n",
        "    CREATE (steve:Person {name: \\\"Steve\\\"})  \\\n",
        "    CREATE (sara:Person {name: \\\"Sara\\\"})    \\\n",
        "    CREATE (maria:Person {name: \\\"Maria\\\"})  \\\n",
        "    CREATE (john)-[:FRIEND]->(joe)-[:FRIEND]->(steve)    \\\n",
        "    CREATE (john)-[:FRIEND]->(sara)-[:FRIEND]->(maria)   \\\n",
        "\")"
      ],
      "metadata": {
        "colab": {
          "base_uri": "https://localhost:8080/"
        },
        "id": "09ucD4jpaFTL",
        "outputId": "3a5babc3-63f5-4c0d-9078-ff273d07065c"
      },
      "execution_count": 21,
      "outputs": [
        {
          "output_type": "execute_result",
          "data": {
            "text/plain": [
              "EagerResult(records=[], summary=<neo4j._work.summary.ResultSummary object at 0x7acc583f1fd0>, keys=[])"
            ]
          },
          "metadata": {},
          "execution_count": 21
        }
      ]
    },
    {
      "cell_type": "code",
      "source": [
        "# we execute only one query, but the user could specify several queries as a list of strings # TODO CONTROLLARE\n",
        "results = driver.execute_query(\"MATCH (n) return n\") # n is reserved to access nodes"
      ],
      "metadata": {
        "id": "GZ5v_dFLachq"
      },
      "execution_count": 13,
      "outputs": []
    },
    {
      "cell_type": "markdown",
      "source": [
        "Let's print the results, results are a list of \"node entries\". To access them we need to use the \"name\" of the variable that we used in the query (n)"
      ],
      "metadata": {
        "id": "4TbrlLiK4ZN-"
      }
    },
    {
      "cell_type": "code",
      "source": [
        "for record in results[0]: # We only run 1 query, so the response are in results[0]\n",
        "    # iterating over all nodes\n",
        "    elem = record[\"n\"]\n",
        "    print(\"{} node with name {}\".format(list(elem.labels)[0], elem[\"name\"])) # neo4j supports multiple labels (types) per node and edge"
      ],
      "metadata": {
        "colab": {
          "base_uri": "https://localhost:8080/"
        },
        "id": "gTF_ChCTdG3i",
        "outputId": "384d4e04-dbf4-447f-accb-c53e2e486347"
      },
      "execution_count": 14,
      "outputs": [
        {
          "output_type": "stream",
          "name": "stdout",
          "text": [
            "Person node with name John\n",
            "Person node with name Joe\n",
            "Person node with name Steve\n",
            "Person node with name Sara\n",
            "Person node with name Maria\n"
          ]
        }
      ]
    },
    {
      "cell_type": "markdown",
      "source": [
        "Let's use this widget library to see the graph visually (for ease of understanding)"
      ],
      "metadata": {
        "id": "cOtaU2bc4hNv"
      }
    },
    {
      "cell_type": "code",
      "source": [
        "from yfiles_jupyter_graphs import GraphWidget\n",
        "from google.colab import output\n",
        "output.enable_custom_widget_manager()\n",
        "def draw_graph():\n",
        "    g = session.run(\"MATCH (n) -[e]-> (m) return n, m, e\").graph()\n",
        "    gw = GraphWidget(graph=g)\n",
        "    return gw\n",
        "\n",
        "draw_graph()"
      ],
      "metadata": {
        "id": "NmQw2EA0n5RI",
        "outputId": "c572e76d-034c-46f3-f147-c2f9091cbeb1",
        "colab": {
          "base_uri": "https://localhost:8080/",
          "height": 517,
          "referenced_widgets": [
            "de93c836f1e24d87b49d646d23834e89",
            "c8aeb7e3aa464174b7ab272587516ae8"
          ]
        }
      },
      "execution_count": 15,
      "outputs": [
        {
          "output_type": "display_data",
          "data": {
            "text/plain": [
              "GraphWidget(layout=Layout(height='500px', width='100%'))"
            ],
            "application/vnd.jupyter.widget-view+json": {
              "version_major": 2,
              "version_minor": 0,
              "model_id": "de93c836f1e24d87b49d646d23834e89"
            }
          },
          "metadata": {
            "application/vnd.jupyter.widget-view+json": {
              "colab": {
                "custom_widget_manager": {
                  "url": "https://ssl.gstatic.com/colaboratory-static/widgets/colab-cdn-widget-manager/2b70e893a8ba7c0f/manager.min.js"
                }
              }
            }
          }
        }
      ]
    },
    {
      "cell_type": "markdown",
      "source": [
        "Now we try to add a new edge from nodes \"Sara\" and \"Joe\""
      ],
      "metadata": {
        "id": "DmHtTFES4sQ_"
      }
    },
    {
      "cell_type": "code",
      "source": [
        "results = driver.execute_query(\"CREATE (j:Person {name: \\\"Sara\\\"})-[rel:FRIEND]->(m:Person {name: \\\"Joe\\\"})  \")\n",
        "draw_graph()"
      ],
      "metadata": {
        "id": "YuVnKfFVl6fW",
        "outputId": "3ef7cd5d-f31a-4f2f-bea7-340474158ca6",
        "colab": {
          "base_uri": "https://localhost:8080/",
          "height": 517,
          "referenced_widgets": [
            "2884f284173248feaecbe940793fa22c",
            "e43f5c507c0b4ed0b0245d2ed61ad7be"
          ]
        }
      },
      "execution_count": 16,
      "outputs": [
        {
          "output_type": "display_data",
          "data": {
            "text/plain": [
              "GraphWidget(layout=Layout(height='500px', width='100%'))"
            ],
            "application/vnd.jupyter.widget-view+json": {
              "version_major": 2,
              "version_minor": 0,
              "model_id": "2884f284173248feaecbe940793fa22c"
            }
          },
          "metadata": {
            "application/vnd.jupyter.widget-view+json": {
              "colab": {
                "custom_widget_manager": {
                  "url": "https://ssl.gstatic.com/colaboratory-static/widgets/colab-cdn-widget-manager/2b70e893a8ba7c0f/manager.min.js"
                }
              }
            }
          }
        }
      ]
    },
    {
      "cell_type": "markdown",
      "source": [
        "Oops, we meessed up, we did not \"bind\" the two names to the nodes already present. First, let's delete the two new nodes we created."
      ],
      "metadata": {
        "id": "Zpaz0Scm4xXJ"
      }
    },
    {
      "cell_type": "code",
      "source": [
        "results = (driver.execute_query(\"MATCH (n {name: \\\"Sara\\\"}) -[]-> (m {name: \\\"Joe\\\"}) RETURN n, m\"))\n",
        "res = results[0][0]\n",
        "print(res)\n",
        "print(res[\"n\"].element_id)\n",
        "print(res[\"m\"].element_id)\n",
        "driver.execute_query(\"MATCH (n) where elementId(n)=$id DETACH DELETE n  \", id=res[\"n\"].element_id)\n",
        "driver.execute_query(\"MATCH (n) where elementId(n)=$id DETACH DELETE n  \", id=res[\"m\"].element_id)\n",
        "draw_graph()"
      ],
      "metadata": {
        "colab": {
          "base_uri": "https://localhost:8080/",
          "height": 589,
          "referenced_widgets": [
            "20186f39e0ef4860af26ed7ab5683bb0",
            "7de58ba5224b44da9bf96aafb0d09531"
          ]
        },
        "id": "iXfRo3twt3QL",
        "outputId": "47d8f216-0862-4e49-e4bf-1bb9140505e5"
      },
      "execution_count": 17,
      "outputs": [
        {
          "output_type": "stream",
          "name": "stdout",
          "text": [
            "<Record n=<Node element_id='4:1584a58c-6298-4af9-ac3f-2dab48b8bfb1:5' labels=frozenset({'Person'}) properties={'name': 'Sara'}> m=<Node element_id='4:1584a58c-6298-4af9-ac3f-2dab48b8bfb1:6' labels=frozenset({'Person'}) properties={'name': 'Joe'}>>\n",
            "4:1584a58c-6298-4af9-ac3f-2dab48b8bfb1:5\n",
            "4:1584a58c-6298-4af9-ac3f-2dab48b8bfb1:6\n"
          ]
        },
        {
          "output_type": "display_data",
          "data": {
            "text/plain": [
              "GraphWidget(layout=Layout(height='500px', width='100%'))"
            ],
            "application/vnd.jupyter.widget-view+json": {
              "version_major": 2,
              "version_minor": 0,
              "model_id": "20186f39e0ef4860af26ed7ab5683bb0"
            }
          },
          "metadata": {
            "application/vnd.jupyter.widget-view+json": {
              "colab": {
                "custom_widget_manager": {
                  "url": "https://ssl.gstatic.com/colaboratory-static/widgets/colab-cdn-widget-manager/2b70e893a8ba7c0f/manager.min.js"
                }
              }
            }
          }
        }
      ]
    },
    {
      "cell_type": "markdown",
      "source": [
        "To actually add the edge we wanted to add, we need to use the \"MERGE\" statement"
      ],
      "metadata": {
        "id": "maIV48cd5qmh"
      }
    },
    {
      "cell_type": "code",
      "source": [
        "driver.execute_query(\"MATCH (j:Person {name: \\\"Sara\\\"})  MATCH (m:Person {name: \\\"Joe\\\"})  MERGE (j)-[r:FRIEND]->(m)\")\n",
        "draw_graph()"
      ],
      "metadata": {
        "colab": {
          "base_uri": "https://localhost:8080/",
          "height": 517,
          "referenced_widgets": [
            "9538ed2e73984de3880914f3c5c2d271",
            "ff9b03f098924007912d400199c77c9d"
          ]
        },
        "id": "KTvPlteHyxIf",
        "outputId": "4c79125b-ea0c-43ff-ec21-8ffe44268392"
      },
      "execution_count": 22,
      "outputs": [
        {
          "output_type": "display_data",
          "data": {
            "text/plain": [
              "GraphWidget(layout=Layout(height='500px', width='100%'))"
            ],
            "application/vnd.jupyter.widget-view+json": {
              "version_major": 2,
              "version_minor": 0,
              "model_id": "9538ed2e73984de3880914f3c5c2d271"
            }
          },
          "metadata": {
            "application/vnd.jupyter.widget-view+json": {
              "colab": {
                "custom_widget_manager": {
                  "url": "https://ssl.gstatic.com/colaboratory-static/widgets/colab-cdn-widget-manager/2b70e893a8ba7c0f/manager.min.js"
                }
              }
            }
          }
        }
      ]
    },
    {
      "cell_type": "markdown",
      "source": [
        "Let's now add two countries, and let's connect our nodes to those countries"
      ],
      "metadata": {
        "id": "69hAWePp5yND"
      }
    },
    {
      "cell_type": "code",
      "source": [
        "driver.execute_query(\"CREATE (:Country {name: \\\"Australia\\\"})  CREATE (:Country {name: \\\"Germany\\\"}) \")\n",
        "driver.execute_query(\"MATCH (j:Person {name: \\\"Sara\\\"})  MATCH (l:Country {name: \\\"Germany\\\"})  MERGE (j)-[r:LIVES_IN]->(l) \")\n",
        "driver.execute_query(\"MATCH (j:Person {name: \\\"Maria\\\"})  MATCH (l:Country {name: \\\"Germany\\\"})  MERGE (j)-[r:LIVES_IN]->(l) \")\n",
        "driver.execute_query(\"MATCH (j:Person {name: \\\"John\\\"})  MATCH (l:Country {name: \\\"Germany\\\"})  MERGE (j)-[r:LIVES_IN]->(l) \")\n",
        "driver.execute_query(\"MATCH (j:Person {name: \\\"Joe\\\"})  MATCH (l:Country {name: \\\"Australia\\\"})  MERGE (j)-[r:LIVES_IN]->(l) \")\n",
        "driver.execute_query(\"MATCH (j:Person {name: \\\"Steve\\\"})  MATCH (l:Country {name: \\\"Australia\\\"})  MERGE (j)-[r:LIVES_IN]->(l) \")\n",
        "draw_graph()"
      ],
      "metadata": {
        "colab": {
          "base_uri": "https://localhost:8080/",
          "height": 517,
          "referenced_widgets": [
            "1fccf1d23b314147b7c36f1785a7325f",
            "4cb32b76c18d4150a744d9a6a39e9454"
          ]
        },
        "id": "ld5tYmTlzFNi",
        "outputId": "8a594633-630a-4b35-eb3a-890e53b2b2c3"
      },
      "execution_count": 23,
      "outputs": [
        {
          "output_type": "display_data",
          "data": {
            "text/plain": [
              "GraphWidget(layout=Layout(height='500px', width='100%'))"
            ],
            "application/vnd.jupyter.widget-view+json": {
              "version_major": 2,
              "version_minor": 0,
              "model_id": "1fccf1d23b314147b7c36f1785a7325f"
            }
          },
          "metadata": {
            "application/vnd.jupyter.widget-view+json": {
              "colab": {
                "custom_widget_manager": {
                  "url": "https://ssl.gstatic.com/colaboratory-static/widgets/colab-cdn-widget-manager/2b70e893a8ba7c0f/manager.min.js"
                }
              }
            }
          }
        }
      ]
    },
    {
      "cell_type": "markdown",
      "source": [
        "Testing regex in the query"
      ],
      "metadata": {
        "id": "viPeGwMx54HU"
      }
    },
    {
      "cell_type": "code",
      "source": [
        "results = driver.execute_query(\"MATCH (p:Person) WHERE p.name =~ 'Jo.*' RETURN p.name  \")\n",
        "for res in results[0]:\n",
        "    print(res[\"p.name\"])"
      ],
      "metadata": {
        "colab": {
          "base_uri": "https://localhost:8080/"
        },
        "id": "wcu1V-x8zsV4",
        "outputId": "e5761beb-47a4-496a-a4e3-d7f1f96b1182"
      },
      "execution_count": 24,
      "outputs": [
        {
          "output_type": "stream",
          "name": "stdout",
          "text": [
            "John\n",
            "Joe\n"
          ]
        }
      ]
    },
    {
      "cell_type": "markdown",
      "source": [
        "Testing the \"exists\" keyword"
      ],
      "metadata": {
        "id": "whvpflWx57FD"
      }
    },
    {
      "cell_type": "code",
      "source": [
        "results = driver.execute_query(\"MATCH (p:Person)-[r:FRIEND]->(m:Person)  WHERE exists((m)-[:FRIEND]->(p))  RETURN m, p \")\n",
        "for res in results[0]:\n",
        "    print(res[\"m\"][\"name\"], \" -> \", res[\"p\"][\"name\"])"
      ],
      "metadata": {
        "id": "nQTbZS8Rz7Xw"
      },
      "execution_count": 25,
      "outputs": []
    },
    {
      "cell_type": "markdown",
      "source": [
        "aggregate and count"
      ],
      "metadata": {
        "id": "GnV3aDBgVIGc"
      }
    },
    {
      "cell_type": "code",
      "source": [
        "# we use the keyword \"as\" to name the adjacency list (retrieved with collect) and its size (retrieved with count)\n",
        "results = driver.execute_query(\"MATCH (p1:Person)-[:FRIEND]->(p2:Person) RETURN p1.name, collect(p2.name) as listOfFriends, count(*) as numberOfFriends\")\n",
        "for res in results[0]:\n",
        "  print(\"{} has {} friends {}\".format(res[\"p1.name\"], res[\"numberOfFriends\"], res[\"listOfFriends\"]))"
      ],
      "metadata": {
        "colab": {
          "base_uri": "https://localhost:8080/"
        },
        "id": "i9OyRtyv1TsZ",
        "outputId": "c2e765fa-d05f-4acd-c40c-eed32f8c8eaf"
      },
      "execution_count": null,
      "outputs": [
        {
          "output_type": "stream",
          "name": "stdout",
          "text": [
            "John has 2 friends ['Joe', 'Sara']\n",
            "Joe has 1 friends ['Steve']\n",
            "Sara has 2 friends ['Joe', 'Maria']\n"
          ]
        }
      ]
    },
    {
      "cell_type": "markdown",
      "source": [
        "**EX1:** Count the number of people who have at least one friend that lives in Australia\n",
        "\n",
        "**EX2:** Print the names of people who have at least one friend that lives in Australia"
      ],
      "metadata": {
        "id": "6QqH5Fav4HSa"
      }
    },
    {
      "cell_type": "code",
      "source": [
        "q = \"TODO - ADD QUERY HERE \"\n",
        "results = driver.execute_query(q)\n",
        "for res in results[0]:\n",
        "    print(res)"
      ],
      "metadata": {
        "colab": {
          "base_uri": "https://localhost:8080/",
          "height": 426
        },
        "id": "RiIEY1hg4GnQ",
        "outputId": "68e678c7-9bac-4e7e-8728-db60122a7ead"
      },
      "execution_count": null,
      "outputs": [
        {
          "output_type": "error",
          "ename": "CypherSyntaxError",
          "evalue": "{code: Neo.ClientError.Statement.SyntaxError} {message: Invalid input 'TODO': expected 'FOREACH', 'ALTER', 'ORDER BY', 'CALL', 'USING PERIODIC COMMIT', 'CREATE', 'LOAD CSV', 'START DATABASE', 'STOP DATABASE', 'DEALLOCATE', 'DELETE', 'DENY', 'DETACH', 'DROP', 'DRYRUN', 'FINISH', 'GRANT', 'INSERT', 'LIMIT', 'MATCH', 'MERGE', 'NODETACH', 'OFFSET', 'OPTIONAL', 'REALLOCATE', 'REMOVE', 'RENAME', 'RETURN', 'REVOKE', 'ENABLE SERVER', 'SET', 'SHOW', 'SKIP', 'TERMINATE', 'UNWIND', 'USE' or 'WITH' (line 1, column 1 (offset: 0))\n\"TODO - ADD QUERY HERE\"\n ^}",
          "traceback": [
            "\u001b[0;31m---------------------------------------------------------------------------\u001b[0m",
            "\u001b[0;31mCypherSyntaxError\u001b[0m                         Traceback (most recent call last)",
            "\u001b[0;32m<ipython-input-19-ec9f7902b735>\u001b[0m in \u001b[0;36m<cell line: 0>\u001b[0;34m()\u001b[0m\n\u001b[1;32m      1\u001b[0m \u001b[0mq\u001b[0m \u001b[0;34m=\u001b[0m \u001b[0;34m\"TODO - ADD QUERY HERE \"\u001b[0m\u001b[0;34m\u001b[0m\u001b[0;34m\u001b[0m\u001b[0m\n\u001b[0;32m----> 2\u001b[0;31m \u001b[0mresults\u001b[0m \u001b[0;34m=\u001b[0m \u001b[0mdriver\u001b[0m\u001b[0;34m.\u001b[0m\u001b[0mexecute_query\u001b[0m\u001b[0;34m(\u001b[0m\u001b[0mq\u001b[0m\u001b[0;34m)\u001b[0m\u001b[0;34m\u001b[0m\u001b[0;34m\u001b[0m\u001b[0m\n\u001b[0m\u001b[1;32m      3\u001b[0m \u001b[0;32mfor\u001b[0m \u001b[0mres\u001b[0m \u001b[0;32min\u001b[0m \u001b[0mresults\u001b[0m\u001b[0;34m[\u001b[0m\u001b[0;36m0\u001b[0m\u001b[0;34m]\u001b[0m\u001b[0;34m:\u001b[0m\u001b[0;34m\u001b[0m\u001b[0;34m\u001b[0m\u001b[0m\n\u001b[1;32m      4\u001b[0m     \u001b[0mprint\u001b[0m\u001b[0;34m(\u001b[0m\u001b[0mres\u001b[0m\u001b[0;34m)\u001b[0m\u001b[0;34m\u001b[0m\u001b[0;34m\u001b[0m\u001b[0m\n",
            "\u001b[0;32m/usr/local/lib/python3.11/dist-packages/neo4j/_sync/driver.py\u001b[0m in \u001b[0;36mexecute_query\u001b[0;34m(self, query_, parameters_, routing_, database_, impersonated_user_, bookmark_manager_, auth_, result_transformer_, **kwargs)\u001b[0m\n\u001b[1;32m    968\u001b[0m                 )\n\u001b[1;32m    969\u001b[0m             \u001b[0;32mwith\u001b[0m \u001b[0msession\u001b[0m\u001b[0;34m.\u001b[0m\u001b[0m_pipelined_begin\u001b[0m\u001b[0;34m:\u001b[0m\u001b[0;34m\u001b[0m\u001b[0;34m\u001b[0m\u001b[0m\n\u001b[0;32m--> 970\u001b[0;31m                 return session._run_transaction(\n\u001b[0m\u001b[1;32m    971\u001b[0m                     \u001b[0maccess_mode\u001b[0m\u001b[0;34m,\u001b[0m\u001b[0;34m\u001b[0m\u001b[0;34m\u001b[0m\u001b[0m\n\u001b[1;32m    972\u001b[0m                     \u001b[0mTelemetryAPI\u001b[0m\u001b[0;34m.\u001b[0m\u001b[0mDRIVER\u001b[0m\u001b[0;34m,\u001b[0m\u001b[0;34m\u001b[0m\u001b[0;34m\u001b[0m\u001b[0m\n",
            "\u001b[0;32m/usr/local/lib/python3.11/dist-packages/neo4j/_sync/work/session.py\u001b[0m in \u001b[0;36m_run_transaction\u001b[0;34m(self, access_mode, api, transaction_function, args, kwargs)\u001b[0m\n\u001b[1;32m    581\u001b[0m                 \u001b[0mtx\u001b[0m \u001b[0;34m=\u001b[0m \u001b[0mself\u001b[0m\u001b[0;34m.\u001b[0m\u001b[0m_transaction\u001b[0m\u001b[0;34m\u001b[0m\u001b[0;34m\u001b[0m\u001b[0m\n\u001b[1;32m    582\u001b[0m                 \u001b[0;32mtry\u001b[0m\u001b[0;34m:\u001b[0m\u001b[0;34m\u001b[0m\u001b[0;34m\u001b[0m\u001b[0m\n\u001b[0;32m--> 583\u001b[0;31m                     \u001b[0mresult\u001b[0m \u001b[0;34m=\u001b[0m \u001b[0mtransaction_function\u001b[0m\u001b[0;34m(\u001b[0m\u001b[0mtx\u001b[0m\u001b[0;34m,\u001b[0m \u001b[0;34m*\u001b[0m\u001b[0margs\u001b[0m\u001b[0;34m,\u001b[0m \u001b[0;34m**\u001b[0m\u001b[0mkwargs\u001b[0m\u001b[0;34m)\u001b[0m\u001b[0;34m\u001b[0m\u001b[0;34m\u001b[0m\u001b[0m\n\u001b[0m\u001b[1;32m    584\u001b[0m                 \u001b[0;32mexcept\u001b[0m \u001b[0masyncio\u001b[0m\u001b[0;34m.\u001b[0m\u001b[0mCancelledError\u001b[0m\u001b[0;34m:\u001b[0m\u001b[0;34m\u001b[0m\u001b[0;34m\u001b[0m\u001b[0m\n\u001b[1;32m    585\u001b[0m                     \u001b[0;31m# if cancellation callback has not been called yet:\u001b[0m\u001b[0;34m\u001b[0m\u001b[0;34m\u001b[0m\u001b[0m\n",
            "\u001b[0;32m/usr/local/lib/python3.11/dist-packages/neo4j/_sync/driver.py\u001b[0m in \u001b[0;36m_work\u001b[0;34m(tx, query, parameters, transformer)\u001b[0m\n\u001b[1;32m   1304\u001b[0m     \u001b[0mtransformer\u001b[0m\u001b[0;34m:\u001b[0m \u001b[0mt\u001b[0m\u001b[0;34m.\u001b[0m\u001b[0mCallable\u001b[0m\u001b[0;34m[\u001b[0m\u001b[0;34m[\u001b[0m\u001b[0mResult\u001b[0m\u001b[0;34m]\u001b[0m\u001b[0;34m,\u001b[0m \u001b[0mt\u001b[0m\u001b[0;34m.\u001b[0m\u001b[0mUnion\u001b[0m\u001b[0;34m[\u001b[0m\u001b[0m_T\u001b[0m\u001b[0;34m]\u001b[0m\u001b[0;34m]\u001b[0m\u001b[0;34m,\u001b[0m\u001b[0;34m\u001b[0m\u001b[0;34m\u001b[0m\u001b[0m\n\u001b[1;32m   1305\u001b[0m ) -> _T:\n\u001b[0;32m-> 1306\u001b[0;31m     \u001b[0mres\u001b[0m \u001b[0;34m=\u001b[0m \u001b[0mtx\u001b[0m\u001b[0;34m.\u001b[0m\u001b[0mrun\u001b[0m\u001b[0;34m(\u001b[0m\u001b[0mquery\u001b[0m\u001b[0;34m,\u001b[0m \u001b[0mparameters\u001b[0m\u001b[0;34m)\u001b[0m\u001b[0;34m\u001b[0m\u001b[0;34m\u001b[0m\u001b[0m\n\u001b[0m\u001b[1;32m   1307\u001b[0m     \u001b[0;32mreturn\u001b[0m \u001b[0mtransformer\u001b[0m\u001b[0;34m(\u001b[0m\u001b[0mres\u001b[0m\u001b[0;34m)\u001b[0m\u001b[0;34m\u001b[0m\u001b[0;34m\u001b[0m\u001b[0m\n\u001b[1;32m   1308\u001b[0m \u001b[0;34m\u001b[0m\u001b[0m\n",
            "\u001b[0;32m/usr/local/lib/python3.11/dist-packages/neo4j/_sync/work/transaction.py\u001b[0m in \u001b[0;36mrun\u001b[0;34m(self, query, parameters, **kwparameters)\u001b[0m\n\u001b[1;32m    204\u001b[0m \u001b[0;34m\u001b[0m\u001b[0m\n\u001b[1;32m    205\u001b[0m         \u001b[0mparameters\u001b[0m \u001b[0;34m=\u001b[0m \u001b[0mdict\u001b[0m\u001b[0;34m(\u001b[0m\u001b[0mparameters\u001b[0m \u001b[0;32mor\u001b[0m \u001b[0;34m{\u001b[0m\u001b[0;34m}\u001b[0m\u001b[0;34m,\u001b[0m \u001b[0;34m**\u001b[0m\u001b[0mkwparameters\u001b[0m\u001b[0;34m)\u001b[0m\u001b[0;34m\u001b[0m\u001b[0;34m\u001b[0m\u001b[0m\n\u001b[0;32m--> 206\u001b[0;31m         \u001b[0mresult\u001b[0m\u001b[0;34m.\u001b[0m\u001b[0m_tx_ready_run\u001b[0m\u001b[0;34m(\u001b[0m\u001b[0mquery\u001b[0m\u001b[0;34m,\u001b[0m \u001b[0mparameters\u001b[0m\u001b[0;34m)\u001b[0m\u001b[0;34m\u001b[0m\u001b[0;34m\u001b[0m\u001b[0m\n\u001b[0m\u001b[1;32m    207\u001b[0m \u001b[0;34m\u001b[0m\u001b[0m\n\u001b[1;32m    208\u001b[0m         \u001b[0;32mreturn\u001b[0m \u001b[0mresult\u001b[0m\u001b[0;34m\u001b[0m\u001b[0;34m\u001b[0m\u001b[0m\n",
            "\u001b[0;32m/usr/local/lib/python3.11/dist-packages/neo4j/_sync/work/result.py\u001b[0m in \u001b[0;36m_tx_ready_run\u001b[0;34m(self, query, parameters)\u001b[0m\n\u001b[1;32m    175\u001b[0m         \u001b[0;31m# BEGIN {extra}\u001b[0m\u001b[0;34m\u001b[0m\u001b[0;34m\u001b[0m\u001b[0m\n\u001b[1;32m    176\u001b[0m         \u001b[0;31m# RUN \"query\" {parameters} {extra}\u001b[0m\u001b[0;34m\u001b[0m\u001b[0;34m\u001b[0m\u001b[0m\n\u001b[0;32m--> 177\u001b[0;31m         \u001b[0mself\u001b[0m\u001b[0;34m.\u001b[0m\u001b[0m_run\u001b[0m\u001b[0;34m(\u001b[0m\u001b[0mquery\u001b[0m\u001b[0;34m,\u001b[0m \u001b[0mparameters\u001b[0m\u001b[0;34m,\u001b[0m \u001b[0;32mNone\u001b[0m\u001b[0;34m,\u001b[0m \u001b[0;32mNone\u001b[0m\u001b[0;34m,\u001b[0m \u001b[0;32mNone\u001b[0m\u001b[0;34m,\u001b[0m \u001b[0;32mNone\u001b[0m\u001b[0;34m,\u001b[0m \u001b[0;32mNone\u001b[0m\u001b[0;34m,\u001b[0m \u001b[0;32mNone\u001b[0m\u001b[0;34m)\u001b[0m\u001b[0;34m\u001b[0m\u001b[0;34m\u001b[0m\u001b[0m\n\u001b[0m\u001b[1;32m    178\u001b[0m \u001b[0;34m\u001b[0m\u001b[0m\n\u001b[1;32m    179\u001b[0m     def _run(\n",
            "\u001b[0;32m/usr/local/lib/python3.11/dist-packages/neo4j/_sync/work/result.py\u001b[0m in \u001b[0;36m_run\u001b[0;34m(self, query, parameters, db, imp_user, access_mode, bookmarks, notifications_min_severity, notifications_disabled_classifications)\u001b[0m\n\u001b[1;32m    234\u001b[0m         \u001b[0mself\u001b[0m\u001b[0;34m.\u001b[0m\u001b[0m_pull\u001b[0m\u001b[0;34m(\u001b[0m\u001b[0;34m)\u001b[0m\u001b[0;34m\u001b[0m\u001b[0;34m\u001b[0m\u001b[0m\n\u001b[1;32m    235\u001b[0m         \u001b[0mself\u001b[0m\u001b[0;34m.\u001b[0m\u001b[0m_connection\u001b[0m\u001b[0;34m.\u001b[0m\u001b[0msend_all\u001b[0m\u001b[0;34m(\u001b[0m\u001b[0;34m)\u001b[0m\u001b[0;34m\u001b[0m\u001b[0;34m\u001b[0m\u001b[0m\n\u001b[0;32m--> 236\u001b[0;31m         \u001b[0mself\u001b[0m\u001b[0;34m.\u001b[0m\u001b[0m_attach\u001b[0m\u001b[0;34m(\u001b[0m\u001b[0;34m)\u001b[0m\u001b[0;34m\u001b[0m\u001b[0;34m\u001b[0m\u001b[0m\n\u001b[0m\u001b[1;32m    237\u001b[0m \u001b[0;34m\u001b[0m\u001b[0m\n\u001b[1;32m    238\u001b[0m     \u001b[0;32mdef\u001b[0m \u001b[0m_pull\u001b[0m\u001b[0;34m(\u001b[0m\u001b[0mself\u001b[0m\u001b[0;34m)\u001b[0m\u001b[0;34m:\u001b[0m\u001b[0;34m\u001b[0m\u001b[0;34m\u001b[0m\u001b[0m\n",
            "\u001b[0;32m/usr/local/lib/python3.11/dist-packages/neo4j/_sync/work/result.py\u001b[0m in \u001b[0;36m_attach\u001b[0;34m(self)\u001b[0m\n\u001b[1;32m    428\u001b[0m         \u001b[0;32mif\u001b[0m \u001b[0mself\u001b[0m\u001b[0;34m.\u001b[0m\u001b[0m_exhausted\u001b[0m \u001b[0;32mis\u001b[0m \u001b[0;32mFalse\u001b[0m\u001b[0;34m:\u001b[0m\u001b[0;34m\u001b[0m\u001b[0;34m\u001b[0m\u001b[0m\n\u001b[1;32m    429\u001b[0m             \u001b[0;32mwhile\u001b[0m \u001b[0mself\u001b[0m\u001b[0;34m.\u001b[0m\u001b[0m_attached\u001b[0m \u001b[0;32mis\u001b[0m \u001b[0;32mFalse\u001b[0m\u001b[0;34m:\u001b[0m\u001b[0;34m\u001b[0m\u001b[0;34m\u001b[0m\u001b[0m\n\u001b[0;32m--> 430\u001b[0;31m                 \u001b[0mself\u001b[0m\u001b[0;34m.\u001b[0m\u001b[0m_connection\u001b[0m\u001b[0;34m.\u001b[0m\u001b[0mfetch_message\u001b[0m\u001b[0;34m(\u001b[0m\u001b[0;34m)\u001b[0m\u001b[0;34m\u001b[0m\u001b[0;34m\u001b[0m\u001b[0m\n\u001b[0m\u001b[1;32m    431\u001b[0m \u001b[0;34m\u001b[0m\u001b[0m\n\u001b[1;32m    432\u001b[0m     \u001b[0;32mdef\u001b[0m \u001b[0m_buffer\u001b[0m\u001b[0;34m(\u001b[0m\u001b[0mself\u001b[0m\u001b[0;34m,\u001b[0m \u001b[0mn\u001b[0m\u001b[0;34m=\u001b[0m\u001b[0;32mNone\u001b[0m\u001b[0;34m)\u001b[0m\u001b[0;34m:\u001b[0m\u001b[0;34m\u001b[0m\u001b[0;34m\u001b[0m\u001b[0m\n",
            "\u001b[0;32m/usr/local/lib/python3.11/dist-packages/neo4j/_sync/io/_common.py\u001b[0m in \u001b[0;36minner\u001b[0;34m(*args, **kwargs)\u001b[0m\n\u001b[1;32m    182\u001b[0m             \u001b[0;32mdef\u001b[0m \u001b[0minner\u001b[0m\u001b[0;34m(\u001b[0m\u001b[0;34m*\u001b[0m\u001b[0margs\u001b[0m\u001b[0;34m,\u001b[0m \u001b[0;34m**\u001b[0m\u001b[0mkwargs\u001b[0m\u001b[0;34m)\u001b[0m\u001b[0;34m:\u001b[0m\u001b[0;34m\u001b[0m\u001b[0;34m\u001b[0m\u001b[0m\n\u001b[1;32m    183\u001b[0m                 \u001b[0;32mtry\u001b[0m\u001b[0;34m:\u001b[0m\u001b[0;34m\u001b[0m\u001b[0;34m\u001b[0m\u001b[0m\n\u001b[0;32m--> 184\u001b[0;31m                     \u001b[0mfunc\u001b[0m\u001b[0;34m(\u001b[0m\u001b[0;34m*\u001b[0m\u001b[0margs\u001b[0m\u001b[0;34m,\u001b[0m \u001b[0;34m**\u001b[0m\u001b[0mkwargs\u001b[0m\u001b[0;34m)\u001b[0m\u001b[0;34m\u001b[0m\u001b[0;34m\u001b[0m\u001b[0m\n\u001b[0m\u001b[1;32m    185\u001b[0m                 \u001b[0;32mexcept\u001b[0m \u001b[0;34m(\u001b[0m\u001b[0mNeo4jError\u001b[0m\u001b[0;34m,\u001b[0m \u001b[0mServiceUnavailable\u001b[0m\u001b[0;34m,\u001b[0m \u001b[0mSessionExpired\u001b[0m\u001b[0;34m)\u001b[0m \u001b[0;32mas\u001b[0m \u001b[0mexc\u001b[0m\u001b[0;34m:\u001b[0m\u001b[0;34m\u001b[0m\u001b[0;34m\u001b[0m\u001b[0m\n\u001b[1;32m    186\u001b[0m                     \u001b[0;32massert\u001b[0m \u001b[0;32mnot\u001b[0m \u001b[0masyncio\u001b[0m\u001b[0;34m.\u001b[0m\u001b[0miscoroutinefunction\u001b[0m\u001b[0;34m(\u001b[0m\u001b[0mself\u001b[0m\u001b[0;34m.\u001b[0m\u001b[0m__on_error\u001b[0m\u001b[0;34m)\u001b[0m\u001b[0;34m\u001b[0m\u001b[0;34m\u001b[0m\u001b[0m\n",
            "\u001b[0;32m/usr/local/lib/python3.11/dist-packages/neo4j/_sync/io/_bolt.py\u001b[0m in \u001b[0;36mfetch_message\u001b[0;34m(self)\u001b[0m\n\u001b[1;32m    862\u001b[0m             \u001b[0mhydration_hooks\u001b[0m\u001b[0;34m=\u001b[0m\u001b[0mself\u001b[0m\u001b[0;34m.\u001b[0m\u001b[0mresponses\u001b[0m\u001b[0;34m[\u001b[0m\u001b[0;36m0\u001b[0m\u001b[0;34m]\u001b[0m\u001b[0;34m.\u001b[0m\u001b[0mhydration_hooks\u001b[0m\u001b[0;34m\u001b[0m\u001b[0;34m\u001b[0m\u001b[0m\n\u001b[1;32m    863\u001b[0m         )\n\u001b[0;32m--> 864\u001b[0;31m         \u001b[0mres\u001b[0m \u001b[0;34m=\u001b[0m \u001b[0mself\u001b[0m\u001b[0;34m.\u001b[0m\u001b[0m_process_message\u001b[0m\u001b[0;34m(\u001b[0m\u001b[0mtag\u001b[0m\u001b[0;34m,\u001b[0m \u001b[0mfields\u001b[0m\u001b[0;34m)\u001b[0m\u001b[0;34m\u001b[0m\u001b[0;34m\u001b[0m\u001b[0m\n\u001b[0m\u001b[1;32m    865\u001b[0m         \u001b[0mself\u001b[0m\u001b[0;34m.\u001b[0m\u001b[0midle_since\u001b[0m \u001b[0;34m=\u001b[0m \u001b[0mmonotonic\u001b[0m\u001b[0;34m(\u001b[0m\u001b[0;34m)\u001b[0m\u001b[0;34m\u001b[0m\u001b[0;34m\u001b[0m\u001b[0m\n\u001b[1;32m    866\u001b[0m         \u001b[0;32mreturn\u001b[0m \u001b[0mres\u001b[0m\u001b[0;34m\u001b[0m\u001b[0;34m\u001b[0m\u001b[0m\n",
            "\u001b[0;32m/usr/local/lib/python3.11/dist-packages/neo4j/_sync/io/_bolt5.py\u001b[0m in \u001b[0;36m_process_message\u001b[0;34m(self, tag, fields)\u001b[0m\n\u001b[1;32m    498\u001b[0m             \u001b[0mself\u001b[0m\u001b[0;34m.\u001b[0m\u001b[0m_server_state_manager\u001b[0m\u001b[0;34m.\u001b[0m\u001b[0mstate\u001b[0m \u001b[0;34m=\u001b[0m \u001b[0mself\u001b[0m\u001b[0;34m.\u001b[0m\u001b[0mbolt_states\u001b[0m\u001b[0;34m.\u001b[0m\u001b[0mFAILED\u001b[0m\u001b[0;34m\u001b[0m\u001b[0;34m\u001b[0m\u001b[0m\n\u001b[1;32m    499\u001b[0m             \u001b[0;32mtry\u001b[0m\u001b[0;34m:\u001b[0m\u001b[0;34m\u001b[0m\u001b[0;34m\u001b[0m\u001b[0m\n\u001b[0;32m--> 500\u001b[0;31m                 \u001b[0mresponse\u001b[0m\u001b[0;34m.\u001b[0m\u001b[0mon_failure\u001b[0m\u001b[0;34m(\u001b[0m\u001b[0msummary_metadata\u001b[0m \u001b[0;32mor\u001b[0m \u001b[0;34m{\u001b[0m\u001b[0;34m}\u001b[0m\u001b[0;34m)\u001b[0m\u001b[0;34m\u001b[0m\u001b[0;34m\u001b[0m\u001b[0m\n\u001b[0m\u001b[1;32m    501\u001b[0m             \u001b[0;32mexcept\u001b[0m \u001b[0;34m(\u001b[0m\u001b[0mServiceUnavailable\u001b[0m\u001b[0;34m,\u001b[0m \u001b[0mDatabaseUnavailable\u001b[0m\u001b[0;34m)\u001b[0m\u001b[0;34m:\u001b[0m\u001b[0;34m\u001b[0m\u001b[0;34m\u001b[0m\u001b[0m\n\u001b[1;32m    502\u001b[0m                 \u001b[0;32mif\u001b[0m \u001b[0mself\u001b[0m\u001b[0;34m.\u001b[0m\u001b[0mpool\u001b[0m\u001b[0;34m:\u001b[0m\u001b[0;34m\u001b[0m\u001b[0;34m\u001b[0m\u001b[0m\n",
            "\u001b[0;32m/usr/local/lib/python3.11/dist-packages/neo4j/_sync/io/_common.py\u001b[0m in \u001b[0;36mon_failure\u001b[0;34m(self, metadata)\u001b[0m\n\u001b[1;32m    252\u001b[0m         \u001b[0mhandler\u001b[0m \u001b[0;34m=\u001b[0m \u001b[0mself\u001b[0m\u001b[0;34m.\u001b[0m\u001b[0mhandlers\u001b[0m\u001b[0;34m.\u001b[0m\u001b[0mget\u001b[0m\u001b[0;34m(\u001b[0m\u001b[0;34m\"on_summary\"\u001b[0m\u001b[0;34m)\u001b[0m\u001b[0;34m\u001b[0m\u001b[0;34m\u001b[0m\u001b[0m\n\u001b[1;32m    253\u001b[0m         \u001b[0mUtil\u001b[0m\u001b[0;34m.\u001b[0m\u001b[0mcallback\u001b[0m\u001b[0;34m(\u001b[0m\u001b[0mhandler\u001b[0m\u001b[0;34m)\u001b[0m\u001b[0;34m\u001b[0m\u001b[0;34m\u001b[0m\u001b[0m\n\u001b[0;32m--> 254\u001b[0;31m         \u001b[0;32mraise\u001b[0m \u001b[0mself\u001b[0m\u001b[0;34m.\u001b[0m\u001b[0m_hydrate_error\u001b[0m\u001b[0;34m(\u001b[0m\u001b[0mmetadata\u001b[0m\u001b[0;34m)\u001b[0m\u001b[0;34m\u001b[0m\u001b[0;34m\u001b[0m\u001b[0m\n\u001b[0m\u001b[1;32m    255\u001b[0m \u001b[0;34m\u001b[0m\u001b[0m\n\u001b[1;32m    256\u001b[0m     \u001b[0;32mdef\u001b[0m \u001b[0mon_ignored\u001b[0m\u001b[0;34m(\u001b[0m\u001b[0mself\u001b[0m\u001b[0;34m,\u001b[0m \u001b[0mmetadata\u001b[0m\u001b[0;34m=\u001b[0m\u001b[0;32mNone\u001b[0m\u001b[0;34m)\u001b[0m\u001b[0;34m:\u001b[0m\u001b[0;34m\u001b[0m\u001b[0;34m\u001b[0m\u001b[0m\n",
            "\u001b[0;31mCypherSyntaxError\u001b[0m: {code: Neo.ClientError.Statement.SyntaxError} {message: Invalid input 'TODO': expected 'FOREACH', 'ALTER', 'ORDER BY', 'CALL', 'USING PERIODIC COMMIT', 'CREATE', 'LOAD CSV', 'START DATABASE', 'STOP DATABASE', 'DEALLOCATE', 'DELETE', 'DENY', 'DETACH', 'DROP', 'DRYRUN', 'FINISH', 'GRANT', 'INSERT', 'LIMIT', 'MATCH', 'MERGE', 'NODETACH', 'OFFSET', 'OPTIONAL', 'REALLOCATE', 'REMOVE', 'RENAME', 'RETURN', 'REVOKE', 'ENABLE SERVER', 'SET', 'SHOW', 'SKIP', 'TERMINATE', 'UNWIND', 'USE' or 'WITH' (line 1, column 1 (offset: 0))\n\"TODO - ADD QUERY HERE\"\n ^}"
          ]
        }
      ]
    },
    {
      "cell_type": "markdown",
      "source": [
        "Let's now check how directed edges work. This next query uses unidirect edges (-[related_to]-).\n",
        "\n",
        "Try changing it to directed ones (-[related_to]->)."
      ],
      "metadata": {
        "id": "nrQeWB8Q5_JH"
      }
    },
    {
      "cell_type": "code",
      "source": [
        "results = driver.execute_query(\"MATCH (p:Person {name: \\\"Maria\\\"})-[y]-(x)  return x.name, type(y), Labels(x)[0]\")\n",
        "for res in results[0]:\n",
        "  print(\"Maria -[{}]-> {} ({})\".format(res[\"type(y)\"], res[\"x.name\"], res[\"Labels(x)[0]\"]))"
      ],
      "metadata": {
        "colab": {
          "base_uri": "https://localhost:8080/"
        },
        "id": "j_U0Jaiu4t79",
        "outputId": "44777c59-95e5-485c-c44f-da4a05ed6af0"
      },
      "execution_count": 28,
      "outputs": [
        {
          "output_type": "stream",
          "name": "stdout",
          "text": [
            "Maria -[FRIEND]-> Sara (Person)\n",
            "Maria -[LIVES_IN]-> Germany (Country)\n"
          ]
        }
      ]
    },
    {
      "cell_type": "markdown",
      "source": [
        "indirect paths of max length 2 from Maria"
      ],
      "metadata": {
        "id": "r4QdwZF06Kxn"
      }
    },
    {
      "cell_type": "code",
      "source": [
        "draw_graph()"
      ],
      "metadata": {
        "id": "axgOkqxXWlyY",
        "outputId": "7d7dfa54-f42e-42cb-fbf6-1725d6a1bcc4",
        "colab": {
          "base_uri": "https://localhost:8080/",
          "height": 517,
          "referenced_widgets": [
            "243e6be421914a50ab2c1c7787ceda7f",
            "8fb52a20c26a4f2fbe9aeee5240d4468"
          ]
        }
      },
      "execution_count": 29,
      "outputs": [
        {
          "output_type": "display_data",
          "data": {
            "text/plain": [
              "GraphWidget(layout=Layout(height='500px', width='100%'))"
            ],
            "application/vnd.jupyter.widget-view+json": {
              "version_major": 2,
              "version_minor": 0,
              "model_id": "243e6be421914a50ab2c1c7787ceda7f"
            }
          },
          "metadata": {
            "application/vnd.jupyter.widget-view+json": {
              "colab": {
                "custom_widget_manager": {
                  "url": "https://ssl.gstatic.com/colaboratory-static/widgets/colab-cdn-widget-manager/2b70e893a8ba7c0f/manager.min.js"
                }
              }
            }
          }
        }
      ]
    },
    {
      "cell_type": "code",
      "source": [
        "results = driver.execute_query(\"MATCH (p:Person {name: \\\"Maria\\\"})-[*1..2]-(x)  return DISTINCT x \")\n",
        "for res in results[0]:\n",
        "  print(res[\"x\"][\"name\"])"
      ],
      "metadata": {
        "colab": {
          "base_uri": "https://localhost:8080/"
        },
        "id": "M2hKCqMT-WXl",
        "outputId": "e07bdbb6-ee26-4463-a6d6-77ffaffb5700"
      },
      "execution_count": null,
      "outputs": [
        {
          "output_type": "stream",
          "name": "stdout",
          "text": [
            "Sara\n",
            "Germany\n",
            "Joe\n",
            "John\n"
          ]
        }
      ]
    },
    {
      "cell_type": "markdown",
      "source": [
        "direct paths of max length 2 from Maria"
      ],
      "metadata": {
        "id": "60p5yW5-65yE"
      }
    },
    {
      "cell_type": "code",
      "source": [
        "results = driver.execute_query(\"MATCH (p:Person {name: \\\"Maria\\\"})-[*1..2]->(x)  return DISTINCT x \")\n",
        "for res in results[0]:\n",
        "  print(res[\"x\"][\"name\"])"
      ],
      "metadata": {
        "colab": {
          "base_uri": "https://localhost:8080/"
        },
        "id": "hq1lEouD-jjf",
        "outputId": "20367f8f-7043-4136-badb-0421820f136c"
      },
      "execution_count": null,
      "outputs": [
        {
          "output_type": "stream",
          "name": "stdout",
          "text": [
            "Germany\n"
          ]
        }
      ]
    },
    {
      "cell_type": "markdown",
      "source": [
        "Check the database schema, to see which kind of edges connect which kinds of nodes"
      ],
      "metadata": {
        "id": "qSbY6CM26_do"
      }
    },
    {
      "cell_type": "code",
      "source": [
        "g = session.run(\"CALL db.schema.visualization()\").graph()\n",
        "GraphWidget(graph=g)"
      ],
      "metadata": {
        "colab": {
          "base_uri": "https://localhost:8080/",
          "height": 517,
          "referenced_widgets": [
            "75dab6cac6894a079f8bac13b2c687ad",
            "fe38dbf5c22146489d643d2e1abe7a2f"
          ]
        },
        "id": "Rmh2bfwk-nzP",
        "outputId": "558e3320-7e67-433f-dc66-ca0c6198d680"
      },
      "execution_count": 30,
      "outputs": [
        {
          "output_type": "display_data",
          "data": {
            "text/plain": [
              "GraphWidget(layout=Layout(height='500px', width='100%'))"
            ],
            "application/vnd.jupyter.widget-view+json": {
              "version_major": 2,
              "version_minor": 0,
              "model_id": "75dab6cac6894a079f8bac13b2c687ad"
            }
          },
          "metadata": {
            "application/vnd.jupyter.widget-view+json": {
              "colab": {
                "custom_widget_manager": {
                  "url": "https://ssl.gstatic.com/colaboratory-static/widgets/colab-cdn-widget-manager/2b70e893a8ba7c0f/manager.min.js"
                }
              }
            }
          }
        }
      ]
    },
    {
      "cell_type": "markdown",
      "source": [
        "To run large scale data science algorithms, we need to create an in-memory projection of our graph"
      ],
      "metadata": {
        "id": "_0GiKPXe7Em9"
      }
    },
    {
      "cell_type": "code",
      "source": [
        "# \"in_memory_graph\" is the name we assign to the RAM projection of our graph\n",
        "results = driver.execute_query(\"CALL gds.graph.project(\\'in_memory_graph\\', \\\n",
        "    [\\'Person\\', \\'Country\\'], [\\'FRIEND\\', \\'LIVES_IN\\'])  \\\n",
        "    YIELD graphName AS graph, nodeProjection, nodeCount AS nodes, relationshipCount AS rels  \")\n",
        "print(results[0])"
      ],
      "metadata": {
        "colab": {
          "base_uri": "https://localhost:8080/"
        },
        "id": "SWCsB9-fATYP",
        "outputId": "eaa02b42-1843-4e6c-fa29-090780cbfa03"
      },
      "execution_count": 32,
      "outputs": [
        {
          "output_type": "stream",
          "name": "stdout",
          "text": [
            "[<Record graph='in_memory_graph' nodeProjection={'Country': {'label': 'Country', 'properties': {}}, 'Person': {'label': 'Person', 'properties': {}}} nodes=7 rels=10>]\n"
          ]
        }
      ]
    },
    {
      "cell_type": "markdown",
      "source": [
        "let's compute the page rank of all nodes. Higher pagerank nodes are \"more important\" ones."
      ],
      "metadata": {
        "id": "h7BK5tPQ7-k_"
      }
    },
    {
      "cell_type": "code",
      "source": [
        "results = driver.execute_query(\"\"\"CALL gds.pageRank.stream(\\'in_memory_graph\\')\n",
        "    YIELD nodeId, score WITH gds.util.asNode(nodeId) AS n,score AS pageRank\n",
        "    RETURN n.name AS name, Labels(n)[0] AS type, pageRank ORDER BY pageRank DESC \"\"\")\n",
        "for res in results[0]:\n",
        "  # sorted by decreasing page rank\n",
        "  print(res[\"name\"], \" - \", res[\"type\"], \" - \", round(res[\"pageRank\"]*100)/100)"
      ],
      "metadata": {
        "colab": {
          "base_uri": "https://localhost:8080/"
        },
        "id": "oV-7aGNHBV4u",
        "outputId": "166a8829-9a67-4d61-f8ec-e008c26dc772"
      },
      "execution_count": 36,
      "outputs": [
        {
          "output_type": "stream",
          "name": "stdout",
          "text": [
            "Australia  -  Country  -  0.47\n",
            "Germany  -  Country  -  0.42\n",
            "Steve  -  Person  -  0.25\n",
            "Joe  -  Person  -  0.25\n",
            "Maria  -  Person  -  0.2\n",
            "Sara  -  Person  -  0.19\n",
            "John  -  Person  -  0.15\n"
          ]
        }
      ]
    },
    {
      "cell_type": "markdown",
      "source": [
        "Let's re-compute the pagerank of the nodes, but let's also write those values as a node property."
      ],
      "metadata": {
        "id": "F-P4J9TJ8JWi"
      }
    },
    {
      "cell_type": "code",
      "source": [
        "results = driver.execute_query(\"CALL gds.pageRank.write('in_memory_graph',     {writeProperty: 'pageRank'} ) YIELD nodePropertiesWritten, ranIterations \")\n",
        "results = driver.execute_query(\"MATCH (n) RETURN n.name as name, n.pageRank as pr ORDER BY pr DESC\")\n",
        "for res in results[0]:\n",
        "  print(res[\"name\"], \" - \", round(res[\"pr\"]*100)/100)"
      ],
      "metadata": {
        "colab": {
          "base_uri": "https://localhost:8080/"
        },
        "id": "dDoHUrARBqoo",
        "outputId": "f14bd912-cff0-4749-e44e-0154a6df2e03"
      },
      "execution_count": 38,
      "outputs": [
        {
          "output_type": "stream",
          "name": "stdout",
          "text": [
            "Australia  -  0.47\n",
            "Germany  -  0.42\n",
            "Steve  -  0.25\n",
            "Joe  -  0.25\n",
            "Maria  -  0.2\n",
            "Sara  -  0.19\n",
            "John  -  0.15\n"
          ]
        }
      ]
    },
    {
      "cell_type": "markdown",
      "source": [
        "Let's also compute the shortest path between John and Maria"
      ],
      "metadata": {
        "id": "DsJsSgQi8SxB"
      }
    },
    {
      "cell_type": "code",
      "source": [
        "results = driver.execute_query(\"\"\"MATCH (source:Person {name: \\'John\\'}) MATCH (target:Person {name: \\'Maria\\'})\n",
        "    CALL gds.shortestPath.dijkstra.stream(\\'in_memory_graph\\', {    sourceNode: source,\n",
        "    targetNode: target}) YIELD index, sourceNode, targetNode, totalCost, nodeIds, costs, path\n",
        "    RETURN    index, totalCost, [nodeId IN nodeIds | gds.util.asNode(nodeId).name] AS nodeNames,\n",
        "    costs ORDER BY index\"\"\")\n",
        "\n",
        "for res in results[0]:\n",
        "    print(\"PATH is {} (its incremental cost is {}, for a total cost of {})\".format(res[\"nodeNames\"], res[\"costs\"], res[\"totalCost\"]))"
      ],
      "metadata": {
        "colab": {
          "base_uri": "https://localhost:8080/"
        },
        "id": "-LlLg04VCDL9",
        "outputId": "4355cb32-2ffb-43c4-c37a-11fe137c1cc6"
      },
      "execution_count": 43,
      "outputs": [
        {
          "output_type": "stream",
          "name": "stdout",
          "text": [
            "PATH is ['John', 'Sara', 'Maria'] (its incremental cost is [0.0, 1.0, 2.0], for a total cost of 2.0)\n"
          ]
        }
      ]
    },
    {
      "cell_type": "markdown",
      "source": [
        "Let's also export the graph in CSV. This is to write it to an output stream."
      ],
      "metadata": {
        "id": "eI5gkBsA8W4L"
      }
    },
    {
      "cell_type": "code",
      "source": [
        "driver.execute_query(\"CALL apoc.export.csv.all(null, {stream:TRUE})\")"
      ],
      "metadata": {
        "id": "qwkL37hIvLYI",
        "outputId": "ae678d69-76f1-4f82-e444-0e5e03245ef5",
        "colab": {
          "base_uri": "https://localhost:8080/"
        }
      },
      "execution_count": null,
      "outputs": [
        {
          "output_type": "execute_result",
          "data": {
            "text/plain": [
              "EagerResult(records=[<Record file=None source='database: nodes(7), rels(10)' format='csv' nodes=7 relationships=10 properties=14 time=15 rows=17 batchSize=20000 batches=1 done=True data='\"_id\",\"_labels\",\"name\",\"pageRank\",\"_start\",\"_end\",\"_type\"\\n\"0\",\":Person\",\"John\",\"0.15000000000000002\",,,\\n\"1\",\":Person\",\"Joe\",\"0.24704166666666671\",,,\\n\"2\",\":Person\",\"Steve\",\"0.2549927083333334\",,,\\n\"3\",\":Person\",\"Sara\",\"0.19250000000000003\",,,\\n\"4\",\":Person\",\"Maria\",\"0.2045416666666667\",,,\\n\"5\",\":Country\",\"Australia\",\"0.47173651041666675\",,,\\n\"6\",\":Country\",\"Germany\",\"0.4209020833333334\",,,\\n,,,,\"0\",\"1\",\"FRIEND\"\\n,,,,\"0\",\"3\",\"FRIEND\"\\n,,,,\"0\",\"6\",\"LIVES_IN\"\\n,,,,\"1\",\"2\",\"FRIEND\"\\n,,,,\"1\",\"5\",\"LIVES_IN\"\\n,,,,\"2\",\"5\",\"LIVES_IN\"\\n,,,,\"3\",\"1\",\"FRIEND\"\\n,,,,\"3\",\"4\",\"FRIEND\"\\n,,,,\"3\",\"6\",\"LIVES_IN\"\\n,,,,\"4\",\"6\",\"LIVES_IN\"\\n'>], summary=<neo4j._work.summary.ResultSummary object at 0x79c9e741b850>, keys=['file', 'source', 'format', 'nodes', 'relationships', 'properties', 'time', 'rows', 'batchSize', 'batches', 'done', 'data'])"
            ]
          },
          "metadata": {},
          "execution_count": 33
        }
      ]
    },
    {
      "cell_type": "markdown",
      "source": [
        "Let's purge the graph, to load another one from two csvs."
      ],
      "metadata": {
        "id": "OprEjM1x8hmF"
      }
    },
    {
      "cell_type": "code",
      "source": [
        "driver.execute_query(\"MATCH (n) DETACH DELETE n \")"
      ],
      "metadata": {
        "id": "rqzm5iVowEZH",
        "outputId": "11553cb0-9f86-4afa-ff0b-747aca86664c",
        "colab": {
          "base_uri": "https://localhost:8080/"
        }
      },
      "execution_count": 44,
      "outputs": [
        {
          "output_type": "execute_result",
          "data": {
            "text/plain": [
              "EagerResult(records=[], summary=<neo4j._work.summary.ResultSummary object at 0x7acc51f22c90>, keys=[])"
            ]
          },
          "metadata": {},
          "execution_count": 44
        }
      ]
    },
    {
      "cell_type": "markdown",
      "source": [
        "here we load the nodes and edges csvs we put in the repository."
      ],
      "metadata": {
        "id": "6-USUS1q8kja"
      }
    },
    {
      "cell_type": "code",
      "source": [
        "driver.execute_query(\"LOAD CSV WITH HEADERS FROM \\\"https://raw.githubusercontent.com/LorenzoBellomo/InformationRetrieval/main/data/nodes.csv\\\" AS line CREATE (:Person {name: line.name, lastName: line.last_name, my_id: line._id}) \")\n",
        "driver.execute_query(\"LOAD CSV WITH HEADERS FROM \\\"https://raw.githubusercontent.com/LorenzoBellomo/InformationRetrieval/main/data/edges.csv\\\" AS line MATCH (p1:Person {my_id: line.source}) MATCH (p2:Person {my_id: line.target})  MERGE (p1) –[:SUPERVISOR]->(p2) \")"
      ],
      "metadata": {
        "id": "R6ZToN9WwIUW",
        "outputId": "8aa6296b-ea96-4630-efe6-12650017af87",
        "colab": {
          "base_uri": "https://localhost:8080/"
        }
      },
      "execution_count": 45,
      "outputs": [
        {
          "output_type": "execute_result",
          "data": {
            "text/plain": [
              "EagerResult(records=[], summary=<neo4j._work.summary.ResultSummary object at 0x7acc51ff4b90>, keys=[])"
            ]
          },
          "metadata": {},
          "execution_count": 45
        }
      ]
    },
    {
      "cell_type": "markdown",
      "source": [
        "let's visualize the graph"
      ],
      "metadata": {
        "id": "xh7A37Qi8qzL"
      }
    },
    {
      "cell_type": "code",
      "source": [
        "draw_graph()"
      ],
      "metadata": {
        "id": "lIe2VnwxzCBQ",
        "outputId": "f7665c94-39d6-4713-cf0f-256cbab4f3ef",
        "colab": {
          "base_uri": "https://localhost:8080/",
          "height": 517,
          "referenced_widgets": [
            "96a76bdade8641a08a3ac1f9fa0bda4e",
            "64322ac8a0c64b63ae6c2bc503f24260"
          ]
        }
      },
      "execution_count": 46,
      "outputs": [
        {
          "output_type": "display_data",
          "data": {
            "text/plain": [
              "GraphWidget(layout=Layout(height='500px', width='100%'))"
            ],
            "application/vnd.jupyter.widget-view+json": {
              "version_major": 2,
              "version_minor": 0,
              "model_id": "96a76bdade8641a08a3ac1f9fa0bda4e"
            }
          },
          "metadata": {
            "application/vnd.jupyter.widget-view+json": {
              "colab": {
                "custom_widget_manager": {
                  "url": "https://ssl.gstatic.com/colaboratory-static/widgets/colab-cdn-widget-manager/2b70e893a8ba7c0f/manager.min.js"
                }
              }
            }
          }
        }
      ]
    },
    {
      "cell_type": "markdown",
      "source": [
        "## New exercises\n",
        "Let's create a new sandbox project (Movies). Let's also connect to that instance, and do the proposed exercises."
      ],
      "metadata": {
        "id": "uG1PxxPY5RSW"
      }
    }
  ]
}