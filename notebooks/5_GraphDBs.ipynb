{
  "cells": [
    {
      "cell_type": "markdown",
      "metadata": {
        "id": "view-in-github",
        "colab_type": "text"
      },
      "source": [
        "<a href=\"https://colab.research.google.com/github/LorenzoBellomo/InformationRetrieval/blob/main/notebooks/5_GraphDBs.ipynb\" target=\"_parent\"><img src=\"https://colab.research.google.com/assets/colab-badge.svg\" alt=\"Open In Colab\"/></a>"
      ]
    },
    {
      "cell_type": "markdown",
      "metadata": {
        "id": "c9koTTbq31n5"
      },
      "source": [
        "# GraphDBs and Neo4j"
      ]
    },
    {
      "cell_type": "markdown",
      "metadata": {
        "id": "hOI1mQCf4JnO"
      },
      "source": [
        "In this lecture, we focus on GraphDBs, using Neo4j and its language (Cypher) to make some simple queries."
      ]
    },
    {
      "cell_type": "code",
      "execution_count": null,
      "metadata": {
        "colab": {
          "base_uri": "https://localhost:8080/"
        },
        "id": "VX2XAeXiYzRk",
        "outputId": "9339a56e-27e5-4c91-c354-3476103bc0cd"
      },
      "outputs": [
        {
          "output_type": "stream",
          "name": "stdout",
          "text": [
            "Collecting neo4j\n",
            "  Downloading neo4j-5.28.1-py3-none-any.whl.metadata (5.9 kB)\n",
            "Requirement already satisfied: pytz in /usr/local/lib/python3.11/dist-packages (from neo4j) (2025.2)\n",
            "Downloading neo4j-5.28.1-py3-none-any.whl (312 kB)\n",
            "\u001b[2K   \u001b[90m━━━━━━━━━━━━━━━━━━━━━━━━━━━━━━━━━━━━━━━━\u001b[0m \u001b[32m312.3/312.3 kB\u001b[0m \u001b[31m4.2 MB/s\u001b[0m eta \u001b[36m0:00:00\u001b[0m\n",
            "\u001b[?25hInstalling collected packages: neo4j\n",
            "Successfully installed neo4j-5.28.1\n"
          ]
        }
      ],
      "source": [
        "!pip install neo4j"
      ]
    },
    {
      "cell_type": "code",
      "execution_count": null,
      "metadata": {
        "id": "0KZFB2bmn8G6"
      },
      "outputs": [],
      "source": [
        "!pip install yfiles_jupyter_graphs"
      ]
    },
    {
      "cell_type": "code",
      "execution_count": null,
      "metadata": {
        "id": "swGnovUYZAvw"
      },
      "outputs": [],
      "source": [
        "from neo4j import GraphDatabase"
      ]
    },
    {
      "cell_type": "markdown",
      "metadata": {
        "id": "iHDFhilmZdHy"
      },
      "source": [
        "Go to the neo4j sandbox and click on the box \"blank project\" ([https://sandbox.neo4j.com/](https://sandbox.neo4j.com/)). After the sandbox has been created, click on the rightmost black arrow, click on \"connections details\", and copy the BOLT URL and password in the command just below"
      ]
    },
    {
      "cell_type": "code",
      "execution_count": null,
      "metadata": {
        "colab": {
          "base_uri": "https://localhost:8080/"
        },
        "id": "haYXpov8ZOwT",
        "outputId": "7f27270a-a2ab-480c-9150-feb78fa3a049"
      },
      "outputs": [
        {
          "data": {
            "text/plain": [
              "EagerResult(records=[], summary=<neo4j._work.summary.ResultSummary object at 0x7d1d025867d0>, keys=[])"
            ]
          },
          "execution_count": 5,
          "metadata": {},
          "output_type": "execute_result"
        }
      ],
      "source": [
        "driver = GraphDatabase.driver(\"<INSERT BOLT URL>\", auth=(\"neo4j\", \"<INSERT PASSWORD>\"))\n",
        "session = driver.session(database=\"neo4j\")\n",
        "driver.execute_query(\"MATCH (n) DETACH DELETE n  \") # purging eventual graphs already loaded"
      ]
    },
    {
      "cell_type": "markdown",
      "metadata": {
        "id": "URc4VOWZ3u0h"
      },
      "source": [
        "Now we are ready to populate the graph"
      ]
    },
    {
      "cell_type": "code",
      "execution_count": null,
      "metadata": {
        "colab": {
          "base_uri": "https://localhost:8080/"
        },
        "id": "09ucD4jpaFTL",
        "outputId": "949a0108-4e51-41f2-843b-c1d6240e093f"
      },
      "outputs": [
        {
          "data": {
            "text/plain": [
              "EagerResult(records=[], summary=<neo4j._work.summary.ResultSummary object at 0x7d1d0259b090>, keys=[])"
            ]
          },
          "execution_count": 6,
          "metadata": {},
          "output_type": "execute_result"
        }
      ],
      "source": [
        "driver.execute_query(\n",
        "    \"CREATE (john:Person {name: \\\"John\\\"})   \\\n",
        "    CREATE (joe:Person {name: \\\"Joe\\\"})      \\\n",
        "    CREATE (steve:Person {name: \\\"Steve\\\"})  \\\n",
        "    CREATE (sara:Person {name: \\\"Sara\\\"})    \\\n",
        "    CREATE (maria:Person {name: \\\"Maria\\\"})  \\\n",
        "    CREATE (john)-[:FRIEND]->(joe)-[:FRIEND]->(steve)    \\\n",
        "    CREATE (john)-[:FRIEND]->(sara)-[:FRIEND]->(maria)   \\\n",
        "\")"
      ]
    },
    {
      "cell_type": "code",
      "execution_count": null,
      "metadata": {
        "id": "GZ5v_dFLachq"
      },
      "outputs": [],
      "source": [
        "records, summary, keys = driver.execute_query(\"MATCH (n) return n\") # n is reserved to access nodes"
      ]
    },
    {
      "cell_type": "markdown",
      "metadata": {
        "id": "4TbrlLiK4ZN-"
      },
      "source": [
        "Let's print the results, results are a list of \"node entries\". To access them we need to use the \"name\" of the variable that we used in the query (n)"
      ]
    },
    {
      "cell_type": "code",
      "execution_count": null,
      "metadata": {
        "colab": {
          "base_uri": "https://localhost:8080/"
        },
        "id": "gTF_ChCTdG3i",
        "outputId": "7a8a8f9b-2d88-42be-c933-ac87f74ce504"
      },
      "outputs": [
        {
          "name": "stdout",
          "output_type": "stream",
          "text": [
            "Person node with name Maria\n",
            "Person node with name John\n",
            "Person node with name Joe\n",
            "Person node with name Steve\n",
            "Person node with name Sara\n"
          ]
        }
      ],
      "source": [
        "for record in records:\n",
        "    # iterating over all nodes\n",
        "    elem = record[\"n\"]\n",
        "    print(\"{} node with name {}\".format(list(elem.labels)[0], elem[\"name\"])) # neo4j supports multiple labels (types) per node and edge"
      ]
    },
    {
      "cell_type": "code",
      "execution_count": null,
      "metadata": {
        "colab": {
          "base_uri": "https://localhost:8080/"
        },
        "id": "adKX_ju0uV--",
        "outputId": "1e27b720-6a0b-4182-c3b1-e35dde42a6a5"
      },
      "outputs": [
        {
          "name": "stdout",
          "output_type": "stream",
          "text": [
            "KEYS:  ['n']\n",
            "SUMMARY (counters):  {}\n",
            "SUMMARY (args):  None\n"
          ]
        }
      ],
      "source": [
        "print(\"KEYS: \", keys)\n",
        "# Here is the documentationo of all that you can find on the Summary object (https://neo4j.com/docs/python-manual/5/result-summary/)"
      ]
    },
    {
      "cell_type": "markdown",
      "metadata": {
        "id": "cOtaU2bc4hNv"
      },
      "source": [
        "Let's use this widget library to see the graph visually (for ease of understanding)"
      ]
    },
    {
      "cell_type": "code",
      "execution_count": null,
      "metadata": {
        "id": "NmQw2EA0n5RI"
      },
      "outputs": [],
      "source": [
        "from yfiles_jupyter_graphs import GraphWidget\n",
        "from google.colab import output\n",
        "output.enable_custom_widget_manager()\n",
        "def draw_graph():\n",
        "    g = session.run(\"MATCH (n) -[e]-> (m) return n, m, e\").graph()\n",
        "    gw = GraphWidget(graph=g)\n",
        "    return gw\n",
        "\n",
        "draw_graph()"
      ]
    },
    {
      "cell_type": "markdown",
      "metadata": {
        "id": "DmHtTFES4sQ_"
      },
      "source": [
        "Now we try to add a new edge from nodes \"Sara\" and \"Joe\""
      ]
    },
    {
      "cell_type": "code",
      "execution_count": null,
      "metadata": {
        "id": "YuVnKfFVl6fW"
      },
      "outputs": [],
      "source": [
        "results = driver.execute_query(\"CREATE (j:Person {name: \\\"Sara\\\"})-[rel:FRIEND]->(m:Person {name: \\\"Joe\\\"})  \")\n",
        "draw_graph()"
      ]
    },
    {
      "cell_type": "markdown",
      "metadata": {
        "id": "Zpaz0Scm4xXJ"
      },
      "source": [
        "Oops, we meessed up, we did not \"bind\" the two names to the nodes already present. First, let's delete the two new nodes we created."
      ]
    },
    {
      "cell_type": "code",
      "execution_count": null,
      "metadata": {
        "id": "iXfRo3twt3QL"
      },
      "outputs": [],
      "source": [
        "results = (driver.execute_query(\"MATCH (n {name: \\\"Sara\\\"}) -[]-> (m {name: \\\"Joe\\\"}) RETURN n, m\"))\n",
        "res = results[0][0]\n",
        "print(res)\n",
        "print(res[\"n\"].element_id)\n",
        "print(res[\"m\"].element_id)\n",
        "driver.execute_query(\"MATCH (n) where elementId(n)=$id DETACH DELETE n  \", id=res[\"n\"].element_id)\n",
        "driver.execute_query(\"MATCH (n) where elementId(n)=$id DETACH DELETE n  \", id=res[\"m\"].element_id)\n",
        "draw_graph()"
      ]
    },
    {
      "cell_type": "markdown",
      "metadata": {
        "id": "maIV48cd5qmh"
      },
      "source": [
        "To actually add the edge we wanted to add, we need to use the \"MERGE\" statement"
      ]
    },
    {
      "cell_type": "code",
      "execution_count": null,
      "metadata": {
        "id": "KTvPlteHyxIf"
      },
      "outputs": [],
      "source": [
        "driver.execute_query(\"MATCH (j:Person {name: \\\"Sara\\\"})  MATCH (m:Person {name: \\\"Joe\\\"})  MERGE (j)-[r:FRIEND]->(m)\")\n",
        "draw_graph()"
      ]
    },
    {
      "cell_type": "markdown",
      "metadata": {
        "id": "69hAWePp5yND"
      },
      "source": [
        "Let's now add two countries, and let's connect our nodes to those countries"
      ]
    },
    {
      "cell_type": "code",
      "execution_count": null,
      "metadata": {
        "id": "ld5tYmTlzFNi"
      },
      "outputs": [],
      "source": [
        "driver.execute_query(\"CREATE (:Country {name: \\\"Australia\\\"})  CREATE (:Country {name: \\\"Germany\\\"}) \")\n",
        "driver.execute_query(\"MATCH (j:Person {name: \\\"Sara\\\"})  MATCH (l:Country {name: \\\"Germany\\\"})  MERGE (j)-[r:LIVES_IN]->(l) \")\n",
        "driver.execute_query(\"MATCH (j:Person {name: \\\"Maria\\\"})  MATCH (l:Country {name: \\\"Germany\\\"})  MERGE (j)-[r:LIVES_IN]->(l) \")\n",
        "driver.execute_query(\"MATCH (j:Person {name: \\\"John\\\"})  MATCH (l:Country {name: \\\"Germany\\\"})  MERGE (j)-[r:LIVES_IN]->(l) \")\n",
        "driver.execute_query(\"MATCH (j:Person {name: \\\"Joe\\\"})  MATCH (l:Country {name: \\\"Australia\\\"})  MERGE (j)-[r:LIVES_IN]->(l) \")\n",
        "driver.execute_query(\"MATCH (j:Person {name: \\\"Steve\\\"})  MATCH (l:Country {name: \\\"Australia\\\"})  MERGE (j)-[r:LIVES_IN]->(l) \")\n",
        "draw_graph()"
      ]
    },
    {
      "cell_type": "markdown",
      "metadata": {
        "id": "viPeGwMx54HU"
      },
      "source": [
        "Testing regex in the query"
      ]
    },
    {
      "cell_type": "code",
      "execution_count": null,
      "metadata": {
        "colab": {
          "base_uri": "https://localhost:8080/"
        },
        "id": "wcu1V-x8zsV4",
        "outputId": "e5761beb-47a4-496a-a4e3-d7f1f96b1182"
      },
      "outputs": [
        {
          "name": "stdout",
          "output_type": "stream",
          "text": [
            "John\n",
            "Joe\n"
          ]
        }
      ],
      "source": [
        "results = driver.execute_query(\"MATCH (p:Person) WHERE p.name =~ 'Jo.*' RETURN p.name  \")\n",
        "for res in results[0]:\n",
        "    print(res[\"p.name\"])"
      ]
    },
    {
      "cell_type": "markdown",
      "metadata": {
        "id": "whvpflWx57FD"
      },
      "source": [
        "Testing the \"exists\" keyword"
      ]
    },
    {
      "cell_type": "code",
      "execution_count": null,
      "metadata": {
        "id": "nQTbZS8Rz7Xw"
      },
      "outputs": [],
      "source": [
        "results = driver.execute_query(\"MATCH (p:Person)-[r:FRIEND]->(m:Person)  WHERE exists((m)-[:FRIEND]->(p))  RETURN m, p \")\n",
        "for res in results[0]:\n",
        "    print(res[\"m\"][\"name\"], \" -> \", res[\"p\"][\"name\"])"
      ]
    },
    {
      "cell_type": "markdown",
      "metadata": {
        "id": "GnV3aDBgVIGc"
      },
      "source": [
        "aggregate and count"
      ]
    },
    {
      "cell_type": "code",
      "execution_count": null,
      "metadata": {
        "colab": {
          "base_uri": "https://localhost:8080/"
        },
        "id": "i9OyRtyv1TsZ",
        "outputId": "c2e765fa-d05f-4acd-c40c-eed32f8c8eaf"
      },
      "outputs": [
        {
          "name": "stdout",
          "output_type": "stream",
          "text": [
            "John has 2 friends ['Joe', 'Sara']\n",
            "Joe has 1 friends ['Steve']\n",
            "Sara has 2 friends ['Joe', 'Maria']\n"
          ]
        }
      ],
      "source": [
        "# we use the keyword \"as\" to name the adjacency list (retrieved with collect) and its size (retrieved with count)\n",
        "results = driver.execute_query(\"MATCH (p1:Person)-[:FRIEND]->(p2:Person) RETURN p1.name, collect(p2.name) as listOfFriends, count(*) as numberOfFriends\")\n",
        "for res in results[0]:\n",
        "  print(\"{} has {} friends {}\".format(res[\"p1.name\"], res[\"numberOfFriends\"], res[\"listOfFriends\"]))"
      ]
    },
    {
      "cell_type": "markdown",
      "metadata": {
        "id": "6QqH5Fav4HSa"
      },
      "source": [
        "**EX1:** Count the number of people who have at least one friend that lives in Australia\n",
        "\n",
        "**EX2:** Print the names of people who have at least one friend that lives in Australia"
      ]
    },
    {
      "cell_type": "code",
      "execution_count": null,
      "metadata": {
        "id": "RiIEY1hg4GnQ"
      },
      "outputs": [],
      "source": [
        "q = \"TODO - ADD QUERY HERE \"\n",
        "results = driver.execute_query(q)\n",
        "for res in results[0]:\n",
        "    print(res)"
      ]
    },
    {
      "cell_type": "markdown",
      "metadata": {
        "id": "nrQeWB8Q5_JH"
      },
      "source": [
        "Let's now check how directed edges work. This next query uses unidirect edges (-[related_to]-).\n",
        "\n",
        "Try changing it to directed ones (-[related_to]->)."
      ]
    },
    {
      "cell_type": "code",
      "execution_count": null,
      "metadata": {
        "colab": {
          "base_uri": "https://localhost:8080/"
        },
        "id": "j_U0Jaiu4t79",
        "outputId": "44777c59-95e5-485c-c44f-da4a05ed6af0"
      },
      "outputs": [
        {
          "name": "stdout",
          "output_type": "stream",
          "text": [
            "Maria -[FRIEND]-> Sara (Person)\n",
            "Maria -[LIVES_IN]-> Germany (Country)\n"
          ]
        }
      ],
      "source": [
        "results = driver.execute_query(\"MATCH (p:Person {name: \\\"Maria\\\"})-[y]-(x)  return x.name, type(y), Labels(x)[0]\")\n",
        "for res in results[0]:\n",
        "  print(\"Maria -[{}]-> {} ({})\".format(res[\"type(y)\"], res[\"x.name\"], res[\"Labels(x)[0]\"]))"
      ]
    },
    {
      "cell_type": "markdown",
      "metadata": {
        "id": "r4QdwZF06Kxn"
      },
      "source": [
        "indirect paths of max length 2 from Maria"
      ]
    },
    {
      "cell_type": "code",
      "execution_count": null,
      "metadata": {
        "id": "axgOkqxXWlyY"
      },
      "outputs": [],
      "source": [
        "draw_graph()"
      ]
    },
    {
      "cell_type": "code",
      "execution_count": null,
      "metadata": {
        "colab": {
          "base_uri": "https://localhost:8080/"
        },
        "id": "M2hKCqMT-WXl",
        "outputId": "e07bdbb6-ee26-4463-a6d6-77ffaffb5700"
      },
      "outputs": [
        {
          "name": "stdout",
          "output_type": "stream",
          "text": [
            "Sara\n",
            "Germany\n",
            "Joe\n",
            "John\n"
          ]
        }
      ],
      "source": [
        "results = driver.execute_query(\"MATCH (p:Person {name: \\\"Maria\\\"})-[*1..2]-(x)  return DISTINCT x \")\n",
        "for res in results[0]:\n",
        "  print(res[\"x\"][\"name\"])"
      ]
    },
    {
      "cell_type": "markdown",
      "metadata": {
        "id": "60p5yW5-65yE"
      },
      "source": [
        "direct paths of max length 2 from Maria"
      ]
    },
    {
      "cell_type": "code",
      "execution_count": null,
      "metadata": {
        "colab": {
          "base_uri": "https://localhost:8080/"
        },
        "id": "hq1lEouD-jjf",
        "outputId": "20367f8f-7043-4136-badb-0421820f136c"
      },
      "outputs": [
        {
          "name": "stdout",
          "output_type": "stream",
          "text": [
            "Germany\n"
          ]
        }
      ],
      "source": [
        "results = driver.execute_query(\"MATCH (p:Person {name: \\\"Maria\\\"})-[*1..2]->(x)  return DISTINCT x \")\n",
        "for res in results[0]:\n",
        "  print(res[\"x\"][\"name\"])"
      ]
    },
    {
      "cell_type": "markdown",
      "metadata": {
        "id": "qSbY6CM26_do"
      },
      "source": [
        "Check the database schema, to see which kind of edges connect which kinds of nodes"
      ]
    },
    {
      "cell_type": "code",
      "execution_count": null,
      "metadata": {
        "id": "Rmh2bfwk-nzP"
      },
      "outputs": [],
      "source": [
        "g = session.run(\"CALL db.schema.visualization()\").graph()\n",
        "GraphWidget(graph=g)"
      ]
    },
    {
      "cell_type": "markdown",
      "metadata": {
        "id": "_0GiKPXe7Em9"
      },
      "source": [
        "To run large scale data science algorithms, we need to create an in-memory projection of our graph"
      ]
    },
    {
      "cell_type": "code",
      "execution_count": null,
      "metadata": {
        "colab": {
          "base_uri": "https://localhost:8080/"
        },
        "id": "SWCsB9-fATYP",
        "outputId": "eaa02b42-1843-4e6c-fa29-090780cbfa03"
      },
      "outputs": [
        {
          "name": "stdout",
          "output_type": "stream",
          "text": [
            "[<Record graph='in_memory_graph' nodeProjection={'Country': {'label': 'Country', 'properties': {}}, 'Person': {'label': 'Person', 'properties': {}}} nodes=7 rels=10>]\n"
          ]
        }
      ],
      "source": [
        "# \"in_memory_graph\" is the name we assign to the RAM projection of our graph\n",
        "results = driver.execute_query(\"CALL gds.graph.project(\\'in_memory_graph\\', \\\n",
        "    [\\'Person\\', \\'Country\\'], [\\'FRIEND\\', \\'LIVES_IN\\'])  \\\n",
        "    YIELD graphName AS graph, nodeProjection, nodeCount AS nodes, relationshipCount AS rels  \")\n",
        "print(results[0])"
      ]
    },
    {
      "cell_type": "markdown",
      "metadata": {
        "id": "h7BK5tPQ7-k_"
      },
      "source": [
        "let's compute the page rank of all nodes. Higher pagerank nodes are \"more important\" ones."
      ]
    },
    {
      "cell_type": "code",
      "execution_count": null,
      "metadata": {
        "colab": {
          "base_uri": "https://localhost:8080/"
        },
        "id": "oV-7aGNHBV4u",
        "outputId": "166a8829-9a67-4d61-f8ec-e008c26dc772"
      },
      "outputs": [
        {
          "name": "stdout",
          "output_type": "stream",
          "text": [
            "Australia  -  Country  -  0.47\n",
            "Germany  -  Country  -  0.42\n",
            "Steve  -  Person  -  0.25\n",
            "Joe  -  Person  -  0.25\n",
            "Maria  -  Person  -  0.2\n",
            "Sara  -  Person  -  0.19\n",
            "John  -  Person  -  0.15\n"
          ]
        }
      ],
      "source": [
        "results = driver.execute_query(\"\"\"CALL gds.pageRank.stream(\\'in_memory_graph\\')\n",
        "    YIELD nodeId, score WITH gds.util.asNode(nodeId) AS n,score AS pageRank\n",
        "    RETURN n.name AS name, Labels(n)[0] AS type, pageRank ORDER BY pageRank DESC \"\"\")\n",
        "for res in results[0]:\n",
        "  # sorted by decreasing page rank\n",
        "  print(res[\"name\"], \" - \", res[\"type\"], \" - \", round(res[\"pageRank\"]*100)/100)"
      ]
    },
    {
      "cell_type": "markdown",
      "metadata": {
        "id": "F-P4J9TJ8JWi"
      },
      "source": [
        "Let's re-compute the pagerank of the nodes, but let's also write those values as a node property."
      ]
    },
    {
      "cell_type": "code",
      "execution_count": null,
      "metadata": {
        "colab": {
          "base_uri": "https://localhost:8080/"
        },
        "id": "dDoHUrARBqoo",
        "outputId": "f14bd912-cff0-4749-e44e-0154a6df2e03"
      },
      "outputs": [
        {
          "name": "stdout",
          "output_type": "stream",
          "text": [
            "Australia  -  0.47\n",
            "Germany  -  0.42\n",
            "Steve  -  0.25\n",
            "Joe  -  0.25\n",
            "Maria  -  0.2\n",
            "Sara  -  0.19\n",
            "John  -  0.15\n"
          ]
        }
      ],
      "source": [
        "results = driver.execute_query(\"CALL gds.pageRank.write('in_memory_graph',     {writeProperty: 'pageRank'} ) YIELD nodePropertiesWritten, ranIterations \")\n",
        "results = driver.execute_query(\"MATCH (n) RETURN n.name as name, n.pageRank as pr ORDER BY pr DESC\")\n",
        "for res in results[0]:\n",
        "  print(res[\"name\"], \" - \", round(res[\"pr\"]*100)/100)"
      ]
    },
    {
      "cell_type": "markdown",
      "metadata": {
        "id": "DsJsSgQi8SxB"
      },
      "source": [
        "Let's also compute the shortest path between John and Maria"
      ]
    },
    {
      "cell_type": "code",
      "execution_count": null,
      "metadata": {
        "colab": {
          "base_uri": "https://localhost:8080/"
        },
        "id": "-LlLg04VCDL9",
        "outputId": "4355cb32-2ffb-43c4-c37a-11fe137c1cc6"
      },
      "outputs": [
        {
          "name": "stdout",
          "output_type": "stream",
          "text": [
            "PATH is ['John', 'Sara', 'Maria'] (its incremental cost is [0.0, 1.0, 2.0], for a total cost of 2.0)\n"
          ]
        }
      ],
      "source": [
        "results = driver.execute_query(\"\"\"MATCH (source:Person {name: \\'John\\'}) MATCH (target:Person {name: \\'Maria\\'})\n",
        "    CALL gds.shortestPath.dijkstra.stream(\\'in_memory_graph\\', {    sourceNode: source,\n",
        "    targetNode: target}) YIELD index, sourceNode, targetNode, totalCost, nodeIds, costs, path\n",
        "    RETURN    index, totalCost, [nodeId IN nodeIds | gds.util.asNode(nodeId).name] AS nodeNames,\n",
        "    costs ORDER BY index\"\"\")\n",
        "\n",
        "for res in results[0]:\n",
        "    print(\"PATH is {} (its incremental cost is {}, for a total cost of {})\".format(res[\"nodeNames\"], res[\"costs\"], res[\"totalCost\"]))"
      ]
    },
    {
      "cell_type": "markdown",
      "metadata": {
        "id": "eI5gkBsA8W4L"
      },
      "source": [
        "Let's also export the graph in CSV. This is to write it to an output stream."
      ]
    },
    {
      "cell_type": "code",
      "execution_count": null,
      "metadata": {
        "colab": {
          "base_uri": "https://localhost:8080/"
        },
        "id": "qwkL37hIvLYI",
        "outputId": "ae678d69-76f1-4f82-e444-0e5e03245ef5"
      },
      "outputs": [
        {
          "data": {
            "text/plain": [
              "EagerResult(records=[<Record file=None source='database: nodes(7), rels(10)' format='csv' nodes=7 relationships=10 properties=14 time=15 rows=17 batchSize=20000 batches=1 done=True data='\"_id\",\"_labels\",\"name\",\"pageRank\",\"_start\",\"_end\",\"_type\"\\n\"0\",\":Person\",\"John\",\"0.15000000000000002\",,,\\n\"1\",\":Person\",\"Joe\",\"0.24704166666666671\",,,\\n\"2\",\":Person\",\"Steve\",\"0.2549927083333334\",,,\\n\"3\",\":Person\",\"Sara\",\"0.19250000000000003\",,,\\n\"4\",\":Person\",\"Maria\",\"0.2045416666666667\",,,\\n\"5\",\":Country\",\"Australia\",\"0.47173651041666675\",,,\\n\"6\",\":Country\",\"Germany\",\"0.4209020833333334\",,,\\n,,,,\"0\",\"1\",\"FRIEND\"\\n,,,,\"0\",\"3\",\"FRIEND\"\\n,,,,\"0\",\"6\",\"LIVES_IN\"\\n,,,,\"1\",\"2\",\"FRIEND\"\\n,,,,\"1\",\"5\",\"LIVES_IN\"\\n,,,,\"2\",\"5\",\"LIVES_IN\"\\n,,,,\"3\",\"1\",\"FRIEND\"\\n,,,,\"3\",\"4\",\"FRIEND\"\\n,,,,\"3\",\"6\",\"LIVES_IN\"\\n,,,,\"4\",\"6\",\"LIVES_IN\"\\n'>], summary=<neo4j._work.summary.ResultSummary object at 0x79c9e741b850>, keys=['file', 'source', 'format', 'nodes', 'relationships', 'properties', 'time', 'rows', 'batchSize', 'batches', 'done', 'data'])"
            ]
          },
          "execution_count": 33,
          "metadata": {},
          "output_type": "execute_result"
        }
      ],
      "source": [
        "driver.execute_query(\"CALL apoc.export.csv.all(null, {stream:TRUE})\")"
      ]
    },
    {
      "cell_type": "markdown",
      "metadata": {
        "id": "OprEjM1x8hmF"
      },
      "source": [
        "Let's purge the graph, to load another one from two csvs."
      ]
    },
    {
      "cell_type": "code",
      "execution_count": null,
      "metadata": {
        "colab": {
          "base_uri": "https://localhost:8080/"
        },
        "id": "rqzm5iVowEZH",
        "outputId": "11553cb0-9f86-4afa-ff0b-747aca86664c"
      },
      "outputs": [
        {
          "data": {
            "text/plain": [
              "EagerResult(records=[], summary=<neo4j._work.summary.ResultSummary object at 0x7acc51f22c90>, keys=[])"
            ]
          },
          "execution_count": 44,
          "metadata": {},
          "output_type": "execute_result"
        }
      ],
      "source": [
        "driver.execute_query(\"MATCH (n) DETACH DELETE n \")"
      ]
    },
    {
      "cell_type": "markdown",
      "metadata": {
        "id": "6-USUS1q8kja"
      },
      "source": [
        "here we load the nodes and edges csvs we put in the repository."
      ]
    },
    {
      "cell_type": "code",
      "execution_count": null,
      "metadata": {
        "colab": {
          "base_uri": "https://localhost:8080/"
        },
        "id": "R6ZToN9WwIUW",
        "outputId": "8aa6296b-ea96-4630-efe6-12650017af87"
      },
      "outputs": [
        {
          "data": {
            "text/plain": [
              "EagerResult(records=[], summary=<neo4j._work.summary.ResultSummary object at 0x7acc51ff4b90>, keys=[])"
            ]
          },
          "execution_count": 45,
          "metadata": {},
          "output_type": "execute_result"
        }
      ],
      "source": [
        "driver.execute_query(\"LOAD CSV WITH HEADERS FROM \\\"https://raw.githubusercontent.com/LorenzoBellomo/InformationRetrieval/main/data/nodes.csv\\\" AS line CREATE (:Person {name: line.name, lastName: line.last_name, my_id: line._id}) \")\n",
        "driver.execute_query(\"LOAD CSV WITH HEADERS FROM \\\"https://raw.githubusercontent.com/LorenzoBellomo/InformationRetrieval/main/data/edges.csv\\\" AS line MATCH (p1:Person {my_id: line.source}) MATCH (p2:Person {my_id: line.target})  MERGE (p1) –[:SUPERVISOR]->(p2) \")"
      ]
    },
    {
      "cell_type": "markdown",
      "metadata": {
        "id": "xh7A37Qi8qzL"
      },
      "source": [
        "let's visualize the graph"
      ]
    },
    {
      "cell_type": "code",
      "execution_count": null,
      "metadata": {
        "id": "lIe2VnwxzCBQ"
      },
      "outputs": [],
      "source": [
        "draw_graph()"
      ]
    },
    {
      "cell_type": "markdown",
      "metadata": {
        "id": "uG1PxxPY5RSW"
      },
      "source": [
        "## New exercises\n",
        "Let's create a new sandbox project (Movies). Let's also connect to that instance, and do the proposed exercises."
      ]
    }
  ],
  "metadata": {
    "colab": {
      "provenance": [],
      "include_colab_link": true
    },
    "kernelspec": {
      "display_name": "Python 3",
      "name": "python3"
    },
    "language_info": {
      "name": "python"
    }
  },
  "nbformat": 4,
  "nbformat_minor": 0
}